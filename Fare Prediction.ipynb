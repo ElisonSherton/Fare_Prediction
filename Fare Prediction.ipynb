{
 "cells": [
  {
   "cell_type": "markdown",
   "metadata": {},
   "source": [
    "# Fare Prediction"
   ]
  },
  {
   "cell_type": "markdown",
   "metadata": {},
   "source": [
    "The predicting of fare amount (inclusive of tolls) for a taxi ride, given the pickup and dropoff locations,the pickup date time and many other attributes given below. The description of all the attributes is given below. The target variable is “fare_amount “\n",
    "\n",
    "Understand the data and do necessary data exploration and try creating new features and build a machine learning model to predict the fare amount.\n",
    "\n",
    "**Variable's Description**\n",
    "- TID:\t            Unique ID\n",
    "- Vendor_ID:\t        Technology service vendor associated with cab company\n",
    "- New_User:\t        If a new user is taking the ride\n",
    "- toll_price:\t    toll tax amount\n",
    "- tip_amount:\t    tip given to driver (if any)\n",
    "- tax:\t            applicable tax\n",
    "- pickup_timestamp:\ttime at which the ride started\n",
    "- dropoff_timestamp:\ttime at which ride ended\n",
    "- passenger_count:\tnumber of passenger during the ride\n",
    "- pickup_longitude:\tpickup location longitude data\n",
    "- pickup_latitude:\tpickup location latitude data\n",
    "- rate_category:\t    category assigned to different rates at which a customer is charged\n",
    "- store_and_fwd:\t    if driver stored the data offline and later forwarded\n",
    "- dropoff_longitude:\tdrop off longitude data\n",
    "- dropoff_latitude:\tdrop off latitude data\n",
    "- payment_type:\t    payment mode used by the customer (CRD = Credit Card, CSH - Cash, DIS - dispute, NOC - No Charge, UNK - Unknown)\n",
    "- surcharge:\t        surchage applicable on the trip\n",
    "- fare_amount:\t    trip fare (to be predicted)"
   ]
  },
  {
   "cell_type": "code",
   "execution_count": 17,
   "metadata": {},
   "outputs": [],
   "source": [
    "import pandas as pd\n",
    "import numpy as np \n",
    "import warnings\n",
    "import os\n",
    "import matplotlib.pyplot as plt\n",
    "from matplotlib import rcParams\n",
    "import seaborn as sns\n",
    "from math import sqrt, log\n",
    "warnings.filterwarnings(\"ignore\")"
   ]
  },
  {
   "cell_type": "code",
   "execution_count": 2,
   "metadata": {},
   "outputs": [],
   "source": [
    "os.chdir(\"C:\\\\Users\\\\nayak\\\\Desktop\\\\INSOFE\\\\CSE_7305C\\\\Fare_Prediction\")\n",
    "data = pd.read_csv(\"train.csv\", parse_dates = True, index_col = 0)\n",
    "original = data.copy()"
   ]
  },
  {
   "cell_type": "code",
   "execution_count": 3,
   "metadata": {},
   "outputs": [
    {
     "data": {
      "text/html": [
       "<div>\n",
       "<style scoped>\n",
       "    .dataframe tbody tr th:only-of-type {\n",
       "        vertical-align: middle;\n",
       "    }\n",
       "\n",
       "    .dataframe tbody tr th {\n",
       "        vertical-align: top;\n",
       "    }\n",
       "\n",
       "    .dataframe thead th {\n",
       "        text-align: right;\n",
       "    }\n",
       "</style>\n",
       "<table border=\"1\" class=\"dataframe\">\n",
       "  <thead>\n",
       "    <tr style=\"text-align: right;\">\n",
       "      <th></th>\n",
       "      <th>vendor_id</th>\n",
       "      <th>new_user</th>\n",
       "      <th>tolls_amount</th>\n",
       "      <th>tip_amount</th>\n",
       "      <th>mta_tax</th>\n",
       "      <th>pickup_datetime</th>\n",
       "      <th>dropoff_datetime</th>\n",
       "      <th>passenger_count</th>\n",
       "      <th>pickup_longitude</th>\n",
       "      <th>pickup_latitude</th>\n",
       "      <th>rate_code</th>\n",
       "      <th>store_and_fwd_flag</th>\n",
       "      <th>dropoff_longitude</th>\n",
       "      <th>dropoff_latitude</th>\n",
       "      <th>payment_type</th>\n",
       "      <th>surcharge</th>\n",
       "      <th>fare_amount</th>\n",
       "    </tr>\n",
       "    <tr>\n",
       "      <th>TID</th>\n",
       "      <th></th>\n",
       "      <th></th>\n",
       "      <th></th>\n",
       "      <th></th>\n",
       "      <th></th>\n",
       "      <th></th>\n",
       "      <th></th>\n",
       "      <th></th>\n",
       "      <th></th>\n",
       "      <th></th>\n",
       "      <th></th>\n",
       "      <th></th>\n",
       "      <th></th>\n",
       "      <th></th>\n",
       "      <th></th>\n",
       "      <th></th>\n",
       "      <th></th>\n",
       "    </tr>\n",
       "  </thead>\n",
       "  <tbody>\n",
       "    <tr>\n",
       "      <td>AIX000345005</td>\n",
       "      <td>DST000401</td>\n",
       "      <td>NO</td>\n",
       "      <td>0.0</td>\n",
       "      <td>0.0</td>\n",
       "      <td>0.5</td>\n",
       "      <td>2015-04-15 13:12:48</td>\n",
       "      <td>2015-04-15 13:26:30</td>\n",
       "      <td>1</td>\n",
       "      <td>-74.004657</td>\n",
       "      <td>40.707434</td>\n",
       "      <td>1</td>\n",
       "      <td>N</td>\n",
       "      <td>-73.999369</td>\n",
       "      <td>40.721517</td>\n",
       "      <td>CSH</td>\n",
       "      <td>0.0</td>\n",
       "      <td>10.0</td>\n",
       "    </tr>\n",
       "    <tr>\n",
       "      <td>AIX000345019</td>\n",
       "      <td>DST000401</td>\n",
       "      <td>NO</td>\n",
       "      <td>0.0</td>\n",
       "      <td>0.0</td>\n",
       "      <td>0.5</td>\n",
       "      <td>2015-04-18 20:29:50</td>\n",
       "      <td>2015-04-18 20:34:15</td>\n",
       "      <td>1</td>\n",
       "      <td>-73.995108</td>\n",
       "      <td>40.755005</td>\n",
       "      <td>1</td>\n",
       "      <td>N</td>\n",
       "      <td>-73.989492</td>\n",
       "      <td>40.745640</td>\n",
       "      <td>CSH</td>\n",
       "      <td>0.5</td>\n",
       "      <td>6.5</td>\n",
       "    </tr>\n",
       "    <tr>\n",
       "      <td>AIX000345026</td>\n",
       "      <td>DST000401</td>\n",
       "      <td>NO</td>\n",
       "      <td>0.0</td>\n",
       "      <td>NaN</td>\n",
       "      <td>0.5</td>\n",
       "      <td>2015-04-07 09:33:16</td>\n",
       "      <td>2015-04-07 09:42:16</td>\n",
       "      <td>1</td>\n",
       "      <td>-73.969530</td>\n",
       "      <td>40.790267</td>\n",
       "      <td>1</td>\n",
       "      <td>N</td>\n",
       "      <td>-73.987282</td>\n",
       "      <td>40.766865</td>\n",
       "      <td>CRD</td>\n",
       "      <td>0.0</td>\n",
       "      <td>10.6</td>\n",
       "    </tr>\n",
       "    <tr>\n",
       "      <td>AIX000345034</td>\n",
       "      <td>DST000401</td>\n",
       "      <td>NO</td>\n",
       "      <td>0.0</td>\n",
       "      <td>1.7</td>\n",
       "      <td>0.5</td>\n",
       "      <td>2015-04-23 23:22:45</td>\n",
       "      <td>2015-04-23 23:28:19</td>\n",
       "      <td>1</td>\n",
       "      <td>-73.977336</td>\n",
       "      <td>40.742819</td>\n",
       "      <td>1</td>\n",
       "      <td>N</td>\n",
       "      <td>-73.993617</td>\n",
       "      <td>40.721326</td>\n",
       "      <td>CRD</td>\n",
       "      <td>0.5</td>\n",
       "      <td>10.2</td>\n",
       "    </tr>\n",
       "    <tr>\n",
       "      <td>AIX000345052</td>\n",
       "      <td>DST000401</td>\n",
       "      <td>NO</td>\n",
       "      <td>0.0</td>\n",
       "      <td>1.0</td>\n",
       "      <td>0.5</td>\n",
       "      <td>2015-04-17 01:48:03</td>\n",
       "      <td>2015-04-17 01:53:32</td>\n",
       "      <td>1</td>\n",
       "      <td>-73.998653</td>\n",
       "      <td>40.715607</td>\n",
       "      <td>1</td>\n",
       "      <td>N</td>\n",
       "      <td>-73.988385</td>\n",
       "      <td>40.723130</td>\n",
       "      <td>CRD</td>\n",
       "      <td>0.5</td>\n",
       "      <td>8.5</td>\n",
       "    </tr>\n",
       "  </tbody>\n",
       "</table>\n",
       "</div>"
      ],
      "text/plain": [
       "              vendor_id new_user  tolls_amount  tip_amount  mta_tax  \\\n",
       "TID                                                                   \n",
       "AIX000345005  DST000401       NO           0.0         0.0      0.5   \n",
       "AIX000345019  DST000401       NO           0.0         0.0      0.5   \n",
       "AIX000345026  DST000401       NO           0.0         NaN      0.5   \n",
       "AIX000345034  DST000401       NO           0.0         1.7      0.5   \n",
       "AIX000345052  DST000401       NO           0.0         1.0      0.5   \n",
       "\n",
       "                  pickup_datetime     dropoff_datetime  passenger_count  \\\n",
       "TID                                                                       \n",
       "AIX000345005  2015-04-15 13:12:48  2015-04-15 13:26:30                1   \n",
       "AIX000345019  2015-04-18 20:29:50  2015-04-18 20:34:15                1   \n",
       "AIX000345026  2015-04-07 09:33:16  2015-04-07 09:42:16                1   \n",
       "AIX000345034  2015-04-23 23:22:45  2015-04-23 23:28:19                1   \n",
       "AIX000345052  2015-04-17 01:48:03  2015-04-17 01:53:32                1   \n",
       "\n",
       "              pickup_longitude  pickup_latitude  rate_code store_and_fwd_flag  \\\n",
       "TID                                                                             \n",
       "AIX000345005        -74.004657        40.707434          1                  N   \n",
       "AIX000345019        -73.995108        40.755005          1                  N   \n",
       "AIX000345026        -73.969530        40.790267          1                  N   \n",
       "AIX000345034        -73.977336        40.742819          1                  N   \n",
       "AIX000345052        -73.998653        40.715607          1                  N   \n",
       "\n",
       "              dropoff_longitude  dropoff_latitude payment_type  surcharge  \\\n",
       "TID                                                                         \n",
       "AIX000345005         -73.999369         40.721517          CSH        0.0   \n",
       "AIX000345019         -73.989492         40.745640          CSH        0.5   \n",
       "AIX000345026         -73.987282         40.766865          CRD        0.0   \n",
       "AIX000345034         -73.993617         40.721326          CRD        0.5   \n",
       "AIX000345052         -73.988385         40.723130          CRD        0.5   \n",
       "\n",
       "              fare_amount  \n",
       "TID                        \n",
       "AIX000345005         10.0  \n",
       "AIX000345019          6.5  \n",
       "AIX000345026         10.6  \n",
       "AIX000345034         10.2  \n",
       "AIX000345052          8.5  "
      ]
     },
     "execution_count": 3,
     "metadata": {},
     "output_type": "execute_result"
    }
   ],
   "source": [
    "data.head()"
   ]
  },
  {
   "cell_type": "code",
   "execution_count": 4,
   "metadata": {},
   "outputs": [
    {
     "name": "stdout",
     "output_type": "stream",
     "text": [
      "(119386, 17)\n"
     ]
    }
   ],
   "source": [
    "print(data.shape)\n",
    "#print(data.nunique())"
   ]
  },
  {
   "cell_type": "code",
   "execution_count": 5,
   "metadata": {},
   "outputs": [
    {
     "data": {
      "text/plain": [
       "vendor_id              object\n",
       "new_user               object\n",
       "tolls_amount          float64\n",
       "tip_amount            float64\n",
       "mta_tax               float64\n",
       "pickup_datetime        object\n",
       "dropoff_datetime       object\n",
       "passenger_count         int64\n",
       "pickup_longitude      float64\n",
       "pickup_latitude       float64\n",
       "rate_code               int64\n",
       "store_and_fwd_flag     object\n",
       "dropoff_longitude     float64\n",
       "dropoff_latitude      float64\n",
       "payment_type           object\n",
       "surcharge             float64\n",
       "fare_amount           float64\n",
       "dtype: object"
      ]
     },
     "execution_count": 5,
     "metadata": {},
     "output_type": "execute_result"
    }
   ],
   "source": [
    "data.dtypes"
   ]
  },
  {
   "cell_type": "code",
   "execution_count": 6,
   "metadata": {},
   "outputs": [
    {
     "data": {
      "text/plain": [
       "Index(['vendor_id', 'new_user', 'tolls_amount', 'tip_amount', 'mta_tax',\n",
       "       'pickup_datetime', 'dropoff_datetime', 'passenger_count',\n",
       "       'pickup_longitude', 'pickup_latitude', 'rate_code',\n",
       "       'store_and_fwd_flag', 'dropoff_longitude', 'dropoff_latitude',\n",
       "       'payment_type', 'surcharge', 'fare_amount'],\n",
       "      dtype='object')"
      ]
     },
     "execution_count": 6,
     "metadata": {},
     "output_type": "execute_result"
    }
   ],
   "source": [
    "data.columns"
   ]
  },
  {
   "cell_type": "code",
   "execution_count": 7,
   "metadata": {},
   "outputs": [
    {
     "data": {
      "text/html": [
       "<div>\n",
       "<style scoped>\n",
       "    .dataframe tbody tr th:only-of-type {\n",
       "        vertical-align: middle;\n",
       "    }\n",
       "\n",
       "    .dataframe tbody tr th {\n",
       "        vertical-align: top;\n",
       "    }\n",
       "\n",
       "    .dataframe thead th {\n",
       "        text-align: right;\n",
       "    }\n",
       "</style>\n",
       "<table border=\"1\" class=\"dataframe\">\n",
       "  <thead>\n",
       "    <tr style=\"text-align: right;\">\n",
       "      <th></th>\n",
       "      <th>tolls_amount</th>\n",
       "      <th>tip_amount</th>\n",
       "      <th>mta_tax</th>\n",
       "      <th>passenger_count</th>\n",
       "      <th>pickup_longitude</th>\n",
       "      <th>pickup_latitude</th>\n",
       "      <th>rate_code</th>\n",
       "      <th>dropoff_longitude</th>\n",
       "      <th>dropoff_latitude</th>\n",
       "      <th>surcharge</th>\n",
       "      <th>fare_amount</th>\n",
       "    </tr>\n",
       "  </thead>\n",
       "  <tbody>\n",
       "    <tr>\n",
       "      <td>count</td>\n",
       "      <td>119386.000000</td>\n",
       "      <td>107499.000000</td>\n",
       "      <td>119386.000000</td>\n",
       "      <td>119386.000000</td>\n",
       "      <td>115831.000000</td>\n",
       "      <td>116984.000000</td>\n",
       "      <td>119386.000000</td>\n",
       "      <td>119022.000000</td>\n",
       "      <td>118820.000000</td>\n",
       "      <td>112219.000000</td>\n",
       "      <td>119386.000000</td>\n",
       "    </tr>\n",
       "    <tr>\n",
       "      <td>mean</td>\n",
       "      <td>0.273719</td>\n",
       "      <td>1.556543</td>\n",
       "      <td>0.497952</td>\n",
       "      <td>1.722396</td>\n",
       "      <td>-72.611889</td>\n",
       "      <td>40.004528</td>\n",
       "      <td>1.034686</td>\n",
       "      <td>-72.624875</td>\n",
       "      <td>40.008286</td>\n",
       "      <td>0.317945</td>\n",
       "      <td>15.306157</td>\n",
       "    </tr>\n",
       "    <tr>\n",
       "      <td>std</td>\n",
       "      <td>1.283236</td>\n",
       "      <td>2.377861</td>\n",
       "      <td>0.033030</td>\n",
       "      <td>1.386579</td>\n",
       "      <td>9.948813</td>\n",
       "      <td>5.464661</td>\n",
       "      <td>0.273578</td>\n",
       "      <td>9.900074</td>\n",
       "      <td>5.452794</td>\n",
       "      <td>0.362051</td>\n",
       "      <td>12.733168</td>\n",
       "    </tr>\n",
       "    <tr>\n",
       "      <td>min</td>\n",
       "      <td>0.000000</td>\n",
       "      <td>0.000000</td>\n",
       "      <td>-0.500000</td>\n",
       "      <td>0.000000</td>\n",
       "      <td>-99.083115</td>\n",
       "      <td>-13.551884</td>\n",
       "      <td>0.000000</td>\n",
       "      <td>-99.083115</td>\n",
       "      <td>-13.551884</td>\n",
       "      <td>-1.000000</td>\n",
       "      <td>0.000000</td>\n",
       "    </tr>\n",
       "    <tr>\n",
       "      <td>25%</td>\n",
       "      <td>0.000000</td>\n",
       "      <td>0.000000</td>\n",
       "      <td>0.500000</td>\n",
       "      <td>1.000000</td>\n",
       "      <td>-73.991916</td>\n",
       "      <td>40.735188</td>\n",
       "      <td>1.000000</td>\n",
       "      <td>-73.991392</td>\n",
       "      <td>40.733734</td>\n",
       "      <td>0.000000</td>\n",
       "      <td>8.300000</td>\n",
       "    </tr>\n",
       "    <tr>\n",
       "      <td>50%</td>\n",
       "      <td>0.000000</td>\n",
       "      <td>1.000000</td>\n",
       "      <td>0.500000</td>\n",
       "      <td>1.000000</td>\n",
       "      <td>-73.981682</td>\n",
       "      <td>40.752767</td>\n",
       "      <td>1.000000</td>\n",
       "      <td>-73.979965</td>\n",
       "      <td>40.753029</td>\n",
       "      <td>0.000000</td>\n",
       "      <td>11.500000</td>\n",
       "    </tr>\n",
       "    <tr>\n",
       "      <td>75%</td>\n",
       "      <td>0.000000</td>\n",
       "      <td>2.100000</td>\n",
       "      <td>0.500000</td>\n",
       "      <td>2.000000</td>\n",
       "      <td>-73.966937</td>\n",
       "      <td>40.767167</td>\n",
       "      <td>1.000000</td>\n",
       "      <td>-73.962746</td>\n",
       "      <td>40.768330</td>\n",
       "      <td>0.500000</td>\n",
       "      <td>17.000000</td>\n",
       "    </tr>\n",
       "    <tr>\n",
       "      <td>max</td>\n",
       "      <td>30.000000</td>\n",
       "      <td>98.550000</td>\n",
       "      <td>0.500000</td>\n",
       "      <td>6.000000</td>\n",
       "      <td>0.000000</td>\n",
       "      <td>50.514841</td>\n",
       "      <td>6.000000</td>\n",
       "      <td>0.000000</td>\n",
       "      <td>42.253078</td>\n",
       "      <td>2.500000</td>\n",
       "      <td>480.000000</td>\n",
       "    </tr>\n",
       "  </tbody>\n",
       "</table>\n",
       "</div>"
      ],
      "text/plain": [
       "        tolls_amount     tip_amount        mta_tax  passenger_count  \\\n",
       "count  119386.000000  107499.000000  119386.000000    119386.000000   \n",
       "mean        0.273719       1.556543       0.497952         1.722396   \n",
       "std         1.283236       2.377861       0.033030         1.386579   \n",
       "min         0.000000       0.000000      -0.500000         0.000000   \n",
       "25%         0.000000       0.000000       0.500000         1.000000   \n",
       "50%         0.000000       1.000000       0.500000         1.000000   \n",
       "75%         0.000000       2.100000       0.500000         2.000000   \n",
       "max        30.000000      98.550000       0.500000         6.000000   \n",
       "\n",
       "       pickup_longitude  pickup_latitude      rate_code  dropoff_longitude  \\\n",
       "count     115831.000000    116984.000000  119386.000000      119022.000000   \n",
       "mean         -72.611889        40.004528       1.034686         -72.624875   \n",
       "std            9.948813         5.464661       0.273578           9.900074   \n",
       "min          -99.083115       -13.551884       0.000000         -99.083115   \n",
       "25%          -73.991916        40.735188       1.000000         -73.991392   \n",
       "50%          -73.981682        40.752767       1.000000         -73.979965   \n",
       "75%          -73.966937        40.767167       1.000000         -73.962746   \n",
       "max            0.000000        50.514841       6.000000           0.000000   \n",
       "\n",
       "       dropoff_latitude      surcharge    fare_amount  \n",
       "count     118820.000000  112219.000000  119386.000000  \n",
       "mean          40.008286       0.317945      15.306157  \n",
       "std            5.452794       0.362051      12.733168  \n",
       "min          -13.551884      -1.000000       0.000000  \n",
       "25%           40.733734       0.000000       8.300000  \n",
       "50%           40.753029       0.000000      11.500000  \n",
       "75%           40.768330       0.500000      17.000000  \n",
       "max           42.253078       2.500000     480.000000  "
      ]
     },
     "execution_count": 7,
     "metadata": {},
     "output_type": "execute_result"
    }
   ],
   "source": [
    "data.describe()"
   ]
  },
  {
   "cell_type": "markdown",
   "metadata": {},
   "source": [
    "# Exploratory Data Analysis"
   ]
  },
  {
   "cell_type": "code",
   "execution_count": 15,
   "metadata": {},
   "outputs": [
    {
     "data": {
      "text/plain": [
       "TID\n",
       "AIX000345005     2.397895\n",
       "AIX000345019     2.014903\n",
       "AIX000345026     2.451005\n",
       "AIX000345034     2.415914\n",
       "AIX000345052     2.251292\n",
       "                   ...   \n",
       "AIX0002003050    2.718001\n",
       "AIX0002003055    2.282382\n",
       "AIX0002003072    4.036186\n",
       "AIX0002003087    2.282382\n",
       "AIX0002003095    2.756840\n",
       "Name: fare_amount, Length: 119386, dtype: float64"
      ]
     },
     "execution_count": 15,
     "metadata": {},
     "output_type": "execute_result"
    }
   ],
   "source": [
    "data.fare_amount.apply(lambda x: log(x+1))"
   ]
  },
  {
   "cell_type": "code",
   "execution_count": 20,
   "metadata": {},
   "outputs": [
    {
     "data": {
      "image/png": "[encoded data removed]",
      "text/plain": [
       "<Figure size 576x360 with 1 Axes>"
      ]
     },
     "metadata": {
      "needs_background": "light"
     },
     "output_type": "display_data"
    }
   ],
   "source": [
    "rcParams['figure.figsize'] = 8,5\n",
    "sns.boxplot(x = data.vendor_id, y = data.fare_amount.apply(lambda x: log(x+1))) # +1 to avoid zeros in log\n",
    "plt.xlabel(\"Vendor ID\", fontsize = 15)\n",
    "plt.ylabel(\"Log of Fare Amount\", fontsize = 15)\n",
    "plt.show()"
   ]
  },
  {
   "cell_type": "markdown",
   "metadata": {},
   "source": [
    "We can see that most of the vendors charge between currency **$10^{0.5}$ = 3.16 to $10^{1.5}$ = 31.6** units for a ride"
   ]
  },
  {
   "cell_type": "code",
   "execution_count": 21,
   "metadata": {},
   "outputs": [
    {
     "data": {
      "image/png": "[encoded data removed]",
      "text/plain": [
       "<Figure size 576x360 with 1 Axes>"
      ]
     },
     "metadata": {
      "needs_background": "light"
     },
     "output_type": "display_data"
    }
   ],
   "source": [
    "rcParams['figure.figsize'] = 8,5\n",
    "sns.boxplot(x = data.new_user, y = data.fare_amount.apply(lambda x: log(x+1))) # +1 to avoid zeros in log\n",
    "plt.xlabel(\"New User Status\", fontsize = 15)\n",
    "plt.ylabel(\"Log Of Fare Amount\", fontsize = 15)\n",
    "plt.show()"
   ]
  },
  {
   "cell_type": "markdown",
   "metadata": {},
   "source": [
    "Most of the users seem to be existing users as per the plot. There should only be a few new users. Let us confirm our intuition with the above plot."
   ]
  },
  {
   "cell_type": "code",
   "execution_count": 9,
   "metadata": {},
   "outputs": [
    {
     "data": {
      "text/plain": [
       "NO     119368\n",
       "YES        17\n",
       "Name: new_user, dtype: int64"
      ]
     },
     "execution_count": 9,
     "metadata": {},
     "output_type": "execute_result"
    }
   ],
   "source": [
    "data.new_user.value_counts()"
   ]
  },
  {
   "cell_type": "markdown",
   "metadata": {},
   "source": [
    "It could be seen that out of almost a lakh users, only 17 are new users."
   ]
  },
  {
   "cell_type": "code",
   "execution_count": 24,
   "metadata": {},
   "outputs": [
    {
     "data": {
      "image/png": "[encoded data removed]",
      "text/plain": [
       "<Figure size 1080x360 with 1 Axes>"
      ]
     },
     "metadata": {
      "needs_background": "light"
     },
     "output_type": "display_data"
    }
   ],
   "source": [
    "rcParams['figure.figsize'] = 15,5\n",
    "sns.regplot(x = data.tolls_amount, y = data.fare_amount, data = data)\n",
    "plt.xlabel(\"Tolls Amount\", fontsize = 15)\n",
    "plt.ylabel(\"Fare Amount\", fontsize = 15)\n",
    "plt.show()"
   ]
  },
  {
   "cell_type": "markdown",
   "metadata": {},
   "source": [
    "It seems to be the case that people who pay higher tolls are likely to pay higher fares/bills which makes intuitive sense as well."
   ]
  },
  {
   "cell_type": "code",
   "execution_count": 25,
   "metadata": {},
   "outputs": [
    {
     "data": {
      "image/png": "[encoded data removed]",
      "text/plain": [
       "<Figure size 1080x360 with 1 Axes>"
      ]
     },
     "metadata": {
      "needs_background": "light"
     },
     "output_type": "display_data"
    }
   ],
   "source": [
    "rcParams['figure.figsize'] = 15,5\n",
    "sns.regplot(x = data.tip_amount, y = data.fare_amount, data = data)\n",
    "plt.xlabel(\"Tip Amount\", fontsize = 15)\n",
    "plt.ylabel(\"Fare Amount\", fontsize = 15)\n",
    "plt.show()"
   ]
  },
  {
   "cell_type": "markdown",
   "metadata": {},
   "source": [
    "Although almost everyone pays tips ranging from 0 to 25 currency units, those who tend to pay more than that are likely to recieve higher fare amounts. In general, there seems to be an increasing trend between fare amount and tip amount."
   ]
  },
  {
   "cell_type": "code",
   "execution_count": 27,
   "metadata": {},
   "outputs": [
    {
     "data": {
      "image/png": "[encoded data removed]",
      "text/plain": [
       "<Figure size 576x360 with 1 Axes>"
      ]
     },
     "metadata": {
      "needs_background": "light"
     },
     "output_type": "display_data"
    }
   ],
   "source": [
    "rcParams['figure.figsize'] = 8,5\n",
    "sns.boxplot(x = data.mta_tax, y = data.fare_amount.apply(lambda x: log(x+1))) # +1 to avoid zeros in log\n",
    "plt.xlabel(\"Mta Tax Bracket\", fontsize = 15)\n",
    "plt.ylabel(\"Log Of Fare Amount\", fontsize = 15)\n",
    "plt.show()"
   ]
  },
  {
   "cell_type": "code",
   "execution_count": 28,
   "metadata": {
    "scrolled": true
   },
   "outputs": [
    {
     "data": {
      "text/plain": [
       " 0.5    118914\n",
       " 0.0       455\n",
       "-0.5        17\n",
       "Name: mta_tax, dtype: int64"
      ]
     },
     "execution_count": 28,
     "metadata": {},
     "output_type": "execute_result"
    }
   ],
   "source": [
    "data.mta_tax.value_counts()"
   ]
  },
  {
   "cell_type": "markdown",
   "metadata": {},
   "source": [
    "As seen from the above plot, there's a very little proportion of values which have -0.5 as their tax rates. They must be wrong entries as tax percentage is unlikely to be negative. Hence, in the later analysis, remove these values."
   ]
  },
  {
   "cell_type": "code",
   "execution_count": 29,
   "metadata": {},
   "outputs": [
    {
     "data": {
      "image/png": "[encoded data removed]",
      "text/plain": [
       "<Figure size 1080x360 with 1 Axes>"
      ]
     },
     "metadata": {
      "needs_background": "light"
     },
     "output_type": "display_data"
    }
   ],
   "source": [
    "rcParams['figure.figsize'] = 15,5\n",
    "sns.regplot(x = data.passenger_count, y = data.fare_amount, data = data)\n",
    "plt.xlabel(\"Number of Passengers\", fontsize = 15)\n",
    "plt.ylabel(\"Fare Amount\", fontsize = 15)\n",
    "plt.show()"
   ]
  },
  {
   "cell_type": "markdown",
   "metadata": {},
   "source": [
    "The smoothened line seems to suggest that the average fare paid by consumers is somewhere around 20-40 currency units. Also, it could be seen that the variance in prices is higher when the number of passengers is less as compared to when the number of passengers is more."
   ]
  },
  {
   "cell_type": "markdown",
   "metadata": {},
   "source": [
    "<img src=\"Locations.png\" width=800 height=800>"
   ]
  },
  {
   "cell_type": "markdown",
   "metadata": {},
   "source": [
    "<img src=\"LatLongImg.jpg\" width=800 height=400>"
   ]
  },
  {
   "cell_type": "markdown",
   "metadata": {},
   "source": [
    "A negative latitude means South of the Equator, and a negative longitude means West of the Prime Meridian (Refer the link below).\n",
    "\n",
    "Looking at the two plots above, we can say that the data is concentrated around latitude = 40 and longitude = -75. Which is 40 degrees above the equator and 75 degrees to te left of prime meridian; Broadly speaking the locations here correspond to the midwest region of the United States. \n",
    "\n",
    "Also, we need to check for those values where lat = 0 and long = 0. If there are such values, we'll have to remove them since the intersection along equator and prime meridian lies in the waters close to Africa.\n",
    "\n",
    "https://www.quora.com/What-does-negative-longitude-mean"
   ]
  },
  {
   "cell_type": "code",
   "execution_count": 30,
   "metadata": {},
   "outputs": [
    {
     "data": {
      "image/png": "[encoded data removed]",
      "text/plain": [
       "<Figure size 576x360 with 1 Axes>"
      ]
     },
     "metadata": {
      "needs_background": "light"
     },
     "output_type": "display_data"
    }
   ],
   "source": [
    "rcParams['figure.figsize'] = 8,5\n",
    "sns.boxplot(x = data.rate_code, y = data.fare_amount.apply(lambda x: log(x+1))) # +1 to avoid zeros in log\n",
    "plt.xlabel(\"Rate Code\", fontsize = 15)\n",
    "plt.ylabel(\"Log Of Fare Amount\", fontsize = 15)\n",
    "plt.show()"
   ]
  },
  {
   "cell_type": "markdown",
   "metadata": {},
   "source": [
    "It can be seen above that in general as customers progress to higher rate codes, in general, the fare amount seems to increase (With some exception)."
   ]
  },
  {
   "cell_type": "code",
   "execution_count": 31,
   "metadata": {},
   "outputs": [
    {
     "data": {
      "image/png": "[encoded data removed]",
      "text/plain": [
       "<Figure size 576x360 with 1 Axes>"
      ]
     },
     "metadata": {
      "needs_background": "light"
     },
     "output_type": "display_data"
    }
   ],
   "source": [
    "rcParams['figure.figsize'] = 8,5\n",
    "sns.boxplot(x = data.surcharge, y = data.fare_amount.apply(lambda x: log(x+1))) # +1 to avoid zeros in log\n",
    "plt.xlabel(\"Surcharge\", fontsize = 15)\n",
    "plt.ylabel(\"Log Of Fare Amount\", fontsize = 15)\n",
    "plt.show()"
   ]
  },
  {
   "cell_type": "markdown",
   "metadata": {},
   "source": [
    "This plot shows there are some observations where surcharge has become negative. That cannot be possible since surcharge is some extra percent over your original fare charged to the user for a ride at opportunistic moments by the car-hire company; it cannot be negative which would mean the company has to exempt you from paying certain amount. That becomes discount and cannot be counted as surcharge. Hence remove the values where surcharge is negative."
   ]
  },
  {
   "cell_type": "code",
   "execution_count": 11,
   "metadata": {},
   "outputs": [
    {
     "data": {
      "text/plain": [
       "vendor_id              0.00\n",
       "new_user               0.00\n",
       "tolls_amount           0.00\n",
       "tip_amount             9.96\n",
       "mta_tax                0.00\n",
       "pickup_datetime        0.00\n",
       "dropoff_datetime       0.00\n",
       "passenger_count        0.00\n",
       "pickup_longitude       2.98\n",
       "pickup_latitude        2.01\n",
       "rate_code              0.00\n",
       "store_and_fwd_flag    39.13\n",
       "dropoff_longitude      0.30\n",
       "dropoff_latitude       0.47\n",
       "payment_type           0.00\n",
       "surcharge              6.00\n",
       "fare_amount            0.00\n",
       "dtype: float64"
      ]
     },
     "execution_count": 11,
     "metadata": {},
     "output_type": "execute_result"
    }
   ],
   "source": [
    "# Percentage of NA Values\n",
    "np.round(100 * data.isnull().sum()/data.shape[0], 2)"
   ]
  },
  {
   "cell_type": "markdown",
   "metadata": {},
   "source": [
    "# Thought Process\n",
    "\n",
    "- tip_amount has a lot of NA values. We'll impute over that data using some measure of central tendency.\n",
    "\n",
    "- But the number of latitudes and longitudes missing are only a few. So, remove those values straightaway. \n",
    "\n",
    "- New users are only 15 out of 119381 so, remove those records.\n",
    "\n",
    "- Surcharge has -1, -0.5 values which don't make sense. Remove those records.\n",
    "\n",
    "- Taxrate has -0.5 values. Remove these records.\n",
    "\n",
    "- Keep the pickup_latitude, pickup_longitude, & remove dropoff_latitude, dropoff_longitude from the data by substituting it with distance between the points. Keep either one latitude or longitude to account for the location considerations.\n",
    "\n",
    "- Remove dropoff_datetime by only taking duration into account. Keep pickup date to handle variation around the time of the day. Convert date into ddmmyyyy hhmmss format and then split them into separate columns."
   ]
  },
  {
   "cell_type": "code",
   "execution_count": 12,
   "metadata": {},
   "outputs": [],
   "source": [
    "d1 = data.pickup_latitude.isnull() == False \n",
    "d2 = data.pickup_longitude.isnull() == False \n",
    "d3 = data.dropoff_latitude.isnull() == False\n",
    "d4 = data.dropoff_longitude.isnull() == False\n",
    "d5 = data.new_user.isnull() == False\n",
    "d6 = data.surcharge >= 0\n",
    "d7 = data.mta_tax >= 0\n",
    "\n",
    "data = data[d1 & d2 & d3 & d4 & d5 & d6 & d7]"
   ]
  },
  {
   "cell_type": "code",
   "execution_count": 13,
   "metadata": {},
   "outputs": [
    {
     "data": {
      "text/plain": [
       "(105818, 17)"
      ]
     },
     "execution_count": 13,
     "metadata": {},
     "output_type": "execute_result"
    }
   ],
   "source": [
    "data.shape"
   ]
  },
  {
   "cell_type": "code",
   "execution_count": 14,
   "metadata": {},
   "outputs": [
    {
     "name": "stdout",
     "output_type": "stream",
     "text": [
      "[0.  0.5 1.  1.5 2.  2.5]\n",
      "[0.5 0. ]\n"
     ]
    }
   ],
   "source": [
    "print(data.surcharge.unique())\n",
    "print(data.mta_tax.unique())"
   ]
  },
  {
   "cell_type": "code",
   "execution_count": 15,
   "metadata": {},
   "outputs": [
    {
     "data": {
      "text/plain": [
       "1938"
      ]
     },
     "execution_count": 15,
     "metadata": {},
     "output_type": "execute_result"
    }
   ],
   "source": [
    "sum((data.dropoff_latitude == 0) & (data.dropoff_longitude == 0))"
   ]
  },
  {
   "cell_type": "code",
   "execution_count": 16,
   "metadata": {
    "scrolled": true
   },
   "outputs": [
    {
     "data": {
      "text/plain": [
       "1944"
      ]
     },
     "execution_count": 16,
     "metadata": {},
     "output_type": "execute_result"
    }
   ],
   "source": [
    "sum((data.pickup_latitude == 0) & (data.pickup_longitude == 0))"
   ]
  },
  {
   "cell_type": "markdown",
   "metadata": {},
   "source": [
    "As we saw in our visual for the worldmap, (0,0) corresponds to a location somewhere in the mid-atlantic ocean. This is not a place where a terrestrial vehicle can traverse. So, let's remove these records from our dataset."
   ]
  },
  {
   "cell_type": "code",
   "execution_count": 17,
   "metadata": {},
   "outputs": [
    {
     "data": {
      "text/plain": [
       "(103874, 17)"
      ]
     },
     "execution_count": 17,
     "metadata": {},
     "output_type": "execute_result"
    }
   ],
   "source": [
    "# Make a boolean list to index those positions where locations are feasible to reach. \n",
    "d8 = (data.pickup_latitude == 0) & (data.pickup_longitude == 0)\n",
    "d8 = [not i for i in d8]\n",
    "data = data[d8]\n",
    "data.shape"
   ]
  },
  {
   "cell_type": "code",
   "execution_count": 18,
   "metadata": {},
   "outputs": [
    {
     "data": {
      "text/plain": [
       "(103701, 17)"
      ]
     },
     "execution_count": 18,
     "metadata": {},
     "output_type": "execute_result"
    }
   ],
   "source": [
    "d9 = (data.dropoff_latitude == 0) & (data.dropoff_longitude == 0)\n",
    "d9 = [not i for i in d9]\n",
    "data = data[d9]\n",
    "data.shape"
   ]
  },
  {
   "cell_type": "markdown",
   "metadata": {},
   "source": [
    "## Visualize all the pickup locations and dropoff locations"
   ]
  },
  {
   "cell_type": "code",
   "execution_count": 19,
   "metadata": {},
   "outputs": [],
   "source": [
    "#gmap_pickup = gmplot.GoogleMapPlotter(data.pickup_latitude.mean(), data.pickup_longitude.mean(), 10)\n",
    "#gmap_pickup.scatter(list(data.pickup_latitude), list(data.pickup_longitude), '# FF0000', size = 20, marker = True) "
   ]
  },
  {
   "cell_type": "code",
   "execution_count": 20,
   "metadata": {},
   "outputs": [],
   "source": [
    "#gmap_pickup.draw(\"C:\\\\Users\\\\nayak\\\\Desktop\\\\INSOFE\\\\CSE_7305C\\\\Fare_Prediction\\\\map_pickup.html\" ) "
   ]
  },
  {
   "cell_type": "code",
   "execution_count": 21,
   "metadata": {},
   "outputs": [],
   "source": [
    "#gmap_dropoff = gmplot.GoogleMapPlotter(data.dropoff_latitude.mean(), data.dropoff_longitude.mean(), 10)\n",
    "#gmap_dropoff.scatter(list(data.dropoff_latitude), list(data.dropoff_longitude), '# 0000FF', size = 20, marker = True) "
   ]
  },
  {
   "cell_type": "code",
   "execution_count": 22,
   "metadata": {},
   "outputs": [],
   "source": [
    "#gmap_dropoff.draw(\"C:\\\\Users\\\\nayak\\\\Desktop\\\\INSOFE\\\\CSE_7305C\\\\Fare_Prediction\\\\map_dropoff.html\" ) "
   ]
  },
  {
   "cell_type": "markdown",
   "metadata": {},
   "source": [
    "## Distance\n",
    "It would make sense to include the actual distance between the pickup and dropoff locations in the problem since going by common intuition, large distance rides cost more than small distance rides.\n",
    "\n",
    "Used the site below to calculate distance given Latitude and Longitude of two points on the earth.\n",
    "\n",
    "https://www.movable-type.co.uk/scripts/latlong.html\n",
    "\n",
    "This uses the ‘haversine’ formula to calculate the great-circle distance between two points – that is, the shortest distance over the earth’s surface – giving an ‘as-the-crow-flies’ distance between the points (ignoring any hills they fly over, of course!).\n",
    "\n",
    "**Haversine formula:\ta = sin²(Δφ/2) + cos φ1 ⋅ cos φ2 ⋅ sin²(Δλ/2)**  \n",
    "\n",
    "c = 2 ⋅ atan2( √a, √(1−a) )\n",
    "\n",
    "d = R ⋅ c\n",
    "\n",
    "where\tφ is latitude, λ is longitude, R is earth’s radius (mean radius = 6,371km);\n",
    "note that angles need to be in radians to pass to trig functions!"
   ]
  },
  {
   "cell_type": "code",
   "execution_count": 23,
   "metadata": {},
   "outputs": [],
   "source": [
    "from math import pi, sqrt, cos, sin, atan2\n",
    "def distance(lat1, lat2, long1, long2):\n",
    "    lat1 = lat1 * pi/180\n",
    "    lat2 = lat2 * pi/180\n",
    "    long1 = long1 * pi/180\n",
    "    long2 = long2 * pi/180\n",
    "    R = 6371.009 # Radius of earth in kilometers\n",
    "    \n",
    "    dLat = lat1 - lat2\n",
    "    dLong = long1 - long2\n",
    "    a = sin(dLat/2) ** 2 + cos(lat1) * cos(lat2) * sin(dLong/2) ** 2\n",
    "    c = 2 * atan2(sqrt(a), sqrt(1-a))\n",
    "    Distance = R * c\n",
    "    return Distance\n",
    "\n",
    "#     https://en.wikipedia.org/wiki/Geographical_distance\n",
    "#     meanLat = (lat1 + lat2)/2\n",
    "#     meanLong = (long1 + long2)/2\n",
    "#     Distance = R * sqrt(dLat ** 2 + (cos(meanLat) * dLong) ** 2)\n",
    "#     print(sqrt(dLat ** 2 + (cos(meanLat) * dLong) ** 2))"
   ]
  },
  {
   "cell_type": "code",
   "execution_count": 24,
   "metadata": {},
   "outputs": [],
   "source": [
    "x = []\n",
    "for i in range(0,data.shape[0]):\n",
    "    x.append(distance(data.pickup_latitude[i], data.dropoff_latitude[i], \n",
    "                                          data.pickup_longitude[i], data.dropoff_longitude[i]))"
   ]
  },
  {
   "cell_type": "code",
   "execution_count": 25,
   "metadata": {},
   "outputs": [],
   "source": [
    "data['Distance'] = x\n",
    "#data.drop(columns = ['pickup_latitude', 'dropoff_latitude', 'pickup_longitude', 'dropoff_longitude'], axis=1, inplace=True)"
   ]
  },
  {
   "cell_type": "code",
   "execution_count": 26,
   "metadata": {},
   "outputs": [],
   "source": [
    "# %%R -i data -w 8 -h 6 -u in\n",
    "\n",
    "# ggplot(data, aes(Distance, fare_amount)) + geom_point(alpha = 0.1) +  labs(x = \"Distance\", y = \"Fare Amount\") + \n",
    "#     theme_bw(base_size = 20, base_family = 'serif') + geom_smooth(method = 'lm', se = TRUE)"
   ]
  },
  {
   "cell_type": "code",
   "execution_count": 27,
   "metadata": {},
   "outputs": [
    {
     "data": {
      "image/png": "[encoded data removed]",
      "text/plain": [
       "<Figure size 720x504 with 1 Axes>"
      ]
     },
     "metadata": {
      "needs_background": "light"
     },
     "output_type": "display_data"
    }
   ],
   "source": [
    "%matplotlib inline\n",
    "plt.figure(figsize = (10,7))\n",
    "plt.scatter(x = data.Distance,y = data.fare_amount)\n",
    "plt.title('Fare Amount vs Distance')\n",
    "plt.xlabel('Distance')\n",
    "plt.ylabel('Fare Amount')\n",
    "plt.show()"
   ]
  },
  {
   "cell_type": "markdown",
   "metadata": {},
   "source": [
    "It can be seen that there are a few points that have very high values for distance. These points need to be scrutinized."
   ]
  },
  {
   "cell_type": "code",
   "execution_count": 28,
   "metadata": {},
   "outputs": [
    {
     "data": {
      "text/html": [
       "<div>\n",
       "<style scoped>\n",
       "    .dataframe tbody tr th:only-of-type {\n",
       "        vertical-align: middle;\n",
       "    }\n",
       "\n",
       "    .dataframe tbody tr th {\n",
       "        vertical-align: top;\n",
       "    }\n",
       "\n",
       "    .dataframe thead th {\n",
       "        text-align: right;\n",
       "    }\n",
       "</style>\n",
       "<table border=\"1\" class=\"dataframe\">\n",
       "  <thead>\n",
       "    <tr style=\"text-align: right;\">\n",
       "      <th></th>\n",
       "      <th>vendor_id</th>\n",
       "      <th>new_user</th>\n",
       "      <th>tolls_amount</th>\n",
       "      <th>tip_amount</th>\n",
       "      <th>mta_tax</th>\n",
       "      <th>pickup_datetime</th>\n",
       "      <th>dropoff_datetime</th>\n",
       "      <th>passenger_count</th>\n",
       "      <th>pickup_longitude</th>\n",
       "      <th>pickup_latitude</th>\n",
       "      <th>rate_code</th>\n",
       "      <th>store_and_fwd_flag</th>\n",
       "      <th>dropoff_longitude</th>\n",
       "      <th>dropoff_latitude</th>\n",
       "      <th>payment_type</th>\n",
       "      <th>surcharge</th>\n",
       "      <th>fare_amount</th>\n",
       "      <th>Distance</th>\n",
       "    </tr>\n",
       "    <tr>\n",
       "      <th>TID</th>\n",
       "      <th></th>\n",
       "      <th></th>\n",
       "      <th></th>\n",
       "      <th></th>\n",
       "      <th></th>\n",
       "      <th></th>\n",
       "      <th></th>\n",
       "      <th></th>\n",
       "      <th></th>\n",
       "      <th></th>\n",
       "      <th></th>\n",
       "      <th></th>\n",
       "      <th></th>\n",
       "      <th></th>\n",
       "      <th></th>\n",
       "      <th></th>\n",
       "      <th></th>\n",
       "      <th></th>\n",
       "    </tr>\n",
       "  </thead>\n",
       "  <tbody>\n",
       "    <tr>\n",
       "      <td>AIX0001071884</td>\n",
       "      <td>DST000401</td>\n",
       "      <td>NO</td>\n",
       "      <td>0.0</td>\n",
       "      <td>0.0</td>\n",
       "      <td>0.5</td>\n",
       "      <td>2015-08-30 20:31:06</td>\n",
       "      <td>2015-08-30 20:41:15</td>\n",
       "      <td>2</td>\n",
       "      <td>-81.169787</td>\n",
       "      <td>50.514841</td>\n",
       "      <td>1</td>\n",
       "      <td>N</td>\n",
       "      <td>-73.992595</td>\n",
       "      <td>40.721399</td>\n",
       "      <td>CSH</td>\n",
       "      <td>0.5</td>\n",
       "      <td>10.0</td>\n",
       "      <td>1222.342172</td>\n",
       "    </tr>\n",
       "    <tr>\n",
       "      <td>AIX0001792537</td>\n",
       "      <td>DST000481</td>\n",
       "      <td>NO</td>\n",
       "      <td>0.0</td>\n",
       "      <td>0.0</td>\n",
       "      <td>0.5</td>\n",
       "      <td>2016-03-16 14:56:23</td>\n",
       "      <td>2016-03-16 15:15:48</td>\n",
       "      <td>1</td>\n",
       "      <td>-73.972717</td>\n",
       "      <td>40.758434</td>\n",
       "      <td>1</td>\n",
       "      <td>N</td>\n",
       "      <td>-78.107147</td>\n",
       "      <td>42.253078</td>\n",
       "      <td>CSH</td>\n",
       "      <td>0.0</td>\n",
       "      <td>12.8</td>\n",
       "      <td>382.241918</td>\n",
       "    </tr>\n",
       "  </tbody>\n",
       "</table>\n",
       "</div>"
      ],
      "text/plain": [
       "               vendor_id new_user  tolls_amount  tip_amount  mta_tax  \\\n",
       "TID                                                                    \n",
       "AIX0001071884  DST000401       NO           0.0         0.0      0.5   \n",
       "AIX0001792537  DST000481       NO           0.0         0.0      0.5   \n",
       "\n",
       "                   pickup_datetime     dropoff_datetime  passenger_count  \\\n",
       "TID                                                                        \n",
       "AIX0001071884  2015-08-30 20:31:06  2015-08-30 20:41:15                2   \n",
       "AIX0001792537  2016-03-16 14:56:23  2016-03-16 15:15:48                1   \n",
       "\n",
       "               pickup_longitude  pickup_latitude  rate_code  \\\n",
       "TID                                                           \n",
       "AIX0001071884        -81.169787        50.514841          1   \n",
       "AIX0001792537        -73.972717        40.758434          1   \n",
       "\n",
       "              store_and_fwd_flag  dropoff_longitude  dropoff_latitude  \\\n",
       "TID                                                                     \n",
       "AIX0001071884                  N         -73.992595         40.721399   \n",
       "AIX0001792537                  N         -78.107147         42.253078   \n",
       "\n",
       "              payment_type  surcharge  fare_amount     Distance  \n",
       "TID                                                              \n",
       "AIX0001071884          CSH        0.5         10.0  1222.342172  \n",
       "AIX0001792537          CSH        0.0         12.8   382.241918  "
      ]
     },
     "execution_count": 28,
     "metadata": {},
     "output_type": "execute_result"
    }
   ],
   "source": [
    "data[data.Distance > 100]"
   ]
  },
  {
   "cell_type": "markdown",
   "metadata": {},
   "source": [
    "1. Ontario Canada to Manhattan, NY  on 30th August 2015 in 10 minutes and 9 seconds; Speed = 4583 mph\n",
    "\n",
    "2. Manhattan NY to Belmont, NY on 16th March in 19 minutes 25 seconds; Speed = 716.7 mph\n",
    "\n",
    "The locations for drop and pickup are perfectly fine but the speeds for the rides are unfathomable. To date there's no car which has been caapable of achieving that level of speed. The fastest any car as of 8th September 2019 has managed to achieve is 304 mph. Hence remove these records from our dataset and recheck.\n",
    "\n",
    "https://gearpatrol.com/2019/09/08/bugatti-just-shattered-a-record-to-become-the-fastest-car-in-the-world/"
   ]
  },
  {
   "cell_type": "code",
   "execution_count": 29,
   "metadata": {},
   "outputs": [
    {
     "data": {
      "image/png": "[encoded data removed]",
      "text/plain": [
       "<Figure size 720x504 with 1 Axes>"
      ]
     },
     "metadata": {
      "needs_background": "light"
     },
     "output_type": "display_data"
    }
   ],
   "source": [
    "data = data[data.Distance <= 100]\n",
    "plt.figure(figsize = (10,7))\n",
    "plt.scatter(x = data.Distance,y = data.fare_amount)\n",
    "plt.title('Fare Amount vs Distance')\n",
    "plt.xlabel('Distance')\n",
    "plt.ylabel('Fare Amount')\n",
    "plt.show()"
   ]
  },
  {
   "cell_type": "markdown",
   "metadata": {},
   "source": [
    "This plot reveals that there are quite some rides where the distance covered was 0 km yet there's a non-zero fare that is charged to a customer. Let's subset those entries and check what's going on in them."
   ]
  },
  {
   "cell_type": "code",
   "execution_count": 30,
   "metadata": {},
   "outputs": [
    {
     "data": {
      "text/html": [
       "<div>\n",
       "<style scoped>\n",
       "    .dataframe tbody tr th:only-of-type {\n",
       "        vertical-align: middle;\n",
       "    }\n",
       "\n",
       "    .dataframe tbody tr th {\n",
       "        vertical-align: top;\n",
       "    }\n",
       "\n",
       "    .dataframe thead th {\n",
       "        text-align: right;\n",
       "    }\n",
       "</style>\n",
       "<table border=\"1\" class=\"dataframe\">\n",
       "  <thead>\n",
       "    <tr style=\"text-align: right;\">\n",
       "      <th></th>\n",
       "      <th>vendor_id</th>\n",
       "      <th>new_user</th>\n",
       "      <th>tolls_amount</th>\n",
       "      <th>tip_amount</th>\n",
       "      <th>mta_tax</th>\n",
       "      <th>pickup_datetime</th>\n",
       "      <th>dropoff_datetime</th>\n",
       "      <th>passenger_count</th>\n",
       "      <th>pickup_longitude</th>\n",
       "      <th>pickup_latitude</th>\n",
       "      <th>rate_code</th>\n",
       "      <th>store_and_fwd_flag</th>\n",
       "      <th>dropoff_longitude</th>\n",
       "      <th>dropoff_latitude</th>\n",
       "      <th>payment_type</th>\n",
       "      <th>surcharge</th>\n",
       "      <th>fare_amount</th>\n",
       "      <th>Distance</th>\n",
       "    </tr>\n",
       "    <tr>\n",
       "      <th>TID</th>\n",
       "      <th></th>\n",
       "      <th></th>\n",
       "      <th></th>\n",
       "      <th></th>\n",
       "      <th></th>\n",
       "      <th></th>\n",
       "      <th></th>\n",
       "      <th></th>\n",
       "      <th></th>\n",
       "      <th></th>\n",
       "      <th></th>\n",
       "      <th></th>\n",
       "      <th></th>\n",
       "      <th></th>\n",
       "      <th></th>\n",
       "      <th></th>\n",
       "      <th></th>\n",
       "      <th></th>\n",
       "    </tr>\n",
       "  </thead>\n",
       "  <tbody>\n",
       "    <tr>\n",
       "      <td>AIX000345796</td>\n",
       "      <td>DST000401</td>\n",
       "      <td>NO</td>\n",
       "      <td>0.0</td>\n",
       "      <td>NaN</td>\n",
       "      <td>0.5</td>\n",
       "      <td>2015-04-04 16:03:54</td>\n",
       "      <td>2015-04-04 16:12:26</td>\n",
       "      <td>1</td>\n",
       "      <td>-73.975435</td>\n",
       "      <td>40.728822</td>\n",
       "      <td>1</td>\n",
       "      <td>N</td>\n",
       "      <td>-73.975435</td>\n",
       "      <td>40.728822</td>\n",
       "      <td>CSH</td>\n",
       "      <td>1.0</td>\n",
       "      <td>8.5</td>\n",
       "      <td>0.0</td>\n",
       "    </tr>\n",
       "    <tr>\n",
       "      <td>AIX000349398</td>\n",
       "      <td>DST000532</td>\n",
       "      <td>NO</td>\n",
       "      <td>0.0</td>\n",
       "      <td>0.0</td>\n",
       "      <td>0.5</td>\n",
       "      <td>2015-04-27 17:05:00</td>\n",
       "      <td>2015-04-27 17:19:00</td>\n",
       "      <td>1</td>\n",
       "      <td>-73.782150</td>\n",
       "      <td>40.648390</td>\n",
       "      <td>1</td>\n",
       "      <td>NaN</td>\n",
       "      <td>-73.782150</td>\n",
       "      <td>40.648390</td>\n",
       "      <td>CSH</td>\n",
       "      <td>0.0</td>\n",
       "      <td>11.0</td>\n",
       "      <td>0.0</td>\n",
       "    </tr>\n",
       "    <tr>\n",
       "      <td>AIX000352502</td>\n",
       "      <td>DST000532</td>\n",
       "      <td>NO</td>\n",
       "      <td>0.0</td>\n",
       "      <td>0.0</td>\n",
       "      <td>0.5</td>\n",
       "      <td>2015-04-28 17:47:00</td>\n",
       "      <td>2015-04-28 17:55:00</td>\n",
       "      <td>5</td>\n",
       "      <td>-73.962583</td>\n",
       "      <td>40.781377</td>\n",
       "      <td>1</td>\n",
       "      <td>NaN</td>\n",
       "      <td>-73.962583</td>\n",
       "      <td>40.781377</td>\n",
       "      <td>CSH</td>\n",
       "      <td>1.0</td>\n",
       "      <td>9.0</td>\n",
       "      <td>0.0</td>\n",
       "    </tr>\n",
       "    <tr>\n",
       "      <td>AIX000359943</td>\n",
       "      <td>DST000401</td>\n",
       "      <td>NO</td>\n",
       "      <td>0.0</td>\n",
       "      <td>2.0</td>\n",
       "      <td>0.5</td>\n",
       "      <td>2015-04-09 05:41:27</td>\n",
       "      <td>2015-04-09 05:49:19</td>\n",
       "      <td>1</td>\n",
       "      <td>-73.983459</td>\n",
       "      <td>40.738651</td>\n",
       "      <td>1</td>\n",
       "      <td>N</td>\n",
       "      <td>-73.983459</td>\n",
       "      <td>40.738651</td>\n",
       "      <td>CRD</td>\n",
       "      <td>0.5</td>\n",
       "      <td>12.0</td>\n",
       "      <td>0.0</td>\n",
       "    </tr>\n",
       "    <tr>\n",
       "      <td>AIX000360267</td>\n",
       "      <td>DST000401</td>\n",
       "      <td>NO</td>\n",
       "      <td>0.0</td>\n",
       "      <td>0.0</td>\n",
       "      <td>0.5</td>\n",
       "      <td>2015-04-12 16:44:14</td>\n",
       "      <td>2015-04-12 16:51:51</td>\n",
       "      <td>1</td>\n",
       "      <td>-73.992577</td>\n",
       "      <td>40.751790</td>\n",
       "      <td>1</td>\n",
       "      <td>N</td>\n",
       "      <td>-73.992577</td>\n",
       "      <td>40.751790</td>\n",
       "      <td>CSH</td>\n",
       "      <td>0.0</td>\n",
       "      <td>6.5</td>\n",
       "      <td>0.0</td>\n",
       "    </tr>\n",
       "  </tbody>\n",
       "</table>\n",
       "</div>"
      ],
      "text/plain": [
       "              vendor_id new_user  tolls_amount  tip_amount  mta_tax  \\\n",
       "TID                                                                   \n",
       "AIX000345796  DST000401       NO           0.0         NaN      0.5   \n",
       "AIX000349398  DST000532       NO           0.0         0.0      0.5   \n",
       "AIX000352502  DST000532       NO           0.0         0.0      0.5   \n",
       "AIX000359943  DST000401       NO           0.0         2.0      0.5   \n",
       "AIX000360267  DST000401       NO           0.0         0.0      0.5   \n",
       "\n",
       "                  pickup_datetime     dropoff_datetime  passenger_count  \\\n",
       "TID                                                                       \n",
       "AIX000345796  2015-04-04 16:03:54  2015-04-04 16:12:26                1   \n",
       "AIX000349398  2015-04-27 17:05:00  2015-04-27 17:19:00                1   \n",
       "AIX000352502  2015-04-28 17:47:00  2015-04-28 17:55:00                5   \n",
       "AIX000359943  2015-04-09 05:41:27  2015-04-09 05:49:19                1   \n",
       "AIX000360267  2015-04-12 16:44:14  2015-04-12 16:51:51                1   \n",
       "\n",
       "              pickup_longitude  pickup_latitude  rate_code store_and_fwd_flag  \\\n",
       "TID                                                                             \n",
       "AIX000345796        -73.975435        40.728822          1                  N   \n",
       "AIX000349398        -73.782150        40.648390          1                NaN   \n",
       "AIX000352502        -73.962583        40.781377          1                NaN   \n",
       "AIX000359943        -73.983459        40.738651          1                  N   \n",
       "AIX000360267        -73.992577        40.751790          1                  N   \n",
       "\n",
       "              dropoff_longitude  dropoff_latitude payment_type  surcharge  \\\n",
       "TID                                                                         \n",
       "AIX000345796         -73.975435         40.728822          CSH        1.0   \n",
       "AIX000349398         -73.782150         40.648390          CSH        0.0   \n",
       "AIX000352502         -73.962583         40.781377          CSH        1.0   \n",
       "AIX000359943         -73.983459         40.738651          CRD        0.5   \n",
       "AIX000360267         -73.992577         40.751790          CSH        0.0   \n",
       "\n",
       "              fare_amount  Distance  \n",
       "TID                                  \n",
       "AIX000345796          8.5       0.0  \n",
       "AIX000349398         11.0       0.0  \n",
       "AIX000352502          9.0       0.0  \n",
       "AIX000359943         12.0       0.0  \n",
       "AIX000360267          6.5       0.0  "
      ]
     },
     "execution_count": 30,
     "metadata": {},
     "output_type": "execute_result"
    }
   ],
   "source": [
    "data[data.Distance == 0].head()"
   ]
  },
  {
   "cell_type": "markdown",
   "metadata": {},
   "source": [
    "If we view the dataset, we can see that when distance is 0, pickup and dropoff location's latitudes and longitudes match exactly. This could mostly either mean that the rider for some reason couldn't cater to the ridee or the ridee booked and cancelled his ride.\n",
    "\n",
    "In either case, the rider mustn't pay for the ride since he's not availed the benifit of the service. This means that this data is probably mistakenly collected. Hence remove these datapoints for our analysis."
   ]
  },
  {
   "cell_type": "code",
   "execution_count": 31,
   "metadata": {},
   "outputs": [
    {
     "name": "stdout",
     "output_type": "stream",
     "text": [
      "(103112, 18)\n"
     ]
    },
    {
     "data": {
      "image/png": "[encoded data removed]",
      "text/plain": [
       "<Figure size 1080x720 with 1 Axes>"
      ]
     },
     "metadata": {
      "needs_background": "light"
     },
     "output_type": "display_data"
    }
   ],
   "source": [
    "data = data[data.Distance != 0]\n",
    "print(data.shape)\n",
    "plt.figure(figsize = (15,10))\n",
    "plt.scatter(x = data.Distance,y = data.fare_amount)\n",
    "plt.title('Fare Amount vs Distance')\n",
    "plt.xlabel('Distance')\n",
    "plt.ylabel('Fare Amount')\n",
    "plt.show()"
   ]
  },
  {
   "cell_type": "code",
   "execution_count": 32,
   "metadata": {},
   "outputs": [
    {
     "data": {
      "text/html": [
       "<div>\n",
       "<style scoped>\n",
       "    .dataframe tbody tr th:only-of-type {\n",
       "        vertical-align: middle;\n",
       "    }\n",
       "\n",
       "    .dataframe tbody tr th {\n",
       "        vertical-align: top;\n",
       "    }\n",
       "\n",
       "    .dataframe thead th {\n",
       "        text-align: right;\n",
       "    }\n",
       "</style>\n",
       "<table border=\"1\" class=\"dataframe\">\n",
       "  <thead>\n",
       "    <tr style=\"text-align: right;\">\n",
       "      <th></th>\n",
       "      <th>vendor_id</th>\n",
       "      <th>new_user</th>\n",
       "      <th>tolls_amount</th>\n",
       "      <th>tip_amount</th>\n",
       "      <th>mta_tax</th>\n",
       "      <th>pickup_datetime</th>\n",
       "      <th>dropoff_datetime</th>\n",
       "      <th>passenger_count</th>\n",
       "      <th>pickup_longitude</th>\n",
       "      <th>pickup_latitude</th>\n",
       "      <th>rate_code</th>\n",
       "      <th>store_and_fwd_flag</th>\n",
       "      <th>dropoff_longitude</th>\n",
       "      <th>dropoff_latitude</th>\n",
       "      <th>payment_type</th>\n",
       "      <th>surcharge</th>\n",
       "      <th>fare_amount</th>\n",
       "      <th>Distance</th>\n",
       "    </tr>\n",
       "    <tr>\n",
       "      <th>TID</th>\n",
       "      <th></th>\n",
       "      <th></th>\n",
       "      <th></th>\n",
       "      <th></th>\n",
       "      <th></th>\n",
       "      <th></th>\n",
       "      <th></th>\n",
       "      <th></th>\n",
       "      <th></th>\n",
       "      <th></th>\n",
       "      <th></th>\n",
       "      <th></th>\n",
       "      <th></th>\n",
       "      <th></th>\n",
       "      <th></th>\n",
       "      <th></th>\n",
       "      <th></th>\n",
       "      <th></th>\n",
       "    </tr>\n",
       "  </thead>\n",
       "  <tbody>\n",
       "  </tbody>\n",
       "</table>\n",
       "</div>"
      ],
      "text/plain": [
       "Empty DataFrame\n",
       "Columns: [vendor_id, new_user, tolls_amount, tip_amount, mta_tax, pickup_datetime, dropoff_datetime, passenger_count, pickup_longitude, pickup_latitude, rate_code, store_and_fwd_flag, dropoff_longitude, dropoff_latitude, payment_type, surcharge, fare_amount, Distance]\n",
       "Index: []"
      ]
     },
     "execution_count": 32,
     "metadata": {},
     "output_type": "execute_result"
    }
   ],
   "source": [
    "data[(data.pickup_latitude == data.dropoff_latitude) & (data.pickup_longitude == data.dropoff_longitude)]"
   ]
  },
  {
   "cell_type": "code",
   "execution_count": 33,
   "metadata": {},
   "outputs": [
    {
     "data": {
      "text/html": [
       "<div>\n",
       "<style scoped>\n",
       "    .dataframe tbody tr th:only-of-type {\n",
       "        vertical-align: middle;\n",
       "    }\n",
       "\n",
       "    .dataframe tbody tr th {\n",
       "        vertical-align: top;\n",
       "    }\n",
       "\n",
       "    .dataframe thead th {\n",
       "        text-align: right;\n",
       "    }\n",
       "</style>\n",
       "<table border=\"1\" class=\"dataframe\">\n",
       "  <thead>\n",
       "    <tr style=\"text-align: right;\">\n",
       "      <th></th>\n",
       "      <th>vendor_id</th>\n",
       "      <th>new_user</th>\n",
       "      <th>tolls_amount</th>\n",
       "      <th>tip_amount</th>\n",
       "      <th>mta_tax</th>\n",
       "      <th>pickup_datetime</th>\n",
       "      <th>dropoff_datetime</th>\n",
       "      <th>passenger_count</th>\n",
       "      <th>pickup_longitude</th>\n",
       "      <th>pickup_latitude</th>\n",
       "      <th>rate_code</th>\n",
       "      <th>store_and_fwd_flag</th>\n",
       "      <th>dropoff_longitude</th>\n",
       "      <th>dropoff_latitude</th>\n",
       "      <th>payment_type</th>\n",
       "      <th>surcharge</th>\n",
       "      <th>fare_amount</th>\n",
       "      <th>Distance</th>\n",
       "    </tr>\n",
       "    <tr>\n",
       "      <th>TID</th>\n",
       "      <th></th>\n",
       "      <th></th>\n",
       "      <th></th>\n",
       "      <th></th>\n",
       "      <th></th>\n",
       "      <th></th>\n",
       "      <th></th>\n",
       "      <th></th>\n",
       "      <th></th>\n",
       "      <th></th>\n",
       "      <th></th>\n",
       "      <th></th>\n",
       "      <th></th>\n",
       "      <th></th>\n",
       "      <th></th>\n",
       "      <th></th>\n",
       "      <th></th>\n",
       "      <th></th>\n",
       "    </tr>\n",
       "  </thead>\n",
       "  <tbody>\n",
       "  </tbody>\n",
       "</table>\n",
       "</div>"
      ],
      "text/plain": [
       "Empty DataFrame\n",
       "Columns: [vendor_id, new_user, tolls_amount, tip_amount, mta_tax, pickup_datetime, dropoff_datetime, passenger_count, pickup_longitude, pickup_latitude, rate_code, store_and_fwd_flag, dropoff_longitude, dropoff_latitude, payment_type, surcharge, fare_amount, Distance]\n",
       "Index: []"
      ]
     },
     "execution_count": 33,
     "metadata": {},
     "output_type": "execute_result"
    }
   ],
   "source": [
    "data[data.Distance <= 0]"
   ]
  },
  {
   "cell_type": "markdown",
   "metadata": {},
   "source": [
    "Now our dataset is clean and free from anomalies as far as distance is considered."
   ]
  },
  {
   "cell_type": "markdown",
   "metadata": {},
   "source": [
    "## Duration\n",
    "\n",
    "The dataset has given the values for pickup_datetime and drop_off datetime. If we think from the perspective of how much time it took for a rider to complete his journey, we could say that more the ride time, more the fare amount. Let's check this hypoothesis and if it's met, let's use it as a predictor."
   ]
  },
  {
   "cell_type": "code",
   "execution_count": 34,
   "metadata": {},
   "outputs": [],
   "source": [
    "data['Duration'] = (pd.to_datetime(data.dropoff_datetime) - pd.to_datetime(data.pickup_datetime)).dt.total_seconds().astype(int)"
   ]
  },
  {
   "cell_type": "code",
   "execution_count": 35,
   "metadata": {},
   "outputs": [
    {
     "data": {
      "text/html": [
       "<div>\n",
       "<style scoped>\n",
       "    .dataframe tbody tr th:only-of-type {\n",
       "        vertical-align: middle;\n",
       "    }\n",
       "\n",
       "    .dataframe tbody tr th {\n",
       "        vertical-align: top;\n",
       "    }\n",
       "\n",
       "    .dataframe thead th {\n",
       "        text-align: right;\n",
       "    }\n",
       "</style>\n",
       "<table border=\"1\" class=\"dataframe\">\n",
       "  <thead>\n",
       "    <tr style=\"text-align: right;\">\n",
       "      <th></th>\n",
       "      <th>vendor_id</th>\n",
       "      <th>new_user</th>\n",
       "      <th>tolls_amount</th>\n",
       "      <th>tip_amount</th>\n",
       "      <th>mta_tax</th>\n",
       "      <th>pickup_datetime</th>\n",
       "      <th>dropoff_datetime</th>\n",
       "      <th>passenger_count</th>\n",
       "      <th>pickup_longitude</th>\n",
       "      <th>pickup_latitude</th>\n",
       "      <th>rate_code</th>\n",
       "      <th>store_and_fwd_flag</th>\n",
       "      <th>dropoff_longitude</th>\n",
       "      <th>dropoff_latitude</th>\n",
       "      <th>payment_type</th>\n",
       "      <th>surcharge</th>\n",
       "      <th>fare_amount</th>\n",
       "      <th>Distance</th>\n",
       "      <th>Duration</th>\n",
       "    </tr>\n",
       "    <tr>\n",
       "      <th>TID</th>\n",
       "      <th></th>\n",
       "      <th></th>\n",
       "      <th></th>\n",
       "      <th></th>\n",
       "      <th></th>\n",
       "      <th></th>\n",
       "      <th></th>\n",
       "      <th></th>\n",
       "      <th></th>\n",
       "      <th></th>\n",
       "      <th></th>\n",
       "      <th></th>\n",
       "      <th></th>\n",
       "      <th></th>\n",
       "      <th></th>\n",
       "      <th></th>\n",
       "      <th></th>\n",
       "      <th></th>\n",
       "      <th></th>\n",
       "    </tr>\n",
       "  </thead>\n",
       "  <tbody>\n",
       "    <tr>\n",
       "      <td>AIX000345005</td>\n",
       "      <td>DST000401</td>\n",
       "      <td>NO</td>\n",
       "      <td>0.0</td>\n",
       "      <td>0.0</td>\n",
       "      <td>0.5</td>\n",
       "      <td>2015-04-15 13:12:48</td>\n",
       "      <td>2015-04-15 13:26:30</td>\n",
       "      <td>1</td>\n",
       "      <td>-74.004657</td>\n",
       "      <td>40.707434</td>\n",
       "      <td>1</td>\n",
       "      <td>N</td>\n",
       "      <td>-73.999369</td>\n",
       "      <td>40.721517</td>\n",
       "      <td>CSH</td>\n",
       "      <td>0.0</td>\n",
       "      <td>10.0</td>\n",
       "      <td>1.628149</td>\n",
       "      <td>822</td>\n",
       "    </tr>\n",
       "    <tr>\n",
       "      <td>AIX000345019</td>\n",
       "      <td>DST000401</td>\n",
       "      <td>NO</td>\n",
       "      <td>0.0</td>\n",
       "      <td>0.0</td>\n",
       "      <td>0.5</td>\n",
       "      <td>2015-04-18 20:29:50</td>\n",
       "      <td>2015-04-18 20:34:15</td>\n",
       "      <td>1</td>\n",
       "      <td>-73.995108</td>\n",
       "      <td>40.755005</td>\n",
       "      <td>1</td>\n",
       "      <td>N</td>\n",
       "      <td>-73.989492</td>\n",
       "      <td>40.745640</td>\n",
       "      <td>CSH</td>\n",
       "      <td>0.5</td>\n",
       "      <td>6.5</td>\n",
       "      <td>1.143763</td>\n",
       "      <td>265</td>\n",
       "    </tr>\n",
       "    <tr>\n",
       "      <td>AIX000345026</td>\n",
       "      <td>DST000401</td>\n",
       "      <td>NO</td>\n",
       "      <td>0.0</td>\n",
       "      <td>NaN</td>\n",
       "      <td>0.5</td>\n",
       "      <td>2015-04-07 09:33:16</td>\n",
       "      <td>2015-04-07 09:42:16</td>\n",
       "      <td>1</td>\n",
       "      <td>-73.969530</td>\n",
       "      <td>40.790267</td>\n",
       "      <td>1</td>\n",
       "      <td>N</td>\n",
       "      <td>-73.987282</td>\n",
       "      <td>40.766865</td>\n",
       "      <td>CRD</td>\n",
       "      <td>0.0</td>\n",
       "      <td>10.6</td>\n",
       "      <td>3.000938</td>\n",
       "      <td>540</td>\n",
       "    </tr>\n",
       "    <tr>\n",
       "      <td>AIX000345034</td>\n",
       "      <td>DST000401</td>\n",
       "      <td>NO</td>\n",
       "      <td>0.0</td>\n",
       "      <td>1.7</td>\n",
       "      <td>0.5</td>\n",
       "      <td>2015-04-23 23:22:45</td>\n",
       "      <td>2015-04-23 23:28:19</td>\n",
       "      <td>1</td>\n",
       "      <td>-73.977336</td>\n",
       "      <td>40.742819</td>\n",
       "      <td>1</td>\n",
       "      <td>N</td>\n",
       "      <td>-73.993617</td>\n",
       "      <td>40.721326</td>\n",
       "      <td>CRD</td>\n",
       "      <td>0.5</td>\n",
       "      <td>10.2</td>\n",
       "      <td>2.755657</td>\n",
       "      <td>334</td>\n",
       "    </tr>\n",
       "    <tr>\n",
       "      <td>AIX000345052</td>\n",
       "      <td>DST000401</td>\n",
       "      <td>NO</td>\n",
       "      <td>0.0</td>\n",
       "      <td>1.0</td>\n",
       "      <td>0.5</td>\n",
       "      <td>2015-04-17 01:48:03</td>\n",
       "      <td>2015-04-17 01:53:32</td>\n",
       "      <td>1</td>\n",
       "      <td>-73.998653</td>\n",
       "      <td>40.715607</td>\n",
       "      <td>1</td>\n",
       "      <td>N</td>\n",
       "      <td>-73.988385</td>\n",
       "      <td>40.723130</td>\n",
       "      <td>CRD</td>\n",
       "      <td>0.5</td>\n",
       "      <td>8.5</td>\n",
       "      <td>1.203576</td>\n",
       "      <td>329</td>\n",
       "    </tr>\n",
       "  </tbody>\n",
       "</table>\n",
       "</div>"
      ],
      "text/plain": [
       "              vendor_id new_user  tolls_amount  tip_amount  mta_tax  \\\n",
       "TID                                                                   \n",
       "AIX000345005  DST000401       NO           0.0         0.0      0.5   \n",
       "AIX000345019  DST000401       NO           0.0         0.0      0.5   \n",
       "AIX000345026  DST000401       NO           0.0         NaN      0.5   \n",
       "AIX000345034  DST000401       NO           0.0         1.7      0.5   \n",
       "AIX000345052  DST000401       NO           0.0         1.0      0.5   \n",
       "\n",
       "                  pickup_datetime     dropoff_datetime  passenger_count  \\\n",
       "TID                                                                       \n",
       "AIX000345005  2015-04-15 13:12:48  2015-04-15 13:26:30                1   \n",
       "AIX000345019  2015-04-18 20:29:50  2015-04-18 20:34:15                1   \n",
       "AIX000345026  2015-04-07 09:33:16  2015-04-07 09:42:16                1   \n",
       "AIX000345034  2015-04-23 23:22:45  2015-04-23 23:28:19                1   \n",
       "AIX000345052  2015-04-17 01:48:03  2015-04-17 01:53:32                1   \n",
       "\n",
       "              pickup_longitude  pickup_latitude  rate_code store_and_fwd_flag  \\\n",
       "TID                                                                             \n",
       "AIX000345005        -74.004657        40.707434          1                  N   \n",
       "AIX000345019        -73.995108        40.755005          1                  N   \n",
       "AIX000345026        -73.969530        40.790267          1                  N   \n",
       "AIX000345034        -73.977336        40.742819          1                  N   \n",
       "AIX000345052        -73.998653        40.715607          1                  N   \n",
       "\n",
       "              dropoff_longitude  dropoff_latitude payment_type  surcharge  \\\n",
       "TID                                                                         \n",
       "AIX000345005         -73.999369         40.721517          CSH        0.0   \n",
       "AIX000345019         -73.989492         40.745640          CSH        0.5   \n",
       "AIX000345026         -73.987282         40.766865          CRD        0.0   \n",
       "AIX000345034         -73.993617         40.721326          CRD        0.5   \n",
       "AIX000345052         -73.988385         40.723130          CRD        0.5   \n",
       "\n",
       "              fare_amount  Distance  Duration  \n",
       "TID                                            \n",
       "AIX000345005         10.0  1.628149       822  \n",
       "AIX000345019          6.5  1.143763       265  \n",
       "AIX000345026         10.6  3.000938       540  \n",
       "AIX000345034         10.2  2.755657       334  \n",
       "AIX000345052          8.5  1.203576       329  "
      ]
     },
     "execution_count": 35,
     "metadata": {},
     "output_type": "execute_result"
    }
   ],
   "source": [
    "data.head()"
   ]
  },
  {
   "cell_type": "code",
   "execution_count": 36,
   "metadata": {},
   "outputs": [
    {
     "data": {
      "image/png": "[encoded data removed]",
      "text/plain": [
       "<Figure size 720x504 with 1 Axes>"
      ]
     },
     "metadata": {
      "needs_background": "light"
     },
     "output_type": "display_data"
    }
   ],
   "source": [
    "plt.figure(figsize = (10,7))\n",
    "plt.scatter(x = data.Duration,y = data.fare_amount)\n",
    "plt.title('Fare Amount vs Duration')\n",
    "plt.xlabel('Duration (in seconds)')\n",
    "plt.ylabel('Fare Amount')\n",
    "plt.show()"
   ]
  },
  {
   "cell_type": "markdown",
   "metadata": {},
   "source": [
    "In a day we have got 24 * 60 * 60 = 86400 seconds. There's one point in the above plot which took almost 170000 seconds that is almost equal to two days. Let's check this point out."
   ]
  },
  {
   "cell_type": "code",
   "execution_count": 37,
   "metadata": {},
   "outputs": [
    {
     "data": {
      "text/html": [
       "<div>\n",
       "<style scoped>\n",
       "    .dataframe tbody tr th:only-of-type {\n",
       "        vertical-align: middle;\n",
       "    }\n",
       "\n",
       "    .dataframe tbody tr th {\n",
       "        vertical-align: top;\n",
       "    }\n",
       "\n",
       "    .dataframe thead th {\n",
       "        text-align: right;\n",
       "    }\n",
       "</style>\n",
       "<table border=\"1\" class=\"dataframe\">\n",
       "  <thead>\n",
       "    <tr style=\"text-align: right;\">\n",
       "      <th></th>\n",
       "      <th>vendor_id</th>\n",
       "      <th>new_user</th>\n",
       "      <th>tolls_amount</th>\n",
       "      <th>tip_amount</th>\n",
       "      <th>mta_tax</th>\n",
       "      <th>pickup_datetime</th>\n",
       "      <th>dropoff_datetime</th>\n",
       "      <th>passenger_count</th>\n",
       "      <th>pickup_longitude</th>\n",
       "      <th>pickup_latitude</th>\n",
       "      <th>rate_code</th>\n",
       "      <th>store_and_fwd_flag</th>\n",
       "      <th>dropoff_longitude</th>\n",
       "      <th>dropoff_latitude</th>\n",
       "      <th>payment_type</th>\n",
       "      <th>surcharge</th>\n",
       "      <th>fare_amount</th>\n",
       "      <th>Distance</th>\n",
       "      <th>Duration</th>\n",
       "    </tr>\n",
       "    <tr>\n",
       "      <th>TID</th>\n",
       "      <th></th>\n",
       "      <th></th>\n",
       "      <th></th>\n",
       "      <th></th>\n",
       "      <th></th>\n",
       "      <th></th>\n",
       "      <th></th>\n",
       "      <th></th>\n",
       "      <th></th>\n",
       "      <th></th>\n",
       "      <th></th>\n",
       "      <th></th>\n",
       "      <th></th>\n",
       "      <th></th>\n",
       "      <th></th>\n",
       "      <th></th>\n",
       "      <th></th>\n",
       "      <th></th>\n",
       "      <th></th>\n",
       "    </tr>\n",
       "  </thead>\n",
       "  <tbody>\n",
       "    <tr>\n",
       "      <td>AIX0001639379</td>\n",
       "      <td>DST000543</td>\n",
       "      <td>NO</td>\n",
       "      <td>0.0</td>\n",
       "      <td>0.0</td>\n",
       "      <td>0.5</td>\n",
       "      <td>2016-02-28 22:18:32</td>\n",
       "      <td>2016-03-01 22:13:16</td>\n",
       "      <td>1</td>\n",
       "      <td>-73.97924</td>\n",
       "      <td>40.757229</td>\n",
       "      <td>1</td>\n",
       "      <td>N</td>\n",
       "      <td>-73.984772</td>\n",
       "      <td>40.759331</td>\n",
       "      <td>CSH</td>\n",
       "      <td>0.5</td>\n",
       "      <td>7.8</td>\n",
       "      <td>0.521224</td>\n",
       "      <td>172484</td>\n",
       "    </tr>\n",
       "  </tbody>\n",
       "</table>\n",
       "</div>"
      ],
      "text/plain": [
       "               vendor_id new_user  tolls_amount  tip_amount  mta_tax  \\\n",
       "TID                                                                    \n",
       "AIX0001639379  DST000543       NO           0.0         0.0      0.5   \n",
       "\n",
       "                   pickup_datetime     dropoff_datetime  passenger_count  \\\n",
       "TID                                                                        \n",
       "AIX0001639379  2016-02-28 22:18:32  2016-03-01 22:13:16                1   \n",
       "\n",
       "               pickup_longitude  pickup_latitude  rate_code  \\\n",
       "TID                                                           \n",
       "AIX0001639379         -73.97924        40.757229          1   \n",
       "\n",
       "              store_and_fwd_flag  dropoff_longitude  dropoff_latitude  \\\n",
       "TID                                                                     \n",
       "AIX0001639379                  N         -73.984772         40.759331   \n",
       "\n",
       "              payment_type  surcharge  fare_amount  Distance  Duration  \n",
       "TID                                                                     \n",
       "AIX0001639379          CSH        0.5          7.8  0.521224    172484  "
      ]
     },
     "execution_count": 37,
     "metadata": {},
     "output_type": "execute_result"
    }
   ],
   "source": [
    "data[data.Duration > 100000]"
   ]
  },
  {
   "cell_type": "markdown",
   "metadata": {},
   "source": [
    "For half a kilometer, the driver took more than two days. This is an anomaly since any average person can walk that much distance in almost 10 minutes or less. This point needs to be dropped from our analysis."
   ]
  },
  {
   "cell_type": "code",
   "execution_count": 38,
   "metadata": {},
   "outputs": [],
   "source": [
    "data = data[data.Duration <= 100000]"
   ]
  },
  {
   "cell_type": "code",
   "execution_count": 39,
   "metadata": {},
   "outputs": [
    {
     "data": {
      "image/png": "[encoded data removed]",
      "text/plain": [
       "<Figure size 720x504 with 1 Axes>"
      ]
     },
     "metadata": {
      "needs_background": "light"
     },
     "output_type": "display_data"
    }
   ],
   "source": [
    "plt.figure(figsize = (10,7))\n",
    "plt.scatter(x = data.Duration,y = data.fare_amount)\n",
    "plt.title('Fare Amount vs Duration')\n",
    "plt.xlabel('Duration (in seconds)')\n",
    "plt.ylabel('Fare Amount')\n",
    "plt.show()"
   ]
  },
  {
   "cell_type": "markdown",
   "metadata": {},
   "source": [
    "Out of curiousity, let us check those rides which cost more than 150 units of currency."
   ]
  },
  {
   "cell_type": "code",
   "execution_count": 40,
   "metadata": {},
   "outputs": [
    {
     "data": {
      "text/html": [
       "<div>\n",
       "<style scoped>\n",
       "    .dataframe tbody tr th:only-of-type {\n",
       "        vertical-align: middle;\n",
       "    }\n",
       "\n",
       "    .dataframe tbody tr th {\n",
       "        vertical-align: top;\n",
       "    }\n",
       "\n",
       "    .dataframe thead th {\n",
       "        text-align: right;\n",
       "    }\n",
       "</style>\n",
       "<table border=\"1\" class=\"dataframe\">\n",
       "  <thead>\n",
       "    <tr style=\"text-align: right;\">\n",
       "      <th></th>\n",
       "      <th>vendor_id</th>\n",
       "      <th>new_user</th>\n",
       "      <th>tolls_amount</th>\n",
       "      <th>tip_amount</th>\n",
       "      <th>mta_tax</th>\n",
       "      <th>pickup_datetime</th>\n",
       "      <th>dropoff_datetime</th>\n",
       "      <th>passenger_count</th>\n",
       "      <th>pickup_longitude</th>\n",
       "      <th>pickup_latitude</th>\n",
       "      <th>rate_code</th>\n",
       "      <th>store_and_fwd_flag</th>\n",
       "      <th>dropoff_longitude</th>\n",
       "      <th>dropoff_latitude</th>\n",
       "      <th>payment_type</th>\n",
       "      <th>surcharge</th>\n",
       "      <th>fare_amount</th>\n",
       "      <th>Distance</th>\n",
       "      <th>Duration</th>\n",
       "    </tr>\n",
       "    <tr>\n",
       "      <th>TID</th>\n",
       "      <th></th>\n",
       "      <th></th>\n",
       "      <th></th>\n",
       "      <th></th>\n",
       "      <th></th>\n",
       "      <th></th>\n",
       "      <th></th>\n",
       "      <th></th>\n",
       "      <th></th>\n",
       "      <th></th>\n",
       "      <th></th>\n",
       "      <th></th>\n",
       "      <th></th>\n",
       "      <th></th>\n",
       "      <th></th>\n",
       "      <th></th>\n",
       "      <th></th>\n",
       "      <th></th>\n",
       "      <th></th>\n",
       "    </tr>\n",
       "  </thead>\n",
       "  <tbody>\n",
       "    <tr>\n",
       "      <td>AIX000365073</td>\n",
       "      <td>DST000401</td>\n",
       "      <td>NO</td>\n",
       "      <td>13.75</td>\n",
       "      <td>28.75</td>\n",
       "      <td>0.0</td>\n",
       "      <td>2015-04-13 18:46:02</td>\n",
       "      <td>2015-04-13 19:31:14</td>\n",
       "      <td>2</td>\n",
       "      <td>-74.005960</td>\n",
       "      <td>40.736007</td>\n",
       "      <td>5</td>\n",
       "      <td>N</td>\n",
       "      <td>-74.383856</td>\n",
       "      <td>40.739778</td>\n",
       "      <td>CRD</td>\n",
       "      <td>0.0</td>\n",
       "      <td>172.50</td>\n",
       "      <td>31.841547</td>\n",
       "      <td>2712</td>\n",
       "    </tr>\n",
       "    <tr>\n",
       "      <td>AIX000542861</td>\n",
       "      <td>DST000401</td>\n",
       "      <td>NO</td>\n",
       "      <td>0.00</td>\n",
       "      <td>25.70</td>\n",
       "      <td>0.5</td>\n",
       "      <td>2015-02-28 20:14:29</td>\n",
       "      <td>2015-02-28 20:54:14</td>\n",
       "      <td>1</td>\n",
       "      <td>-73.789905</td>\n",
       "      <td>40.646943</td>\n",
       "      <td>4</td>\n",
       "      <td>N</td>\n",
       "      <td>-73.484428</td>\n",
       "      <td>40.813393</td>\n",
       "      <td>CRD</td>\n",
       "      <td>0.5</td>\n",
       "      <td>154.20</td>\n",
       "      <td>31.703662</td>\n",
       "      <td>2385</td>\n",
       "    </tr>\n",
       "    <tr>\n",
       "      <td>AIX000671088</td>\n",
       "      <td>DST000401</td>\n",
       "      <td>NO</td>\n",
       "      <td>0.00</td>\n",
       "      <td>5.00</td>\n",
       "      <td>0.0</td>\n",
       "      <td>2015-06-09 17:52:04</td>\n",
       "      <td>2015-06-09 17:52:45</td>\n",
       "      <td>1</td>\n",
       "      <td>-73.982552</td>\n",
       "      <td>40.742431</td>\n",
       "      <td>5</td>\n",
       "      <td>N</td>\n",
       "      <td>-73.982557</td>\n",
       "      <td>40.742463</td>\n",
       "      <td>CRD</td>\n",
       "      <td>0.0</td>\n",
       "      <td>165.00</td>\n",
       "      <td>0.003583</td>\n",
       "      <td>41</td>\n",
       "    </tr>\n",
       "    <tr>\n",
       "      <td>AIX000870917</td>\n",
       "      <td>DST000532</td>\n",
       "      <td>NO</td>\n",
       "      <td>0.00</td>\n",
       "      <td>90.00</td>\n",
       "      <td>0.5</td>\n",
       "      <td>2015-05-09 03:30:00</td>\n",
       "      <td>2015-05-09 04:16:00</td>\n",
       "      <td>1</td>\n",
       "      <td>-73.674372</td>\n",
       "      <td>41.055127</td>\n",
       "      <td>1</td>\n",
       "      <td>NaN</td>\n",
       "      <td>-73.761352</td>\n",
       "      <td>41.035155</td>\n",
       "      <td>CRD</td>\n",
       "      <td>0.5</td>\n",
       "      <td>157.50</td>\n",
       "      <td>7.624931</td>\n",
       "      <td>2760</td>\n",
       "    </tr>\n",
       "    <tr>\n",
       "      <td>AIX000938756</td>\n",
       "      <td>DST000401</td>\n",
       "      <td>NO</td>\n",
       "      <td>9.25</td>\n",
       "      <td>8.00</td>\n",
       "      <td>0.0</td>\n",
       "      <td>2015-05-05 14:13:47</td>\n",
       "      <td>2015-05-05 14:14:23</td>\n",
       "      <td>1</td>\n",
       "      <td>-73.567343</td>\n",
       "      <td>41.048300</td>\n",
       "      <td>5</td>\n",
       "      <td>N</td>\n",
       "      <td>-73.567266</td>\n",
       "      <td>41.049584</td>\n",
       "      <td>CRD</td>\n",
       "      <td>0.0</td>\n",
       "      <td>216.25</td>\n",
       "      <td>0.142920</td>\n",
       "      <td>36</td>\n",
       "    </tr>\n",
       "  </tbody>\n",
       "</table>\n",
       "</div>"
      ],
      "text/plain": [
       "              vendor_id new_user  tolls_amount  tip_amount  mta_tax  \\\n",
       "TID                                                                   \n",
       "AIX000365073  DST000401       NO         13.75       28.75      0.0   \n",
       "AIX000542861  DST000401       NO          0.00       25.70      0.5   \n",
       "AIX000671088  DST000401       NO          0.00        5.00      0.0   \n",
       "AIX000870917  DST000532       NO          0.00       90.00      0.5   \n",
       "AIX000938756  DST000401       NO          9.25        8.00      0.0   \n",
       "\n",
       "                  pickup_datetime     dropoff_datetime  passenger_count  \\\n",
       "TID                                                                       \n",
       "AIX000365073  2015-04-13 18:46:02  2015-04-13 19:31:14                2   \n",
       "AIX000542861  2015-02-28 20:14:29  2015-02-28 20:54:14                1   \n",
       "AIX000671088  2015-06-09 17:52:04  2015-06-09 17:52:45                1   \n",
       "AIX000870917  2015-05-09 03:30:00  2015-05-09 04:16:00                1   \n",
       "AIX000938756  2015-05-05 14:13:47  2015-05-05 14:14:23                1   \n",
       "\n",
       "              pickup_longitude  pickup_latitude  rate_code store_and_fwd_flag  \\\n",
       "TID                                                                             \n",
       "AIX000365073        -74.005960        40.736007          5                  N   \n",
       "AIX000542861        -73.789905        40.646943          4                  N   \n",
       "AIX000671088        -73.982552        40.742431          5                  N   \n",
       "AIX000870917        -73.674372        41.055127          1                NaN   \n",
       "AIX000938756        -73.567343        41.048300          5                  N   \n",
       "\n",
       "              dropoff_longitude  dropoff_latitude payment_type  surcharge  \\\n",
       "TID                                                                         \n",
       "AIX000365073         -74.383856         40.739778          CRD        0.0   \n",
       "AIX000542861         -73.484428         40.813393          CRD        0.5   \n",
       "AIX000671088         -73.982557         40.742463          CRD        0.0   \n",
       "AIX000870917         -73.761352         41.035155          CRD        0.5   \n",
       "AIX000938756         -73.567266         41.049584          CRD        0.0   \n",
       "\n",
       "              fare_amount   Distance  Duration  \n",
       "TID                                             \n",
       "AIX000365073       172.50  31.841547      2712  \n",
       "AIX000542861       154.20  31.703662      2385  \n",
       "AIX000671088       165.00   0.003583        41  \n",
       "AIX000870917       157.50   7.624931      2760  \n",
       "AIX000938756       216.25   0.142920        36  "
      ]
     },
     "execution_count": 40,
     "metadata": {},
     "output_type": "execute_result"
    }
   ],
   "source": [
    "data[data.fare_amount > 150].head()"
   ]
  },
  {
   "cell_type": "markdown",
   "metadata": {},
   "source": [
    "Except from the graph, there's no real anomaly here. It could be the case that these select few cars are luxury cars or something."
   ]
  },
  {
   "cell_type": "markdown",
   "metadata": {},
   "source": [
    "## Dealing with datetime.\n",
    "\n",
    "We can drop the time for drop-off and keep the time for pickup. We can store date separately as day, month and year and for time we can do as below.\n",
    "\n",
    "Add a column which captures what time of the day it is. i.e. Morning, Evening or Night. Let's arbitrarily define the steps as 6 am to 12 noon, 12 noon to 12 am and 12 am to 6 am respectively and see the variation."
   ]
  },
  {
   "cell_type": "code",
   "execution_count": 41,
   "metadata": {},
   "outputs": [],
   "source": [
    "data['pickup_day'] = pd.to_datetime(data.dropoff_datetime).dt.day\n",
    "data['pickup_month'] = pd.to_datetime(data.dropoff_datetime).dt.month\n",
    "data['pickup_year'] = pd.to_datetime(data.dropoff_datetime).dt.year"
   ]
  },
  {
   "cell_type": "code",
   "execution_count": 42,
   "metadata": {},
   "outputs": [],
   "source": [
    "data['time_of_day'] = pd.cut(pd.to_datetime(data.dropoff_datetime).dt.hour, [-float('inf'), 8, 14, float('inf')])"
   ]
  },
  {
   "cell_type": "code",
   "execution_count": 43,
   "metadata": {},
   "outputs": [
    {
     "data": {
      "text/plain": [
       "(14.0, inf]    50246\n",
       "(8.0, 14.0]    29445\n",
       "(-inf, 8.0]    23420\n",
       "Name: time_of_day, dtype: int64"
      ]
     },
     "execution_count": 43,
     "metadata": {},
     "output_type": "execute_result"
    }
   ],
   "source": [
    "data.time_of_day.value_counts()"
   ]
  },
  {
   "cell_type": "code",
   "execution_count": 44,
   "metadata": {},
   "outputs": [
    {
     "data": {
      "text/plain": [
       "vendor_id                  4\n",
       "new_user                   1\n",
       "tolls_amount              83\n",
       "tip_amount               989\n",
       "mta_tax                    2\n",
       "pickup_datetime       100154\n",
       "dropoff_datetime      100143\n",
       "passenger_count            7\n",
       "pickup_longitude       48155\n",
       "pickup_latitude        59181\n",
       "rate_code                  7\n",
       "store_and_fwd_flag         2\n",
       "dropoff_longitude      51450\n",
       "dropoff_latitude       62817\n",
       "payment_type               5\n",
       "surcharge                  6\n",
       "fare_amount             2584\n",
       "Distance              103107\n",
       "Duration                3444\n",
       "pickup_day                31\n",
       "pickup_month              12\n",
       "pickup_year                2\n",
       "time_of_day                3\n",
       "dtype: int64"
      ]
     },
     "execution_count": 44,
     "metadata": {},
     "output_type": "execute_result"
    }
   ],
   "source": [
    "data.nunique()"
   ]
  },
  {
   "cell_type": "code",
   "execution_count": 45,
   "metadata": {},
   "outputs": [],
   "source": [
    "data1 = data.copy()"
   ]
  },
  {
   "cell_type": "markdown",
   "metadata": {},
   "source": [
    "## Removing unwanted columns\n",
    "\n",
    "- dropoff_latitude, dropoff_latitude: Since we've already taken pickup lats and longs and distances, we don't need dropoff lats and longs.\n",
    "\n",
    "- pickup_datetime, dropoff_datetime: Since we've already taken pickup_datetime's day, month and year and also the duration of the ride, dropoff_datetime won't add any new information\n",
    "\n",
    "- store_and_fwd_flag: It has more unknowns than knowns and it is not clear what the column means for the user. So, drop that column for our analysis.\n",
    "\n",
    "- new_user: Since there's only one level in this category, it doesn't make sense to include it anyway in our analysis."
   ]
  },
  {
   "cell_type": "code",
   "execution_count": 46,
   "metadata": {},
   "outputs": [],
   "source": [
    "cols_to_drop = ['pickup_datetime', 'dropoff_datetime', 'store_and_fwd_flag','dropoff_longitude','dropoff_latitude', 'new_user']\n",
    "data = data.drop(columns = cols_to_drop, axis = 1)"
   ]
  },
  {
   "cell_type": "code",
   "execution_count": 47,
   "metadata": {},
   "outputs": [
    {
     "data": {
      "text/plain": [
       "Index(['vendor_id', 'tolls_amount', 'tip_amount', 'mta_tax', 'passenger_count',\n",
       "       'pickup_longitude', 'pickup_latitude', 'rate_code', 'payment_type',\n",
       "       'surcharge', 'fare_amount', 'Distance', 'Duration', 'pickup_day',\n",
       "       'pickup_month', 'pickup_year', 'time_of_day'],\n",
       "      dtype='object')"
      ]
     },
     "execution_count": 47,
     "metadata": {},
     "output_type": "execute_result"
    }
   ],
   "source": [
    "data.columns"
   ]
  },
  {
   "cell_type": "code",
   "execution_count": 48,
   "metadata": {},
   "outputs": [
    {
     "data": {
      "text/plain": [
       "vendor_id           0.000\n",
       "tolls_amount        0.000\n",
       "tip_amount          9.924\n",
       "mta_tax             0.000\n",
       "passenger_count     0.000\n",
       "pickup_longitude    0.000\n",
       "pickup_latitude     0.000\n",
       "rate_code           0.000\n",
       "payment_type        0.000\n",
       "surcharge           0.000\n",
       "fare_amount         0.000\n",
       "Distance            0.000\n",
       "Duration            0.000\n",
       "pickup_day          0.000\n",
       "pickup_month        0.000\n",
       "pickup_year         0.000\n",
       "time_of_day         0.000\n",
       "dtype: float64"
      ]
     },
     "execution_count": 48,
     "metadata": {},
     "output_type": "execute_result"
    }
   ],
   "source": [
    "np.round(100 * data.isnull().sum()/data.shape[0],3)"
   ]
  },
  {
   "cell_type": "markdown",
   "metadata": {},
   "source": [
    "For the tip amount, we need to impute the data since there are almost 10% missing values. We will do a central imputation on the same after doing a train test split later on."
   ]
  },
  {
   "cell_type": "markdown",
   "metadata": {},
   "source": [
    "# One hot encoding for categorical variables"
   ]
  },
  {
   "cell_type": "code",
   "execution_count": 49,
   "metadata": {},
   "outputs": [
    {
     "data": {
      "text/plain": [
       "['tolls_amount',\n",
       " 'tip_amount',\n",
       " 'passenger_count',\n",
       " 'pickup_longitude',\n",
       " 'pickup_latitude',\n",
       " 'surcharge',\n",
       " 'Distance',\n",
       " 'Duration',\n",
       " 'pickup_day',\n",
       " 'pickup_month',\n",
       " 'pickup_year']"
      ]
     },
     "execution_count": 49,
     "metadata": {},
     "output_type": "execute_result"
    }
   ],
   "source": [
    "cat_cols = ['vendor_id', 'mta_tax', 'rate_code', 'payment_type', 'time_of_day']\n",
    "num_cols = []\n",
    "for i in data.columns:\n",
    "    if not i in cat_cols and i != 'fare_amount':\n",
    "        num_cols.append(i)     \n",
    "num_cols"
   ]
  },
  {
   "cell_type": "code",
   "execution_count": 50,
   "metadata": {},
   "outputs": [],
   "source": [
    "data = pd.get_dummies(data = data, columns = cat_cols, drop_first = True)"
   ]
  },
  {
   "cell_type": "code",
   "execution_count": 51,
   "metadata": {},
   "outputs": [
    {
     "data": {
      "text/plain": [
       "Index(['tolls_amount', 'tip_amount', 'passenger_count', 'pickup_longitude',\n",
       "       'pickup_latitude', 'surcharge', 'fare_amount', 'Distance', 'Duration',\n",
       "       'pickup_day', 'pickup_month', 'pickup_year', 'vendor_id_DST000481',\n",
       "       'vendor_id_DST000532', 'vendor_id_DST000543', 'mta_tax_0.5',\n",
       "       'rate_code_1', 'rate_code_2', 'rate_code_3', 'rate_code_4',\n",
       "       'rate_code_5', 'rate_code_6', 'payment_type_CSH', 'payment_type_DIS',\n",
       "       'payment_type_NOC', 'payment_type_UNK', 'time_of_day_(8.0, 14.0]',\n",
       "       'time_of_day_(14.0, inf]'],\n",
       "      dtype='object')"
      ]
     },
     "execution_count": 51,
     "metadata": {},
     "output_type": "execute_result"
    }
   ],
   "source": [
    "data.columns"
   ]
  },
  {
   "cell_type": "markdown",
   "metadata": {},
   "source": [
    "# Train Test Split"
   ]
  },
  {
   "cell_type": "code",
   "execution_count": 52,
   "metadata": {},
   "outputs": [],
   "source": [
    "from sklearn.model_selection import train_test_split\n",
    "\n",
    "y = data['fare_amount']\n",
    "X = data.drop(columns = ['fare_amount'], axis = 1)\n",
    "\n",
    "X_train, X_test, y_train, y_test = train_test_split(X, y, test_size = 0.2, random_state = 725)"
   ]
  },
  {
   "cell_type": "markdown",
   "metadata": {},
   "source": [
    "# Impute "
   ]
  },
  {
   "cell_type": "code",
   "execution_count": 53,
   "metadata": {},
   "outputs": [
    {
     "name": "stderr",
     "output_type": "stream",
     "text": [
      "C:\\Users\\nayak\\AppData\\Roaming\\Python\\Python36\\site-packages\\sklearn\\utils\\deprecation.py:66: DeprecationWarning: Class Imputer is deprecated; Imputer was deprecated in version 0.20 and will be removed in 0.22. Import impute.SimpleImputer from sklearn instead.\n",
      "  warnings.warn(msg, category=DeprecationWarning)\n"
     ]
    },
    {
     "data": {
      "text/plain": [
       "Imputer(axis=0, copy=True, missing_values=nan, strategy='median', verbose=0)"
      ]
     },
     "execution_count": 53,
     "metadata": {},
     "output_type": "execute_result"
    }
   ],
   "source": [
    "from sklearn.preprocessing import Imputer\n",
    "median_imputer = Imputer(missing_values = np.nan, strategy = 'median')\n",
    "median_imputer.fit(X_train)"
   ]
  },
  {
   "cell_type": "code",
   "execution_count": 54,
   "metadata": {},
   "outputs": [],
   "source": [
    "X_train = pd.DataFrame(median_imputer.transform(X_train), columns=X_train.columns, index=X_train.index)\n",
    "X_test = pd.DataFrame(median_imputer.transform(X_test), columns=X_test.columns, index=X_test.index)"
   ]
  },
  {
   "cell_type": "markdown",
   "metadata": {},
   "source": [
    "# Standardize"
   ]
  },
  {
   "cell_type": "code",
   "execution_count": 55,
   "metadata": {},
   "outputs": [
    {
     "data": {
      "text/plain": [
       "StandardScaler(copy=True, with_mean=True, with_std=True)"
      ]
     },
     "execution_count": 55,
     "metadata": {},
     "output_type": "execute_result"
    }
   ],
   "source": [
    "from sklearn.preprocessing import StandardScaler\n",
    "SS = StandardScaler()\n",
    "SS.fit(X_train[num_cols])"
   ]
  },
  {
   "cell_type": "code",
   "execution_count": 56,
   "metadata": {},
   "outputs": [],
   "source": [
    "X_train[num_cols] = SS.transform(X_train[num_cols])\n",
    "X_test[num_cols] = SS.transform(X_test[num_cols])"
   ]
  },
  {
   "cell_type": "code",
   "execution_count": 57,
   "metadata": {},
   "outputs": [
    {
     "data": {
      "text/html": [
       "<div>\n",
       "<style scoped>\n",
       "    .dataframe tbody tr th:only-of-type {\n",
       "        vertical-align: middle;\n",
       "    }\n",
       "\n",
       "    .dataframe tbody tr th {\n",
       "        vertical-align: top;\n",
       "    }\n",
       "\n",
       "    .dataframe thead th {\n",
       "        text-align: right;\n",
       "    }\n",
       "</style>\n",
       "<table border=\"1\" class=\"dataframe\">\n",
       "  <thead>\n",
       "    <tr style=\"text-align: right;\">\n",
       "      <th></th>\n",
       "      <th>tolls_amount</th>\n",
       "      <th>tip_amount</th>\n",
       "      <th>passenger_count</th>\n",
       "      <th>pickup_longitude</th>\n",
       "      <th>pickup_latitude</th>\n",
       "      <th>surcharge</th>\n",
       "      <th>Distance</th>\n",
       "      <th>Duration</th>\n",
       "      <th>pickup_day</th>\n",
       "      <th>pickup_month</th>\n",
       "      <th>...</th>\n",
       "      <th>rate_code_3</th>\n",
       "      <th>rate_code_4</th>\n",
       "      <th>rate_code_5</th>\n",
       "      <th>rate_code_6</th>\n",
       "      <th>payment_type_CSH</th>\n",
       "      <th>payment_type_DIS</th>\n",
       "      <th>payment_type_NOC</th>\n",
       "      <th>payment_type_UNK</th>\n",
       "      <th>time_of_day_(8.0, 14.0]</th>\n",
       "      <th>time_of_day_(14.0, inf]</th>\n",
       "    </tr>\n",
       "    <tr>\n",
       "      <th>TID</th>\n",
       "      <th></th>\n",
       "      <th></th>\n",
       "      <th></th>\n",
       "      <th></th>\n",
       "      <th></th>\n",
       "      <th></th>\n",
       "      <th></th>\n",
       "      <th></th>\n",
       "      <th></th>\n",
       "      <th></th>\n",
       "      <th></th>\n",
       "      <th></th>\n",
       "      <th></th>\n",
       "      <th></th>\n",
       "      <th></th>\n",
       "      <th></th>\n",
       "      <th></th>\n",
       "      <th></th>\n",
       "      <th></th>\n",
       "      <th></th>\n",
       "      <th></th>\n",
       "    </tr>\n",
       "  </thead>\n",
       "  <tbody>\n",
       "    <tr>\n",
       "      <td>AIX000631357</td>\n",
       "      <td>3.967616</td>\n",
       "      <td>0.676166</td>\n",
       "      <td>-0.522856</td>\n",
       "      <td>1.512773</td>\n",
       "      <td>-3.451986</td>\n",
       "      <td>-0.878236</td>\n",
       "      <td>4.488572</td>\n",
       "      <td>1.228420</td>\n",
       "      <td>-1.626584</td>\n",
       "      <td>-1.210202</td>\n",
       "      <td>...</td>\n",
       "      <td>0.0</td>\n",
       "      <td>0.0</td>\n",
       "      <td>0.0</td>\n",
       "      <td>0.0</td>\n",
       "      <td>0.0</td>\n",
       "      <td>0.0</td>\n",
       "      <td>0.0</td>\n",
       "      <td>0.0</td>\n",
       "      <td>1.0</td>\n",
       "      <td>0.0</td>\n",
       "    </tr>\n",
       "    <tr>\n",
       "      <td>AIX0001999788</td>\n",
       "      <td>-0.212758</td>\n",
       "      <td>-0.669905</td>\n",
       "      <td>-0.522856</td>\n",
       "      <td>-0.033399</td>\n",
       "      <td>0.441641</td>\n",
       "      <td>0.502437</td>\n",
       "      <td>-0.412484</td>\n",
       "      <td>-0.195087</td>\n",
       "      <td>-1.050370</td>\n",
       "      <td>-0.333390</td>\n",
       "      <td>...</td>\n",
       "      <td>0.0</td>\n",
       "      <td>0.0</td>\n",
       "      <td>0.0</td>\n",
       "      <td>0.0</td>\n",
       "      <td>1.0</td>\n",
       "      <td>0.0</td>\n",
       "      <td>0.0</td>\n",
       "      <td>0.0</td>\n",
       "      <td>0.0</td>\n",
       "      <td>1.0</td>\n",
       "    </tr>\n",
       "    <tr>\n",
       "      <td>AIX0001496204</td>\n",
       "      <td>-0.212758</td>\n",
       "      <td>0.227476</td>\n",
       "      <td>-0.522856</td>\n",
       "      <td>-0.084475</td>\n",
       "      <td>-0.082134</td>\n",
       "      <td>0.502437</td>\n",
       "      <td>0.119161</td>\n",
       "      <td>0.469301</td>\n",
       "      <td>1.369730</td>\n",
       "      <td>-1.210202</td>\n",
       "      <td>...</td>\n",
       "      <td>0.0</td>\n",
       "      <td>0.0</td>\n",
       "      <td>0.0</td>\n",
       "      <td>0.0</td>\n",
       "      <td>0.0</td>\n",
       "      <td>0.0</td>\n",
       "      <td>0.0</td>\n",
       "      <td>0.0</td>\n",
       "      <td>0.0</td>\n",
       "      <td>1.0</td>\n",
       "    </tr>\n",
       "    <tr>\n",
       "      <td>AIX0001808590</td>\n",
       "      <td>-0.212758</td>\n",
       "      <td>0.254397</td>\n",
       "      <td>-0.522856</td>\n",
       "      <td>-0.161418</td>\n",
       "      <td>-0.751105</td>\n",
       "      <td>-0.878236</td>\n",
       "      <td>-0.145040</td>\n",
       "      <td>-0.152490</td>\n",
       "      <td>-1.511341</td>\n",
       "      <td>-0.625660</td>\n",
       "      <td>...</td>\n",
       "      <td>0.0</td>\n",
       "      <td>0.0</td>\n",
       "      <td>0.0</td>\n",
       "      <td>0.0</td>\n",
       "      <td>0.0</td>\n",
       "      <td>0.0</td>\n",
       "      <td>0.0</td>\n",
       "      <td>0.0</td>\n",
       "      <td>0.0</td>\n",
       "      <td>0.0</td>\n",
       "    </tr>\n",
       "    <tr>\n",
       "      <td>AIX0001745390</td>\n",
       "      <td>-0.212758</td>\n",
       "      <td>0.927433</td>\n",
       "      <td>-0.522856</td>\n",
       "      <td>0.198692</td>\n",
       "      <td>1.700093</td>\n",
       "      <td>1.883110</td>\n",
       "      <td>0.324899</td>\n",
       "      <td>0.283018</td>\n",
       "      <td>1.600216</td>\n",
       "      <td>-0.625660</td>\n",
       "      <td>...</td>\n",
       "      <td>0.0</td>\n",
       "      <td>0.0</td>\n",
       "      <td>0.0</td>\n",
       "      <td>0.0</td>\n",
       "      <td>0.0</td>\n",
       "      <td>0.0</td>\n",
       "      <td>0.0</td>\n",
       "      <td>0.0</td>\n",
       "      <td>0.0</td>\n",
       "      <td>1.0</td>\n",
       "    </tr>\n",
       "  </tbody>\n",
       "</table>\n",
       "<p>5 rows × 27 columns</p>\n",
       "</div>"
      ],
      "text/plain": [
       "               tolls_amount  tip_amount  passenger_count  pickup_longitude  \\\n",
       "TID                                                                          \n",
       "AIX000631357       3.967616    0.676166        -0.522856          1.512773   \n",
       "AIX0001999788     -0.212758   -0.669905        -0.522856         -0.033399   \n",
       "AIX0001496204     -0.212758    0.227476        -0.522856         -0.084475   \n",
       "AIX0001808590     -0.212758    0.254397        -0.522856         -0.161418   \n",
       "AIX0001745390     -0.212758    0.927433        -0.522856          0.198692   \n",
       "\n",
       "               pickup_latitude  surcharge  Distance  Duration  pickup_day  \\\n",
       "TID                                                                         \n",
       "AIX000631357         -3.451986  -0.878236  4.488572  1.228420   -1.626584   \n",
       "AIX0001999788         0.441641   0.502437 -0.412484 -0.195087   -1.050370   \n",
       "AIX0001496204        -0.082134   0.502437  0.119161  0.469301    1.369730   \n",
       "AIX0001808590        -0.751105  -0.878236 -0.145040 -0.152490   -1.511341   \n",
       "AIX0001745390         1.700093   1.883110  0.324899  0.283018    1.600216   \n",
       "\n",
       "               pickup_month  ...  rate_code_3  rate_code_4  rate_code_5  \\\n",
       "TID                          ...                                          \n",
       "AIX000631357      -1.210202  ...          0.0          0.0          0.0   \n",
       "AIX0001999788     -0.333390  ...          0.0          0.0          0.0   \n",
       "AIX0001496204     -1.210202  ...          0.0          0.0          0.0   \n",
       "AIX0001808590     -0.625660  ...          0.0          0.0          0.0   \n",
       "AIX0001745390     -0.625660  ...          0.0          0.0          0.0   \n",
       "\n",
       "               rate_code_6  payment_type_CSH  payment_type_DIS  \\\n",
       "TID                                                              \n",
       "AIX000631357           0.0               0.0               0.0   \n",
       "AIX0001999788          0.0               1.0               0.0   \n",
       "AIX0001496204          0.0               0.0               0.0   \n",
       "AIX0001808590          0.0               0.0               0.0   \n",
       "AIX0001745390          0.0               0.0               0.0   \n",
       "\n",
       "               payment_type_NOC  payment_type_UNK  time_of_day_(8.0, 14.0]  \\\n",
       "TID                                                                          \n",
       "AIX000631357                0.0               0.0                      1.0   \n",
       "AIX0001999788               0.0               0.0                      0.0   \n",
       "AIX0001496204               0.0               0.0                      0.0   \n",
       "AIX0001808590               0.0               0.0                      0.0   \n",
       "AIX0001745390               0.0               0.0                      0.0   \n",
       "\n",
       "               time_of_day_(14.0, inf]  \n",
       "TID                                     \n",
       "AIX000631357                       0.0  \n",
       "AIX0001999788                      1.0  \n",
       "AIX0001496204                      1.0  \n",
       "AIX0001808590                      0.0  \n",
       "AIX0001745390                      1.0  \n",
       "\n",
       "[5 rows x 27 columns]"
      ]
     },
     "execution_count": 57,
     "metadata": {},
     "output_type": "execute_result"
    }
   ],
   "source": [
    "X_train.head()"
   ]
  },
  {
   "cell_type": "code",
   "execution_count": 58,
   "metadata": {},
   "outputs": [
    {
     "data": {
      "text/html": [
       "<div>\n",
       "<style scoped>\n",
       "    .dataframe tbody tr th:only-of-type {\n",
       "        vertical-align: middle;\n",
       "    }\n",
       "\n",
       "    .dataframe tbody tr th {\n",
       "        vertical-align: top;\n",
       "    }\n",
       "\n",
       "    .dataframe thead th {\n",
       "        text-align: right;\n",
       "    }\n",
       "</style>\n",
       "<table border=\"1\" class=\"dataframe\">\n",
       "  <thead>\n",
       "    <tr style=\"text-align: right;\">\n",
       "      <th></th>\n",
       "      <th>tolls_amount</th>\n",
       "      <th>tip_amount</th>\n",
       "      <th>passenger_count</th>\n",
       "      <th>pickup_longitude</th>\n",
       "      <th>pickup_latitude</th>\n",
       "      <th>surcharge</th>\n",
       "      <th>Distance</th>\n",
       "      <th>Duration</th>\n",
       "      <th>pickup_day</th>\n",
       "      <th>pickup_month</th>\n",
       "      <th>...</th>\n",
       "      <th>rate_code_3</th>\n",
       "      <th>rate_code_4</th>\n",
       "      <th>rate_code_5</th>\n",
       "      <th>rate_code_6</th>\n",
       "      <th>payment_type_CSH</th>\n",
       "      <th>payment_type_DIS</th>\n",
       "      <th>payment_type_NOC</th>\n",
       "      <th>payment_type_UNK</th>\n",
       "      <th>time_of_day_(8.0, 14.0]</th>\n",
       "      <th>time_of_day_(14.0, inf]</th>\n",
       "    </tr>\n",
       "    <tr>\n",
       "      <th>TID</th>\n",
       "      <th></th>\n",
       "      <th></th>\n",
       "      <th></th>\n",
       "      <th></th>\n",
       "      <th></th>\n",
       "      <th></th>\n",
       "      <th></th>\n",
       "      <th></th>\n",
       "      <th></th>\n",
       "      <th></th>\n",
       "      <th></th>\n",
       "      <th></th>\n",
       "      <th></th>\n",
       "      <th></th>\n",
       "      <th></th>\n",
       "      <th></th>\n",
       "      <th></th>\n",
       "      <th></th>\n",
       "      <th></th>\n",
       "      <th></th>\n",
       "      <th></th>\n",
       "    </tr>\n",
       "  </thead>\n",
       "  <tbody>\n",
       "    <tr>\n",
       "      <td>AIX0001463559</td>\n",
       "      <td>-0.212758</td>\n",
       "      <td>2.022238</td>\n",
       "      <td>-0.522856</td>\n",
       "      <td>-0.104075</td>\n",
       "      <td>-0.821874</td>\n",
       "      <td>-0.878236</td>\n",
       "      <td>2.202835</td>\n",
       "      <td>0.274753</td>\n",
       "      <td>0.908759</td>\n",
       "      <td>2.004777</td>\n",
       "      <td>...</td>\n",
       "      <td>0.0</td>\n",
       "      <td>0.0</td>\n",
       "      <td>0.0</td>\n",
       "      <td>0.0</td>\n",
       "      <td>0.0</td>\n",
       "      <td>0.0</td>\n",
       "      <td>0.0</td>\n",
       "      <td>0.0</td>\n",
       "      <td>1.0</td>\n",
       "      <td>0.0</td>\n",
       "    </tr>\n",
       "    <tr>\n",
       "      <td>AIX0001395386</td>\n",
       "      <td>-0.212758</td>\n",
       "      <td>1.035119</td>\n",
       "      <td>-0.522856</td>\n",
       "      <td>-0.018996</td>\n",
       "      <td>1.218060</td>\n",
       "      <td>-0.878236</td>\n",
       "      <td>0.518743</td>\n",
       "      <td>0.312900</td>\n",
       "      <td>0.793516</td>\n",
       "      <td>1.712506</td>\n",
       "      <td>...</td>\n",
       "      <td>0.0</td>\n",
       "      <td>0.0</td>\n",
       "      <td>0.0</td>\n",
       "      <td>0.0</td>\n",
       "      <td>0.0</td>\n",
       "      <td>0.0</td>\n",
       "      <td>0.0</td>\n",
       "      <td>0.0</td>\n",
       "      <td>0.0</td>\n",
       "      <td>1.0</td>\n",
       "    </tr>\n",
       "    <tr>\n",
       "      <td>AIX0001094836</td>\n",
       "      <td>-0.212758</td>\n",
       "      <td>-0.669905</td>\n",
       "      <td>-0.522856</td>\n",
       "      <td>0.007239</td>\n",
       "      <td>1.048489</td>\n",
       "      <td>-0.878236</td>\n",
       "      <td>-0.284673</td>\n",
       "      <td>-0.155033</td>\n",
       "      <td>1.484973</td>\n",
       "      <td>0.835694</td>\n",
       "      <td>...</td>\n",
       "      <td>0.0</td>\n",
       "      <td>0.0</td>\n",
       "      <td>0.0</td>\n",
       "      <td>0.0</td>\n",
       "      <td>1.0</td>\n",
       "      <td>0.0</td>\n",
       "      <td>0.0</td>\n",
       "      <td>0.0</td>\n",
       "      <td>1.0</td>\n",
       "      <td>0.0</td>\n",
       "    </tr>\n",
       "    <tr>\n",
       "      <td>AIX0001447056</td>\n",
       "      <td>-0.212758</td>\n",
       "      <td>-0.669905</td>\n",
       "      <td>-0.522856</td>\n",
       "      <td>-0.172594</td>\n",
       "      <td>-0.877974</td>\n",
       "      <td>-0.878236</td>\n",
       "      <td>0.431349</td>\n",
       "      <td>0.427340</td>\n",
       "      <td>0.332544</td>\n",
       "      <td>2.004777</td>\n",
       "      <td>...</td>\n",
       "      <td>0.0</td>\n",
       "      <td>0.0</td>\n",
       "      <td>0.0</td>\n",
       "      <td>0.0</td>\n",
       "      <td>1.0</td>\n",
       "      <td>0.0</td>\n",
       "      <td>0.0</td>\n",
       "      <td>0.0</td>\n",
       "      <td>1.0</td>\n",
       "      <td>0.0</td>\n",
       "    </tr>\n",
       "    <tr>\n",
       "      <td>AIX0001711720</td>\n",
       "      <td>-0.212758</td>\n",
       "      <td>-0.669905</td>\n",
       "      <td>0.195488</td>\n",
       "      <td>0.195691</td>\n",
       "      <td>1.839700</td>\n",
       "      <td>-0.878236</td>\n",
       "      <td>1.025941</td>\n",
       "      <td>0.184473</td>\n",
       "      <td>1.254487</td>\n",
       "      <td>-0.917931</td>\n",
       "      <td>...</td>\n",
       "      <td>0.0</td>\n",
       "      <td>0.0</td>\n",
       "      <td>0.0</td>\n",
       "      <td>0.0</td>\n",
       "      <td>1.0</td>\n",
       "      <td>0.0</td>\n",
       "      <td>0.0</td>\n",
       "      <td>0.0</td>\n",
       "      <td>0.0</td>\n",
       "      <td>0.0</td>\n",
       "    </tr>\n",
       "  </tbody>\n",
       "</table>\n",
       "<p>5 rows × 27 columns</p>\n",
       "</div>"
      ],
      "text/plain": [
       "               tolls_amount  tip_amount  passenger_count  pickup_longitude  \\\n",
       "TID                                                                          \n",
       "AIX0001463559     -0.212758    2.022238        -0.522856         -0.104075   \n",
       "AIX0001395386     -0.212758    1.035119        -0.522856         -0.018996   \n",
       "AIX0001094836     -0.212758   -0.669905        -0.522856          0.007239   \n",
       "AIX0001447056     -0.212758   -0.669905        -0.522856         -0.172594   \n",
       "AIX0001711720     -0.212758   -0.669905         0.195488          0.195691   \n",
       "\n",
       "               pickup_latitude  surcharge  Distance  Duration  pickup_day  \\\n",
       "TID                                                                         \n",
       "AIX0001463559        -0.821874  -0.878236  2.202835  0.274753    0.908759   \n",
       "AIX0001395386         1.218060  -0.878236  0.518743  0.312900    0.793516   \n",
       "AIX0001094836         1.048489  -0.878236 -0.284673 -0.155033    1.484973   \n",
       "AIX0001447056        -0.877974  -0.878236  0.431349  0.427340    0.332544   \n",
       "AIX0001711720         1.839700  -0.878236  1.025941  0.184473    1.254487   \n",
       "\n",
       "               pickup_month  ...  rate_code_3  rate_code_4  rate_code_5  \\\n",
       "TID                          ...                                          \n",
       "AIX0001463559      2.004777  ...          0.0          0.0          0.0   \n",
       "AIX0001395386      1.712506  ...          0.0          0.0          0.0   \n",
       "AIX0001094836      0.835694  ...          0.0          0.0          0.0   \n",
       "AIX0001447056      2.004777  ...          0.0          0.0          0.0   \n",
       "AIX0001711720     -0.917931  ...          0.0          0.0          0.0   \n",
       "\n",
       "               rate_code_6  payment_type_CSH  payment_type_DIS  \\\n",
       "TID                                                              \n",
       "AIX0001463559          0.0               0.0               0.0   \n",
       "AIX0001395386          0.0               0.0               0.0   \n",
       "AIX0001094836          0.0               1.0               0.0   \n",
       "AIX0001447056          0.0               1.0               0.0   \n",
       "AIX0001711720          0.0               1.0               0.0   \n",
       "\n",
       "               payment_type_NOC  payment_type_UNK  time_of_day_(8.0, 14.0]  \\\n",
       "TID                                                                          \n",
       "AIX0001463559               0.0               0.0                      1.0   \n",
       "AIX0001395386               0.0               0.0                      0.0   \n",
       "AIX0001094836               0.0               0.0                      1.0   \n",
       "AIX0001447056               0.0               0.0                      1.0   \n",
       "AIX0001711720               0.0               0.0                      0.0   \n",
       "\n",
       "               time_of_day_(14.0, inf]  \n",
       "TID                                     \n",
       "AIX0001463559                      0.0  \n",
       "AIX0001395386                      1.0  \n",
       "AIX0001094836                      0.0  \n",
       "AIX0001447056                      0.0  \n",
       "AIX0001711720                      0.0  \n",
       "\n",
       "[5 rows x 27 columns]"
      ]
     },
     "execution_count": 58,
     "metadata": {},
     "output_type": "execute_result"
    }
   ],
   "source": [
    "X_test.head()"
   ]
  },
  {
   "cell_type": "markdown",
   "metadata": {},
   "source": [
    "## Simple Linear Regression"
   ]
  },
  {
   "cell_type": "code",
   "execution_count": 59,
   "metadata": {},
   "outputs": [],
   "source": [
    "from sklearn.metrics import mean_absolute_error, mean_squared_error, accuracy_score\n",
    "from sklearn.linear_model import LinearRegression\n",
    "LR = LinearRegression()"
   ]
  },
  {
   "cell_type": "code",
   "execution_count": 60,
   "metadata": {},
   "outputs": [
    {
     "name": "stdout",
     "output_type": "stream",
     "text": [
      "           Coefficient Name   Slope\n",
      "0              tolls_amount   2.059\n",
      "1                tip_amount   3.154\n",
      "2           passenger_count   0.014\n",
      "3          pickup_longitude  -0.018\n",
      "4           pickup_latitude  -0.055\n",
      "5                 surcharge   0.328\n",
      "6                  Distance   7.882\n",
      "7                  Duration   0.725\n",
      "8                pickup_day   0.038\n",
      "9              pickup_month   0.145\n",
      "10              pickup_year   0.585\n",
      "11      vendor_id_DST000481  -0.902\n",
      "12      vendor_id_DST000532   0.137\n",
      "13      vendor_id_DST000543  -0.834\n",
      "14              mta_tax_0.5  -4.282\n",
      "15              rate_code_1  -0.260\n",
      "16              rate_code_2   0.637\n",
      "17              rate_code_3  10.050\n",
      "18              rate_code_4  10.530\n",
      "19              rate_code_5  34.433\n",
      "20              rate_code_6  -2.136\n",
      "21         payment_type_CSH   0.429\n",
      "22         payment_type_DIS   2.576\n",
      "23         payment_type_NOC   0.569\n",
      "24         payment_type_UNK  -0.260\n",
      "25  time_of_day_(8.0, 14.0]   1.255\n",
      "26  time_of_day_(14.0, inf]   0.727\n",
      "\n",
      "linear model intercept (b): 19.025\n",
      "\n",
      "R-squared score (training): 0.897\n",
      "\n",
      "R-squared score (test): 0.911\n",
      "\n"
     ]
    }
   ],
   "source": [
    "linreg = LR.fit(X_train, y_train)\n",
    "\n",
    "Linear_regression_coeffs = pd.DataFrame({\"Coefficient Name\":X_train.columns, \"Slope\":np.round(linreg.coef_,3)})\n",
    "# print('linear model coeff (w):\\n {}\\n'\n",
    "#      .format(linreg.coef_))\n",
    "print(Linear_regression_coeffs)\n",
    "print('\\nlinear model intercept (b): {:.3f}\\n'\n",
    "     .format(linreg.intercept_))\n",
    "print('R-squared score (training): {:.3f}\\n'\n",
    "     .format(linreg.score(X_train, y_train)))\n",
    "print('R-squared score (test): {:.3f}\\n'\n",
    "     .format(linreg.score(X_test, y_test)))"
   ]
  },
  {
   "cell_type": "code",
   "execution_count": 61,
   "metadata": {},
   "outputs": [],
   "source": [
    "ypred_LR = LR.predict(X_test)\n",
    "#LRacc = accuracy_score(y_true = y_test, y_pred = ypred_LR)\n",
    "LRMSE = mean_squared_error(y_true = y_test, y_pred = ypred_LR)\n",
    "LRMAE = mean_absolute_error(y_true = y_test, y_pred = ypred_LR)\n",
    "LRScores = [LRMSE, LRMAE]"
   ]
  },
  {
   "cell_type": "code",
   "execution_count": 62,
   "metadata": {},
   "outputs": [
    {
     "data": {
      "image/png": "[encoded data removed]",
      "text/plain": [
       "<Figure size 720x504 with 1 Axes>"
      ]
     },
     "metadata": {
      "needs_background": "light"
     },
     "output_type": "display_data"
    }
   ],
   "source": [
    "# Error Plot for Linear Regression\n",
    "y_pred = linreg.predict(X_test)\n",
    "del_y = y_test - y_pred\n",
    "\n",
    "plt.figure(figsize=(10,7))\n",
    "plt.scatter(x = y_pred, y = del_y)\n",
    "\n",
    "plt.xlabel(\"ypred\")\n",
    "plt.ylabel(\"residual\")\n",
    "plt.show()"
   ]
  },
  {
   "cell_type": "markdown",
   "metadata": {},
   "source": [
    "## Ridge Regression"
   ]
  },
  {
   "cell_type": "code",
   "execution_count": 65,
   "metadata": {},
   "outputs": [
    {
     "name": "stdout",
     "output_type": "stream",
     "text": [
      "      Alpha  Train_R2   Test_R2\n",
      "0  0.000010  0.896525  0.910652\n",
      "1  0.000034  0.896525  0.910652\n",
      "2  0.000113  0.896525  0.910652\n",
      "3  0.000379  0.896525  0.910652\n",
      "4  0.001274  0.896525  0.910652\n",
      "5  0.004281  0.896525  0.910652\n",
      "6  0.014384  0.896525  0.910653\n",
      "7  0.048329  0.896525  0.910656\n",
      "8  0.162378  0.896524  0.910662\n",
      "9  0.545559  0.896519  0.910675\n",
      "\n",
      "         Alpha  Train_R2   Test_R2\n",
      "14  233.572147  0.893412  0.912624\n"
     ]
    }
   ],
   "source": [
    "from sklearn.linear_model import Ridge\n",
    "results = []\n",
    "for i in list(np.logspace(-5, 5, 20)):\n",
    "    linearRidge = Ridge(alpha = i).fit(X_train, y_train)\n",
    "    train_acc = linearRidge.score(X_train, y_train)\n",
    "    test_acc = linearRidge.score(X_test, y_test)\n",
    "    results.append([i, train_acc, test_acc])\n",
    "\n",
    "table = pd.DataFrame(results, columns=['Alpha', 'Train_R2', 'Test_R2'])\n",
    "print(table.head(10))\n",
    "print()\n",
    "print(table[table.Test_R2 == table.Test_R2.max()])"
   ]
  },
  {
   "cell_type": "code",
   "execution_count": 66,
   "metadata": {},
   "outputs": [],
   "source": [
    "RR = Ridge(alpha = 233.572147).fit(X_train, y_train)\n",
    "ypred_RR = RR.predict(X_test)\n",
    "RRMSE = mean_squared_error(y_true = y_test, y_pred = ypred_RR)\n",
    "RRMAE = mean_absolute_error(y_true = y_test, y_pred = ypred_RR)\n",
    "RidgeScores = [RRMSE, RRMAE]"
   ]
  },
  {
   "cell_type": "markdown",
   "metadata": {},
   "source": [
    "## Lasso Regression"
   ]
  },
  {
   "cell_type": "code",
   "execution_count": 67,
   "metadata": {},
   "outputs": [
    {
     "name": "stdout",
     "output_type": "stream",
     "text": [
      "      Alpha  Train_R2   Test_R2\n",
      "0  0.000010  0.896525  0.910652\n",
      "1  0.000034  0.896525  0.910652\n",
      "2  0.000113  0.896525  0.910652\n",
      "3  0.000379  0.896525  0.910652\n",
      "4  0.001274  0.896525  0.910652\n",
      "5  0.004281  0.896525  0.910652\n",
      "6  0.014384  0.896525  0.910653\n",
      "7  0.048329  0.896525  0.910656\n",
      "8  0.162378  0.896524  0.910662\n",
      "9  0.545559  0.896519  0.910675\n",
      "\n",
      "         Alpha  Train_R2   Test_R2\n",
      "14  233.572147  0.893412  0.912624\n"
     ]
    }
   ],
   "source": [
    "from sklearn.linear_model import Lasso\n",
    "\n",
    "for i in list(np.logspace(-5, 5, 20)):\n",
    "    linearLasso = Lasso(alpha = i, max_iter= 10000).fit(X_train, y_train)\n",
    "    train_acc = linearLasso.score(X_train, y_train)\n",
    "    test_acc = linearLasso.score(X_test, y_test)\n",
    "    results.append([i, train_acc, test_acc])\n",
    "\n",
    "table = pd.DataFrame(results, columns=['Alpha', 'Train_R2', 'Test_R2'])\n",
    "print(table.head(10))\n",
    "print()\n",
    "print(table[table.Test_R2 == table.Test_R2.max()])"
   ]
  },
  {
   "cell_type": "code",
   "execution_count": 68,
   "metadata": {},
   "outputs": [],
   "source": [
    "LasR = Lasso(alpha = 0.014384).fit(X_train, y_train)\n",
    "ypred_LasR = LasR.predict(X_test)\n",
    "LasMSE = mean_squared_error(y_true = y_test, y_pred = ypred_LasR)\n",
    "LasMAE = mean_absolute_error(y_true = y_test, y_pred = ypred_LasR)\n",
    "LasScores = [LasMSE, LasMAE]"
   ]
  },
  {
   "cell_type": "markdown",
   "metadata": {},
   "source": [
    "## Decision Trees"
   ]
  },
  {
   "cell_type": "code",
   "execution_count": 69,
   "metadata": {},
   "outputs": [
    {
     "data": {
      "text/plain": [
       "DecisionTreeRegressor(criterion='mse', max_depth=8, max_features=None,\n",
       "                      max_leaf_nodes=None, min_impurity_decrease=0.0,\n",
       "                      min_impurity_split=None, min_samples_leaf=1,\n",
       "                      min_samples_split=2, min_weight_fraction_leaf=0.0,\n",
       "                      presort=False, random_state=None, splitter='best')"
      ]
     },
     "execution_count": 69,
     "metadata": {},
     "output_type": "execute_result"
    }
   ],
   "source": [
    "from sklearn.model_selection import GridSearchCV\n",
    "from sklearn.tree import DecisionTreeRegressor\n",
    "\n",
    "DR = DecisionTreeRegressor(criterion = \"mse\", max_depth = 8)\n",
    "\n",
    "# params = {'criterion': ['mse', 'mae'],\n",
    "#               'max_depth': [5,10,20,30,40],\n",
    "#               'min_samples_split': [0.01,0.001]}\n",
    "\n",
    "# GSCV = GridSearchCV(estimator = DR, param_grid = params, cv = 3, scoring = \"neg_mean_squared_error\")\n",
    "DR.fit(X_train, y_train)"
   ]
  },
  {
   "cell_type": "code",
   "execution_count": 70,
   "metadata": {},
   "outputs": [
    {
     "data": {
      "text/html": [
       "<div>\n",
       "<style scoped>\n",
       "    .dataframe tbody tr th:only-of-type {\n",
       "        vertical-align: middle;\n",
       "    }\n",
       "\n",
       "    .dataframe tbody tr th {\n",
       "        vertical-align: top;\n",
       "    }\n",
       "\n",
       "    .dataframe thead th {\n",
       "        text-align: right;\n",
       "    }\n",
       "</style>\n",
       "<table border=\"1\" class=\"dataframe\">\n",
       "  <thead>\n",
       "    <tr style=\"text-align: right;\">\n",
       "      <th></th>\n",
       "      <th>Importances</th>\n",
       "    </tr>\n",
       "  </thead>\n",
       "  <tbody>\n",
       "    <tr>\n",
       "      <td>Distance</td>\n",
       "      <td>0.600</td>\n",
       "    </tr>\n",
       "    <tr>\n",
       "      <td>Duration</td>\n",
       "      <td>0.162</td>\n",
       "    </tr>\n",
       "    <tr>\n",
       "      <td>rate_code_1</td>\n",
       "      <td>0.110</td>\n",
       "    </tr>\n",
       "    <tr>\n",
       "      <td>tip_amount</td>\n",
       "      <td>0.087</td>\n",
       "    </tr>\n",
       "    <tr>\n",
       "      <td>rate_code_2</td>\n",
       "      <td>0.013</td>\n",
       "    </tr>\n",
       "    <tr>\n",
       "      <td>tolls_amount</td>\n",
       "      <td>0.009</td>\n",
       "    </tr>\n",
       "    <tr>\n",
       "      <td>pickup_day</td>\n",
       "      <td>0.008</td>\n",
       "    </tr>\n",
       "    <tr>\n",
       "      <td>pickup_latitude</td>\n",
       "      <td>0.005</td>\n",
       "    </tr>\n",
       "    <tr>\n",
       "      <td>pickup_longitude</td>\n",
       "      <td>0.002</td>\n",
       "    </tr>\n",
       "    <tr>\n",
       "      <td>payment_type_CSH</td>\n",
       "      <td>0.001</td>\n",
       "    </tr>\n",
       "    <tr>\n",
       "      <td>rate_code_5</td>\n",
       "      <td>0.001</td>\n",
       "    </tr>\n",
       "    <tr>\n",
       "      <td>passenger_count</td>\n",
       "      <td>0.001</td>\n",
       "    </tr>\n",
       "    <tr>\n",
       "      <td>payment_type_DIS</td>\n",
       "      <td>0.000</td>\n",
       "    </tr>\n",
       "    <tr>\n",
       "      <td>payment_type_NOC</td>\n",
       "      <td>0.000</td>\n",
       "    </tr>\n",
       "    <tr>\n",
       "      <td>rate_code_4</td>\n",
       "      <td>0.000</td>\n",
       "    </tr>\n",
       "    <tr>\n",
       "      <td>rate_code_6</td>\n",
       "      <td>0.000</td>\n",
       "    </tr>\n",
       "    <tr>\n",
       "      <td>time_of_day_(8.0, 14.0]</td>\n",
       "      <td>0.000</td>\n",
       "    </tr>\n",
       "    <tr>\n",
       "      <td>payment_type_UNK</td>\n",
       "      <td>0.000</td>\n",
       "    </tr>\n",
       "    <tr>\n",
       "      <td>vendor_id_DST000543</td>\n",
       "      <td>0.000</td>\n",
       "    </tr>\n",
       "    <tr>\n",
       "      <td>rate_code_3</td>\n",
       "      <td>0.000</td>\n",
       "    </tr>\n",
       "    <tr>\n",
       "      <td>mta_tax_0.5</td>\n",
       "      <td>0.000</td>\n",
       "    </tr>\n",
       "    <tr>\n",
       "      <td>vendor_id_DST000532</td>\n",
       "      <td>0.000</td>\n",
       "    </tr>\n",
       "    <tr>\n",
       "      <td>vendor_id_DST000481</td>\n",
       "      <td>0.000</td>\n",
       "    </tr>\n",
       "    <tr>\n",
       "      <td>pickup_year</td>\n",
       "      <td>0.000</td>\n",
       "    </tr>\n",
       "    <tr>\n",
       "      <td>pickup_month</td>\n",
       "      <td>0.000</td>\n",
       "    </tr>\n",
       "    <tr>\n",
       "      <td>surcharge</td>\n",
       "      <td>0.000</td>\n",
       "    </tr>\n",
       "    <tr>\n",
       "      <td>time_of_day_(14.0, inf]</td>\n",
       "      <td>0.000</td>\n",
       "    </tr>\n",
       "  </tbody>\n",
       "</table>\n",
       "</div>"
      ],
      "text/plain": [
       "                         Importances\n",
       "Distance                       0.600\n",
       "Duration                       0.162\n",
       "rate_code_1                    0.110\n",
       "tip_amount                     0.087\n",
       "rate_code_2                    0.013\n",
       "tolls_amount                   0.009\n",
       "pickup_day                     0.008\n",
       "pickup_latitude                0.005\n",
       "pickup_longitude               0.002\n",
       "payment_type_CSH               0.001\n",
       "rate_code_5                    0.001\n",
       "passenger_count                0.001\n",
       "payment_type_DIS               0.000\n",
       "payment_type_NOC               0.000\n",
       "rate_code_4                    0.000\n",
       "rate_code_6                    0.000\n",
       "time_of_day_(8.0, 14.0]        0.000\n",
       "payment_type_UNK               0.000\n",
       "vendor_id_DST000543            0.000\n",
       "rate_code_3                    0.000\n",
       "mta_tax_0.5                    0.000\n",
       "vendor_id_DST000532            0.000\n",
       "vendor_id_DST000481            0.000\n",
       "pickup_year                    0.000\n",
       "pickup_month                   0.000\n",
       "surcharge                      0.000\n",
       "time_of_day_(14.0, inf]        0.000"
      ]
     },
     "execution_count": 70,
     "metadata": {},
     "output_type": "execute_result"
    }
   ],
   "source": [
    "pd.DataFrame({'Importances':np.round(DR.feature_importances_,3)}, index = X_train.columns).sort_values(by = ['Importances'], ascending = False)"
   ]
  },
  {
   "cell_type": "code",
   "execution_count": 71,
   "metadata": {},
   "outputs": [],
   "source": [
    "# print(GSCV.best_params_)\n",
    "# print(GSCV.best_estimator_)"
   ]
  },
  {
   "cell_type": "code",
   "execution_count": 72,
   "metadata": {},
   "outputs": [],
   "source": [
    "ypred_DT = DR.predict(X_test)\n",
    "MAE_DT = mean_absolute_error(y_true = y_test, y_pred = ypred_DT)\n",
    "MSE_DT = mean_squared_error(y_true = y_test, y_pred = ypred_DT)\n",
    "DT_scores = [MSE_DT, MAE_DT]"
   ]
  },
  {
   "cell_type": "code",
   "execution_count": 73,
   "metadata": {},
   "outputs": [
    {
     "data": {
      "text/html": [
       "<div>\n",
       "<style scoped>\n",
       "    .dataframe tbody tr th:only-of-type {\n",
       "        vertical-align: middle;\n",
       "    }\n",
       "\n",
       "    .dataframe tbody tr th {\n",
       "        vertical-align: top;\n",
       "    }\n",
       "\n",
       "    .dataframe thead th {\n",
       "        text-align: right;\n",
       "    }\n",
       "</style>\n",
       "<table border=\"1\" class=\"dataframe\">\n",
       "  <thead>\n",
       "    <tr style=\"text-align: right;\">\n",
       "      <th></th>\n",
       "      <th>MSE</th>\n",
       "      <th>MAE</th>\n",
       "      <th>RMSE</th>\n",
       "    </tr>\n",
       "  </thead>\n",
       "  <tbody>\n",
       "    <tr>\n",
       "      <td>Linear</td>\n",
       "      <td>13.258627</td>\n",
       "      <td>2.116824</td>\n",
       "      <td>3.641240</td>\n",
       "    </tr>\n",
       "    <tr>\n",
       "      <td>Ridge</td>\n",
       "      <td>12.965918</td>\n",
       "      <td>2.125066</td>\n",
       "      <td>3.600822</td>\n",
       "    </tr>\n",
       "    <tr>\n",
       "      <td>Lasso</td>\n",
       "      <td>13.101742</td>\n",
       "      <td>2.124896</td>\n",
       "      <td>3.619633</td>\n",
       "    </tr>\n",
       "    <tr>\n",
       "      <td>Dec Tree</td>\n",
       "      <td>8.155726</td>\n",
       "      <td>1.355624</td>\n",
       "      <td>2.855823</td>\n",
       "    </tr>\n",
       "  </tbody>\n",
       "</table>\n",
       "</div>"
      ],
      "text/plain": [
       "                MSE       MAE      RMSE\n",
       "Linear    13.258627  2.116824  3.641240\n",
       "Ridge     12.965918  2.125066  3.600822\n",
       "Lasso     13.101742  2.124896  3.619633\n",
       "Dec Tree   8.155726  1.355624  2.855823"
      ]
     },
     "execution_count": 73,
     "metadata": {},
     "output_type": "execute_result"
    }
   ],
   "source": [
    "Performance = pd.DataFrame([LRScores, RidgeScores, LasScores, DT_scores], columns = ['MSE', 'MAE'], index = ['Linear', 'Ridge', 'Lasso', 'Dec Tree'])\n",
    "Performance['RMSE'] = Performance['MSE'].apply(lambda x: sqrt(x))\n",
    "Performance"
   ]
  },
  {
   "cell_type": "markdown",
   "metadata": {},
   "source": [
    "## Alternate Approach "
   ]
  },
  {
   "cell_type": "markdown",
   "metadata": {},
   "source": [
    "Let us take data1 and keep the dropoff_latitude, dropoff_longitude, and let's break the dropoff_datetime into month, year and day and check how it improves/decreases the performance. "
   ]
  },
  {
   "cell_type": "code",
   "execution_count": 74,
   "metadata": {},
   "outputs": [],
   "source": [
    "data2 = data1.copy()"
   ]
  },
  {
   "cell_type": "code",
   "execution_count": 75,
   "metadata": {},
   "outputs": [],
   "source": [
    "data1 = data2.copy()"
   ]
  },
  {
   "cell_type": "code",
   "execution_count": 76,
   "metadata": {},
   "outputs": [
    {
     "data": {
      "text/plain": [
       "Index(['vendor_id', 'new_user', 'tolls_amount', 'tip_amount', 'mta_tax',\n",
       "       'pickup_datetime', 'dropoff_datetime', 'passenger_count',\n",
       "       'pickup_longitude', 'pickup_latitude', 'rate_code',\n",
       "       'store_and_fwd_flag', 'dropoff_longitude', 'dropoff_latitude',\n",
       "       'payment_type', 'surcharge', 'fare_amount', 'Distance', 'Duration',\n",
       "       'pickup_day', 'pickup_month', 'pickup_year', 'time_of_day'],\n",
       "      dtype='object')"
      ]
     },
     "execution_count": 76,
     "metadata": {},
     "output_type": "execute_result"
    }
   ],
   "source": [
    "data1.columns"
   ]
  },
  {
   "cell_type": "code",
   "execution_count": 77,
   "metadata": {},
   "outputs": [],
   "source": [
    "data1['dropoff_day'] = pd.to_datetime(data1.dropoff_datetime).dt.day\n",
    "data1['dropoff_month'] = pd.to_datetime(data1.dropoff_datetime).dt.month\n",
    "data1['dropoff_year'] = pd.to_datetime(data1.dropoff_datetime).dt.year"
   ]
  },
  {
   "cell_type": "code",
   "execution_count": 78,
   "metadata": {},
   "outputs": [],
   "source": [
    "data1.drop(['new_user','pickup_datetime', 'dropoff_datetime', 'store_and_fwd_flag'], axis = 1, inplace = True)"
   ]
  },
  {
   "cell_type": "code",
   "execution_count": 79,
   "metadata": {},
   "outputs": [],
   "source": [
    "cat_cols1 = cat_cols\n",
    "num_cols1 = []\n",
    "for i in data1.columns:\n",
    "    if not i in cat_cols1:\n",
    "        num_cols1.append(i)"
   ]
  },
  {
   "cell_type": "code",
   "execution_count": 80,
   "metadata": {},
   "outputs": [],
   "source": [
    "num_cols1.remove('fare_amount')"
   ]
  },
  {
   "cell_type": "code",
   "execution_count": 81,
   "metadata": {},
   "outputs": [],
   "source": [
    "data1 = pd.get_dummies(data = data1, columns = cat_cols1, drop_first=True)"
   ]
  },
  {
   "cell_type": "code",
   "execution_count": 82,
   "metadata": {},
   "outputs": [],
   "source": [
    "X = data1.drop(columns = ['fare_amount'], axis = 1)\n",
    "y = data1.fare_amount\n",
    "X_train, X_test, y_train, y_test = train_test_split(X, y, random_state = 986, test_size = 0.2)"
   ]
  },
  {
   "cell_type": "code",
   "execution_count": 83,
   "metadata": {},
   "outputs": [
    {
     "data": {
      "text/html": [
       "<div>\n",
       "<style scoped>\n",
       "    .dataframe tbody tr th:only-of-type {\n",
       "        vertical-align: middle;\n",
       "    }\n",
       "\n",
       "    .dataframe tbody tr th {\n",
       "        vertical-align: top;\n",
       "    }\n",
       "\n",
       "    .dataframe thead th {\n",
       "        text-align: right;\n",
       "    }\n",
       "</style>\n",
       "<table border=\"1\" class=\"dataframe\">\n",
       "  <thead>\n",
       "    <tr style=\"text-align: right;\">\n",
       "      <th></th>\n",
       "      <th>tolls_amount</th>\n",
       "      <th>tip_amount</th>\n",
       "      <th>passenger_count</th>\n",
       "      <th>pickup_longitude</th>\n",
       "      <th>pickup_latitude</th>\n",
       "      <th>dropoff_longitude</th>\n",
       "      <th>dropoff_latitude</th>\n",
       "      <th>surcharge</th>\n",
       "      <th>Distance</th>\n",
       "      <th>Duration</th>\n",
       "      <th>...</th>\n",
       "      <th>rate_code_3</th>\n",
       "      <th>rate_code_4</th>\n",
       "      <th>rate_code_5</th>\n",
       "      <th>rate_code_6</th>\n",
       "      <th>payment_type_CSH</th>\n",
       "      <th>payment_type_DIS</th>\n",
       "      <th>payment_type_NOC</th>\n",
       "      <th>payment_type_UNK</th>\n",
       "      <th>time_of_day_(8.0, 14.0]</th>\n",
       "      <th>time_of_day_(14.0, inf]</th>\n",
       "    </tr>\n",
       "    <tr>\n",
       "      <th>TID</th>\n",
       "      <th></th>\n",
       "      <th></th>\n",
       "      <th></th>\n",
       "      <th></th>\n",
       "      <th></th>\n",
       "      <th></th>\n",
       "      <th></th>\n",
       "      <th></th>\n",
       "      <th></th>\n",
       "      <th></th>\n",
       "      <th></th>\n",
       "      <th></th>\n",
       "      <th></th>\n",
       "      <th></th>\n",
       "      <th></th>\n",
       "      <th></th>\n",
       "      <th></th>\n",
       "      <th></th>\n",
       "      <th></th>\n",
       "      <th></th>\n",
       "      <th></th>\n",
       "    </tr>\n",
       "  </thead>\n",
       "  <tbody>\n",
       "    <tr>\n",
       "      <td>AIX0001325176</td>\n",
       "      <td>0.0</td>\n",
       "      <td>0.0</td>\n",
       "      <td>1</td>\n",
       "      <td>-73.994248</td>\n",
       "      <td>40.719590</td>\n",
       "      <td>-73.991720</td>\n",
       "      <td>40.749202</td>\n",
       "      <td>0.0</td>\n",
       "      <td>3.299591</td>\n",
       "      <td>600</td>\n",
       "      <td>...</td>\n",
       "      <td>0</td>\n",
       "      <td>0</td>\n",
       "      <td>0</td>\n",
       "      <td>0</td>\n",
       "      <td>1</td>\n",
       "      <td>0</td>\n",
       "      <td>0</td>\n",
       "      <td>0</td>\n",
       "      <td>0</td>\n",
       "      <td>1</td>\n",
       "    </tr>\n",
       "    <tr>\n",
       "      <td>AIX0001206222</td>\n",
       "      <td>0.0</td>\n",
       "      <td>1.0</td>\n",
       "      <td>5</td>\n",
       "      <td>-73.975107</td>\n",
       "      <td>40.758805</td>\n",
       "      <td>-73.954653</td>\n",
       "      <td>40.788412</td>\n",
       "      <td>0.5</td>\n",
       "      <td>3.715491</td>\n",
       "      <td>480</td>\n",
       "      <td>...</td>\n",
       "      <td>0</td>\n",
       "      <td>0</td>\n",
       "      <td>0</td>\n",
       "      <td>0</td>\n",
       "      <td>0</td>\n",
       "      <td>0</td>\n",
       "      <td>0</td>\n",
       "      <td>0</td>\n",
       "      <td>0</td>\n",
       "      <td>1</td>\n",
       "    </tr>\n",
       "    <tr>\n",
       "      <td>AIX0001742393</td>\n",
       "      <td>0.0</td>\n",
       "      <td>3.8</td>\n",
       "      <td>1</td>\n",
       "      <td>-73.995407</td>\n",
       "      <td>40.724926</td>\n",
       "      <td>-73.954689</td>\n",
       "      <td>40.707455</td>\n",
       "      <td>0.0</td>\n",
       "      <td>3.943471</td>\n",
       "      <td>1629</td>\n",
       "      <td>...</td>\n",
       "      <td>0</td>\n",
       "      <td>0</td>\n",
       "      <td>0</td>\n",
       "      <td>0</td>\n",
       "      <td>0</td>\n",
       "      <td>0</td>\n",
       "      <td>0</td>\n",
       "      <td>0</td>\n",
       "      <td>0</td>\n",
       "      <td>1</td>\n",
       "    </tr>\n",
       "    <tr>\n",
       "      <td>AIX0001745540</td>\n",
       "      <td>0.0</td>\n",
       "      <td>0.0</td>\n",
       "      <td>1</td>\n",
       "      <td>-73.982246</td>\n",
       "      <td>40.766338</td>\n",
       "      <td>-73.951515</td>\n",
       "      <td>40.769333</td>\n",
       "      <td>0.5</td>\n",
       "      <td>2.609358</td>\n",
       "      <td>684</td>\n",
       "      <td>...</td>\n",
       "      <td>0</td>\n",
       "      <td>0</td>\n",
       "      <td>0</td>\n",
       "      <td>0</td>\n",
       "      <td>1</td>\n",
       "      <td>0</td>\n",
       "      <td>0</td>\n",
       "      <td>0</td>\n",
       "      <td>0</td>\n",
       "      <td>1</td>\n",
       "    </tr>\n",
       "    <tr>\n",
       "      <td>AIX0001189122</td>\n",
       "      <td>0.0</td>\n",
       "      <td>0.0</td>\n",
       "      <td>1</td>\n",
       "      <td>-73.782859</td>\n",
       "      <td>40.643847</td>\n",
       "      <td>-73.782858</td>\n",
       "      <td>40.643830</td>\n",
       "      <td>0.0</td>\n",
       "      <td>0.001892</td>\n",
       "      <td>4</td>\n",
       "      <td>...</td>\n",
       "      <td>0</td>\n",
       "      <td>0</td>\n",
       "      <td>0</td>\n",
       "      <td>0</td>\n",
       "      <td>0</td>\n",
       "      <td>0</td>\n",
       "      <td>0</td>\n",
       "      <td>0</td>\n",
       "      <td>0</td>\n",
       "      <td>0</td>\n",
       "    </tr>\n",
       "  </tbody>\n",
       "</table>\n",
       "<p>5 rows × 32 columns</p>\n",
       "</div>"
      ],
      "text/plain": [
       "               tolls_amount  tip_amount  passenger_count  pickup_longitude  \\\n",
       "TID                                                                          \n",
       "AIX0001325176           0.0         0.0                1        -73.994248   \n",
       "AIX0001206222           0.0         1.0                5        -73.975107   \n",
       "AIX0001742393           0.0         3.8                1        -73.995407   \n",
       "AIX0001745540           0.0         0.0                1        -73.982246   \n",
       "AIX0001189122           0.0         0.0                1        -73.782859   \n",
       "\n",
       "               pickup_latitude  dropoff_longitude  dropoff_latitude  \\\n",
       "TID                                                                   \n",
       "AIX0001325176        40.719590         -73.991720         40.749202   \n",
       "AIX0001206222        40.758805         -73.954653         40.788412   \n",
       "AIX0001742393        40.724926         -73.954689         40.707455   \n",
       "AIX0001745540        40.766338         -73.951515         40.769333   \n",
       "AIX0001189122        40.643847         -73.782858         40.643830   \n",
       "\n",
       "               surcharge  Distance  Duration  ...  rate_code_3  rate_code_4  \\\n",
       "TID                                           ...                             \n",
       "AIX0001325176        0.0  3.299591       600  ...            0            0   \n",
       "AIX0001206222        0.5  3.715491       480  ...            0            0   \n",
       "AIX0001742393        0.0  3.943471      1629  ...            0            0   \n",
       "AIX0001745540        0.5  2.609358       684  ...            0            0   \n",
       "AIX0001189122        0.0  0.001892         4  ...            0            0   \n",
       "\n",
       "               rate_code_5  rate_code_6  payment_type_CSH  payment_type_DIS  \\\n",
       "TID                                                                           \n",
       "AIX0001325176            0            0                 1                 0   \n",
       "AIX0001206222            0            0                 0                 0   \n",
       "AIX0001742393            0            0                 0                 0   \n",
       "AIX0001745540            0            0                 1                 0   \n",
       "AIX0001189122            0            0                 0                 0   \n",
       "\n",
       "               payment_type_NOC  payment_type_UNK  time_of_day_(8.0, 14.0]  \\\n",
       "TID                                                                          \n",
       "AIX0001325176                 0                 0                        0   \n",
       "AIX0001206222                 0                 0                        0   \n",
       "AIX0001742393                 0                 0                        0   \n",
       "AIX0001745540                 0                 0                        0   \n",
       "AIX0001189122                 0                 0                        0   \n",
       "\n",
       "               time_of_day_(14.0, inf]  \n",
       "TID                                     \n",
       "AIX0001325176                        1  \n",
       "AIX0001206222                        1  \n",
       "AIX0001742393                        1  \n",
       "AIX0001745540                        1  \n",
       "AIX0001189122                        0  \n",
       "\n",
       "[5 rows x 32 columns]"
      ]
     },
     "execution_count": 83,
     "metadata": {},
     "output_type": "execute_result"
    }
   ],
   "source": [
    "X_train.head()"
   ]
  },
  {
   "cell_type": "code",
   "execution_count": 84,
   "metadata": {},
   "outputs": [
    {
     "name": "stderr",
     "output_type": "stream",
     "text": [
      "C:\\Users\\nayak\\AppData\\Roaming\\Python\\Python36\\site-packages\\sklearn\\utils\\deprecation.py:66: DeprecationWarning: Class Imputer is deprecated; Imputer was deprecated in version 0.20 and will be removed in 0.22. Import impute.SimpleImputer from sklearn instead.\n",
      "  warnings.warn(msg, category=DeprecationWarning)\n"
     ]
    },
    {
     "data": {
      "text/plain": [
       "Imputer(axis=0, copy=True, missing_values=nan, strategy='median', verbose=0)"
      ]
     },
     "execution_count": 84,
     "metadata": {},
     "output_type": "execute_result"
    }
   ],
   "source": [
    "medianImputer = Imputer(missing_values = np.nan, strategy=\"median\")\n",
    "medianImputer.fit(X_train)"
   ]
  },
  {
   "cell_type": "code",
   "execution_count": 85,
   "metadata": {},
   "outputs": [
    {
     "data": {
      "text/plain": [
       "32"
      ]
     },
     "execution_count": 85,
     "metadata": {},
     "output_type": "execute_result"
    }
   ],
   "source": [
    "len(X_test.columns)"
   ]
  },
  {
   "cell_type": "code",
   "execution_count": 86,
   "metadata": {
    "scrolled": true
   },
   "outputs": [],
   "source": [
    "X_train = pd.DataFrame(medianImputer.transform(X_train), columns=X_train.columns, index=X_train.index)\n",
    "X_test = pd.DataFrame(medianImputer.transform(X_test), columns=X_train.columns, index=X_test.index)"
   ]
  },
  {
   "cell_type": "code",
   "execution_count": 87,
   "metadata": {},
   "outputs": [],
   "source": [
    "std = StandardScaler()\n",
    "std.fit(X_train[num_cols1])\n",
    "X_train[num_cols1] = std.transform(X_train[num_cols1])\n",
    "X_test[num_cols1] = std.transform(X_test[num_cols1])"
   ]
  },
  {
   "cell_type": "code",
   "execution_count": 88,
   "metadata": {},
   "outputs": [
    {
     "data": {
      "text/html": [
       "<div>\n",
       "<style scoped>\n",
       "    .dataframe tbody tr th:only-of-type {\n",
       "        vertical-align: middle;\n",
       "    }\n",
       "\n",
       "    .dataframe tbody tr th {\n",
       "        vertical-align: top;\n",
       "    }\n",
       "\n",
       "    .dataframe thead th {\n",
       "        text-align: right;\n",
       "    }\n",
       "</style>\n",
       "<table border=\"1\" class=\"dataframe\">\n",
       "  <thead>\n",
       "    <tr style=\"text-align: right;\">\n",
       "      <th></th>\n",
       "      <th>tolls_amount</th>\n",
       "      <th>tip_amount</th>\n",
       "      <th>passenger_count</th>\n",
       "      <th>pickup_longitude</th>\n",
       "      <th>pickup_latitude</th>\n",
       "      <th>dropoff_longitude</th>\n",
       "      <th>dropoff_latitude</th>\n",
       "      <th>surcharge</th>\n",
       "      <th>Distance</th>\n",
       "      <th>Duration</th>\n",
       "      <th>...</th>\n",
       "      <th>rate_code_3</th>\n",
       "      <th>rate_code_4</th>\n",
       "      <th>rate_code_5</th>\n",
       "      <th>rate_code_6</th>\n",
       "      <th>payment_type_CSH</th>\n",
       "      <th>payment_type_DIS</th>\n",
       "      <th>payment_type_NOC</th>\n",
       "      <th>payment_type_UNK</th>\n",
       "      <th>time_of_day_(8.0, 14.0]</th>\n",
       "      <th>time_of_day_(14.0, inf]</th>\n",
       "    </tr>\n",
       "    <tr>\n",
       "      <th>TID</th>\n",
       "      <th></th>\n",
       "      <th></th>\n",
       "      <th></th>\n",
       "      <th></th>\n",
       "      <th></th>\n",
       "      <th></th>\n",
       "      <th></th>\n",
       "      <th></th>\n",
       "      <th></th>\n",
       "      <th></th>\n",
       "      <th></th>\n",
       "      <th></th>\n",
       "      <th></th>\n",
       "      <th></th>\n",
       "      <th></th>\n",
       "      <th></th>\n",
       "      <th></th>\n",
       "      <th></th>\n",
       "      <th></th>\n",
       "      <th></th>\n",
       "      <th></th>\n",
       "    </tr>\n",
       "  </thead>\n",
       "  <tbody>\n",
       "    <tr>\n",
       "      <td>AIX0001325176</td>\n",
       "      <td>-0.213682</td>\n",
       "      <td>-0.674826</td>\n",
       "      <td>-0.522315</td>\n",
       "      <td>-0.155891</td>\n",
       "      <td>-1.014989</td>\n",
       "      <td>-0.140358</td>\n",
       "      <td>-0.059698</td>\n",
       "      <td>-0.879515</td>\n",
       "      <td>-0.025723</td>\n",
       "      <td>-0.148238</td>\n",
       "      <td>...</td>\n",
       "      <td>0.0</td>\n",
       "      <td>0.0</td>\n",
       "      <td>0.0</td>\n",
       "      <td>0.0</td>\n",
       "      <td>1.0</td>\n",
       "      <td>0.0</td>\n",
       "      <td>0.0</td>\n",
       "      <td>0.0</td>\n",
       "      <td>0.0</td>\n",
       "      <td>1.0</td>\n",
       "    </tr>\n",
       "    <tr>\n",
       "      <td>AIX0001206222</td>\n",
       "      <td>-0.213682</td>\n",
       "      <td>-0.222756</td>\n",
       "      <td>2.354459</td>\n",
       "      <td>-0.005335</td>\n",
       "      <td>0.263564</td>\n",
       "      <td>0.152204</td>\n",
       "      <td>1.081589</td>\n",
       "      <td>0.502458</td>\n",
       "      <td>0.085673</td>\n",
       "      <td>-0.227472</td>\n",
       "      <td>...</td>\n",
       "      <td>0.0</td>\n",
       "      <td>0.0</td>\n",
       "      <td>0.0</td>\n",
       "      <td>0.0</td>\n",
       "      <td>0.0</td>\n",
       "      <td>0.0</td>\n",
       "      <td>0.0</td>\n",
       "      <td>0.0</td>\n",
       "      <td>0.0</td>\n",
       "      <td>1.0</td>\n",
       "    </tr>\n",
       "    <tr>\n",
       "      <td>AIX0001742393</td>\n",
       "      <td>-0.213682</td>\n",
       "      <td>1.043042</td>\n",
       "      <td>-0.522315</td>\n",
       "      <td>-0.165008</td>\n",
       "      <td>-0.841016</td>\n",
       "      <td>0.151919</td>\n",
       "      <td>-1.274839</td>\n",
       "      <td>-0.879515</td>\n",
       "      <td>0.146736</td>\n",
       "      <td>0.531192</td>\n",
       "      <td>...</td>\n",
       "      <td>0.0</td>\n",
       "      <td>0.0</td>\n",
       "      <td>0.0</td>\n",
       "      <td>0.0</td>\n",
       "      <td>0.0</td>\n",
       "      <td>0.0</td>\n",
       "      <td>0.0</td>\n",
       "      <td>0.0</td>\n",
       "      <td>0.0</td>\n",
       "      <td>1.0</td>\n",
       "    </tr>\n",
       "    <tr>\n",
       "      <td>AIX0001745540</td>\n",
       "      <td>-0.213682</td>\n",
       "      <td>-0.674826</td>\n",
       "      <td>-0.522315</td>\n",
       "      <td>-0.061491</td>\n",
       "      <td>0.509179</td>\n",
       "      <td>0.176970</td>\n",
       "      <td>0.526253</td>\n",
       "      <td>0.502458</td>\n",
       "      <td>-0.210597</td>\n",
       "      <td>-0.092774</td>\n",
       "      <td>...</td>\n",
       "      <td>0.0</td>\n",
       "      <td>0.0</td>\n",
       "      <td>0.0</td>\n",
       "      <td>0.0</td>\n",
       "      <td>1.0</td>\n",
       "      <td>0.0</td>\n",
       "      <td>0.0</td>\n",
       "      <td>0.0</td>\n",
       "      <td>0.0</td>\n",
       "      <td>1.0</td>\n",
       "    </tr>\n",
       "    <tr>\n",
       "      <td>AIX0001189122</td>\n",
       "      <td>-0.213682</td>\n",
       "      <td>-0.674826</td>\n",
       "      <td>-0.522315</td>\n",
       "      <td>1.506817</td>\n",
       "      <td>-3.484488</td>\n",
       "      <td>1.508141</td>\n",
       "      <td>-3.126765</td>\n",
       "      <td>-0.879515</td>\n",
       "      <td>-0.908990</td>\n",
       "      <td>-0.541767</td>\n",
       "      <td>...</td>\n",
       "      <td>0.0</td>\n",
       "      <td>0.0</td>\n",
       "      <td>0.0</td>\n",
       "      <td>0.0</td>\n",
       "      <td>0.0</td>\n",
       "      <td>0.0</td>\n",
       "      <td>0.0</td>\n",
       "      <td>0.0</td>\n",
       "      <td>0.0</td>\n",
       "      <td>0.0</td>\n",
       "    </tr>\n",
       "  </tbody>\n",
       "</table>\n",
       "<p>5 rows × 32 columns</p>\n",
       "</div>"
      ],
      "text/plain": [
       "               tolls_amount  tip_amount  passenger_count  pickup_longitude  \\\n",
       "TID                                                                          \n",
       "AIX0001325176     -0.213682   -0.674826        -0.522315         -0.155891   \n",
       "AIX0001206222     -0.213682   -0.222756         2.354459         -0.005335   \n",
       "AIX0001742393     -0.213682    1.043042        -0.522315         -0.165008   \n",
       "AIX0001745540     -0.213682   -0.674826        -0.522315         -0.061491   \n",
       "AIX0001189122     -0.213682   -0.674826        -0.522315          1.506817   \n",
       "\n",
       "               pickup_latitude  dropoff_longitude  dropoff_latitude  \\\n",
       "TID                                                                   \n",
       "AIX0001325176        -1.014989          -0.140358         -0.059698   \n",
       "AIX0001206222         0.263564           0.152204          1.081589   \n",
       "AIX0001742393        -0.841016           0.151919         -1.274839   \n",
       "AIX0001745540         0.509179           0.176970          0.526253   \n",
       "AIX0001189122        -3.484488           1.508141         -3.126765   \n",
       "\n",
       "               surcharge  Distance  Duration  ...  rate_code_3  rate_code_4  \\\n",
       "TID                                           ...                             \n",
       "AIX0001325176  -0.879515 -0.025723 -0.148238  ...          0.0          0.0   \n",
       "AIX0001206222   0.502458  0.085673 -0.227472  ...          0.0          0.0   \n",
       "AIX0001742393  -0.879515  0.146736  0.531192  ...          0.0          0.0   \n",
       "AIX0001745540   0.502458 -0.210597 -0.092774  ...          0.0          0.0   \n",
       "AIX0001189122  -0.879515 -0.908990 -0.541767  ...          0.0          0.0   \n",
       "\n",
       "               rate_code_5  rate_code_6  payment_type_CSH  payment_type_DIS  \\\n",
       "TID                                                                           \n",
       "AIX0001325176          0.0          0.0               1.0               0.0   \n",
       "AIX0001206222          0.0          0.0               0.0               0.0   \n",
       "AIX0001742393          0.0          0.0               0.0               0.0   \n",
       "AIX0001745540          0.0          0.0               1.0               0.0   \n",
       "AIX0001189122          0.0          0.0               0.0               0.0   \n",
       "\n",
       "               payment_type_NOC  payment_type_UNK  time_of_day_(8.0, 14.0]  \\\n",
       "TID                                                                          \n",
       "AIX0001325176               0.0               0.0                      0.0   \n",
       "AIX0001206222               0.0               0.0                      0.0   \n",
       "AIX0001742393               0.0               0.0                      0.0   \n",
       "AIX0001745540               0.0               0.0                      0.0   \n",
       "AIX0001189122               0.0               0.0                      0.0   \n",
       "\n",
       "               time_of_day_(14.0, inf]  \n",
       "TID                                     \n",
       "AIX0001325176                      1.0  \n",
       "AIX0001206222                      1.0  \n",
       "AIX0001742393                      1.0  \n",
       "AIX0001745540                      1.0  \n",
       "AIX0001189122                      0.0  \n",
       "\n",
       "[5 rows x 32 columns]"
      ]
     },
     "execution_count": 88,
     "metadata": {},
     "output_type": "execute_result"
    }
   ],
   "source": [
    "X_train.head()"
   ]
  },
  {
   "cell_type": "code",
   "execution_count": 89,
   "metadata": {},
   "outputs": [],
   "source": [
    "from sklearn.metrics import mean_absolute_error, mean_squared_error, accuracy_score\n",
    "from sklearn.linear_model import LinearRegression\n",
    "linreg = LinearRegression()\n",
    "linreg = linreg.fit(X_train, y_train)\n",
    "ypredLR = linreg.predict(X_test)\n",
    "\n",
    "LRMAE = mean_absolute_error(y_true = y_test, y_pred = ypredLR)\n",
    "LRMSE = mean_squared_error(y_true = y_test, y_pred = ypredLR)\n",
    "LRScores = [LRMSE, LRMAE]"
   ]
  },
  {
   "cell_type": "code",
   "execution_count": 90,
   "metadata": {},
   "outputs": [
    {
     "name": "stdout",
     "output_type": "stream",
     "text": [
      "           Coefficient Name         Slope\n",
      "0              tolls_amount  2.095000e+00\n",
      "1                tip_amount  3.120000e+00\n",
      "2           passenger_count  6.000000e-03\n",
      "3          pickup_longitude  1.400000e-01\n",
      "4           pickup_latitude  1.320000e-01\n",
      "5         dropoff_longitude -2.730000e-01\n",
      "6          dropoff_latitude -4.920000e-01\n",
      "7                 surcharge  3.290000e-01\n",
      "8                  Distance  7.876000e+00\n",
      "9                  Duration  7.350000e-01\n",
      "10               pickup_day -9.089264e+12\n",
      "11             pickup_month  2.792137e+11\n",
      "12              pickup_year  2.356595e+13\n",
      "13              dropoff_day  9.089264e+12\n",
      "14            dropoff_month -2.792137e+11\n",
      "15             dropoff_year -2.356595e+13\n",
      "16      vendor_id_DST000481 -1.560000e+00\n",
      "17      vendor_id_DST000532  1.200000e-01\n",
      "18      vendor_id_DST000543 -1.496000e+00\n",
      "19              mta_tax_0.5 -5.789000e+00\n",
      "20              rate_code_1 -1.578000e+00\n",
      "21              rate_code_2 -1.074000e+00\n",
      "22              rate_code_3  5.552000e+00\n",
      "23              rate_code_4  1.055300e+01\n",
      "24              rate_code_5  3.134600e+01\n",
      "25              rate_code_6 -3.305000e+00\n",
      "26         payment_type_CSH  4.700000e-01\n",
      "27         payment_type_DIS  2.211000e+00\n",
      "28         payment_type_NOC  2.830000e-01\n",
      "29         payment_type_UNK -1.030000e-01\n",
      "30  time_of_day_(8.0, 14.0]  1.253000e+00\n",
      "31  time_of_day_(14.0, inf]  6.800000e-01\n",
      "\n",
      "linear model intercept (b): 22.051\n",
      "\n",
      "R-squared score (training): 0.900\n",
      "\n",
      "R-squared score (test): 0.902\n",
      "\n"
     ]
    }
   ],
   "source": [
    "Linear_regression_coeffs = pd.DataFrame({\"Coefficient Name\":X_train.columns, \"Slope\":np.round(linreg.coef_,3)})\n",
    "# print('linear model coeff (w):\\n {}\\n'\n",
    "#      .format(linreg.coef_))\n",
    "print(Linear_regression_coeffs)\n",
    "print('\\nlinear model intercept (b): {:.3f}\\n'\n",
    "     .format(linreg.intercept_))\n",
    "print('R-squared score (training): {:.3f}\\n'\n",
    "     .format(linreg.score(X_train, y_train)))\n",
    "print('R-squared score (test): {:.3f}\\n'\n",
    "     .format(linreg.score(X_test, y_test)))"
   ]
  },
  {
   "cell_type": "markdown",
   "metadata": {},
   "source": [
    "## Ridge Regression "
   ]
  },
  {
   "cell_type": "code",
   "execution_count": 91,
   "metadata": {},
   "outputs": [
    {
     "name": "stdout",
     "output_type": "stream",
     "text": [
      "      Alpha  Train_R2   Test_R2\n",
      "0  0.000010  0.900039  0.901502\n",
      "1  0.000034  0.900039  0.901502\n",
      "2  0.000113  0.900039  0.901502\n",
      "3  0.000379  0.900039  0.901502\n",
      "4  0.001274  0.900039  0.901502\n",
      "5  0.004281  0.900039  0.901502\n",
      "6  0.014384  0.900039  0.901502\n",
      "7  0.048329  0.900039  0.901502\n",
      "8  0.162378  0.900038  0.901501\n",
      "9  0.545559  0.900035  0.901503\n",
      "\n",
      "       Alpha  Train_R2   Test_R2\n",
      "13  69.51928   0.89929  0.902429\n"
     ]
    }
   ],
   "source": [
    "from sklearn.linear_model import Ridge\n",
    "results = []\n",
    "for i in list(np.logspace(-5, 5, 20)):\n",
    "    linearRidge = Ridge(alpha = i).fit(X_train, y_train)\n",
    "    train_acc = linearRidge.score(X_train, y_train)\n",
    "    test_acc = linearRidge.score(X_test, y_test)\n",
    "    results.append([i, train_acc, test_acc])\n",
    "\n",
    "table = pd.DataFrame(results, columns=['Alpha', 'Train_R2', 'Test_R2'])\n",
    "print(table.head(10))\n",
    "print()\n",
    "print(table[table.Test_R2 == table.Test_R2.max()])"
   ]
  },
  {
   "cell_type": "code",
   "execution_count": 92,
   "metadata": {},
   "outputs": [],
   "source": [
    "RR = Ridge(alpha = 69.51928).fit(X_train, y_train)\n",
    "ypred_RR = RR.predict(X_test)\n",
    "RRMSE = mean_squared_error(y_true = y_test, y_pred = ypred_RR)\n",
    "RRMAE = mean_absolute_error(y_true = y_test, y_pred = ypred_RR)\n",
    "RidgeScores = [RRMSE, RRMAE]"
   ]
  },
  {
   "cell_type": "markdown",
   "metadata": {},
   "source": [
    "## LASSO Regression "
   ]
  },
  {
   "cell_type": "code",
   "execution_count": 93,
   "metadata": {},
   "outputs": [
    {
     "name": "stdout",
     "output_type": "stream",
     "text": [
      "      Alpha  Train_R2   Test_R2\n",
      "0  0.000010  0.900039  0.901502\n",
      "1  0.000034  0.900038  0.901501\n",
      "2  0.000113  0.900035  0.901498\n",
      "3  0.000379  0.900022  0.901505\n",
      "4  0.001274  0.899971  0.901631\n",
      "5  0.004281  0.899752  0.901713\n",
      "6  0.014384  0.898693  0.901953\n",
      "7  0.048329  0.889238  0.896163\n",
      "8  0.162378  0.880961  0.889088\n",
      "9  0.545559  0.876609  0.885514\n",
      "\n",
      "      Alpha  Train_R2   Test_R2\n",
      "6  0.014384  0.898693  0.901953\n"
     ]
    }
   ],
   "source": [
    "from sklearn.linear_model import Lasso\n",
    "results = []\n",
    "for i in list(np.logspace(-5, 5, 20)):\n",
    "    linearLasso = Lasso(alpha = i, max_iter= 10000).fit(X_train, y_train)\n",
    "    train_acc = linearLasso.score(X_train, y_train)\n",
    "    test_acc = linearLasso.score(X_test, y_test)\n",
    "    results.append([i, train_acc, test_acc])\n",
    "\n",
    "table = pd.DataFrame(results, columns=['Alpha', 'Train_R2', 'Test_R2'])\n",
    "print(table.head(10))\n",
    "print()\n",
    "print(table[table.Test_R2 == table.Test_R2.max()])"
   ]
  },
  {
   "cell_type": "code",
   "execution_count": 94,
   "metadata": {},
   "outputs": [],
   "source": [
    "LasR = Lasso(alpha = 0.014384).fit(X_train, y_train)\n",
    "ypred_LasR = LasR.predict(X_test)\n",
    "LasMSE = mean_squared_error(y_true = y_test, y_pred = ypred_LasR)\n",
    "LasMAE = mean_absolute_error(y_true = y_test, y_pred = ypred_LasR)\n",
    "LasScores = [LasMSE, LasMAE]"
   ]
  },
  {
   "cell_type": "markdown",
   "metadata": {},
   "source": [
    "## Decision Trees "
   ]
  },
  {
   "cell_type": "code",
   "execution_count": 95,
   "metadata": {},
   "outputs": [
    {
     "data": {
      "text/html": [
       "<div>\n",
       "<style scoped>\n",
       "    .dataframe tbody tr th:only-of-type {\n",
       "        vertical-align: middle;\n",
       "    }\n",
       "\n",
       "    .dataframe tbody tr th {\n",
       "        vertical-align: top;\n",
       "    }\n",
       "\n",
       "    .dataframe thead th {\n",
       "        text-align: right;\n",
       "    }\n",
       "</style>\n",
       "<table border=\"1\" class=\"dataframe\">\n",
       "  <thead>\n",
       "    <tr style=\"text-align: right;\">\n",
       "      <th></th>\n",
       "      <th>Importances</th>\n",
       "    </tr>\n",
       "  </thead>\n",
       "  <tbody>\n",
       "    <tr>\n",
       "      <td>Distance</td>\n",
       "      <td>0.600</td>\n",
       "    </tr>\n",
       "    <tr>\n",
       "      <td>Duration</td>\n",
       "      <td>0.158</td>\n",
       "    </tr>\n",
       "    <tr>\n",
       "      <td>rate_code_1</td>\n",
       "      <td>0.109</td>\n",
       "    </tr>\n",
       "    <tr>\n",
       "      <td>tip_amount</td>\n",
       "      <td>0.085</td>\n",
       "    </tr>\n",
       "    <tr>\n",
       "      <td>tolls_amount</td>\n",
       "      <td>0.014</td>\n",
       "    </tr>\n",
       "    <tr>\n",
       "      <td>rate_code_2</td>\n",
       "      <td>0.013</td>\n",
       "    </tr>\n",
       "    <tr>\n",
       "      <td>pickup_day</td>\n",
       "      <td>0.005</td>\n",
       "    </tr>\n",
       "    <tr>\n",
       "      <td>dropoff_longitude</td>\n",
       "      <td>0.004</td>\n",
       "    </tr>\n",
       "    <tr>\n",
       "      <td>payment_type_CSH</td>\n",
       "      <td>0.004</td>\n",
       "    </tr>\n",
       "    <tr>\n",
       "      <td>dropoff_latitude</td>\n",
       "      <td>0.002</td>\n",
       "    </tr>\n",
       "    <tr>\n",
       "      <td>passenger_count</td>\n",
       "      <td>0.002</td>\n",
       "    </tr>\n",
       "    <tr>\n",
       "      <td>pickup_longitude</td>\n",
       "      <td>0.001</td>\n",
       "    </tr>\n",
       "    <tr>\n",
       "      <td>rate_code_5</td>\n",
       "      <td>0.001</td>\n",
       "    </tr>\n",
       "    <tr>\n",
       "      <td>payment_type_UNK</td>\n",
       "      <td>0.000</td>\n",
       "    </tr>\n",
       "    <tr>\n",
       "      <td>time_of_day_(8.0, 14.0]</td>\n",
       "      <td>0.000</td>\n",
       "    </tr>\n",
       "    <tr>\n",
       "      <td>payment_type_NOC</td>\n",
       "      <td>0.000</td>\n",
       "    </tr>\n",
       "    <tr>\n",
       "      <td>payment_type_DIS</td>\n",
       "      <td>0.000</td>\n",
       "    </tr>\n",
       "    <tr>\n",
       "      <td>rate_code_6</td>\n",
       "      <td>0.000</td>\n",
       "    </tr>\n",
       "    <tr>\n",
       "      <td>rate_code_4</td>\n",
       "      <td>0.000</td>\n",
       "    </tr>\n",
       "    <tr>\n",
       "      <td>rate_code_3</td>\n",
       "      <td>0.000</td>\n",
       "    </tr>\n",
       "    <tr>\n",
       "      <td>vendor_id_DST000481</td>\n",
       "      <td>0.000</td>\n",
       "    </tr>\n",
       "    <tr>\n",
       "      <td>mta_tax_0.5</td>\n",
       "      <td>0.000</td>\n",
       "    </tr>\n",
       "    <tr>\n",
       "      <td>vendor_id_DST000543</td>\n",
       "      <td>0.000</td>\n",
       "    </tr>\n",
       "    <tr>\n",
       "      <td>vendor_id_DST000532</td>\n",
       "      <td>0.000</td>\n",
       "    </tr>\n",
       "    <tr>\n",
       "      <td>dropoff_year</td>\n",
       "      <td>0.000</td>\n",
       "    </tr>\n",
       "    <tr>\n",
       "      <td>dropoff_month</td>\n",
       "      <td>0.000</td>\n",
       "    </tr>\n",
       "    <tr>\n",
       "      <td>dropoff_day</td>\n",
       "      <td>0.000</td>\n",
       "    </tr>\n",
       "    <tr>\n",
       "      <td>pickup_year</td>\n",
       "      <td>0.000</td>\n",
       "    </tr>\n",
       "    <tr>\n",
       "      <td>pickup_month</td>\n",
       "      <td>0.000</td>\n",
       "    </tr>\n",
       "    <tr>\n",
       "      <td>surcharge</td>\n",
       "      <td>0.000</td>\n",
       "    </tr>\n",
       "    <tr>\n",
       "      <td>pickup_latitude</td>\n",
       "      <td>0.000</td>\n",
       "    </tr>\n",
       "    <tr>\n",
       "      <td>time_of_day_(14.0, inf]</td>\n",
       "      <td>0.000</td>\n",
       "    </tr>\n",
       "  </tbody>\n",
       "</table>\n",
       "</div>"
      ],
      "text/plain": [
       "                         Importances\n",
       "Distance                       0.600\n",
       "Duration                       0.158\n",
       "rate_code_1                    0.109\n",
       "tip_amount                     0.085\n",
       "tolls_amount                   0.014\n",
       "rate_code_2                    0.013\n",
       "pickup_day                     0.005\n",
       "dropoff_longitude              0.004\n",
       "payment_type_CSH               0.004\n",
       "dropoff_latitude               0.002\n",
       "passenger_count                0.002\n",
       "pickup_longitude               0.001\n",
       "rate_code_5                    0.001\n",
       "payment_type_UNK               0.000\n",
       "time_of_day_(8.0, 14.0]        0.000\n",
       "payment_type_NOC               0.000\n",
       "payment_type_DIS               0.000\n",
       "rate_code_6                    0.000\n",
       "rate_code_4                    0.000\n",
       "rate_code_3                    0.000\n",
       "vendor_id_DST000481            0.000\n",
       "mta_tax_0.5                    0.000\n",
       "vendor_id_DST000543            0.000\n",
       "vendor_id_DST000532            0.000\n",
       "dropoff_year                   0.000\n",
       "dropoff_month                  0.000\n",
       "dropoff_day                    0.000\n",
       "pickup_year                    0.000\n",
       "pickup_month                   0.000\n",
       "surcharge                      0.000\n",
       "pickup_latitude                0.000\n",
       "time_of_day_(14.0, inf]        0.000"
      ]
     },
     "execution_count": 95,
     "metadata": {},
     "output_type": "execute_result"
    }
   ],
   "source": [
    "from sklearn.model_selection import GridSearchCV\n",
    "from sklearn.tree import DecisionTreeRegressor\n",
    "\n",
    "DR = DecisionTreeRegressor(criterion = \"mse\", max_depth = 9)\n",
    "\n",
    "# params = {'criterion': ['mse', 'mae'],\n",
    "#               'max_depth': [5,10,20,30,40],\n",
    "#               'min_samples_split': [0.01,0.001]}\n",
    "\n",
    "# GSCV = GridSearchCV(estimator = DR, param_grid = params, cv = 3, scoring = \"neg_mean_squared_error\")\n",
    "DR.fit(X_train, y_train)\n",
    "\n",
    "ypred_DT = DR.predict(X_test)\n",
    "MAE_DT = mean_absolute_error(y_true = y_test, y_pred = ypred_DT)\n",
    "MSE_DT = mean_squared_error(y_true = y_test, y_pred = ypred_DT)\n",
    "DT_scores = [MSE_DT, MAE_DT]\n",
    "pd.DataFrame({'Importances':np.round(DR.feature_importances_, 3)}, index = X_train.columns).sort_values(by = ['Importances'], ascending = False)"
   ]
  },
  {
   "cell_type": "markdown",
   "metadata": {},
   "source": [
    "## Stacking "
   ]
  },
  {
   "cell_type": "code",
   "execution_count": 96,
   "metadata": {},
   "outputs": [],
   "source": [
    "from sklearn.ensemble import RandomForestRegressor"
   ]
  },
  {
   "cell_type": "code",
   "execution_count": 97,
   "metadata": {},
   "outputs": [],
   "source": [
    "from mlxtend.regressor import StackingRegressor\n",
    "\n",
    "lrS = LinearRegression()\n",
    "rrS = Ridge(alpha = 69.51928)\n",
    "lasrS = Lasso(alpha = 69.51928)\n",
    "rf_Reg = RandomForestRegressor(random_state = 0)\n",
    "\n",
    "stregr = StackingRegressor(regressors=[lrS, rrS, lasrS, rf_Reg], \n",
    "                           meta_regressor= rf_Reg)\n",
    "\n",
    "stregr.fit(X_train, y_train)\n",
    "y_pred_stack = stregr.predict(X_test)"
   ]
  },
  {
   "cell_type": "code",
   "execution_count": null,
   "metadata": {},
   "outputs": [],
   "source": []
  },
  {
   "cell_type": "markdown",
   "metadata": {},
   "source": [
    "## Performance with alternate approach\n",
    "\n",
    "Includes dropoff_lat, dropoff_long and dropoff_day, month and year in addition to everything else in the first first approach"
   ]
  },
  {
   "cell_type": "code",
   "execution_count": 98,
   "metadata": {},
   "outputs": [
    {
     "data": {
      "text/html": [
       "<div>\n",
       "<style scoped>\n",
       "    .dataframe tbody tr th:only-of-type {\n",
       "        vertical-align: middle;\n",
       "    }\n",
       "\n",
       "    .dataframe tbody tr th {\n",
       "        vertical-align: top;\n",
       "    }\n",
       "\n",
       "    .dataframe thead th {\n",
       "        text-align: right;\n",
       "    }\n",
       "</style>\n",
       "<table border=\"1\" class=\"dataframe\">\n",
       "  <thead>\n",
       "    <tr style=\"text-align: right;\">\n",
       "      <th></th>\n",
       "      <th>MSE</th>\n",
       "      <th>MAE</th>\n",
       "      <th>RMSE</th>\n",
       "    </tr>\n",
       "  </thead>\n",
       "  <tbody>\n",
       "    <tr>\n",
       "      <td>Linear</td>\n",
       "      <td>14.975586</td>\n",
       "      <td>2.115475</td>\n",
       "      <td>3.869830</td>\n",
       "    </tr>\n",
       "    <tr>\n",
       "      <td>Ridge</td>\n",
       "      <td>14.836041</td>\n",
       "      <td>2.116352</td>\n",
       "      <td>3.851758</td>\n",
       "    </tr>\n",
       "    <tr>\n",
       "      <td>Lasso</td>\n",
       "      <td>14.908355</td>\n",
       "      <td>2.121910</td>\n",
       "      <td>3.861134</td>\n",
       "    </tr>\n",
       "    <tr>\n",
       "      <td>Dec Tree</td>\n",
       "      <td>7.695420</td>\n",
       "      <td>1.214543</td>\n",
       "      <td>2.774062</td>\n",
       "    </tr>\n",
       "  </tbody>\n",
       "</table>\n",
       "</div>"
      ],
      "text/plain": [
       "                MSE       MAE      RMSE\n",
       "Linear    14.975586  2.115475  3.869830\n",
       "Ridge     14.836041  2.116352  3.851758\n",
       "Lasso     14.908355  2.121910  3.861134\n",
       "Dec Tree   7.695420  1.214543  2.774062"
      ]
     },
     "execution_count": 98,
     "metadata": {},
     "output_type": "execute_result"
    }
   ],
   "source": [
    "Performance1 = pd.DataFrame([LRScores, RidgeScores, LasScores, DT_scores], columns = ['MSE', 'MAE'], index = ['Linear', 'Ridge', 'Lasso', 'Dec Tree'])\n",
    "Performance1['RMSE'] = Performance1['MSE'].apply(lambda x: sqrt(x))\n",
    "Performance1"
   ]
  },
  {
   "cell_type": "markdown",
   "metadata": {},
   "source": [
    "## Performace with original approach "
   ]
  },
  {
   "cell_type": "code",
   "execution_count": 99,
   "metadata": {
    "scrolled": true
   },
   "outputs": [
    {
     "data": {
      "text/html": [
       "<div>\n",
       "<style scoped>\n",
       "    .dataframe tbody tr th:only-of-type {\n",
       "        vertical-align: middle;\n",
       "    }\n",
       "\n",
       "    .dataframe tbody tr th {\n",
       "        vertical-align: top;\n",
       "    }\n",
       "\n",
       "    .dataframe thead th {\n",
       "        text-align: right;\n",
       "    }\n",
       "</style>\n",
       "<table border=\"1\" class=\"dataframe\">\n",
       "  <thead>\n",
       "    <tr style=\"text-align: right;\">\n",
       "      <th></th>\n",
       "      <th>MSE</th>\n",
       "      <th>MAE</th>\n",
       "      <th>RMSE</th>\n",
       "    </tr>\n",
       "  </thead>\n",
       "  <tbody>\n",
       "    <tr>\n",
       "      <td>Linear</td>\n",
       "      <td>13.258627</td>\n",
       "      <td>2.116824</td>\n",
       "      <td>3.641240</td>\n",
       "    </tr>\n",
       "    <tr>\n",
       "      <td>Ridge</td>\n",
       "      <td>12.965918</td>\n",
       "      <td>2.125066</td>\n",
       "      <td>3.600822</td>\n",
       "    </tr>\n",
       "    <tr>\n",
       "      <td>Lasso</td>\n",
       "      <td>13.101742</td>\n",
       "      <td>2.124896</td>\n",
       "      <td>3.619633</td>\n",
       "    </tr>\n",
       "    <tr>\n",
       "      <td>Dec Tree</td>\n",
       "      <td>8.155726</td>\n",
       "      <td>1.355624</td>\n",
       "      <td>2.855823</td>\n",
       "    </tr>\n",
       "  </tbody>\n",
       "</table>\n",
       "</div>"
      ],
      "text/plain": [
       "                MSE       MAE      RMSE\n",
       "Linear    13.258627  2.116824  3.641240\n",
       "Ridge     12.965918  2.125066  3.600822\n",
       "Lasso     13.101742  2.124896  3.619633\n",
       "Dec Tree   8.155726  1.355624  2.855823"
      ]
     },
     "execution_count": 99,
     "metadata": {},
     "output_type": "execute_result"
    }
   ],
   "source": [
    "Performance"
   ]
  },
  {
   "cell_type": "markdown",
   "metadata": {},
   "source": [
    "It can be seen that adding the data regarding dropoff after having both distances and duration in the dataset reduces the mse for linear regression. We can make sense of the result intuitively since we're adding columns which are mutually dependent on one another and that's going to worsen the performance of the regressors in any case. that's what we can observe from the two tables."
   ]
  },
  {
   "cell_type": "markdown",
   "metadata": {},
   "source": [
    "Decision Trees performed better with the latter approach but all the three regression methods performed better with the original approach. Decision trees being low bias, they can understand and build more rules if it has more features to predict better. That could be one of the reasons why this happened only with decision trees and not with the regression methods."
   ]
  }
 ],
 "metadata": {
  "kernelspec": {
   "display_name": "Python 3",
   "language": "python",
   "name": "python3"
  },
  "language_info": {
   "codemirror_mode": {
    "name": "ipython",
    "version": 3
   },
   "file_extension": ".py",
   "mimetype": "text/x-python",
   "name": "python",
   "nbconvert_exporter": "python",
   "pygments_lexer": "ipython3",
   "version": "3.6.8"
  },
  "latex_envs": {
   "LaTeX_envs_menu_present": true,
   "autoclose": false,
   "autocomplete": true,
   "bibliofile": "biblio.bib",
   "cite_by": "apalike",
   "current_citInitial": 1,
   "eqLabelWithNumbers": true,
   "eqNumInitial": 1,
   "hotkeys": {
    "equation": "Ctrl-E",
    "itemize": "Ctrl-I"
   },
   "labels_anchors": false,
   "latex_user_defs": false,
   "report_style_numbering": false,
   "user_envs_cfg": false
  },
  "toc": {
   "base_numbering": 1,
   "nav_menu": {},
   "number_sections": true,
   "sideBar": true,
   "skip_h1_title": false,
   "title_cell": "Table of Contents",
   "title_sidebar": "Contents",
   "toc_cell": false,
   "toc_position": {},
   "toc_section_display": true,
   "toc_window_display": false
  }
 },
 "nbformat": 4,
 "nbformat_minor": 2
}
