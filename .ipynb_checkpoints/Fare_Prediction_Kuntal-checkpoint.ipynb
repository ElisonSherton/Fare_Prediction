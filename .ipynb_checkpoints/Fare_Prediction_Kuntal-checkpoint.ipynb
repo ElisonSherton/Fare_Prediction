{
 "cells": [
  {
   "cell_type": "markdown",
   "metadata": {},
   "source": [
    "# Taxi Fare Prediction"
   ]
  },
  {
   "cell_type": "raw",
   "metadata": {},
   "source": [
    "## Variable Description\n",
    "\n",
    "TID\tUnique - ID\n",
    "Vendor_ID\t- Technology service vendor associated with cab company\n",
    "New_User -\tIf a new user is taking the ride\n",
    "toll_price -\ttoll tax amount\n",
    "tip_amount -\ttip given to driver (if any)\n",
    "tax\t- applicable tax\n",
    "pickup_timestamp -\ttime at which the ride started\n",
    "dropoff_timestamp -\ttime at which ride ended\n",
    "passenger_count -\tnumber of passenger during the ride\n",
    "pickup_longitude -\tpickup location longitude data\n",
    "pickup_latitude -\tpickup location latitude data\n",
    "rate_category -\tcategory assigned to different rates at which a customer is charged\n",
    "store_and_fwd -\tif driver stored the data offline and later forwarded\n",
    "dropoff_longitude -\tdrop off longitude data\n",
    "dropoff_latitude -\tdrop off latitude data\n",
    "payment_type -\tpayment mode used by the customer (CRD = Credit Card, CSH - Cash, DIS - dispute, NOC - No Charge, UNK - Unknown)\n",
    "surcharge -\tsurchage applicable on the trip\n",
    "fare_amount -\ttrip fare (to be predicted)\n"
   ]
  },
  {
   "cell_type": "code",
   "execution_count": 1,
   "metadata": {},
   "outputs": [
    {
     "name": "stdout",
     "output_type": "stream",
     "text": [
      "Requirement already satisfied: missingno in c:\\users\\urmili\\anaconda3\\lib\\site-packages (0.4.2)\n",
      "Requirement already satisfied: numpy in c:\\users\\urmili\\anaconda3\\lib\\site-packages (from missingno) (1.16.2)\n",
      "Requirement already satisfied: scipy in c:\\users\\urmili\\anaconda3\\lib\\site-packages (from missingno) (1.2.1)\n",
      "Requirement already satisfied: matplotlib in c:\\users\\urmili\\anaconda3\\lib\\site-packages (from missingno) (3.0.3)\n",
      "Requirement already satisfied: seaborn in c:\\users\\urmili\\anaconda3\\lib\\site-packages (from missingno) (0.9.0)\n",
      "Requirement already satisfied: cycler>=0.10 in c:\\users\\urmili\\anaconda3\\lib\\site-packages (from matplotlib->missingno) (0.10.0)\n",
      "Requirement already satisfied: kiwisolver>=1.0.1 in c:\\users\\urmili\\anaconda3\\lib\\site-packages (from matplotlib->missingno) (1.0.1)\n",
      "Requirement already satisfied: pyparsing!=2.0.4,!=2.1.2,!=2.1.6,>=2.0.1 in c:\\users\\urmili\\anaconda3\\lib\\site-packages (from matplotlib->missingno) (2.3.1)\n",
      "Requirement already satisfied: python-dateutil>=2.1 in c:\\users\\urmili\\anaconda3\\lib\\site-packages (from matplotlib->missingno) (2.8.0)\n",
      "Requirement already satisfied: pandas>=0.15.2 in c:\\users\\urmili\\anaconda3\\lib\\site-packages (from seaborn->missingno) (0.24.2)\n",
      "Requirement already satisfied: six in c:\\users\\urmili\\anaconda3\\lib\\site-packages (from cycler>=0.10->matplotlib->missingno) (1.12.0)\n",
      "Requirement already satisfied: setuptools in c:\\users\\urmili\\anaconda3\\lib\\site-packages (from kiwisolver>=1.0.1->matplotlib->missingno) (40.8.0)\n",
      "Requirement already satisfied: pytz>=2011k in c:\\users\\urmili\\anaconda3\\lib\\site-packages (from pandas>=0.15.2->seaborn->missingno) (2018.9)\n"
     ]
    }
   ],
   "source": [
    "!pip install missingno"
   ]
  },
  {
   "cell_type": "code",
   "execution_count": 2,
   "metadata": {},
   "outputs": [],
   "source": [
    "import pandas as pd\n",
    "import numpy as np\n",
    "from datetime import date\n",
    "from datetime import time\n",
    "from datetime import datetime\n",
    "import datetime\n",
    "import missingno as msno"
   ]
  },
  {
   "cell_type": "markdown",
   "metadata": {},
   "source": [
    "## EDA"
   ]
  },
  {
   "cell_type": "code",
   "execution_count": 3,
   "metadata": {},
   "outputs": [],
   "source": [
    "data = pd.read_csv(\"train.csv\", parse_dates = [\"pickup_datetime\", \"dropoff_datetime\"])"
   ]
  },
  {
   "cell_type": "code",
   "execution_count": 4,
   "metadata": {},
   "outputs": [
    {
     "data": {
      "text/html": [
       "<div>\n",
       "<style scoped>\n",
       "    .dataframe tbody tr th:only-of-type {\n",
       "        vertical-align: middle;\n",
       "    }\n",
       "\n",
       "    .dataframe tbody tr th {\n",
       "        vertical-align: top;\n",
       "    }\n",
       "\n",
       "    .dataframe thead th {\n",
       "        text-align: right;\n",
       "    }\n",
       "</style>\n",
       "<table border=\"1\" class=\"dataframe\">\n",
       "  <thead>\n",
       "    <tr style=\"text-align: right;\">\n",
       "      <th></th>\n",
       "      <th>TID</th>\n",
       "      <th>vendor_id</th>\n",
       "      <th>new_user</th>\n",
       "      <th>tolls_amount</th>\n",
       "      <th>tip_amount</th>\n",
       "      <th>mta_tax</th>\n",
       "      <th>pickup_datetime</th>\n",
       "      <th>dropoff_datetime</th>\n",
       "      <th>passenger_count</th>\n",
       "      <th>pickup_longitude</th>\n",
       "      <th>pickup_latitude</th>\n",
       "      <th>rate_code</th>\n",
       "      <th>store_and_fwd_flag</th>\n",
       "      <th>dropoff_longitude</th>\n",
       "      <th>dropoff_latitude</th>\n",
       "      <th>payment_type</th>\n",
       "      <th>surcharge</th>\n",
       "      <th>fare_amount</th>\n",
       "    </tr>\n",
       "  </thead>\n",
       "  <tbody>\n",
       "    <tr>\n",
       "      <th>0</th>\n",
       "      <td>AIX000345005</td>\n",
       "      <td>DST000401</td>\n",
       "      <td>NO</td>\n",
       "      <td>0.0</td>\n",
       "      <td>0.0</td>\n",
       "      <td>0.5</td>\n",
       "      <td>2015-04-15 13:12:48</td>\n",
       "      <td>2015-04-15 13:26:30</td>\n",
       "      <td>1</td>\n",
       "      <td>-74.004657</td>\n",
       "      <td>40.707434</td>\n",
       "      <td>1</td>\n",
       "      <td>N</td>\n",
       "      <td>-73.999369</td>\n",
       "      <td>40.721517</td>\n",
       "      <td>CSH</td>\n",
       "      <td>0.0</td>\n",
       "      <td>10.0</td>\n",
       "    </tr>\n",
       "    <tr>\n",
       "      <th>1</th>\n",
       "      <td>AIX000345019</td>\n",
       "      <td>DST000401</td>\n",
       "      <td>NO</td>\n",
       "      <td>0.0</td>\n",
       "      <td>0.0</td>\n",
       "      <td>0.5</td>\n",
       "      <td>2015-04-18 20:29:50</td>\n",
       "      <td>2015-04-18 20:34:15</td>\n",
       "      <td>1</td>\n",
       "      <td>-73.995108</td>\n",
       "      <td>40.755005</td>\n",
       "      <td>1</td>\n",
       "      <td>N</td>\n",
       "      <td>-73.989492</td>\n",
       "      <td>40.745640</td>\n",
       "      <td>CSH</td>\n",
       "      <td>0.5</td>\n",
       "      <td>6.5</td>\n",
       "    </tr>\n",
       "  </tbody>\n",
       "</table>\n",
       "</div>"
      ],
      "text/plain": [
       "            TID  vendor_id new_user  tolls_amount  tip_amount  mta_tax  \\\n",
       "0  AIX000345005  DST000401       NO           0.0         0.0      0.5   \n",
       "1  AIX000345019  DST000401       NO           0.0         0.0      0.5   \n",
       "\n",
       "      pickup_datetime    dropoff_datetime  passenger_count  pickup_longitude  \\\n",
       "0 2015-04-15 13:12:48 2015-04-15 13:26:30                1        -74.004657   \n",
       "1 2015-04-18 20:29:50 2015-04-18 20:34:15                1        -73.995108   \n",
       "\n",
       "   pickup_latitude  rate_code store_and_fwd_flag  dropoff_longitude  \\\n",
       "0        40.707434          1                  N         -73.999369   \n",
       "1        40.755005          1                  N         -73.989492   \n",
       "\n",
       "   dropoff_latitude payment_type  surcharge  fare_amount  \n",
       "0         40.721517          CSH        0.0         10.0  \n",
       "1         40.745640          CSH        0.5          6.5  "
      ]
     },
     "execution_count": 4,
     "metadata": {},
     "output_type": "execute_result"
    }
   ],
   "source": [
    "data.head(2)"
   ]
  },
  {
   "cell_type": "code",
   "execution_count": 5,
   "metadata": {},
   "outputs": [
    {
     "data": {
      "text/plain": [
       "TID                           object\n",
       "vendor_id                     object\n",
       "new_user                      object\n",
       "tolls_amount                 float64\n",
       "tip_amount                   float64\n",
       "mta_tax                      float64\n",
       "pickup_datetime       datetime64[ns]\n",
       "dropoff_datetime      datetime64[ns]\n",
       "passenger_count                int64\n",
       "pickup_longitude             float64\n",
       "pickup_latitude              float64\n",
       "rate_code                      int64\n",
       "store_and_fwd_flag            object\n",
       "dropoff_longitude            float64\n",
       "dropoff_latitude             float64\n",
       "payment_type                  object\n",
       "surcharge                    float64\n",
       "fare_amount                  float64\n",
       "dtype: object"
      ]
     },
     "execution_count": 5,
     "metadata": {},
     "output_type": "execute_result"
    }
   ],
   "source": [
    "data.dtypes"
   ]
  },
  {
   "cell_type": "markdown",
   "metadata": {},
   "source": [
    "### Feature engineering for time data from Pickup_datetime and Dropoff_datetime."
   ]
  },
  {
   "cell_type": "markdown",
   "metadata": {},
   "source": [
    "Chechking whether there are any trips whose duration is more than a day."
   ]
  },
  {
   "cell_type": "code",
   "execution_count": 6,
   "metadata": {},
   "outputs": [],
   "source": [
    "date_p, date_d = [data[\"pickup_datetime\"].dt.date, data[\"dropoff_datetime\"].dt.date]"
   ]
  },
  {
   "cell_type": "code",
   "execution_count": 7,
   "metadata": {},
   "outputs": [
    {
     "data": {
      "text/plain": [
       "15.306157170865992"
      ]
     },
     "execution_count": 7,
     "metadata": {},
     "output_type": "execute_result"
    }
   ],
   "source": [
    "data[\"fare_amount\"].mean()"
   ]
  },
  {
   "cell_type": "code",
   "execution_count": 8,
   "metadata": {},
   "outputs": [],
   "source": [
    "data[\"diff_days\"] = date_d - date_p"
   ]
  },
  {
   "cell_type": "code",
   "execution_count": 9,
   "metadata": {},
   "outputs": [
    {
     "name": "stdout",
     "output_type": "stream",
     "text": [
      "First two rows: \n",
      "             TID  vendor_id new_user  tolls_amount  tip_amount  mta_tax  \\\n",
      "0  AIX000345005  DST000401       NO           0.0         0.0      0.5   \n",
      "1  AIX000345019  DST000401       NO           0.0         0.0      0.5   \n",
      "\n",
      "      pickup_datetime    dropoff_datetime  passenger_count  pickup_longitude  \\\n",
      "0 2015-04-15 13:12:48 2015-04-15 13:26:30                1        -74.004657   \n",
      "1 2015-04-18 20:29:50 2015-04-18 20:34:15                1        -73.995108   \n",
      "\n",
      "   pickup_latitude  rate_code store_and_fwd_flag  dropoff_longitude  \\\n",
      "0        40.707434          1                  N         -73.999369   \n",
      "1        40.755005          1                  N         -73.989492   \n",
      "\n",
      "   dropoff_latitude payment_type  surcharge  fare_amount diff_days  \n",
      "0         40.721517          CSH        0.0         10.0    0 days  \n",
      "1         40.745640          CSH        0.5          6.5    0 days  \n",
      "\n",
      "\n",
      " Data types: \n",
      " TID                            object\n",
      "vendor_id                      object\n",
      "new_user                       object\n",
      "tolls_amount                  float64\n",
      "tip_amount                    float64\n",
      "mta_tax                       float64\n",
      "pickup_datetime        datetime64[ns]\n",
      "dropoff_datetime       datetime64[ns]\n",
      "passenger_count                 int64\n",
      "pickup_longitude              float64\n",
      "pickup_latitude               float64\n",
      "rate_code                       int64\n",
      "store_and_fwd_flag             object\n",
      "dropoff_longitude             float64\n",
      "dropoff_latitude              float64\n",
      "payment_type                   object\n",
      "surcharge                     float64\n",
      "fare_amount                   float64\n",
      "diff_days             timedelta64[ns]\n",
      "dtype: object\n",
      "\n",
      "\n",
      "Value counts in diff_days column: \n",
      " 0 days    118168\n",
      "1 days      1210\n",
      "2 days         8\n",
      "Name: diff_days, dtype: int64\n"
     ]
    }
   ],
   "source": [
    "print(\"First two rows: \\n\",data.head(2))\n",
    "print('\\n\\n Data types: \\n',data.dtypes)\n",
    "print('\\n\\nValue counts in diff_days column: \\n',data[\"diff_days\"].value_counts())"
   ]
  },
  {
   "cell_type": "code",
   "execution_count": 10,
   "metadata": {},
   "outputs": [
    {
     "data": {
      "text/html": [
       "<div>\n",
       "<style scoped>\n",
       "    .dataframe tbody tr th:only-of-type {\n",
       "        vertical-align: middle;\n",
       "    }\n",
       "\n",
       "    .dataframe tbody tr th {\n",
       "        vertical-align: top;\n",
       "    }\n",
       "\n",
       "    .dataframe thead th {\n",
       "        text-align: right;\n",
       "    }\n",
       "</style>\n",
       "<table border=\"1\" class=\"dataframe\">\n",
       "  <thead>\n",
       "    <tr style=\"text-align: right;\">\n",
       "      <th></th>\n",
       "      <th>TID</th>\n",
       "      <th>vendor_id</th>\n",
       "      <th>new_user</th>\n",
       "      <th>tolls_amount</th>\n",
       "      <th>tip_amount</th>\n",
       "      <th>mta_tax</th>\n",
       "      <th>pickup_datetime</th>\n",
       "      <th>dropoff_datetime</th>\n",
       "      <th>passenger_count</th>\n",
       "      <th>pickup_longitude</th>\n",
       "      <th>pickup_latitude</th>\n",
       "      <th>rate_code</th>\n",
       "      <th>store_and_fwd_flag</th>\n",
       "      <th>dropoff_longitude</th>\n",
       "      <th>dropoff_latitude</th>\n",
       "      <th>payment_type</th>\n",
       "      <th>surcharge</th>\n",
       "      <th>fare_amount</th>\n",
       "      <th>diff_days</th>\n",
       "    </tr>\n",
       "  </thead>\n",
       "  <tbody>\n",
       "    <tr>\n",
       "      <th>91333</th>\n",
       "      <td>AIX0001615078</td>\n",
       "      <td>DST000543</td>\n",
       "      <td>NO</td>\n",
       "      <td>0.0</td>\n",
       "      <td>6.00</td>\n",
       "      <td>0.5</td>\n",
       "      <td>2016-02-28 23:55:57</td>\n",
       "      <td>2016-03-01 00:22:09</td>\n",
       "      <td>2</td>\n",
       "      <td>-73.983841</td>\n",
       "      <td>40.694054</td>\n",
       "      <td>1</td>\n",
       "      <td>N</td>\n",
       "      <td>-73.948418</td>\n",
       "      <td>40.808147</td>\n",
       "      <td>CRD</td>\n",
       "      <td>0.5</td>\n",
       "      <td>43.80</td>\n",
       "      <td>2 days</td>\n",
       "    </tr>\n",
       "    <tr>\n",
       "      <th>92340</th>\n",
       "      <td>AIX0001628751</td>\n",
       "      <td>DST000481</td>\n",
       "      <td>NO</td>\n",
       "      <td>0.0</td>\n",
       "      <td>1.45</td>\n",
       "      <td>0.5</td>\n",
       "      <td>2016-02-28 23:55:54</td>\n",
       "      <td>2016-03-01 00:00:14</td>\n",
       "      <td>2</td>\n",
       "      <td>-73.981407</td>\n",
       "      <td>40.768326</td>\n",
       "      <td>1</td>\n",
       "      <td>N</td>\n",
       "      <td>-73.977928</td>\n",
       "      <td>40.753498</td>\n",
       "      <td>CRD</td>\n",
       "      <td>0.5</td>\n",
       "      <td>8.75</td>\n",
       "      <td>2 days</td>\n",
       "    </tr>\n",
       "    <tr>\n",
       "      <th>93067</th>\n",
       "      <td>AIX0001639079</td>\n",
       "      <td>DST000481</td>\n",
       "      <td>NO</td>\n",
       "      <td>0.0</td>\n",
       "      <td>1.00</td>\n",
       "      <td>0.5</td>\n",
       "      <td>2016-02-28 23:51:36</td>\n",
       "      <td>2016-03-01 00:08:56</td>\n",
       "      <td>1</td>\n",
       "      <td>-73.997490</td>\n",
       "      <td>40.721733</td>\n",
       "      <td>1</td>\n",
       "      <td>N</td>\n",
       "      <td>-73.962975</td>\n",
       "      <td>40.767593</td>\n",
       "      <td>CRD</td>\n",
       "      <td>0.5</td>\n",
       "      <td>17.80</td>\n",
       "      <td>2 days</td>\n",
       "    </tr>\n",
       "    <tr>\n",
       "      <th>93087</th>\n",
       "      <td>AIX0001639379</td>\n",
       "      <td>DST000543</td>\n",
       "      <td>NO</td>\n",
       "      <td>0.0</td>\n",
       "      <td>0.00</td>\n",
       "      <td>0.5</td>\n",
       "      <td>2016-02-28 22:18:32</td>\n",
       "      <td>2016-03-01 22:13:16</td>\n",
       "      <td>1</td>\n",
       "      <td>-73.979240</td>\n",
       "      <td>40.757229</td>\n",
       "      <td>1</td>\n",
       "      <td>N</td>\n",
       "      <td>-73.984772</td>\n",
       "      <td>40.759331</td>\n",
       "      <td>CSH</td>\n",
       "      <td>0.5</td>\n",
       "      <td>7.80</td>\n",
       "      <td>2 days</td>\n",
       "    </tr>\n",
       "    <tr>\n",
       "      <th>93381</th>\n",
       "      <td>AIX0001643109</td>\n",
       "      <td>DST000481</td>\n",
       "      <td>NO</td>\n",
       "      <td>0.0</td>\n",
       "      <td>0.00</td>\n",
       "      <td>0.5</td>\n",
       "      <td>2016-02-28 23:48:20</td>\n",
       "      <td>2016-03-01 00:04:49</td>\n",
       "      <td>2</td>\n",
       "      <td>-73.979607</td>\n",
       "      <td>NaN</td>\n",
       "      <td>1</td>\n",
       "      <td>N</td>\n",
       "      <td>-73.983490</td>\n",
       "      <td>40.744068</td>\n",
       "      <td>CSH</td>\n",
       "      <td>0.5</td>\n",
       "      <td>15.80</td>\n",
       "      <td>2 days</td>\n",
       "    </tr>\n",
       "    <tr>\n",
       "      <th>93907</th>\n",
       "      <td>AIX0001649937</td>\n",
       "      <td>DST000543</td>\n",
       "      <td>NO</td>\n",
       "      <td>0.0</td>\n",
       "      <td>1.50</td>\n",
       "      <td>0.5</td>\n",
       "      <td>2016-02-28 23:56:28</td>\n",
       "      <td>2016-03-01 00:06:28</td>\n",
       "      <td>6</td>\n",
       "      <td>-73.980949</td>\n",
       "      <td>40.721375</td>\n",
       "      <td>1</td>\n",
       "      <td>N</td>\n",
       "      <td>-73.993172</td>\n",
       "      <td>NaN</td>\n",
       "      <td>CRD</td>\n",
       "      <td>0.5</td>\n",
       "      <td>10.80</td>\n",
       "      <td>2 days</td>\n",
       "    </tr>\n",
       "    <tr>\n",
       "      <th>97833</th>\n",
       "      <td>AIX0001703779</td>\n",
       "      <td>DST000543</td>\n",
       "      <td>NO</td>\n",
       "      <td>0.0</td>\n",
       "      <td>0.00</td>\n",
       "      <td>0.5</td>\n",
       "      <td>2016-02-28 23:37:23</td>\n",
       "      <td>2016-03-01 00:10:00</td>\n",
       "      <td>1</td>\n",
       "      <td>-73.983727</td>\n",
       "      <td>40.738037</td>\n",
       "      <td>1</td>\n",
       "      <td>N</td>\n",
       "      <td>-73.914864</td>\n",
       "      <td>40.766026</td>\n",
       "      <td>CSH</td>\n",
       "      <td>0.5</td>\n",
       "      <td>26.80</td>\n",
       "      <td>2 days</td>\n",
       "    </tr>\n",
       "    <tr>\n",
       "      <th>98187</th>\n",
       "      <td>AIX0001708788</td>\n",
       "      <td>DST000481</td>\n",
       "      <td>NO</td>\n",
       "      <td>0.0</td>\n",
       "      <td>10.45</td>\n",
       "      <td>0.5</td>\n",
       "      <td>2016-02-28 23:59:27</td>\n",
       "      <td>2016-03-01 00:21:12</td>\n",
       "      <td>1</td>\n",
       "      <td>-73.790436</td>\n",
       "      <td>40.645359</td>\n",
       "      <td>1</td>\n",
       "      <td>N</td>\n",
       "      <td>-73.944000</td>\n",
       "      <td>40.727917</td>\n",
       "      <td>CRD</td>\n",
       "      <td>NaN</td>\n",
       "      <td>52.25</td>\n",
       "      <td>2 days</td>\n",
       "    </tr>\n",
       "  </tbody>\n",
       "</table>\n",
       "</div>"
      ],
      "text/plain": [
       "                 TID  vendor_id new_user  tolls_amount  tip_amount  mta_tax  \\\n",
       "91333  AIX0001615078  DST000543       NO           0.0        6.00      0.5   \n",
       "92340  AIX0001628751  DST000481       NO           0.0        1.45      0.5   \n",
       "93067  AIX0001639079  DST000481       NO           0.0        1.00      0.5   \n",
       "93087  AIX0001639379  DST000543       NO           0.0        0.00      0.5   \n",
       "93381  AIX0001643109  DST000481       NO           0.0        0.00      0.5   \n",
       "93907  AIX0001649937  DST000543       NO           0.0        1.50      0.5   \n",
       "97833  AIX0001703779  DST000543       NO           0.0        0.00      0.5   \n",
       "98187  AIX0001708788  DST000481       NO           0.0       10.45      0.5   \n",
       "\n",
       "          pickup_datetime    dropoff_datetime  passenger_count  \\\n",
       "91333 2016-02-28 23:55:57 2016-03-01 00:22:09                2   \n",
       "92340 2016-02-28 23:55:54 2016-03-01 00:00:14                2   \n",
       "93067 2016-02-28 23:51:36 2016-03-01 00:08:56                1   \n",
       "93087 2016-02-28 22:18:32 2016-03-01 22:13:16                1   \n",
       "93381 2016-02-28 23:48:20 2016-03-01 00:04:49                2   \n",
       "93907 2016-02-28 23:56:28 2016-03-01 00:06:28                6   \n",
       "97833 2016-02-28 23:37:23 2016-03-01 00:10:00                1   \n",
       "98187 2016-02-28 23:59:27 2016-03-01 00:21:12                1   \n",
       "\n",
       "       pickup_longitude  pickup_latitude  rate_code store_and_fwd_flag  \\\n",
       "91333        -73.983841        40.694054          1                  N   \n",
       "92340        -73.981407        40.768326          1                  N   \n",
       "93067        -73.997490        40.721733          1                  N   \n",
       "93087        -73.979240        40.757229          1                  N   \n",
       "93381        -73.979607              NaN          1                  N   \n",
       "93907        -73.980949        40.721375          1                  N   \n",
       "97833        -73.983727        40.738037          1                  N   \n",
       "98187        -73.790436        40.645359          1                  N   \n",
       "\n",
       "       dropoff_longitude  dropoff_latitude payment_type  surcharge  \\\n",
       "91333         -73.948418         40.808147          CRD        0.5   \n",
       "92340         -73.977928         40.753498          CRD        0.5   \n",
       "93067         -73.962975         40.767593          CRD        0.5   \n",
       "93087         -73.984772         40.759331          CSH        0.5   \n",
       "93381         -73.983490         40.744068          CSH        0.5   \n",
       "93907         -73.993172               NaN          CRD        0.5   \n",
       "97833         -73.914864         40.766026          CSH        0.5   \n",
       "98187         -73.944000         40.727917          CRD        NaN   \n",
       "\n",
       "       fare_amount diff_days  \n",
       "91333        43.80    2 days  \n",
       "92340         8.75    2 days  \n",
       "93067        17.80    2 days  \n",
       "93087         7.80    2 days  \n",
       "93381        15.80    2 days  \n",
       "93907        10.80    2 days  \n",
       "97833        26.80    2 days  \n",
       "98187        52.25    2 days  "
      ]
     },
     "execution_count": 10,
     "metadata": {},
     "output_type": "execute_result"
    }
   ],
   "source": [
    "data.loc[data[\"diff_days\"] == '2 days'] #the amount for 1 day and 2 day travel is around the average itself. therefore we delet it."
   ]
  },
  {
   "cell_type": "markdown",
   "metadata": {},
   "source": [
    "Extracting the total duration of the trip in seconds."
   ]
  },
  {
   "cell_type": "code",
   "execution_count": 11,
   "metadata": {},
   "outputs": [
    {
     "data": {
      "text/plain": [
       "(119386, 20)"
      ]
     },
     "execution_count": 11,
     "metadata": {},
     "output_type": "execute_result"
    }
   ],
   "source": [
    "data['travel time'] = ((data.dropoff_datetime - data.pickup_datetime)).dt.total_seconds()\n",
    "data.shape"
   ]
  },
  {
   "cell_type": "markdown",
   "metadata": {},
   "source": [
    "Extracting the pickup hour for the trip and the weekday."
   ]
  },
  {
   "cell_type": "code",
   "execution_count": 12,
   "metadata": {},
   "outputs": [],
   "source": [
    "data['pickup_hour'] = data['pickup_datetime'].dt.hour"
   ]
  },
  {
   "cell_type": "code",
   "execution_count": 13,
   "metadata": {},
   "outputs": [],
   "source": [
    "data['Weekday'] = data['pickup_datetime'].dt.dayofweek"
   ]
  },
  {
   "cell_type": "markdown",
   "metadata": {},
   "source": [
    "Deleting the rows for whom travel time is greater than 24hours i.e. 86400 seconds."
   ]
  },
  {
   "cell_type": "code",
   "execution_count": 14,
   "metadata": {},
   "outputs": [],
   "source": [
    "data_r = data[data[\"travel time\"] <= 86400]"
   ]
  },
  {
   "cell_type": "code",
   "execution_count": 15,
   "metadata": {},
   "outputs": [
    {
     "data": {
      "text/plain": [
       "(119378, 22)"
      ]
     },
     "execution_count": 15,
     "metadata": {},
     "output_type": "execute_result"
    }
   ],
   "source": [
    "data_r.shape"
   ]
  },
  {
   "cell_type": "code",
   "execution_count": 16,
   "metadata": {},
   "outputs": [],
   "source": [
    "data_r = data_r.drop([\"pickup_datetime\", \"dropoff_datetime\", \"store_and_fwd_flag\"], axis = 1)"
   ]
  },
  {
   "cell_type": "code",
   "execution_count": 17,
   "metadata": {},
   "outputs": [
    {
     "data": {
      "text/html": [
       "<div>\n",
       "<style scoped>\n",
       "    .dataframe tbody tr th:only-of-type {\n",
       "        vertical-align: middle;\n",
       "    }\n",
       "\n",
       "    .dataframe tbody tr th {\n",
       "        vertical-align: top;\n",
       "    }\n",
       "\n",
       "    .dataframe thead th {\n",
       "        text-align: right;\n",
       "    }\n",
       "</style>\n",
       "<table border=\"1\" class=\"dataframe\">\n",
       "  <thead>\n",
       "    <tr style=\"text-align: right;\">\n",
       "      <th></th>\n",
       "      <th>TID</th>\n",
       "      <th>vendor_id</th>\n",
       "      <th>new_user</th>\n",
       "      <th>tolls_amount</th>\n",
       "      <th>tip_amount</th>\n",
       "      <th>mta_tax</th>\n",
       "      <th>passenger_count</th>\n",
       "      <th>pickup_longitude</th>\n",
       "      <th>pickup_latitude</th>\n",
       "      <th>rate_code</th>\n",
       "      <th>dropoff_longitude</th>\n",
       "      <th>dropoff_latitude</th>\n",
       "      <th>payment_type</th>\n",
       "      <th>surcharge</th>\n",
       "      <th>fare_amount</th>\n",
       "      <th>diff_days</th>\n",
       "      <th>travel time</th>\n",
       "      <th>pickup_hour</th>\n",
       "      <th>Weekday</th>\n",
       "    </tr>\n",
       "  </thead>\n",
       "  <tbody>\n",
       "    <tr>\n",
       "      <th>0</th>\n",
       "      <td>AIX000345005</td>\n",
       "      <td>DST000401</td>\n",
       "      <td>NO</td>\n",
       "      <td>0.0</td>\n",
       "      <td>0.0</td>\n",
       "      <td>0.5</td>\n",
       "      <td>1</td>\n",
       "      <td>-74.004657</td>\n",
       "      <td>40.707434</td>\n",
       "      <td>1</td>\n",
       "      <td>-73.999369</td>\n",
       "      <td>40.721517</td>\n",
       "      <td>CSH</td>\n",
       "      <td>0.0</td>\n",
       "      <td>10.0</td>\n",
       "      <td>0 days</td>\n",
       "      <td>822.0</td>\n",
       "      <td>13</td>\n",
       "      <td>2</td>\n",
       "    </tr>\n",
       "    <tr>\n",
       "      <th>1</th>\n",
       "      <td>AIX000345019</td>\n",
       "      <td>DST000401</td>\n",
       "      <td>NO</td>\n",
       "      <td>0.0</td>\n",
       "      <td>0.0</td>\n",
       "      <td>0.5</td>\n",
       "      <td>1</td>\n",
       "      <td>-73.995108</td>\n",
       "      <td>40.755005</td>\n",
       "      <td>1</td>\n",
       "      <td>-73.989492</td>\n",
       "      <td>40.745640</td>\n",
       "      <td>CSH</td>\n",
       "      <td>0.5</td>\n",
       "      <td>6.5</td>\n",
       "      <td>0 days</td>\n",
       "      <td>265.0</td>\n",
       "      <td>20</td>\n",
       "      <td>5</td>\n",
       "    </tr>\n",
       "    <tr>\n",
       "      <th>2</th>\n",
       "      <td>AIX000345026</td>\n",
       "      <td>DST000401</td>\n",
       "      <td>NO</td>\n",
       "      <td>0.0</td>\n",
       "      <td>NaN</td>\n",
       "      <td>0.5</td>\n",
       "      <td>1</td>\n",
       "      <td>-73.969530</td>\n",
       "      <td>40.790267</td>\n",
       "      <td>1</td>\n",
       "      <td>-73.987282</td>\n",
       "      <td>40.766865</td>\n",
       "      <td>CRD</td>\n",
       "      <td>0.0</td>\n",
       "      <td>10.6</td>\n",
       "      <td>0 days</td>\n",
       "      <td>540.0</td>\n",
       "      <td>9</td>\n",
       "      <td>1</td>\n",
       "    </tr>\n",
       "    <tr>\n",
       "      <th>3</th>\n",
       "      <td>AIX000345034</td>\n",
       "      <td>DST000401</td>\n",
       "      <td>NO</td>\n",
       "      <td>0.0</td>\n",
       "      <td>1.7</td>\n",
       "      <td>0.5</td>\n",
       "      <td>1</td>\n",
       "      <td>-73.977336</td>\n",
       "      <td>40.742819</td>\n",
       "      <td>1</td>\n",
       "      <td>-73.993617</td>\n",
       "      <td>40.721326</td>\n",
       "      <td>CRD</td>\n",
       "      <td>0.5</td>\n",
       "      <td>10.2</td>\n",
       "      <td>0 days</td>\n",
       "      <td>334.0</td>\n",
       "      <td>23</td>\n",
       "      <td>3</td>\n",
       "    </tr>\n",
       "    <tr>\n",
       "      <th>4</th>\n",
       "      <td>AIX000345052</td>\n",
       "      <td>DST000401</td>\n",
       "      <td>NO</td>\n",
       "      <td>0.0</td>\n",
       "      <td>1.0</td>\n",
       "      <td>0.5</td>\n",
       "      <td>1</td>\n",
       "      <td>-73.998653</td>\n",
       "      <td>40.715607</td>\n",
       "      <td>1</td>\n",
       "      <td>-73.988385</td>\n",
       "      <td>40.723130</td>\n",
       "      <td>CRD</td>\n",
       "      <td>0.5</td>\n",
       "      <td>8.5</td>\n",
       "      <td>0 days</td>\n",
       "      <td>329.0</td>\n",
       "      <td>1</td>\n",
       "      <td>4</td>\n",
       "    </tr>\n",
       "  </tbody>\n",
       "</table>\n",
       "</div>"
      ],
      "text/plain": [
       "            TID  vendor_id new_user  tolls_amount  tip_amount  mta_tax  \\\n",
       "0  AIX000345005  DST000401       NO           0.0         0.0      0.5   \n",
       "1  AIX000345019  DST000401       NO           0.0         0.0      0.5   \n",
       "2  AIX000345026  DST000401       NO           0.0         NaN      0.5   \n",
       "3  AIX000345034  DST000401       NO           0.0         1.7      0.5   \n",
       "4  AIX000345052  DST000401       NO           0.0         1.0      0.5   \n",
       "\n",
       "   passenger_count  pickup_longitude  pickup_latitude  rate_code  \\\n",
       "0                1        -74.004657        40.707434          1   \n",
       "1                1        -73.995108        40.755005          1   \n",
       "2                1        -73.969530        40.790267          1   \n",
       "3                1        -73.977336        40.742819          1   \n",
       "4                1        -73.998653        40.715607          1   \n",
       "\n",
       "   dropoff_longitude  dropoff_latitude payment_type  surcharge  fare_amount  \\\n",
       "0         -73.999369         40.721517          CSH        0.0         10.0   \n",
       "1         -73.989492         40.745640          CSH        0.5          6.5   \n",
       "2         -73.987282         40.766865          CRD        0.0         10.6   \n",
       "3         -73.993617         40.721326          CRD        0.5         10.2   \n",
       "4         -73.988385         40.723130          CRD        0.5          8.5   \n",
       "\n",
       "  diff_days  travel time  pickup_hour  Weekday  \n",
       "0    0 days        822.0           13        2  \n",
       "1    0 days        265.0           20        5  \n",
       "2    0 days        540.0            9        1  \n",
       "3    0 days        334.0           23        3  \n",
       "4    0 days        329.0            1        4  "
      ]
     },
     "execution_count": 17,
     "metadata": {},
     "output_type": "execute_result"
    }
   ],
   "source": [
    "data_r.head()"
   ]
  },
  {
   "cell_type": "markdown",
   "metadata": {},
   "source": [
    "### Check for Missing values"
   ]
  },
  {
   "cell_type": "code",
   "execution_count": 18,
   "metadata": {},
   "outputs": [
    {
     "name": "stdout",
     "output_type": "stream",
     "text": [
      "TID                      0\n",
      "vendor_id                0\n",
      "new_user                 1\n",
      "tolls_amount             0\n",
      "tip_amount           11887\n",
      "mta_tax                  0\n",
      "passenger_count          0\n",
      "pickup_longitude      3555\n",
      "pickup_latitude       2401\n",
      "rate_code                0\n",
      "dropoff_longitude      364\n",
      "dropoff_latitude       565\n",
      "payment_type             0\n",
      "surcharge             7166\n",
      "fare_amount              0\n",
      "diff_days                0\n",
      "travel time              0\n",
      "pickup_hour              0\n",
      "Weekday                  0\n",
      "dtype: int64 TID                           object\n",
      "vendor_id                     object\n",
      "new_user                      object\n",
      "tolls_amount                 float64\n",
      "tip_amount                   float64\n",
      "mta_tax                      float64\n",
      "passenger_count                int64\n",
      "pickup_longitude             float64\n",
      "pickup_latitude              float64\n",
      "rate_code                      int64\n",
      "dropoff_longitude            float64\n",
      "dropoff_latitude             float64\n",
      "payment_type                  object\n",
      "surcharge                    float64\n",
      "fare_amount                  float64\n",
      "diff_days            timedelta64[ns]\n",
      "travel time                  float64\n",
      "pickup_hour                    int64\n",
      "Weekday                        int64\n",
      "dtype: object\n"
     ]
    }
   ],
   "source": [
    "print(data_r.isnull(). sum() , data_r.dtypes) "
   ]
  },
  {
   "cell_type": "markdown",
   "metadata": {},
   "source": [
    "Visualizing the missing values."
   ]
  },
  {
   "cell_type": "code",
   "execution_count": 19,
   "metadata": {},
   "outputs": [
    {
     "data": {
      "text/plain": [
       "<matplotlib.axes._subplots.AxesSubplot at 0x1f4f724a748>"
      ]
     },
     "execution_count": 19,
     "metadata": {},
     "output_type": "execute_result"
    },
    {
     "data": {
      "image/png": "[encoded data removed]",
      "text/plain": [
       "<Figure size 1800x720 with 2 Axes>"
      ]
     },
     "metadata": {
      "needs_background": "light"
     },
     "output_type": "display_data"
    }
   ],
   "source": [
    "msno.matrix(data_r)"
   ]
  },
  {
   "cell_type": "markdown",
   "metadata": {},
   "source": [
    "Data type conversion."
   ]
  },
  {
   "cell_type": "code",
   "execution_count": 20,
   "metadata": {},
   "outputs": [
    {
     "data": {
      "text/plain": [
       "TID                         category\n",
       "vendor_id                   category\n",
       "new_user                    category\n",
       "tolls_amount                 float64\n",
       "tip_amount                   float64\n",
       "mta_tax                      float64\n",
       "passenger_count                int64\n",
       "pickup_longitude             float64\n",
       "pickup_latitude              float64\n",
       "rate_code                      int64\n",
       "dropoff_longitude            float64\n",
       "dropoff_latitude             float64\n",
       "payment_type                category\n",
       "surcharge                    float64\n",
       "fare_amount                  float64\n",
       "diff_days            timedelta64[ns]\n",
       "travel time                  float64\n",
       "pickup_hour                    int64\n",
       "Weekday                        int64\n",
       "dtype: object"
      ]
     },
     "execution_count": 20,
     "metadata": {},
     "output_type": "execute_result"
    }
   ],
   "source": [
    "for i in data_r.columns:\n",
    "    if data_r[i].dtypes == 'object':\n",
    "        data_r[i] = data_r[i].astype(\"category\")\n",
    "        \n",
    "data_r.dtypes"
   ]
  },
  {
   "cell_type": "markdown",
   "metadata": {},
   "source": [
    "Imputing float columns with mean and the new_user column with mode."
   ]
  },
  {
   "cell_type": "code",
   "execution_count": 21,
   "metadata": {},
   "outputs": [
    {
     "data": {
      "text/plain": [
       "TID                     0\n",
       "vendor_id               0\n",
       "new_user                0\n",
       "tolls_amount            0\n",
       "tip_amount              0\n",
       "mta_tax                 0\n",
       "passenger_count         0\n",
       "pickup_longitude     3555\n",
       "pickup_latitude      2401\n",
       "rate_code               0\n",
       "dropoff_longitude     364\n",
       "dropoff_latitude      565\n",
       "payment_type            0\n",
       "surcharge               0\n",
       "fare_amount             0\n",
       "diff_days               0\n",
       "travel time             0\n",
       "pickup_hour             0\n",
       "Weekday                 0\n",
       "dtype: int64"
      ]
     },
     "execution_count": 21,
     "metadata": {},
     "output_type": "execute_result"
    }
   ],
   "source": [
    "#Imputation\n",
    "data_r[\"tip_amount\"] = data_r['tip_amount'].fillna(data_r[\"tip_amount\"].mean())\n",
    "data_r[\"new_user\"] = data_r[\"new_user\"].fillna(data_r[\"new_user\"].mode()[0])\n",
    "data_r[\"surcharge\"] = data_r['surcharge'].fillna(data_r['surcharge'].mean())\n",
    "data_r.isnull().sum()"
   ]
  },
  {
   "cell_type": "code",
   "execution_count": 22,
   "metadata": {},
   "outputs": [],
   "source": [
    "#To impute pickup longitude and latitude -knn?"
   ]
  },
  {
   "cell_type": "markdown",
   "metadata": {},
   "source": [
    "Dropping columns which have NA values for longitude and latitude"
   ]
  },
  {
   "cell_type": "code",
   "execution_count": 23,
   "metadata": {},
   "outputs": [
    {
     "name": "stdout",
     "output_type": "stream",
     "text": [
      "(112613, 19)\n",
      "\n",
      " TID                  0\n",
      "vendor_id            0\n",
      "new_user             0\n",
      "tolls_amount         0\n",
      "tip_amount           0\n",
      "mta_tax              0\n",
      "passenger_count      0\n",
      "pickup_longitude     0\n",
      "pickup_latitude      0\n",
      "rate_code            0\n",
      "dropoff_longitude    0\n",
      "dropoff_latitude     0\n",
      "payment_type         0\n",
      "surcharge            0\n",
      "fare_amount          0\n",
      "diff_days            0\n",
      "travel time          0\n",
      "pickup_hour          0\n",
      "Weekday              0\n",
      "dtype: int64\n"
     ]
    }
   ],
   "source": [
    "new_data = data_r.dropna(axis = 0, how = 'any')\n",
    "print(new_data.shape)\n",
    "print(\"\\n\", new_data.isnull().sum())"
   ]
  },
  {
   "cell_type": "markdown",
   "metadata": {},
   "source": [
    "### Feature engineering for Pickup & dropoff latitude and longitude."
   ]
  },
  {
   "cell_type": "code",
   "execution_count": 24,
   "metadata": {},
   "outputs": [
    {
     "name": "stdout",
     "output_type": "stream",
     "text": [
      "Requirement already satisfied: vincenty in c:\\users\\urmili\\anaconda3\\lib\\site-packages (0.1.4)\n"
     ]
    }
   ],
   "source": [
    "! pip install vincenty\n",
    "from vincenty import vincenty"
   ]
  },
  {
   "cell_type": "code",
   "execution_count": 25,
   "metadata": {},
   "outputs": [
    {
     "name": "stderr",
     "output_type": "stream",
     "text": [
      "C:\\Users\\UrMili\\Anaconda3\\lib\\site-packages\\ipykernel_launcher.py:1: SettingWithCopyWarning: \n",
      "A value is trying to be set on a copy of a slice from a DataFrame.\n",
      "Try using .loc[row_indexer,col_indexer] = value instead\n",
      "\n",
      "See the caveats in the documentation: http://pandas.pydata.org/pandas-docs/stable/indexing.html#indexing-view-versus-copy\n",
      "  \"\"\"Entry point for launching an IPython kernel.\n"
     ]
    },
    {
     "data": {
      "text/html": [
       "<div>\n",
       "<style scoped>\n",
       "    .dataframe tbody tr th:only-of-type {\n",
       "        vertical-align: middle;\n",
       "    }\n",
       "\n",
       "    .dataframe tbody tr th {\n",
       "        vertical-align: top;\n",
       "    }\n",
       "\n",
       "    .dataframe thead th {\n",
       "        text-align: right;\n",
       "    }\n",
       "</style>\n",
       "<table border=\"1\" class=\"dataframe\">\n",
       "  <thead>\n",
       "    <tr style=\"text-align: right;\">\n",
       "      <th></th>\n",
       "      <th>TID</th>\n",
       "      <th>vendor_id</th>\n",
       "      <th>new_user</th>\n",
       "      <th>tolls_amount</th>\n",
       "      <th>tip_amount</th>\n",
       "      <th>mta_tax</th>\n",
       "      <th>passenger_count</th>\n",
       "      <th>pickup_longitude</th>\n",
       "      <th>pickup_latitude</th>\n",
       "      <th>rate_code</th>\n",
       "      <th>dropoff_longitude</th>\n",
       "      <th>dropoff_latitude</th>\n",
       "      <th>payment_type</th>\n",
       "      <th>surcharge</th>\n",
       "      <th>fare_amount</th>\n",
       "      <th>diff_days</th>\n",
       "      <th>travel time</th>\n",
       "      <th>pickup_hour</th>\n",
       "      <th>Weekday</th>\n",
       "      <th>dist_travel</th>\n",
       "    </tr>\n",
       "  </thead>\n",
       "  <tbody>\n",
       "    <tr>\n",
       "      <th>0</th>\n",
       "      <td>AIX000345005</td>\n",
       "      <td>DST000401</td>\n",
       "      <td>NO</td>\n",
       "      <td>0.0</td>\n",
       "      <td>0.000000</td>\n",
       "      <td>0.5</td>\n",
       "      <td>1</td>\n",
       "      <td>-74.004657</td>\n",
       "      <td>40.707434</td>\n",
       "      <td>1</td>\n",
       "      <td>-73.999369</td>\n",
       "      <td>40.721517</td>\n",
       "      <td>CSH</td>\n",
       "      <td>0.0</td>\n",
       "      <td>10.0</td>\n",
       "      <td>0 days</td>\n",
       "      <td>822.0</td>\n",
       "      <td>13</td>\n",
       "      <td>2</td>\n",
       "      <td>1.626473</td>\n",
       "    </tr>\n",
       "    <tr>\n",
       "      <th>1</th>\n",
       "      <td>AIX000345019</td>\n",
       "      <td>DST000401</td>\n",
       "      <td>NO</td>\n",
       "      <td>0.0</td>\n",
       "      <td>0.000000</td>\n",
       "      <td>0.5</td>\n",
       "      <td>1</td>\n",
       "      <td>-73.995108</td>\n",
       "      <td>40.755005</td>\n",
       "      <td>1</td>\n",
       "      <td>-73.989492</td>\n",
       "      <td>40.745640</td>\n",
       "      <td>CSH</td>\n",
       "      <td>0.5</td>\n",
       "      <td>6.5</td>\n",
       "      <td>0 days</td>\n",
       "      <td>265.0</td>\n",
       "      <td>20</td>\n",
       "      <td>5</td>\n",
       "      <td>1.143018</td>\n",
       "    </tr>\n",
       "    <tr>\n",
       "      <th>2</th>\n",
       "      <td>AIX000345026</td>\n",
       "      <td>DST000401</td>\n",
       "      <td>NO</td>\n",
       "      <td>0.0</td>\n",
       "      <td>1.556469</td>\n",
       "      <td>0.5</td>\n",
       "      <td>1</td>\n",
       "      <td>-73.969530</td>\n",
       "      <td>40.790267</td>\n",
       "      <td>1</td>\n",
       "      <td>-73.987282</td>\n",
       "      <td>40.766865</td>\n",
       "      <td>CRD</td>\n",
       "      <td>0.0</td>\n",
       "      <td>10.6</td>\n",
       "      <td>0 days</td>\n",
       "      <td>540.0</td>\n",
       "      <td>9</td>\n",
       "      <td>1</td>\n",
       "      <td>2.999890</td>\n",
       "    </tr>\n",
       "    <tr>\n",
       "      <th>3</th>\n",
       "      <td>AIX000345034</td>\n",
       "      <td>DST000401</td>\n",
       "      <td>NO</td>\n",
       "      <td>0.0</td>\n",
       "      <td>1.700000</td>\n",
       "      <td>0.5</td>\n",
       "      <td>1</td>\n",
       "      <td>-73.977336</td>\n",
       "      <td>40.742819</td>\n",
       "      <td>1</td>\n",
       "      <td>-73.993617</td>\n",
       "      <td>40.721326</td>\n",
       "      <td>CRD</td>\n",
       "      <td>0.5</td>\n",
       "      <td>10.2</td>\n",
       "      <td>0 days</td>\n",
       "      <td>334.0</td>\n",
       "      <td>23</td>\n",
       "      <td>3</td>\n",
       "      <td>2.754673</td>\n",
       "    </tr>\n",
       "    <tr>\n",
       "      <th>4</th>\n",
       "      <td>AIX000345052</td>\n",
       "      <td>DST000401</td>\n",
       "      <td>NO</td>\n",
       "      <td>0.0</td>\n",
       "      <td>1.000000</td>\n",
       "      <td>0.5</td>\n",
       "      <td>1</td>\n",
       "      <td>-73.998653</td>\n",
       "      <td>40.715607</td>\n",
       "      <td>1</td>\n",
       "      <td>-73.988385</td>\n",
       "      <td>40.723130</td>\n",
       "      <td>CRD</td>\n",
       "      <td>0.5</td>\n",
       "      <td>8.5</td>\n",
       "      <td>0 days</td>\n",
       "      <td>329.0</td>\n",
       "      <td>1</td>\n",
       "      <td>4</td>\n",
       "      <td>1.204397</td>\n",
       "    </tr>\n",
       "  </tbody>\n",
       "</table>\n",
       "</div>"
      ],
      "text/plain": [
       "            TID  vendor_id new_user  tolls_amount  tip_amount  mta_tax  \\\n",
       "0  AIX000345005  DST000401       NO           0.0    0.000000      0.5   \n",
       "1  AIX000345019  DST000401       NO           0.0    0.000000      0.5   \n",
       "2  AIX000345026  DST000401       NO           0.0    1.556469      0.5   \n",
       "3  AIX000345034  DST000401       NO           0.0    1.700000      0.5   \n",
       "4  AIX000345052  DST000401       NO           0.0    1.000000      0.5   \n",
       "\n",
       "   passenger_count  pickup_longitude  pickup_latitude  rate_code  \\\n",
       "0                1        -74.004657        40.707434          1   \n",
       "1                1        -73.995108        40.755005          1   \n",
       "2                1        -73.969530        40.790267          1   \n",
       "3                1        -73.977336        40.742819          1   \n",
       "4                1        -73.998653        40.715607          1   \n",
       "\n",
       "   dropoff_longitude  dropoff_latitude payment_type  surcharge  fare_amount  \\\n",
       "0         -73.999369         40.721517          CSH        0.0         10.0   \n",
       "1         -73.989492         40.745640          CSH        0.5          6.5   \n",
       "2         -73.987282         40.766865          CRD        0.0         10.6   \n",
       "3         -73.993617         40.721326          CRD        0.5         10.2   \n",
       "4         -73.988385         40.723130          CRD        0.5          8.5   \n",
       "\n",
       "  diff_days  travel time  pickup_hour  Weekday  dist_travel  \n",
       "0    0 days        822.0           13        2     1.626473  \n",
       "1    0 days        265.0           20        5     1.143018  \n",
       "2    0 days        540.0            9        1     2.999890  \n",
       "3    0 days        334.0           23        3     2.754673  \n",
       "4    0 days        329.0            1        4     1.204397  "
      ]
     },
     "execution_count": 25,
     "metadata": {},
     "output_type": "execute_result"
    }
   ],
   "source": [
    "new_data['dist_travel'] = new_data.apply(lambda x: vincenty((x[8], x[7]), (x[11], x[10])), axis = 1)\n",
    "#new_data['dist_travel'] = new_data.apply(lambda x: vincenty(x[18], x[19]), axis = 1)\n",
    "new_data.head()\n",
    "#the distance travelled is in km"
   ]
  },
  {
   "cell_type": "markdown",
   "metadata": {},
   "source": [
    "Just to check whether vincenty distance was calculated properly. we calculate for the first observation."
   ]
  },
  {
   "cell_type": "code",
   "execution_count": 26,
   "metadata": {},
   "outputs": [
    {
     "data": {
      "text/plain": [
       "1.626473"
      ]
     },
     "execution_count": 26,
     "metadata": {},
     "output_type": "execute_result"
    }
   ],
   "source": [
    "x = (40.707434, -74.004657)\n",
    "y = (40.721517, -73.999369)\n",
    "di = vincenty(x,y)\n",
    "di"
   ]
  },
  {
   "cell_type": "code",
   "execution_count": 27,
   "metadata": {},
   "outputs": [
    {
     "name": "stdout",
     "output_type": "stream",
     "text": [
      "Requirement already satisfied: geopy in c:\\users\\urmili\\anaconda3\\lib\\site-packages (1.20.0)\n",
      "Requirement already satisfied: geographiclib<2,>=1.49 in c:\\users\\urmili\\anaconda3\\lib\\site-packages (from geopy) (1.49)\n",
      "Requirement already satisfied: pygeocoder in c:\\users\\urmili\\anaconda3\\lib\\site-packages (1.2.5)\n",
      "Requirement already satisfied: requests>=1.0 in c:\\users\\urmili\\anaconda3\\lib\\site-packages (from pygeocoder) (2.21.0)\n",
      "Requirement already satisfied: certifi>=2017.4.17 in c:\\users\\urmili\\anaconda3\\lib\\site-packages (from requests>=1.0->pygeocoder) (2019.6.16)\n",
      "Requirement already satisfied: urllib3<1.25,>=1.21.1 in c:\\users\\urmili\\anaconda3\\lib\\site-packages (from requests>=1.0->pygeocoder) (1.24.1)\n",
      "Requirement already satisfied: idna<2.9,>=2.5 in c:\\users\\urmili\\anaconda3\\lib\\site-packages (from requests>=1.0->pygeocoder) (2.8)\n",
      "Requirement already satisfied: chardet<3.1.0,>=3.0.2 in c:\\users\\urmili\\anaconda3\\lib\\site-packages (from requests>=1.0->pygeocoder) (3.0.4)\n",
      "Requirement already satisfied: pygeohash in c:\\users\\urmili\\anaconda3\\lib\\site-packages (1.2.0)\n"
     ]
    }
   ],
   "source": [
    "! pip install geopy\n",
    "from geopy.geocoders import Nominatim\n",
    "\n",
    "!pip install pygeocoder\n",
    "from pygeocoder import Geocoder\n",
    "\n",
    "!pip install pygeohash\n",
    "import pygeohash as gh"
   ]
  },
  {
   "cell_type": "code",
   "execution_count": 28,
   "metadata": {},
   "outputs": [
    {
     "name": "stderr",
     "output_type": "stream",
     "text": [
      "C:\\Users\\UrMili\\Anaconda3\\lib\\site-packages\\ipykernel_launcher.py:1: SettingWithCopyWarning: \n",
      "A value is trying to be set on a copy of a slice from a DataFrame.\n",
      "Try using .loc[row_indexer,col_indexer] = value instead\n",
      "\n",
      "See the caveats in the documentation: http://pandas.pydata.org/pandas-docs/stable/indexing.html#indexing-view-versus-copy\n",
      "  \"\"\"Entry point for launching an IPython kernel.\n",
      "C:\\Users\\UrMili\\Anaconda3\\lib\\site-packages\\ipykernel_launcher.py:2: SettingWithCopyWarning: \n",
      "A value is trying to be set on a copy of a slice from a DataFrame.\n",
      "Try using .loc[row_indexer,col_indexer] = value instead\n",
      "\n",
      "See the caveats in the documentation: http://pandas.pydata.org/pandas-docs/stable/indexing.html#indexing-view-versus-copy\n",
      "  \n"
     ]
    },
    {
     "data": {
      "text/html": [
       "<div>\n",
       "<style scoped>\n",
       "    .dataframe tbody tr th:only-of-type {\n",
       "        vertical-align: middle;\n",
       "    }\n",
       "\n",
       "    .dataframe tbody tr th {\n",
       "        vertical-align: top;\n",
       "    }\n",
       "\n",
       "    .dataframe thead th {\n",
       "        text-align: right;\n",
       "    }\n",
       "</style>\n",
       "<table border=\"1\" class=\"dataframe\">\n",
       "  <thead>\n",
       "    <tr style=\"text-align: right;\">\n",
       "      <th></th>\n",
       "      <th>TID</th>\n",
       "      <th>vendor_id</th>\n",
       "      <th>new_user</th>\n",
       "      <th>tolls_amount</th>\n",
       "      <th>tip_amount</th>\n",
       "      <th>mta_tax</th>\n",
       "      <th>passenger_count</th>\n",
       "      <th>pickup_longitude</th>\n",
       "      <th>pickup_latitude</th>\n",
       "      <th>rate_code</th>\n",
       "      <th>...</th>\n",
       "      <th>payment_type</th>\n",
       "      <th>surcharge</th>\n",
       "      <th>fare_amount</th>\n",
       "      <th>diff_days</th>\n",
       "      <th>travel time</th>\n",
       "      <th>pickup_hour</th>\n",
       "      <th>Weekday</th>\n",
       "      <th>dist_travel</th>\n",
       "      <th>pickup_geohash</th>\n",
       "      <th>dropoff_geohash</th>\n",
       "    </tr>\n",
       "  </thead>\n",
       "  <tbody>\n",
       "    <tr>\n",
       "      <th>0</th>\n",
       "      <td>AIX000345005</td>\n",
       "      <td>DST000401</td>\n",
       "      <td>NO</td>\n",
       "      <td>0.0</td>\n",
       "      <td>0.000000</td>\n",
       "      <td>0.5</td>\n",
       "      <td>1</td>\n",
       "      <td>-74.004657</td>\n",
       "      <td>40.707434</td>\n",
       "      <td>1</td>\n",
       "      <td>...</td>\n",
       "      <td>CSH</td>\n",
       "      <td>0.0</td>\n",
       "      <td>10.0</td>\n",
       "      <td>0 days</td>\n",
       "      <td>822.0</td>\n",
       "      <td>13</td>\n",
       "      <td>2</td>\n",
       "      <td>1.626473</td>\n",
       "      <td>dr5re</td>\n",
       "      <td>dr5rs</td>\n",
       "    </tr>\n",
       "    <tr>\n",
       "      <th>1</th>\n",
       "      <td>AIX000345019</td>\n",
       "      <td>DST000401</td>\n",
       "      <td>NO</td>\n",
       "      <td>0.0</td>\n",
       "      <td>0.000000</td>\n",
       "      <td>0.5</td>\n",
       "      <td>1</td>\n",
       "      <td>-73.995108</td>\n",
       "      <td>40.755005</td>\n",
       "      <td>1</td>\n",
       "      <td>...</td>\n",
       "      <td>CSH</td>\n",
       "      <td>0.5</td>\n",
       "      <td>6.5</td>\n",
       "      <td>0 days</td>\n",
       "      <td>265.0</td>\n",
       "      <td>20</td>\n",
       "      <td>5</td>\n",
       "      <td>1.143018</td>\n",
       "      <td>dr5ru</td>\n",
       "      <td>dr5ru</td>\n",
       "    </tr>\n",
       "    <tr>\n",
       "      <th>2</th>\n",
       "      <td>AIX000345026</td>\n",
       "      <td>DST000401</td>\n",
       "      <td>NO</td>\n",
       "      <td>0.0</td>\n",
       "      <td>1.556469</td>\n",
       "      <td>0.5</td>\n",
       "      <td>1</td>\n",
       "      <td>-73.969530</td>\n",
       "      <td>40.790267</td>\n",
       "      <td>1</td>\n",
       "      <td>...</td>\n",
       "      <td>CRD</td>\n",
       "      <td>0.0</td>\n",
       "      <td>10.6</td>\n",
       "      <td>0 days</td>\n",
       "      <td>540.0</td>\n",
       "      <td>9</td>\n",
       "      <td>1</td>\n",
       "      <td>2.999890</td>\n",
       "      <td>dr72h</td>\n",
       "      <td>dr5ru</td>\n",
       "    </tr>\n",
       "    <tr>\n",
       "      <th>3</th>\n",
       "      <td>AIX000345034</td>\n",
       "      <td>DST000401</td>\n",
       "      <td>NO</td>\n",
       "      <td>0.0</td>\n",
       "      <td>1.700000</td>\n",
       "      <td>0.5</td>\n",
       "      <td>1</td>\n",
       "      <td>-73.977336</td>\n",
       "      <td>40.742819</td>\n",
       "      <td>1</td>\n",
       "      <td>...</td>\n",
       "      <td>CRD</td>\n",
       "      <td>0.5</td>\n",
       "      <td>10.2</td>\n",
       "      <td>0 days</td>\n",
       "      <td>334.0</td>\n",
       "      <td>23</td>\n",
       "      <td>3</td>\n",
       "      <td>2.754673</td>\n",
       "      <td>dr5ru</td>\n",
       "      <td>dr5rs</td>\n",
       "    </tr>\n",
       "    <tr>\n",
       "      <th>4</th>\n",
       "      <td>AIX000345052</td>\n",
       "      <td>DST000401</td>\n",
       "      <td>NO</td>\n",
       "      <td>0.0</td>\n",
       "      <td>1.000000</td>\n",
       "      <td>0.5</td>\n",
       "      <td>1</td>\n",
       "      <td>-73.998653</td>\n",
       "      <td>40.715607</td>\n",
       "      <td>1</td>\n",
       "      <td>...</td>\n",
       "      <td>CRD</td>\n",
       "      <td>0.5</td>\n",
       "      <td>8.5</td>\n",
       "      <td>0 days</td>\n",
       "      <td>329.0</td>\n",
       "      <td>1</td>\n",
       "      <td>4</td>\n",
       "      <td>1.204397</td>\n",
       "      <td>dr5rs</td>\n",
       "      <td>dr5rs</td>\n",
       "    </tr>\n",
       "  </tbody>\n",
       "</table>\n",
       "<p>5 rows × 22 columns</p>\n",
       "</div>"
      ],
      "text/plain": [
       "            TID  vendor_id new_user  tolls_amount  tip_amount  mta_tax  \\\n",
       "0  AIX000345005  DST000401       NO           0.0    0.000000      0.5   \n",
       "1  AIX000345019  DST000401       NO           0.0    0.000000      0.5   \n",
       "2  AIX000345026  DST000401       NO           0.0    1.556469      0.5   \n",
       "3  AIX000345034  DST000401       NO           0.0    1.700000      0.5   \n",
       "4  AIX000345052  DST000401       NO           0.0    1.000000      0.5   \n",
       "\n",
       "   passenger_count  pickup_longitude  pickup_latitude  rate_code  ...  \\\n",
       "0                1        -74.004657        40.707434          1  ...   \n",
       "1                1        -73.995108        40.755005          1  ...   \n",
       "2                1        -73.969530        40.790267          1  ...   \n",
       "3                1        -73.977336        40.742819          1  ...   \n",
       "4                1        -73.998653        40.715607          1  ...   \n",
       "\n",
       "   payment_type  surcharge fare_amount  diff_days  travel time pickup_hour  \\\n",
       "0           CSH        0.0        10.0     0 days        822.0          13   \n",
       "1           CSH        0.5         6.5     0 days        265.0          20   \n",
       "2           CRD        0.0        10.6     0 days        540.0           9   \n",
       "3           CRD        0.5        10.2     0 days        334.0          23   \n",
       "4           CRD        0.5         8.5     0 days        329.0           1   \n",
       "\n",
       "   Weekday  dist_travel  pickup_geohash  dropoff_geohash  \n",
       "0        2     1.626473           dr5re            dr5rs  \n",
       "1        5     1.143018           dr5ru            dr5ru  \n",
       "2        1     2.999890           dr72h            dr5ru  \n",
       "3        3     2.754673           dr5ru            dr5rs  \n",
       "4        4     1.204397           dr5rs            dr5rs  \n",
       "\n",
       "[5 rows x 22 columns]"
      ]
     },
     "execution_count": 28,
     "metadata": {},
     "output_type": "execute_result"
    }
   ],
   "source": [
    "new_data[\"pickup_geohash\"] = new_data.apply(lambda x: gh.encode(x.pickup_latitude, x.pickup_longitude, precision=5), axis=1)\n",
    "new_data[\"dropoff_geohash\"] = new_data.apply(lambda x: gh.encode(x.dropoff_latitude, x.dropoff_longitude, precision=5), axis=1)\n",
    "new_data.head()"
   ]
  },
  {
   "cell_type": "code",
   "execution_count": 29,
   "metadata": {},
   "outputs": [
    {
     "name": "stdout",
     "output_type": "stream",
     "text": [
      "new_user           category\n",
      "tolls_amount        float64\n",
      "tip_amount          float64\n",
      "mta_tax             float64\n",
      "passenger_count       int64\n",
      "rate_code             int64\n",
      "payment_type       category\n",
      "surcharge           float64\n",
      "fare_amount         float64\n",
      "travel time         float64\n",
      "pickup_hour           int64\n",
      "Weekday               int64\n",
      "dist_travel         float64\n",
      "pickup_geohash     category\n",
      "dropoff_geohash    category\n",
      "dtype: object\n",
      "\n",
      "\n",
      " pickup_geohash      81\n",
      "dropoff_geohash    135\n",
      "dtype: int64\n"
     ]
    }
   ],
   "source": [
    "final_data = new_data.drop([\"TID\", \"vendor_id\", 'pickup_longitude', 'pickup_latitude','dropoff_longitude', 'dropoff_latitude', 'diff_days'], axis = 1)\n",
    "z = ['pickup_geohash', 'dropoff_geohash']\n",
    "final_data[z] = final_data[z].astype('category')\n",
    "\n",
    "print(final_data.dtypes)\n",
    "print('\\n\\n', final_data[z].nunique())"
   ]
  },
  {
   "cell_type": "code",
   "execution_count": 30,
   "metadata": {},
   "outputs": [],
   "source": [
    "final_data = new_data[[ 'new_user', 'passenger_count','tolls_amount', 'pickup_geohash', 'dropoff_geohash', 'dist_travel', 'travel time','pickup_hour','Weekday', 'rate_code', 'tip_amount', 'mta_tax', 'surcharge', 'payment_type', 'fare_amount']]"
   ]
  },
  {
   "cell_type": "code",
   "execution_count": 31,
   "metadata": {},
   "outputs": [
    {
     "data": {
      "text/html": [
       "<div>\n",
       "<style scoped>\n",
       "    .dataframe tbody tr th:only-of-type {\n",
       "        vertical-align: middle;\n",
       "    }\n",
       "\n",
       "    .dataframe tbody tr th {\n",
       "        vertical-align: top;\n",
       "    }\n",
       "\n",
       "    .dataframe thead th {\n",
       "        text-align: right;\n",
       "    }\n",
       "</style>\n",
       "<table border=\"1\" class=\"dataframe\">\n",
       "  <thead>\n",
       "    <tr style=\"text-align: right;\">\n",
       "      <th></th>\n",
       "      <th>new_user</th>\n",
       "      <th>passenger_count</th>\n",
       "      <th>tolls_amount</th>\n",
       "      <th>pickup_geohash</th>\n",
       "      <th>dropoff_geohash</th>\n",
       "      <th>dist_travel</th>\n",
       "      <th>travel time</th>\n",
       "      <th>pickup_hour</th>\n",
       "      <th>Weekday</th>\n",
       "      <th>rate_code</th>\n",
       "      <th>tip_amount</th>\n",
       "      <th>mta_tax</th>\n",
       "      <th>surcharge</th>\n",
       "      <th>payment_type</th>\n",
       "      <th>fare_amount</th>\n",
       "    </tr>\n",
       "  </thead>\n",
       "  <tbody>\n",
       "    <tr>\n",
       "      <th>0</th>\n",
       "      <td>NO</td>\n",
       "      <td>1</td>\n",
       "      <td>0.0</td>\n",
       "      <td>dr5re</td>\n",
       "      <td>dr5rs</td>\n",
       "      <td>1.626473</td>\n",
       "      <td>822.0</td>\n",
       "      <td>13</td>\n",
       "      <td>2</td>\n",
       "      <td>1</td>\n",
       "      <td>0.000000</td>\n",
       "      <td>0.5</td>\n",
       "      <td>0.0</td>\n",
       "      <td>CSH</td>\n",
       "      <td>10.0</td>\n",
       "    </tr>\n",
       "    <tr>\n",
       "      <th>1</th>\n",
       "      <td>NO</td>\n",
       "      <td>1</td>\n",
       "      <td>0.0</td>\n",
       "      <td>dr5ru</td>\n",
       "      <td>dr5ru</td>\n",
       "      <td>1.143018</td>\n",
       "      <td>265.0</td>\n",
       "      <td>20</td>\n",
       "      <td>5</td>\n",
       "      <td>1</td>\n",
       "      <td>0.000000</td>\n",
       "      <td>0.5</td>\n",
       "      <td>0.5</td>\n",
       "      <td>CSH</td>\n",
       "      <td>6.5</td>\n",
       "    </tr>\n",
       "    <tr>\n",
       "      <th>2</th>\n",
       "      <td>NO</td>\n",
       "      <td>1</td>\n",
       "      <td>0.0</td>\n",
       "      <td>dr72h</td>\n",
       "      <td>dr5ru</td>\n",
       "      <td>2.999890</td>\n",
       "      <td>540.0</td>\n",
       "      <td>9</td>\n",
       "      <td>1</td>\n",
       "      <td>1</td>\n",
       "      <td>1.556469</td>\n",
       "      <td>0.5</td>\n",
       "      <td>0.0</td>\n",
       "      <td>CRD</td>\n",
       "      <td>10.6</td>\n",
       "    </tr>\n",
       "    <tr>\n",
       "      <th>3</th>\n",
       "      <td>NO</td>\n",
       "      <td>1</td>\n",
       "      <td>0.0</td>\n",
       "      <td>dr5ru</td>\n",
       "      <td>dr5rs</td>\n",
       "      <td>2.754673</td>\n",
       "      <td>334.0</td>\n",
       "      <td>23</td>\n",
       "      <td>3</td>\n",
       "      <td>1</td>\n",
       "      <td>1.700000</td>\n",
       "      <td>0.5</td>\n",
       "      <td>0.5</td>\n",
       "      <td>CRD</td>\n",
       "      <td>10.2</td>\n",
       "    </tr>\n",
       "    <tr>\n",
       "      <th>4</th>\n",
       "      <td>NO</td>\n",
       "      <td>1</td>\n",
       "      <td>0.0</td>\n",
       "      <td>dr5rs</td>\n",
       "      <td>dr5rs</td>\n",
       "      <td>1.204397</td>\n",
       "      <td>329.0</td>\n",
       "      <td>1</td>\n",
       "      <td>4</td>\n",
       "      <td>1</td>\n",
       "      <td>1.000000</td>\n",
       "      <td>0.5</td>\n",
       "      <td>0.5</td>\n",
       "      <td>CRD</td>\n",
       "      <td>8.5</td>\n",
       "    </tr>\n",
       "  </tbody>\n",
       "</table>\n",
       "</div>"
      ],
      "text/plain": [
       "  new_user  passenger_count  tolls_amount pickup_geohash dropoff_geohash  \\\n",
       "0       NO                1           0.0          dr5re           dr5rs   \n",
       "1       NO                1           0.0          dr5ru           dr5ru   \n",
       "2       NO                1           0.0          dr72h           dr5ru   \n",
       "3       NO                1           0.0          dr5ru           dr5rs   \n",
       "4       NO                1           0.0          dr5rs           dr5rs   \n",
       "\n",
       "   dist_travel  travel time  pickup_hour  Weekday  rate_code  tip_amount  \\\n",
       "0     1.626473        822.0           13        2          1    0.000000   \n",
       "1     1.143018        265.0           20        5          1    0.000000   \n",
       "2     2.999890        540.0            9        1          1    1.556469   \n",
       "3     2.754673        334.0           23        3          1    1.700000   \n",
       "4     1.204397        329.0            1        4          1    1.000000   \n",
       "\n",
       "   mta_tax  surcharge payment_type  fare_amount  \n",
       "0      0.5        0.0          CSH         10.0  \n",
       "1      0.5        0.5          CSH          6.5  \n",
       "2      0.5        0.0          CRD         10.6  \n",
       "3      0.5        0.5          CRD         10.2  \n",
       "4      0.5        0.5          CRD          8.5  "
      ]
     },
     "execution_count": 31,
     "metadata": {},
     "output_type": "execute_result"
    }
   ],
   "source": [
    "final_data.head()"
   ]
  },
  {
   "cell_type": "markdown",
   "metadata": {},
   "source": [
    "The geohash location '7zzzz' is in water. So we need to drop those."
   ]
  },
  {
   "cell_type": "code",
   "execution_count": 32,
   "metadata": {},
   "outputs": [
    {
     "data": {
      "text/html": [
       "<div>\n",
       "<style scoped>\n",
       "    .dataframe tbody tr th:only-of-type {\n",
       "        vertical-align: middle;\n",
       "    }\n",
       "\n",
       "    .dataframe tbody tr th {\n",
       "        vertical-align: top;\n",
       "    }\n",
       "\n",
       "    .dataframe thead th {\n",
       "        text-align: right;\n",
       "    }\n",
       "</style>\n",
       "<table border=\"1\" class=\"dataframe\">\n",
       "  <thead>\n",
       "    <tr style=\"text-align: right;\">\n",
       "      <th></th>\n",
       "      <th>new_user</th>\n",
       "      <th>passenger_count</th>\n",
       "      <th>tolls_amount</th>\n",
       "      <th>pickup_geohash</th>\n",
       "      <th>dropoff_geohash</th>\n",
       "      <th>dist_travel</th>\n",
       "      <th>travel time</th>\n",
       "      <th>pickup_hour</th>\n",
       "      <th>Weekday</th>\n",
       "      <th>rate_code</th>\n",
       "      <th>tip_amount</th>\n",
       "      <th>mta_tax</th>\n",
       "      <th>surcharge</th>\n",
       "      <th>payment_type</th>\n",
       "      <th>fare_amount</th>\n",
       "    </tr>\n",
       "  </thead>\n",
       "  <tbody>\n",
       "    <tr>\n",
       "      <th>34</th>\n",
       "      <td>NO</td>\n",
       "      <td>4</td>\n",
       "      <td>0.00</td>\n",
       "      <td>7zzzz</td>\n",
       "      <td>7zzzz</td>\n",
       "      <td>0.0</td>\n",
       "      <td>739.0</td>\n",
       "      <td>17</td>\n",
       "      <td>1</td>\n",
       "      <td>1</td>\n",
       "      <td>0.000000</td>\n",
       "      <td>0.5</td>\n",
       "      <td>1.000000</td>\n",
       "      <td>CSH</td>\n",
       "      <td>10.50</td>\n",
       "    </tr>\n",
       "    <tr>\n",
       "      <th>70</th>\n",
       "      <td>NO</td>\n",
       "      <td>1</td>\n",
       "      <td>0.00</td>\n",
       "      <td>7zzzz</td>\n",
       "      <td>7zzzz</td>\n",
       "      <td>0.0</td>\n",
       "      <td>727.0</td>\n",
       "      <td>12</td>\n",
       "      <td>0</td>\n",
       "      <td>1</td>\n",
       "      <td>1.556469</td>\n",
       "      <td>0.5</td>\n",
       "      <td>0.000000</td>\n",
       "      <td>CRD</td>\n",
       "      <td>13.80</td>\n",
       "    </tr>\n",
       "    <tr>\n",
       "      <th>171</th>\n",
       "      <td>NO</td>\n",
       "      <td>1</td>\n",
       "      <td>0.00</td>\n",
       "      <td>7zzzz</td>\n",
       "      <td>7zzzz</td>\n",
       "      <td>0.0</td>\n",
       "      <td>900.0</td>\n",
       "      <td>7</td>\n",
       "      <td>4</td>\n",
       "      <td>1</td>\n",
       "      <td>2.300000</td>\n",
       "      <td>0.5</td>\n",
       "      <td>0.000000</td>\n",
       "      <td>CRD</td>\n",
       "      <td>14.30</td>\n",
       "    </tr>\n",
       "    <tr>\n",
       "      <th>187</th>\n",
       "      <td>NO</td>\n",
       "      <td>1</td>\n",
       "      <td>5.33</td>\n",
       "      <td>7zzzz</td>\n",
       "      <td>7zzzz</td>\n",
       "      <td>0.0</td>\n",
       "      <td>1680.0</td>\n",
       "      <td>4</td>\n",
       "      <td>6</td>\n",
       "      <td>2</td>\n",
       "      <td>5.000000</td>\n",
       "      <td>0.5</td>\n",
       "      <td>0.000000</td>\n",
       "      <td>CRD</td>\n",
       "      <td>62.83</td>\n",
       "    </tr>\n",
       "    <tr>\n",
       "      <th>218</th>\n",
       "      <td>NO</td>\n",
       "      <td>1</td>\n",
       "      <td>0.00</td>\n",
       "      <td>7zzzz</td>\n",
       "      <td>7zzzz</td>\n",
       "      <td>0.0</td>\n",
       "      <td>480.0</td>\n",
       "      <td>0</td>\n",
       "      <td>6</td>\n",
       "      <td>1</td>\n",
       "      <td>0.000000</td>\n",
       "      <td>0.5</td>\n",
       "      <td>0.500000</td>\n",
       "      <td>CRD</td>\n",
       "      <td>10.50</td>\n",
       "    </tr>\n",
       "    <tr>\n",
       "      <th>298</th>\n",
       "      <td>NO</td>\n",
       "      <td>1</td>\n",
       "      <td>0.00</td>\n",
       "      <td>7zzzz</td>\n",
       "      <td>7zzzz</td>\n",
       "      <td>0.0</td>\n",
       "      <td>312.0</td>\n",
       "      <td>21</td>\n",
       "      <td>1</td>\n",
       "      <td>1</td>\n",
       "      <td>1.500000</td>\n",
       "      <td>0.5</td>\n",
       "      <td>0.500000</td>\n",
       "      <td>CRD</td>\n",
       "      <td>9.00</td>\n",
       "    </tr>\n",
       "    <tr>\n",
       "      <th>349</th>\n",
       "      <td>NO</td>\n",
       "      <td>1</td>\n",
       "      <td>0.00</td>\n",
       "      <td>7zzzz</td>\n",
       "      <td>7zzzz</td>\n",
       "      <td>0.0</td>\n",
       "      <td>986.0</td>\n",
       "      <td>8</td>\n",
       "      <td>5</td>\n",
       "      <td>1</td>\n",
       "      <td>2.000000</td>\n",
       "      <td>0.5</td>\n",
       "      <td>0.000000</td>\n",
       "      <td>CRD</td>\n",
       "      <td>17.00</td>\n",
       "    </tr>\n",
       "    <tr>\n",
       "      <th>399</th>\n",
       "      <td>NO</td>\n",
       "      <td>1</td>\n",
       "      <td>0.00</td>\n",
       "      <td>7zzzz</td>\n",
       "      <td>7zzzz</td>\n",
       "      <td>0.0</td>\n",
       "      <td>909.0</td>\n",
       "      <td>0</td>\n",
       "      <td>5</td>\n",
       "      <td>1</td>\n",
       "      <td>3.200000</td>\n",
       "      <td>0.5</td>\n",
       "      <td>0.500000</td>\n",
       "      <td>CRD</td>\n",
       "      <td>19.20</td>\n",
       "    </tr>\n",
       "    <tr>\n",
       "      <th>411</th>\n",
       "      <td>NO</td>\n",
       "      <td>3</td>\n",
       "      <td>0.00</td>\n",
       "      <td>7zzzz</td>\n",
       "      <td>7zzzz</td>\n",
       "      <td>0.0</td>\n",
       "      <td>540.0</td>\n",
       "      <td>16</td>\n",
       "      <td>0</td>\n",
       "      <td>1</td>\n",
       "      <td>1.000000</td>\n",
       "      <td>0.5</td>\n",
       "      <td>0.000000</td>\n",
       "      <td>CRD</td>\n",
       "      <td>11.50</td>\n",
       "    </tr>\n",
       "    <tr>\n",
       "      <th>564</th>\n",
       "      <td>NO</td>\n",
       "      <td>1</td>\n",
       "      <td>0.00</td>\n",
       "      <td>7zzzz</td>\n",
       "      <td>7zzzz</td>\n",
       "      <td>0.0</td>\n",
       "      <td>1073.0</td>\n",
       "      <td>14</td>\n",
       "      <td>3</td>\n",
       "      <td>1</td>\n",
       "      <td>2.800000</td>\n",
       "      <td>0.5</td>\n",
       "      <td>0.317934</td>\n",
       "      <td>CRD</td>\n",
       "      <td>16.80</td>\n",
       "    </tr>\n",
       "    <tr>\n",
       "      <th>624</th>\n",
       "      <td>NO</td>\n",
       "      <td>1</td>\n",
       "      <td>0.00</td>\n",
       "      <td>7zzzz</td>\n",
       "      <td>7zzzz</td>\n",
       "      <td>0.0</td>\n",
       "      <td>300.0</td>\n",
       "      <td>15</td>\n",
       "      <td>2</td>\n",
       "      <td>1</td>\n",
       "      <td>1.000000</td>\n",
       "      <td>0.5</td>\n",
       "      <td>0.000000</td>\n",
       "      <td>CRD</td>\n",
       "      <td>7.00</td>\n",
       "    </tr>\n",
       "    <tr>\n",
       "      <th>635</th>\n",
       "      <td>NO</td>\n",
       "      <td>1</td>\n",
       "      <td>0.00</td>\n",
       "      <td>7zzzz</td>\n",
       "      <td>7zzzz</td>\n",
       "      <td>0.0</td>\n",
       "      <td>668.0</td>\n",
       "      <td>11</td>\n",
       "      <td>2</td>\n",
       "      <td>1</td>\n",
       "      <td>1.556469</td>\n",
       "      <td>0.5</td>\n",
       "      <td>0.000000</td>\n",
       "      <td>CRD</td>\n",
       "      <td>13.20</td>\n",
       "    </tr>\n",
       "    <tr>\n",
       "      <th>680</th>\n",
       "      <td>NO</td>\n",
       "      <td>1</td>\n",
       "      <td>0.00</td>\n",
       "      <td>7zzzz</td>\n",
       "      <td>7zzzz</td>\n",
       "      <td>0.0</td>\n",
       "      <td>109.0</td>\n",
       "      <td>23</td>\n",
       "      <td>3</td>\n",
       "      <td>1</td>\n",
       "      <td>0.000000</td>\n",
       "      <td>0.5</td>\n",
       "      <td>0.500000</td>\n",
       "      <td>CSH</td>\n",
       "      <td>5.00</td>\n",
       "    </tr>\n",
       "    <tr>\n",
       "      <th>735</th>\n",
       "      <td>NO</td>\n",
       "      <td>4</td>\n",
       "      <td>0.00</td>\n",
       "      <td>7zzzz</td>\n",
       "      <td>7zzzz</td>\n",
       "      <td>0.0</td>\n",
       "      <td>681.0</td>\n",
       "      <td>1</td>\n",
       "      <td>1</td>\n",
       "      <td>1</td>\n",
       "      <td>1.000000</td>\n",
       "      <td>0.5</td>\n",
       "      <td>0.500000</td>\n",
       "      <td>CRD</td>\n",
       "      <td>17.00</td>\n",
       "    </tr>\n",
       "    <tr>\n",
       "      <th>740</th>\n",
       "      <td>NO</td>\n",
       "      <td>1</td>\n",
       "      <td>0.00</td>\n",
       "      <td>7zzzz</td>\n",
       "      <td>7zzzz</td>\n",
       "      <td>0.0</td>\n",
       "      <td>591.0</td>\n",
       "      <td>7</td>\n",
       "      <td>2</td>\n",
       "      <td>1</td>\n",
       "      <td>1.556469</td>\n",
       "      <td>0.5</td>\n",
       "      <td>0.000000</td>\n",
       "      <td>CSH</td>\n",
       "      <td>13.00</td>\n",
       "    </tr>\n",
       "    <tr>\n",
       "      <th>778</th>\n",
       "      <td>NO</td>\n",
       "      <td>1</td>\n",
       "      <td>0.00</td>\n",
       "      <td>7zzzz</td>\n",
       "      <td>7zzzz</td>\n",
       "      <td>0.0</td>\n",
       "      <td>164.0</td>\n",
       "      <td>17</td>\n",
       "      <td>3</td>\n",
       "      <td>1</td>\n",
       "      <td>1.500000</td>\n",
       "      <td>0.5</td>\n",
       "      <td>1.000000</td>\n",
       "      <td>CRD</td>\n",
       "      <td>7.50</td>\n",
       "    </tr>\n",
       "    <tr>\n",
       "      <th>807</th>\n",
       "      <td>NO</td>\n",
       "      <td>5</td>\n",
       "      <td>0.00</td>\n",
       "      <td>7zzzz</td>\n",
       "      <td>7zzzz</td>\n",
       "      <td>0.0</td>\n",
       "      <td>180.0</td>\n",
       "      <td>21</td>\n",
       "      <td>0</td>\n",
       "      <td>1</td>\n",
       "      <td>0.000000</td>\n",
       "      <td>0.5</td>\n",
       "      <td>0.500000</td>\n",
       "      <td>CSH</td>\n",
       "      <td>5.00</td>\n",
       "    </tr>\n",
       "    <tr>\n",
       "      <th>837</th>\n",
       "      <td>NO</td>\n",
       "      <td>1</td>\n",
       "      <td>0.00</td>\n",
       "      <td>7zzzz</td>\n",
       "      <td>7zzzz</td>\n",
       "      <td>0.0</td>\n",
       "      <td>1115.0</td>\n",
       "      <td>21</td>\n",
       "      <td>6</td>\n",
       "      <td>1</td>\n",
       "      <td>0.000000</td>\n",
       "      <td>0.5</td>\n",
       "      <td>0.500000</td>\n",
       "      <td>CSH</td>\n",
       "      <td>13.50</td>\n",
       "    </tr>\n",
       "    <tr>\n",
       "      <th>845</th>\n",
       "      <td>NO</td>\n",
       "      <td>2</td>\n",
       "      <td>0.00</td>\n",
       "      <td>7zzzz</td>\n",
       "      <td>7zzzz</td>\n",
       "      <td>0.0</td>\n",
       "      <td>874.0</td>\n",
       "      <td>15</td>\n",
       "      <td>6</td>\n",
       "      <td>1</td>\n",
       "      <td>0.000000</td>\n",
       "      <td>0.5</td>\n",
       "      <td>0.317934</td>\n",
       "      <td>CSH</td>\n",
       "      <td>11.50</td>\n",
       "    </tr>\n",
       "    <tr>\n",
       "      <th>911</th>\n",
       "      <td>NO</td>\n",
       "      <td>1</td>\n",
       "      <td>0.00</td>\n",
       "      <td>7zzzz</td>\n",
       "      <td>7zzzz</td>\n",
       "      <td>0.0</td>\n",
       "      <td>416.0</td>\n",
       "      <td>15</td>\n",
       "      <td>5</td>\n",
       "      <td>1</td>\n",
       "      <td>0.000000</td>\n",
       "      <td>0.5</td>\n",
       "      <td>0.000000</td>\n",
       "      <td>CSH</td>\n",
       "      <td>7.50</td>\n",
       "    </tr>\n",
       "    <tr>\n",
       "      <th>958</th>\n",
       "      <td>NO</td>\n",
       "      <td>2</td>\n",
       "      <td>0.00</td>\n",
       "      <td>7zzzz</td>\n",
       "      <td>7zzzz</td>\n",
       "      <td>0.0</td>\n",
       "      <td>120.0</td>\n",
       "      <td>1</td>\n",
       "      <td>0</td>\n",
       "      <td>1</td>\n",
       "      <td>0.000000</td>\n",
       "      <td>0.5</td>\n",
       "      <td>0.500000</td>\n",
       "      <td>CSH</td>\n",
       "      <td>6.00</td>\n",
       "    </tr>\n",
       "    <tr>\n",
       "      <th>1003</th>\n",
       "      <td>NO</td>\n",
       "      <td>4</td>\n",
       "      <td>0.00</td>\n",
       "      <td>7zzzz</td>\n",
       "      <td>7zzzz</td>\n",
       "      <td>0.0</td>\n",
       "      <td>915.0</td>\n",
       "      <td>19</td>\n",
       "      <td>4</td>\n",
       "      <td>1</td>\n",
       "      <td>0.000000</td>\n",
       "      <td>0.5</td>\n",
       "      <td>1.000000</td>\n",
       "      <td>CSH</td>\n",
       "      <td>11.50</td>\n",
       "    </tr>\n",
       "    <tr>\n",
       "      <th>1049</th>\n",
       "      <td>NO</td>\n",
       "      <td>1</td>\n",
       "      <td>0.00</td>\n",
       "      <td>7zzzz</td>\n",
       "      <td>7zzzz</td>\n",
       "      <td>0.0</td>\n",
       "      <td>483.0</td>\n",
       "      <td>20</td>\n",
       "      <td>3</td>\n",
       "      <td>1</td>\n",
       "      <td>0.100000</td>\n",
       "      <td>0.5</td>\n",
       "      <td>0.500000</td>\n",
       "      <td>CRD</td>\n",
       "      <td>8.60</td>\n",
       "    </tr>\n",
       "    <tr>\n",
       "      <th>1074</th>\n",
       "      <td>NO</td>\n",
       "      <td>1</td>\n",
       "      <td>0.00</td>\n",
       "      <td>7zzzz</td>\n",
       "      <td>7zzzz</td>\n",
       "      <td>0.0</td>\n",
       "      <td>459.0</td>\n",
       "      <td>0</td>\n",
       "      <td>1</td>\n",
       "      <td>1</td>\n",
       "      <td>1.000000</td>\n",
       "      <td>0.5</td>\n",
       "      <td>0.500000</td>\n",
       "      <td>CRD</td>\n",
       "      <td>10.50</td>\n",
       "    </tr>\n",
       "    <tr>\n",
       "      <th>1172</th>\n",
       "      <td>NO</td>\n",
       "      <td>1</td>\n",
       "      <td>0.00</td>\n",
       "      <td>7zzzz</td>\n",
       "      <td>7zzzz</td>\n",
       "      <td>0.0</td>\n",
       "      <td>0.0</td>\n",
       "      <td>23</td>\n",
       "      <td>3</td>\n",
       "      <td>1</td>\n",
       "      <td>0.000000</td>\n",
       "      <td>0.5</td>\n",
       "      <td>0.500000</td>\n",
       "      <td>CSH</td>\n",
       "      <td>3.50</td>\n",
       "    </tr>\n",
       "    <tr>\n",
       "      <th>1191</th>\n",
       "      <td>NO</td>\n",
       "      <td>1</td>\n",
       "      <td>0.00</td>\n",
       "      <td>7zzzz</td>\n",
       "      <td>7zzzz</td>\n",
       "      <td>0.0</td>\n",
       "      <td>669.0</td>\n",
       "      <td>5</td>\n",
       "      <td>1</td>\n",
       "      <td>1</td>\n",
       "      <td>3.120000</td>\n",
       "      <td>0.5</td>\n",
       "      <td>0.500000</td>\n",
       "      <td>CRD</td>\n",
       "      <td>15.62</td>\n",
       "    </tr>\n",
       "    <tr>\n",
       "      <th>1286</th>\n",
       "      <td>NO</td>\n",
       "      <td>1</td>\n",
       "      <td>0.00</td>\n",
       "      <td>7zzzz</td>\n",
       "      <td>7zzzz</td>\n",
       "      <td>0.0</td>\n",
       "      <td>0.0</td>\n",
       "      <td>17</td>\n",
       "      <td>1</td>\n",
       "      <td>1</td>\n",
       "      <td>0.000000</td>\n",
       "      <td>0.5</td>\n",
       "      <td>1.000000</td>\n",
       "      <td>CSH</td>\n",
       "      <td>4.00</td>\n",
       "    </tr>\n",
       "    <tr>\n",
       "      <th>1332</th>\n",
       "      <td>NO</td>\n",
       "      <td>1</td>\n",
       "      <td>0.00</td>\n",
       "      <td>7zzzz</td>\n",
       "      <td>7zzzz</td>\n",
       "      <td>0.0</td>\n",
       "      <td>333.0</td>\n",
       "      <td>11</td>\n",
       "      <td>5</td>\n",
       "      <td>1</td>\n",
       "      <td>0.000000</td>\n",
       "      <td>0.5</td>\n",
       "      <td>0.000000</td>\n",
       "      <td>CSH</td>\n",
       "      <td>6.00</td>\n",
       "    </tr>\n",
       "    <tr>\n",
       "      <th>1430</th>\n",
       "      <td>NO</td>\n",
       "      <td>1</td>\n",
       "      <td>0.00</td>\n",
       "      <td>7zzzz</td>\n",
       "      <td>7zzzz</td>\n",
       "      <td>0.0</td>\n",
       "      <td>579.0</td>\n",
       "      <td>7</td>\n",
       "      <td>4</td>\n",
       "      <td>1</td>\n",
       "      <td>1.000000</td>\n",
       "      <td>0.5</td>\n",
       "      <td>0.000000</td>\n",
       "      <td>CRD</td>\n",
       "      <td>11.50</td>\n",
       "    </tr>\n",
       "    <tr>\n",
       "      <th>1531</th>\n",
       "      <td>NO</td>\n",
       "      <td>1</td>\n",
       "      <td>0.00</td>\n",
       "      <td>7zzzz</td>\n",
       "      <td>7zzzz</td>\n",
       "      <td>0.0</td>\n",
       "      <td>657.0</td>\n",
       "      <td>0</td>\n",
       "      <td>6</td>\n",
       "      <td>1</td>\n",
       "      <td>1.000000</td>\n",
       "      <td>0.5</td>\n",
       "      <td>0.500000</td>\n",
       "      <td>CRD</td>\n",
       "      <td>11.00</td>\n",
       "    </tr>\n",
       "    <tr>\n",
       "      <th>...</th>\n",
       "      <td>...</td>\n",
       "      <td>...</td>\n",
       "      <td>...</td>\n",
       "      <td>...</td>\n",
       "      <td>...</td>\n",
       "      <td>...</td>\n",
       "      <td>...</td>\n",
       "      <td>...</td>\n",
       "      <td>...</td>\n",
       "      <td>...</td>\n",
       "      <td>...</td>\n",
       "      <td>...</td>\n",
       "      <td>...</td>\n",
       "      <td>...</td>\n",
       "      <td>...</td>\n",
       "    </tr>\n",
       "    <tr>\n",
       "      <th>117946</th>\n",
       "      <td>NO</td>\n",
       "      <td>1</td>\n",
       "      <td>0.00</td>\n",
       "      <td>7zzzz</td>\n",
       "      <td>7zzzz</td>\n",
       "      <td>0.0</td>\n",
       "      <td>609.0</td>\n",
       "      <td>11</td>\n",
       "      <td>0</td>\n",
       "      <td>1</td>\n",
       "      <td>1.850000</td>\n",
       "      <td>0.5</td>\n",
       "      <td>0.000000</td>\n",
       "      <td>CRD</td>\n",
       "      <td>11.15</td>\n",
       "    </tr>\n",
       "    <tr>\n",
       "      <th>117963</th>\n",
       "      <td>NO</td>\n",
       "      <td>2</td>\n",
       "      <td>5.54</td>\n",
       "      <td>7zzzz</td>\n",
       "      <td>7zzzz</td>\n",
       "      <td>0.0</td>\n",
       "      <td>0.0</td>\n",
       "      <td>15</td>\n",
       "      <td>3</td>\n",
       "      <td>1</td>\n",
       "      <td>0.000000</td>\n",
       "      <td>0.5</td>\n",
       "      <td>0.000000</td>\n",
       "      <td>CSH</td>\n",
       "      <td>8.84</td>\n",
       "    </tr>\n",
       "    <tr>\n",
       "      <th>118009</th>\n",
       "      <td>NO</td>\n",
       "      <td>1</td>\n",
       "      <td>0.00</td>\n",
       "      <td>7zzzz</td>\n",
       "      <td>7zzzz</td>\n",
       "      <td>0.0</td>\n",
       "      <td>214.0</td>\n",
       "      <td>11</td>\n",
       "      <td>5</td>\n",
       "      <td>1</td>\n",
       "      <td>1.060000</td>\n",
       "      <td>0.5</td>\n",
       "      <td>0.000000</td>\n",
       "      <td>CRD</td>\n",
       "      <td>6.36</td>\n",
       "    </tr>\n",
       "    <tr>\n",
       "      <th>118010</th>\n",
       "      <td>NO</td>\n",
       "      <td>1</td>\n",
       "      <td>0.00</td>\n",
       "      <td>7zzzz</td>\n",
       "      <td>7zzzz</td>\n",
       "      <td>0.0</td>\n",
       "      <td>1090.0</td>\n",
       "      <td>13</td>\n",
       "      <td>3</td>\n",
       "      <td>1</td>\n",
       "      <td>3.160000</td>\n",
       "      <td>0.5</td>\n",
       "      <td>0.000000</td>\n",
       "      <td>CRD</td>\n",
       "      <td>18.96</td>\n",
       "    </tr>\n",
       "    <tr>\n",
       "      <th>118063</th>\n",
       "      <td>NO</td>\n",
       "      <td>1</td>\n",
       "      <td>0.00</td>\n",
       "      <td>7zzzz</td>\n",
       "      <td>7zzzz</td>\n",
       "      <td>0.0</td>\n",
       "      <td>416.0</td>\n",
       "      <td>9</td>\n",
       "      <td>3</td>\n",
       "      <td>1</td>\n",
       "      <td>1.000000</td>\n",
       "      <td>0.5</td>\n",
       "      <td>0.000000</td>\n",
       "      <td>CRD</td>\n",
       "      <td>8.30</td>\n",
       "    </tr>\n",
       "    <tr>\n",
       "      <th>118075</th>\n",
       "      <td>NO</td>\n",
       "      <td>1</td>\n",
       "      <td>0.00</td>\n",
       "      <td>7zzzz</td>\n",
       "      <td>7zzzz</td>\n",
       "      <td>0.0</td>\n",
       "      <td>371.0</td>\n",
       "      <td>16</td>\n",
       "      <td>0</td>\n",
       "      <td>1</td>\n",
       "      <td>1.360000</td>\n",
       "      <td>0.5</td>\n",
       "      <td>0.000000</td>\n",
       "      <td>CRD</td>\n",
       "      <td>8.16</td>\n",
       "    </tr>\n",
       "    <tr>\n",
       "      <th>118147</th>\n",
       "      <td>NO</td>\n",
       "      <td>1</td>\n",
       "      <td>0.00</td>\n",
       "      <td>7zzzz</td>\n",
       "      <td>7zzzz</td>\n",
       "      <td>0.0</td>\n",
       "      <td>665.0</td>\n",
       "      <td>23</td>\n",
       "      <td>3</td>\n",
       "      <td>1</td>\n",
       "      <td>0.000000</td>\n",
       "      <td>0.5</td>\n",
       "      <td>0.500000</td>\n",
       "      <td>CSH</td>\n",
       "      <td>10.30</td>\n",
       "    </tr>\n",
       "    <tr>\n",
       "      <th>118237</th>\n",
       "      <td>NO</td>\n",
       "      <td>1</td>\n",
       "      <td>0.00</td>\n",
       "      <td>7zzzz</td>\n",
       "      <td>7zzzz</td>\n",
       "      <td>0.0</td>\n",
       "      <td>1.0</td>\n",
       "      <td>6</td>\n",
       "      <td>4</td>\n",
       "      <td>1</td>\n",
       "      <td>7.000000</td>\n",
       "      <td>0.5</td>\n",
       "      <td>0.000000</td>\n",
       "      <td>CRD</td>\n",
       "      <td>10.00</td>\n",
       "    </tr>\n",
       "    <tr>\n",
       "      <th>118244</th>\n",
       "      <td>NO</td>\n",
       "      <td>1</td>\n",
       "      <td>0.00</td>\n",
       "      <td>7zzzz</td>\n",
       "      <td>7zzzz</td>\n",
       "      <td>0.0</td>\n",
       "      <td>591.0</td>\n",
       "      <td>17</td>\n",
       "      <td>3</td>\n",
       "      <td>1</td>\n",
       "      <td>1.556469</td>\n",
       "      <td>0.5</td>\n",
       "      <td>1.000000</td>\n",
       "      <td>CSH</td>\n",
       "      <td>10.80</td>\n",
       "    </tr>\n",
       "    <tr>\n",
       "      <th>118245</th>\n",
       "      <td>NO</td>\n",
       "      <td>5</td>\n",
       "      <td>0.00</td>\n",
       "      <td>7zzzz</td>\n",
       "      <td>7zzzz</td>\n",
       "      <td>0.0</td>\n",
       "      <td>471.0</td>\n",
       "      <td>1</td>\n",
       "      <td>0</td>\n",
       "      <td>1</td>\n",
       "      <td>0.000000</td>\n",
       "      <td>0.5</td>\n",
       "      <td>0.500000</td>\n",
       "      <td>CRD</td>\n",
       "      <td>9.30</td>\n",
       "    </tr>\n",
       "    <tr>\n",
       "      <th>118333</th>\n",
       "      <td>NO</td>\n",
       "      <td>2</td>\n",
       "      <td>0.00</td>\n",
       "      <td>7zzzz</td>\n",
       "      <td>7zzzz</td>\n",
       "      <td>0.0</td>\n",
       "      <td>801.0</td>\n",
       "      <td>4</td>\n",
       "      <td>2</td>\n",
       "      <td>1</td>\n",
       "      <td>0.000000</td>\n",
       "      <td>0.5</td>\n",
       "      <td>0.500000</td>\n",
       "      <td>CSH</td>\n",
       "      <td>19.80</td>\n",
       "    </tr>\n",
       "    <tr>\n",
       "      <th>118416</th>\n",
       "      <td>NO</td>\n",
       "      <td>1</td>\n",
       "      <td>0.00</td>\n",
       "      <td>7zzzz</td>\n",
       "      <td>7zzzz</td>\n",
       "      <td>0.0</td>\n",
       "      <td>1168.0</td>\n",
       "      <td>13</td>\n",
       "      <td>4</td>\n",
       "      <td>1</td>\n",
       "      <td>0.000000</td>\n",
       "      <td>0.5</td>\n",
       "      <td>0.000000</td>\n",
       "      <td>CSH</td>\n",
       "      <td>13.80</td>\n",
       "    </tr>\n",
       "    <tr>\n",
       "      <th>118457</th>\n",
       "      <td>NO</td>\n",
       "      <td>1</td>\n",
       "      <td>0.00</td>\n",
       "      <td>7zzzz</td>\n",
       "      <td>7zzzz</td>\n",
       "      <td>0.0</td>\n",
       "      <td>226.0</td>\n",
       "      <td>5</td>\n",
       "      <td>4</td>\n",
       "      <td>1</td>\n",
       "      <td>1.550000</td>\n",
       "      <td>0.5</td>\n",
       "      <td>0.500000</td>\n",
       "      <td>CRD</td>\n",
       "      <td>9.35</td>\n",
       "    </tr>\n",
       "    <tr>\n",
       "      <th>118474</th>\n",
       "      <td>NO</td>\n",
       "      <td>1</td>\n",
       "      <td>0.00</td>\n",
       "      <td>7zzzz</td>\n",
       "      <td>7zzzz</td>\n",
       "      <td>0.0</td>\n",
       "      <td>991.0</td>\n",
       "      <td>11</td>\n",
       "      <td>3</td>\n",
       "      <td>1</td>\n",
       "      <td>2.250000</td>\n",
       "      <td>0.5</td>\n",
       "      <td>0.000000</td>\n",
       "      <td>CRD</td>\n",
       "      <td>13.55</td>\n",
       "    </tr>\n",
       "    <tr>\n",
       "      <th>118527</th>\n",
       "      <td>NO</td>\n",
       "      <td>2</td>\n",
       "      <td>0.00</td>\n",
       "      <td>7zzzz</td>\n",
       "      <td>7zzzz</td>\n",
       "      <td>0.0</td>\n",
       "      <td>342.0</td>\n",
       "      <td>1</td>\n",
       "      <td>5</td>\n",
       "      <td>1</td>\n",
       "      <td>0.000000</td>\n",
       "      <td>0.5</td>\n",
       "      <td>0.500000</td>\n",
       "      <td>CSH</td>\n",
       "      <td>8.30</td>\n",
       "    </tr>\n",
       "    <tr>\n",
       "      <th>118584</th>\n",
       "      <td>NO</td>\n",
       "      <td>1</td>\n",
       "      <td>5.54</td>\n",
       "      <td>7zzzz</td>\n",
       "      <td>7zzzz</td>\n",
       "      <td>0.0</td>\n",
       "      <td>913.0</td>\n",
       "      <td>5</td>\n",
       "      <td>5</td>\n",
       "      <td>1</td>\n",
       "      <td>7.170000</td>\n",
       "      <td>0.5</td>\n",
       "      <td>0.500000</td>\n",
       "      <td>CRD</td>\n",
       "      <td>43.01</td>\n",
       "    </tr>\n",
       "    <tr>\n",
       "      <th>118585</th>\n",
       "      <td>NO</td>\n",
       "      <td>1</td>\n",
       "      <td>0.00</td>\n",
       "      <td>7zzzz</td>\n",
       "      <td>7zzzz</td>\n",
       "      <td>0.0</td>\n",
       "      <td>545.0</td>\n",
       "      <td>22</td>\n",
       "      <td>6</td>\n",
       "      <td>1</td>\n",
       "      <td>1.556469</td>\n",
       "      <td>0.5</td>\n",
       "      <td>0.500000</td>\n",
       "      <td>CRD</td>\n",
       "      <td>10.55</td>\n",
       "    </tr>\n",
       "    <tr>\n",
       "      <th>118619</th>\n",
       "      <td>NO</td>\n",
       "      <td>2</td>\n",
       "      <td>0.00</td>\n",
       "      <td>7zzzz</td>\n",
       "      <td>7zzzz</td>\n",
       "      <td>0.0</td>\n",
       "      <td>524.0</td>\n",
       "      <td>22</td>\n",
       "      <td>0</td>\n",
       "      <td>1</td>\n",
       "      <td>1.556469</td>\n",
       "      <td>0.5</td>\n",
       "      <td>0.500000</td>\n",
       "      <td>CRD</td>\n",
       "      <td>12.80</td>\n",
       "    </tr>\n",
       "    <tr>\n",
       "      <th>118745</th>\n",
       "      <td>NO</td>\n",
       "      <td>3</td>\n",
       "      <td>0.00</td>\n",
       "      <td>7zzzz</td>\n",
       "      <td>7zzzz</td>\n",
       "      <td>0.0</td>\n",
       "      <td>1193.0</td>\n",
       "      <td>2</td>\n",
       "      <td>1</td>\n",
       "      <td>1</td>\n",
       "      <td>3.260000</td>\n",
       "      <td>0.5</td>\n",
       "      <td>0.317934</td>\n",
       "      <td>CRD</td>\n",
       "      <td>19.56</td>\n",
       "    </tr>\n",
       "    <tr>\n",
       "      <th>118758</th>\n",
       "      <td>NO</td>\n",
       "      <td>2</td>\n",
       "      <td>0.00</td>\n",
       "      <td>7zzzz</td>\n",
       "      <td>7zzzz</td>\n",
       "      <td>0.0</td>\n",
       "      <td>216.0</td>\n",
       "      <td>14</td>\n",
       "      <td>1</td>\n",
       "      <td>1</td>\n",
       "      <td>0.000000</td>\n",
       "      <td>0.5</td>\n",
       "      <td>0.000000</td>\n",
       "      <td>CSH</td>\n",
       "      <td>5.80</td>\n",
       "    </tr>\n",
       "    <tr>\n",
       "      <th>118761</th>\n",
       "      <td>NO</td>\n",
       "      <td>1</td>\n",
       "      <td>0.00</td>\n",
       "      <td>7zzzz</td>\n",
       "      <td>7zzzz</td>\n",
       "      <td>0.0</td>\n",
       "      <td>1429.0</td>\n",
       "      <td>18</td>\n",
       "      <td>4</td>\n",
       "      <td>1</td>\n",
       "      <td>3.760000</td>\n",
       "      <td>0.5</td>\n",
       "      <td>1.000000</td>\n",
       "      <td>CRD</td>\n",
       "      <td>22.56</td>\n",
       "    </tr>\n",
       "    <tr>\n",
       "      <th>118999</th>\n",
       "      <td>NO</td>\n",
       "      <td>1</td>\n",
       "      <td>0.00</td>\n",
       "      <td>7zzzz</td>\n",
       "      <td>7zzzz</td>\n",
       "      <td>0.0</td>\n",
       "      <td>482.0</td>\n",
       "      <td>9</td>\n",
       "      <td>6</td>\n",
       "      <td>1</td>\n",
       "      <td>1.000000</td>\n",
       "      <td>0.5</td>\n",
       "      <td>0.000000</td>\n",
       "      <td>CRD</td>\n",
       "      <td>8.80</td>\n",
       "    </tr>\n",
       "    <tr>\n",
       "      <th>119099</th>\n",
       "      <td>NO</td>\n",
       "      <td>1</td>\n",
       "      <td>5.54</td>\n",
       "      <td>7zzzz</td>\n",
       "      <td>7zzzz</td>\n",
       "      <td>0.0</td>\n",
       "      <td>1622.0</td>\n",
       "      <td>20</td>\n",
       "      <td>6</td>\n",
       "      <td>1</td>\n",
       "      <td>1.556469</td>\n",
       "      <td>0.5</td>\n",
       "      <td>0.500000</td>\n",
       "      <td>CRD</td>\n",
       "      <td>45.40</td>\n",
       "    </tr>\n",
       "    <tr>\n",
       "      <th>119112</th>\n",
       "      <td>NO</td>\n",
       "      <td>2</td>\n",
       "      <td>0.00</td>\n",
       "      <td>7zzzz</td>\n",
       "      <td>7zzzz</td>\n",
       "      <td>0.0</td>\n",
       "      <td>2770.0</td>\n",
       "      <td>16</td>\n",
       "      <td>5</td>\n",
       "      <td>1</td>\n",
       "      <td>10.000000</td>\n",
       "      <td>0.5</td>\n",
       "      <td>1.000000</td>\n",
       "      <td>CRD</td>\n",
       "      <td>45.30</td>\n",
       "    </tr>\n",
       "    <tr>\n",
       "      <th>119146</th>\n",
       "      <td>NO</td>\n",
       "      <td>1</td>\n",
       "      <td>0.00</td>\n",
       "      <td>7zzzz</td>\n",
       "      <td>7zzzz</td>\n",
       "      <td>0.0</td>\n",
       "      <td>867.0</td>\n",
       "      <td>18</td>\n",
       "      <td>5</td>\n",
       "      <td>1</td>\n",
       "      <td>2.460000</td>\n",
       "      <td>0.5</td>\n",
       "      <td>1.000000</td>\n",
       "      <td>CRD</td>\n",
       "      <td>14.76</td>\n",
       "    </tr>\n",
       "    <tr>\n",
       "      <th>119199</th>\n",
       "      <td>NO</td>\n",
       "      <td>1</td>\n",
       "      <td>0.00</td>\n",
       "      <td>7zzzz</td>\n",
       "      <td>7zzzz</td>\n",
       "      <td>0.0</td>\n",
       "      <td>249.0</td>\n",
       "      <td>7</td>\n",
       "      <td>4</td>\n",
       "      <td>1</td>\n",
       "      <td>0.000000</td>\n",
       "      <td>0.5</td>\n",
       "      <td>0.000000</td>\n",
       "      <td>CSH</td>\n",
       "      <td>5.80</td>\n",
       "    </tr>\n",
       "    <tr>\n",
       "      <th>119202</th>\n",
       "      <td>NO</td>\n",
       "      <td>1</td>\n",
       "      <td>0.00</td>\n",
       "      <td>7zzzz</td>\n",
       "      <td>7zzzz</td>\n",
       "      <td>0.0</td>\n",
       "      <td>574.0</td>\n",
       "      <td>14</td>\n",
       "      <td>2</td>\n",
       "      <td>1</td>\n",
       "      <td>1.850000</td>\n",
       "      <td>0.5</td>\n",
       "      <td>0.000000</td>\n",
       "      <td>CRD</td>\n",
       "      <td>11.15</td>\n",
       "    </tr>\n",
       "    <tr>\n",
       "      <th>119209</th>\n",
       "      <td>NO</td>\n",
       "      <td>5</td>\n",
       "      <td>0.00</td>\n",
       "      <td>7zzzz</td>\n",
       "      <td>7zzzz</td>\n",
       "      <td>0.0</td>\n",
       "      <td>1839.0</td>\n",
       "      <td>1</td>\n",
       "      <td>1</td>\n",
       "      <td>2</td>\n",
       "      <td>0.000000</td>\n",
       "      <td>0.5</td>\n",
       "      <td>0.000000</td>\n",
       "      <td>CSH</td>\n",
       "      <td>52.80</td>\n",
       "    </tr>\n",
       "    <tr>\n",
       "      <th>119280</th>\n",
       "      <td>NO</td>\n",
       "      <td>1</td>\n",
       "      <td>0.00</td>\n",
       "      <td>7zzzz</td>\n",
       "      <td>7zzzz</td>\n",
       "      <td>0.0</td>\n",
       "      <td>303.0</td>\n",
       "      <td>1</td>\n",
       "      <td>1</td>\n",
       "      <td>1</td>\n",
       "      <td>0.000000</td>\n",
       "      <td>0.5</td>\n",
       "      <td>0.317934</td>\n",
       "      <td>CSH</td>\n",
       "      <td>7.30</td>\n",
       "    </tr>\n",
       "    <tr>\n",
       "      <th>119359</th>\n",
       "      <td>NO</td>\n",
       "      <td>1</td>\n",
       "      <td>0.00</td>\n",
       "      <td>7zzzz</td>\n",
       "      <td>7zzzz</td>\n",
       "      <td>0.0</td>\n",
       "      <td>5.0</td>\n",
       "      <td>16</td>\n",
       "      <td>1</td>\n",
       "      <td>1</td>\n",
       "      <td>0.000000</td>\n",
       "      <td>0.5</td>\n",
       "      <td>0.000000</td>\n",
       "      <td>CSH</td>\n",
       "      <td>3.30</td>\n",
       "    </tr>\n",
       "  </tbody>\n",
       "</table>\n",
       "<p>1868 rows × 15 columns</p>\n",
       "</div>"
      ],
      "text/plain": [
       "       new_user  passenger_count  tolls_amount pickup_geohash dropoff_geohash  \\\n",
       "34           NO                4          0.00          7zzzz           7zzzz   \n",
       "70           NO                1          0.00          7zzzz           7zzzz   \n",
       "171          NO                1          0.00          7zzzz           7zzzz   \n",
       "187          NO                1          5.33          7zzzz           7zzzz   \n",
       "218          NO                1          0.00          7zzzz           7zzzz   \n",
       "298          NO                1          0.00          7zzzz           7zzzz   \n",
       "349          NO                1          0.00          7zzzz           7zzzz   \n",
       "399          NO                1          0.00          7zzzz           7zzzz   \n",
       "411          NO                3          0.00          7zzzz           7zzzz   \n",
       "564          NO                1          0.00          7zzzz           7zzzz   \n",
       "624          NO                1          0.00          7zzzz           7zzzz   \n",
       "635          NO                1          0.00          7zzzz           7zzzz   \n",
       "680          NO                1          0.00          7zzzz           7zzzz   \n",
       "735          NO                4          0.00          7zzzz           7zzzz   \n",
       "740          NO                1          0.00          7zzzz           7zzzz   \n",
       "778          NO                1          0.00          7zzzz           7zzzz   \n",
       "807          NO                5          0.00          7zzzz           7zzzz   \n",
       "837          NO                1          0.00          7zzzz           7zzzz   \n",
       "845          NO                2          0.00          7zzzz           7zzzz   \n",
       "911          NO                1          0.00          7zzzz           7zzzz   \n",
       "958          NO                2          0.00          7zzzz           7zzzz   \n",
       "1003         NO                4          0.00          7zzzz           7zzzz   \n",
       "1049         NO                1          0.00          7zzzz           7zzzz   \n",
       "1074         NO                1          0.00          7zzzz           7zzzz   \n",
       "1172         NO                1          0.00          7zzzz           7zzzz   \n",
       "1191         NO                1          0.00          7zzzz           7zzzz   \n",
       "1286         NO                1          0.00          7zzzz           7zzzz   \n",
       "1332         NO                1          0.00          7zzzz           7zzzz   \n",
       "1430         NO                1          0.00          7zzzz           7zzzz   \n",
       "1531         NO                1          0.00          7zzzz           7zzzz   \n",
       "...         ...              ...           ...            ...             ...   \n",
       "117946       NO                1          0.00          7zzzz           7zzzz   \n",
       "117963       NO                2          5.54          7zzzz           7zzzz   \n",
       "118009       NO                1          0.00          7zzzz           7zzzz   \n",
       "118010       NO                1          0.00          7zzzz           7zzzz   \n",
       "118063       NO                1          0.00          7zzzz           7zzzz   \n",
       "118075       NO                1          0.00          7zzzz           7zzzz   \n",
       "118147       NO                1          0.00          7zzzz           7zzzz   \n",
       "118237       NO                1          0.00          7zzzz           7zzzz   \n",
       "118244       NO                1          0.00          7zzzz           7zzzz   \n",
       "118245       NO                5          0.00          7zzzz           7zzzz   \n",
       "118333       NO                2          0.00          7zzzz           7zzzz   \n",
       "118416       NO                1          0.00          7zzzz           7zzzz   \n",
       "118457       NO                1          0.00          7zzzz           7zzzz   \n",
       "118474       NO                1          0.00          7zzzz           7zzzz   \n",
       "118527       NO                2          0.00          7zzzz           7zzzz   \n",
       "118584       NO                1          5.54          7zzzz           7zzzz   \n",
       "118585       NO                1          0.00          7zzzz           7zzzz   \n",
       "118619       NO                2          0.00          7zzzz           7zzzz   \n",
       "118745       NO                3          0.00          7zzzz           7zzzz   \n",
       "118758       NO                2          0.00          7zzzz           7zzzz   \n",
       "118761       NO                1          0.00          7zzzz           7zzzz   \n",
       "118999       NO                1          0.00          7zzzz           7zzzz   \n",
       "119099       NO                1          5.54          7zzzz           7zzzz   \n",
       "119112       NO                2          0.00          7zzzz           7zzzz   \n",
       "119146       NO                1          0.00          7zzzz           7zzzz   \n",
       "119199       NO                1          0.00          7zzzz           7zzzz   \n",
       "119202       NO                1          0.00          7zzzz           7zzzz   \n",
       "119209       NO                5          0.00          7zzzz           7zzzz   \n",
       "119280       NO                1          0.00          7zzzz           7zzzz   \n",
       "119359       NO                1          0.00          7zzzz           7zzzz   \n",
       "\n",
       "        dist_travel  travel time  pickup_hour  Weekday  rate_code  tip_amount  \\\n",
       "34              0.0        739.0           17        1          1    0.000000   \n",
       "70              0.0        727.0           12        0          1    1.556469   \n",
       "171             0.0        900.0            7        4          1    2.300000   \n",
       "187             0.0       1680.0            4        6          2    5.000000   \n",
       "218             0.0        480.0            0        6          1    0.000000   \n",
       "298             0.0        312.0           21        1          1    1.500000   \n",
       "349             0.0        986.0            8        5          1    2.000000   \n",
       "399             0.0        909.0            0        5          1    3.200000   \n",
       "411             0.0        540.0           16        0          1    1.000000   \n",
       "564             0.0       1073.0           14        3          1    2.800000   \n",
       "624             0.0        300.0           15        2          1    1.000000   \n",
       "635             0.0        668.0           11        2          1    1.556469   \n",
       "680             0.0        109.0           23        3          1    0.000000   \n",
       "735             0.0        681.0            1        1          1    1.000000   \n",
       "740             0.0        591.0            7        2          1    1.556469   \n",
       "778             0.0        164.0           17        3          1    1.500000   \n",
       "807             0.0        180.0           21        0          1    0.000000   \n",
       "837             0.0       1115.0           21        6          1    0.000000   \n",
       "845             0.0        874.0           15        6          1    0.000000   \n",
       "911             0.0        416.0           15        5          1    0.000000   \n",
       "958             0.0        120.0            1        0          1    0.000000   \n",
       "1003            0.0        915.0           19        4          1    0.000000   \n",
       "1049            0.0        483.0           20        3          1    0.100000   \n",
       "1074            0.0        459.0            0        1          1    1.000000   \n",
       "1172            0.0          0.0           23        3          1    0.000000   \n",
       "1191            0.0        669.0            5        1          1    3.120000   \n",
       "1286            0.0          0.0           17        1          1    0.000000   \n",
       "1332            0.0        333.0           11        5          1    0.000000   \n",
       "1430            0.0        579.0            7        4          1    1.000000   \n",
       "1531            0.0        657.0            0        6          1    1.000000   \n",
       "...             ...          ...          ...      ...        ...         ...   \n",
       "117946          0.0        609.0           11        0          1    1.850000   \n",
       "117963          0.0          0.0           15        3          1    0.000000   \n",
       "118009          0.0        214.0           11        5          1    1.060000   \n",
       "118010          0.0       1090.0           13        3          1    3.160000   \n",
       "118063          0.0        416.0            9        3          1    1.000000   \n",
       "118075          0.0        371.0           16        0          1    1.360000   \n",
       "118147          0.0        665.0           23        3          1    0.000000   \n",
       "118237          0.0          1.0            6        4          1    7.000000   \n",
       "118244          0.0        591.0           17        3          1    1.556469   \n",
       "118245          0.0        471.0            1        0          1    0.000000   \n",
       "118333          0.0        801.0            4        2          1    0.000000   \n",
       "118416          0.0       1168.0           13        4          1    0.000000   \n",
       "118457          0.0        226.0            5        4          1    1.550000   \n",
       "118474          0.0        991.0           11        3          1    2.250000   \n",
       "118527          0.0        342.0            1        5          1    0.000000   \n",
       "118584          0.0        913.0            5        5          1    7.170000   \n",
       "118585          0.0        545.0           22        6          1    1.556469   \n",
       "118619          0.0        524.0           22        0          1    1.556469   \n",
       "118745          0.0       1193.0            2        1          1    3.260000   \n",
       "118758          0.0        216.0           14        1          1    0.000000   \n",
       "118761          0.0       1429.0           18        4          1    3.760000   \n",
       "118999          0.0        482.0            9        6          1    1.000000   \n",
       "119099          0.0       1622.0           20        6          1    1.556469   \n",
       "119112          0.0       2770.0           16        5          1   10.000000   \n",
       "119146          0.0        867.0           18        5          1    2.460000   \n",
       "119199          0.0        249.0            7        4          1    0.000000   \n",
       "119202          0.0        574.0           14        2          1    1.850000   \n",
       "119209          0.0       1839.0            1        1          2    0.000000   \n",
       "119280          0.0        303.0            1        1          1    0.000000   \n",
       "119359          0.0          5.0           16        1          1    0.000000   \n",
       "\n",
       "        mta_tax  surcharge payment_type  fare_amount  \n",
       "34          0.5   1.000000          CSH        10.50  \n",
       "70          0.5   0.000000          CRD        13.80  \n",
       "171         0.5   0.000000          CRD        14.30  \n",
       "187         0.5   0.000000          CRD        62.83  \n",
       "218         0.5   0.500000          CRD        10.50  \n",
       "298         0.5   0.500000          CRD         9.00  \n",
       "349         0.5   0.000000          CRD        17.00  \n",
       "399         0.5   0.500000          CRD        19.20  \n",
       "411         0.5   0.000000          CRD        11.50  \n",
       "564         0.5   0.317934          CRD        16.80  \n",
       "624         0.5   0.000000          CRD         7.00  \n",
       "635         0.5   0.000000          CRD        13.20  \n",
       "680         0.5   0.500000          CSH         5.00  \n",
       "735         0.5   0.500000          CRD        17.00  \n",
       "740         0.5   0.000000          CSH        13.00  \n",
       "778         0.5   1.000000          CRD         7.50  \n",
       "807         0.5   0.500000          CSH         5.00  \n",
       "837         0.5   0.500000          CSH        13.50  \n",
       "845         0.5   0.317934          CSH        11.50  \n",
       "911         0.5   0.000000          CSH         7.50  \n",
       "958         0.5   0.500000          CSH         6.00  \n",
       "1003        0.5   1.000000          CSH        11.50  \n",
       "1049        0.5   0.500000          CRD         8.60  \n",
       "1074        0.5   0.500000          CRD        10.50  \n",
       "1172        0.5   0.500000          CSH         3.50  \n",
       "1191        0.5   0.500000          CRD        15.62  \n",
       "1286        0.5   1.000000          CSH         4.00  \n",
       "1332        0.5   0.000000          CSH         6.00  \n",
       "1430        0.5   0.000000          CRD        11.50  \n",
       "1531        0.5   0.500000          CRD        11.00  \n",
       "...         ...        ...          ...          ...  \n",
       "117946      0.5   0.000000          CRD        11.15  \n",
       "117963      0.5   0.000000          CSH         8.84  \n",
       "118009      0.5   0.000000          CRD         6.36  \n",
       "118010      0.5   0.000000          CRD        18.96  \n",
       "118063      0.5   0.000000          CRD         8.30  \n",
       "118075      0.5   0.000000          CRD         8.16  \n",
       "118147      0.5   0.500000          CSH        10.30  \n",
       "118237      0.5   0.000000          CRD        10.00  \n",
       "118244      0.5   1.000000          CSH        10.80  \n",
       "118245      0.5   0.500000          CRD         9.30  \n",
       "118333      0.5   0.500000          CSH        19.80  \n",
       "118416      0.5   0.000000          CSH        13.80  \n",
       "118457      0.5   0.500000          CRD         9.35  \n",
       "118474      0.5   0.000000          CRD        13.55  \n",
       "118527      0.5   0.500000          CSH         8.30  \n",
       "118584      0.5   0.500000          CRD        43.01  \n",
       "118585      0.5   0.500000          CRD        10.55  \n",
       "118619      0.5   0.500000          CRD        12.80  \n",
       "118745      0.5   0.317934          CRD        19.56  \n",
       "118758      0.5   0.000000          CSH         5.80  \n",
       "118761      0.5   1.000000          CRD        22.56  \n",
       "118999      0.5   0.000000          CRD         8.80  \n",
       "119099      0.5   0.500000          CRD        45.40  \n",
       "119112      0.5   1.000000          CRD        45.30  \n",
       "119146      0.5   1.000000          CRD        14.76  \n",
       "119199      0.5   0.000000          CSH         5.80  \n",
       "119202      0.5   0.000000          CRD        11.15  \n",
       "119209      0.5   0.000000          CSH        52.80  \n",
       "119280      0.5   0.317934          CSH         7.30  \n",
       "119359      0.5   0.000000          CSH         3.30  \n",
       "\n",
       "[1868 rows x 15 columns]"
      ]
     },
     "execution_count": 32,
     "metadata": {},
     "output_type": "execute_result"
    }
   ],
   "source": [
    "drop_rows = final_data.loc[(final_data['pickup_geohash'] == '7zzzz') & (final_data['dropoff_geohash'] == '7zzzz')]\n",
    "drop_rows"
   ]
  },
  {
   "cell_type": "code",
   "execution_count": 33,
   "metadata": {},
   "outputs": [
    {
     "data": {
      "text/html": [
       "<div>\n",
       "<style scoped>\n",
       "    .dataframe tbody tr th:only-of-type {\n",
       "        vertical-align: middle;\n",
       "    }\n",
       "\n",
       "    .dataframe tbody tr th {\n",
       "        vertical-align: top;\n",
       "    }\n",
       "\n",
       "    .dataframe thead th {\n",
       "        text-align: right;\n",
       "    }\n",
       "</style>\n",
       "<table border=\"1\" class=\"dataframe\">\n",
       "  <thead>\n",
       "    <tr style=\"text-align: right;\">\n",
       "      <th></th>\n",
       "      <th>new_user</th>\n",
       "      <th>passenger_count</th>\n",
       "      <th>tolls_amount</th>\n",
       "      <th>pickup_geohash</th>\n",
       "      <th>dropoff_geohash</th>\n",
       "      <th>dist_travel</th>\n",
       "      <th>travel time</th>\n",
       "      <th>pickup_hour</th>\n",
       "      <th>Weekday</th>\n",
       "      <th>rate_code</th>\n",
       "      <th>tip_amount</th>\n",
       "      <th>mta_tax</th>\n",
       "      <th>surcharge</th>\n",
       "      <th>payment_type</th>\n",
       "      <th>fare_amount</th>\n",
       "    </tr>\n",
       "  </thead>\n",
       "  <tbody>\n",
       "    <tr>\n",
       "      <th>0</th>\n",
       "      <td>NO</td>\n",
       "      <td>1</td>\n",
       "      <td>0.0</td>\n",
       "      <td>dr5re</td>\n",
       "      <td>dr5rs</td>\n",
       "      <td>1.626473</td>\n",
       "      <td>822.0</td>\n",
       "      <td>13</td>\n",
       "      <td>2</td>\n",
       "      <td>1</td>\n",
       "      <td>0.000000</td>\n",
       "      <td>0.5</td>\n",
       "      <td>0.0</td>\n",
       "      <td>CSH</td>\n",
       "      <td>10.0</td>\n",
       "    </tr>\n",
       "    <tr>\n",
       "      <th>1</th>\n",
       "      <td>NO</td>\n",
       "      <td>1</td>\n",
       "      <td>0.0</td>\n",
       "      <td>dr5ru</td>\n",
       "      <td>dr5ru</td>\n",
       "      <td>1.143018</td>\n",
       "      <td>265.0</td>\n",
       "      <td>20</td>\n",
       "      <td>5</td>\n",
       "      <td>1</td>\n",
       "      <td>0.000000</td>\n",
       "      <td>0.5</td>\n",
       "      <td>0.5</td>\n",
       "      <td>CSH</td>\n",
       "      <td>6.5</td>\n",
       "    </tr>\n",
       "    <tr>\n",
       "      <th>2</th>\n",
       "      <td>NO</td>\n",
       "      <td>1</td>\n",
       "      <td>0.0</td>\n",
       "      <td>dr72h</td>\n",
       "      <td>dr5ru</td>\n",
       "      <td>2.999890</td>\n",
       "      <td>540.0</td>\n",
       "      <td>9</td>\n",
       "      <td>1</td>\n",
       "      <td>1</td>\n",
       "      <td>1.556469</td>\n",
       "      <td>0.5</td>\n",
       "      <td>0.0</td>\n",
       "      <td>CRD</td>\n",
       "      <td>10.6</td>\n",
       "    </tr>\n",
       "    <tr>\n",
       "      <th>3</th>\n",
       "      <td>NO</td>\n",
       "      <td>1</td>\n",
       "      <td>0.0</td>\n",
       "      <td>dr5ru</td>\n",
       "      <td>dr5rs</td>\n",
       "      <td>2.754673</td>\n",
       "      <td>334.0</td>\n",
       "      <td>23</td>\n",
       "      <td>3</td>\n",
       "      <td>1</td>\n",
       "      <td>1.700000</td>\n",
       "      <td>0.5</td>\n",
       "      <td>0.5</td>\n",
       "      <td>CRD</td>\n",
       "      <td>10.2</td>\n",
       "    </tr>\n",
       "    <tr>\n",
       "      <th>4</th>\n",
       "      <td>NO</td>\n",
       "      <td>1</td>\n",
       "      <td>0.0</td>\n",
       "      <td>dr5rs</td>\n",
       "      <td>dr5rs</td>\n",
       "      <td>1.204397</td>\n",
       "      <td>329.0</td>\n",
       "      <td>1</td>\n",
       "      <td>4</td>\n",
       "      <td>1</td>\n",
       "      <td>1.000000</td>\n",
       "      <td>0.5</td>\n",
       "      <td>0.5</td>\n",
       "      <td>CRD</td>\n",
       "      <td>8.5</td>\n",
       "    </tr>\n",
       "  </tbody>\n",
       "</table>\n",
       "</div>"
      ],
      "text/plain": [
       "  new_user  passenger_count  tolls_amount pickup_geohash dropoff_geohash  \\\n",
       "0       NO                1           0.0          dr5re           dr5rs   \n",
       "1       NO                1           0.0          dr5ru           dr5ru   \n",
       "2       NO                1           0.0          dr72h           dr5ru   \n",
       "3       NO                1           0.0          dr5ru           dr5rs   \n",
       "4       NO                1           0.0          dr5rs           dr5rs   \n",
       "\n",
       "   dist_travel  travel time  pickup_hour  Weekday  rate_code  tip_amount  \\\n",
       "0     1.626473        822.0           13        2          1    0.000000   \n",
       "1     1.143018        265.0           20        5          1    0.000000   \n",
       "2     2.999890        540.0            9        1          1    1.556469   \n",
       "3     2.754673        334.0           23        3          1    1.700000   \n",
       "4     1.204397        329.0            1        4          1    1.000000   \n",
       "\n",
       "   mta_tax  surcharge payment_type  fare_amount  \n",
       "0      0.5        0.0          CSH         10.0  \n",
       "1      0.5        0.5          CSH          6.5  \n",
       "2      0.5        0.0          CRD         10.6  \n",
       "3      0.5        0.5          CRD         10.2  \n",
       "4      0.5        0.5          CRD          8.5  "
      ]
     },
     "execution_count": 33,
     "metadata": {},
     "output_type": "execute_result"
    }
   ],
   "source": [
    "taxi_data = final_data[(final_data.pickup_geohash != '7zzzz') & (final_data.pickup_geohash != '7zzzz')]\n",
    "taxi_data.head()"
   ]
  },
  {
   "cell_type": "markdown",
   "metadata": {},
   "source": [
    "## Data Visualization"
   ]
  },
  {
   "cell_type": "code",
   "execution_count": 34,
   "metadata": {},
   "outputs": [],
   "source": [
    "import seaborn as sns\n",
    "import matplotlib.pyplot as plt\n",
    "%matplotlib inline"
   ]
  },
  {
   "cell_type": "code",
   "execution_count": 35,
   "metadata": {},
   "outputs": [
    {
     "data": {
      "text/plain": [
       "<matplotlib.axes._subplots.AxesSubplot at 0x1f48aaaa198>"
      ]
     },
     "execution_count": 35,
     "metadata": {},
     "output_type": "execute_result"
    },
    {
     "data": {
      "image/png": "[encoded data removed]",
      "text/plain": [
       "<Figure size 864x648 with 1 Axes>"
      ]
     },
     "metadata": {},
     "output_type": "display_data"
    }
   ],
   "source": [
    "sns.set(rc={'figure.figsize':(12,9)})\n",
    "sns.set_style(\"whitegrid\")\n",
    "sns.boxplot(data = taxi_data)"
   ]
  },
  {
   "cell_type": "code",
   "execution_count": 36,
   "metadata": {},
   "outputs": [
    {
     "data": {
      "text/plain": [
       "<matplotlib.axes._subplots.AxesSubplot at 0x1f48a566160>"
      ]
     },
     "execution_count": 36,
     "metadata": {},
     "output_type": "execute_result"
    },
    {
     "data": {
      "image/png": "[encoded data removed]",
      "text/plain": [
       "<Figure size 864x648 with 1 Axes>"
      ]
     },
     "metadata": {},
     "output_type": "display_data"
    }
   ],
   "source": [
    "# check for outliers\n",
    "df = taxi_data[(taxi_data['travel time']<= 2000)]\n",
    "plt.yticks = (0,100,200,300,400,500,600,700,800,900,1000,1100,1200,1300,1400,1500,1600,1700,1800,1900,2000)\n",
    "sns.boxplot(data = df)"
   ]
  },
  {
   "cell_type": "code",
   "execution_count": 37,
   "metadata": {},
   "outputs": [
    {
     "data": {
      "text/plain": [
       "<matplotlib.axes._subplots.AxesSubplot at 0x1f48a3b3518>"
      ]
     },
     "execution_count": 37,
     "metadata": {},
     "output_type": "execute_result"
    },
    {
     "data": {
      "image/png": "[encoded data removed]",
      "text/plain": [
       "<Figure size 864x648 with 1 Axes>"
      ]
     },
     "metadata": {},
     "output_type": "display_data"
    }
   ],
   "source": [
    "fil_data = df[(df['travel time'] <= 1800) & (df['dist_travel'] <= 300) & (df[\"fare_amount\"] <=200) & (df['tip_amount']<= 200)]\n",
    "sns.boxplot(data = fil_data)"
   ]
  },
  {
   "cell_type": "code",
   "execution_count": 38,
   "metadata": {
    "scrolled": true
   },
   "outputs": [
    {
     "data": {
      "text/plain": [
       "<matplotlib.axes._subplots.AxesSubplot at 0x1f488e46828>"
      ]
     },
     "execution_count": 38,
     "metadata": {},
     "output_type": "execute_result"
    },
    {
     "data": {
      "image/png": "[encoded data removed]",
      "text/plain": [
       "<Figure size 576x288 with 1 Axes>"
      ]
     },
     "metadata": {},
     "output_type": "display_data"
    }
   ],
   "source": [
    "f,ax=plt.subplots(figsize = (8,4))\n",
    "sns.distplot(fil_data['travel time'])"
   ]
  },
  {
   "cell_type": "code",
   "execution_count": 39,
   "metadata": {},
   "outputs": [
    {
     "name": "stdout",
     "output_type": "stream",
     "text": [
      "Value Counts for Passenger: \n",
      "\n",
      " 1    72499\n",
      "2    14353\n",
      "5     6093\n",
      "3     4338\n",
      "6     4235\n",
      "4     2106\n",
      "0       15\n",
      "Name: passenger_count, dtype: int64\n"
     ]
    },
    {
     "data": {
      "image/png": "[encoded data removed]",
      "text/plain": [
       "<Figure size 576x288 with 1 Axes>"
      ]
     },
     "metadata": {},
     "output_type": "display_data"
    }
   ],
   "source": [
    "f,ax=plt.subplots(figsize = (8,4))\n",
    "sns.countplot(fil_data['passenger_count'])\n",
    "print('Value Counts for Passenger: \\n\\n', fil_data['passenger_count'].value_counts())"
   ]
  },
  {
   "cell_type": "code",
   "execution_count": 40,
   "metadata": {},
   "outputs": [
    {
     "data": {
      "text/plain": [
       "<matplotlib.axes._subplots.AxesSubplot at 0x1f488f68cc0>"
      ]
     },
     "execution_count": 40,
     "metadata": {},
     "output_type": "execute_result"
    },
    {
     "data": {
      "image/png": "[encoded data removed]",
      "text/plain": [
       "<Figure size 576x288 with 1 Axes>"
      ]
     },
     "metadata": {},
     "output_type": "display_data"
    }
   ],
   "source": [
    "f,ax=plt.subplots(figsize = (8,4))\n",
    "sns.countplot(fil_data['new_user'])"
   ]
  },
  {
   "cell_type": "code",
   "execution_count": 41,
   "metadata": {},
   "outputs": [
    {
     "data": {
      "text/plain": [
       "<matplotlib.axes._subplots.AxesSubplot at 0x1f488d3c710>"
      ]
     },
     "execution_count": 41,
     "metadata": {},
     "output_type": "execute_result"
    },
    {
     "data": {
      "image/png": "[encoded data removed]",
      "text/plain": [
       "<Figure size 576x288 with 1 Axes>"
      ]
     },
     "metadata": {},
     "output_type": "display_data"
    }
   ],
   "source": [
    "f,ax=plt.subplots(figsize = (8,4))\n",
    "sns.distplot(fil_data['tolls_amount'], rug = True)"
   ]
  },
  {
   "cell_type": "code",
   "execution_count": 42,
   "metadata": {},
   "outputs": [
    {
     "data": {
      "text/plain": [
       "<matplotlib.axes._subplots.AxesSubplot at 0x1f488f7f470>"
      ]
     },
     "execution_count": 42,
     "metadata": {},
     "output_type": "execute_result"
    },
    {
     "data": {
      "image/png": "[encoded data removed]",
      "text/plain": [
       "<Figure size 576x288 with 1 Axes>"
      ]
     },
     "metadata": {},
     "output_type": "display_data"
    }
   ],
   "source": [
    "f,ax=plt.subplots(figsize = (8,4))\n",
    "sns.distplot(fil_data['dist_travel'], rug = True, rug_kws={'color': 'purple'}) "
   ]
  },
  {
   "cell_type": "code",
   "execution_count": 43,
   "metadata": {},
   "outputs": [
    {
     "name": "stdout",
     "output_type": "stream",
     "text": [
      "Value counts for rate code: \n",
      "\n",
      " 1    102915\n",
      "2       457\n",
      "5       171\n",
      "3        77\n",
      "4        16\n",
      "0         2\n",
      "6         1\n",
      "Name: rate_code, dtype: int64\n"
     ]
    },
    {
     "data": {
      "image/png": "[encoded data removed]",
      "text/plain": [
       "<Figure size 576x288 with 1 Axes>"
      ]
     },
     "metadata": {},
     "output_type": "display_data"
    }
   ],
   "source": [
    "f,ax=plt.subplots(figsize = (8,4))\n",
    "sns.countplot(fil_data['rate_code'])\n",
    "print('Value counts for rate code: \\n\\n', fil_data['rate_code'].value_counts())"
   ]
  },
  {
   "cell_type": "code",
   "execution_count": 44,
   "metadata": {},
   "outputs": [
    {
     "data": {
      "text/plain": [
       "<matplotlib.axes._subplots.AxesSubplot at 0x1f492937358>"
      ]
     },
     "execution_count": 44,
     "metadata": {},
     "output_type": "execute_result"
    },
    {
     "data": {
      "image/png": "[encoded data removed]",
      "text/plain": [
       "<Figure size 576x288 with 1 Axes>"
      ]
     },
     "metadata": {},
     "output_type": "display_data"
    }
   ],
   "source": [
    "f,ax=plt.subplots(figsize = (8,4))\n",
    "sns.distplot(fil_data['tip_amount'], rug = True)"
   ]
  },
  {
   "cell_type": "code",
   "execution_count": 45,
   "metadata": {},
   "outputs": [
    {
     "name": "stdout",
     "output_type": "stream",
     "text": [
      "mta_tax value counts: \n",
      "  0.5    103401\n",
      " 0.0       225\n",
      "-0.5        13\n",
      "Name: mta_tax, dtype: int64\n"
     ]
    },
    {
     "data": {
      "image/png": "[encoded data removed]",
      "text/plain": [
       "<Figure size 576x288 with 1 Axes>"
      ]
     },
     "metadata": {},
     "output_type": "display_data"
    }
   ],
   "source": [
    "f,ax=plt.subplots(figsize = (8,4))\n",
    "sns.distplot(fil_data['mta_tax'])\n",
    "print('mta_tax value counts: \\n', fil_data['mta_tax'].value_counts())"
   ]
  },
  {
   "cell_type": "code",
   "execution_count": 46,
   "metadata": {},
   "outputs": [
    {
     "name": "stdout",
     "output_type": "stream",
     "text": [
      "Surcharge value counts: \n",
      "  0.000000    48631\n",
      " 0.500000    34550\n",
      " 1.000000    14198\n",
      " 0.317934     6245\n",
      " 1.500000        7\n",
      "-0.500000        5\n",
      "-1.000000        1\n",
      " 2.500000        1\n",
      " 2.000000        1\n",
      "Name: surcharge, dtype: int64\n"
     ]
    },
    {
     "data": {
      "image/png": "[encoded data removed]",
      "text/plain": [
       "<Figure size 576x288 with 1 Axes>"
      ]
     },
     "metadata": {},
     "output_type": "display_data"
    }
   ],
   "source": [
    "f,ax=plt.subplots(figsize = (8,4))\n",
    "sns.countplot(fil_data['surcharge'])\n",
    "print('Surcharge value counts: \\n', fil_data['surcharge'].value_counts())"
   ]
  },
  {
   "cell_type": "code",
   "execution_count": 47,
   "metadata": {},
   "outputs": [
    {
     "name": "stdout",
     "output_type": "stream",
     "text": [
      "Value Counts of Payment Type: \n",
      "\n",
      " CRD    61461\n",
      "CSH    41484\n",
      "UNK      354\n",
      "NOC      255\n",
      "DIS       85\n",
      "Name: payment_type, dtype: int64\n"
     ]
    },
    {
     "data": {
      "image/png": "[encoded data removed]",
      "text/plain": [
       "<Figure size 576x288 with 1 Axes>"
      ]
     },
     "metadata": {},
     "output_type": "display_data"
    }
   ],
   "source": [
    "f,ax=plt.subplots(figsize = (8,4))\n",
    "sns.countplot(fil_data['payment_type'])\n",
    "print('Value Counts of Payment Type: \\n\\n', fil_data['payment_type'].value_counts())"
   ]
  },
  {
   "cell_type": "code",
   "execution_count": 48,
   "metadata": {},
   "outputs": [
    {
     "data": {
      "image/png": "[encoded data removed]",
      "text/plain": [
       "<Figure size 576x288 with 1 Axes>"
      ]
     },
     "metadata": {},
     "output_type": "display_data"
    }
   ],
   "source": [
    "f,ax=plt.subplots(figsize = (8,4))\n",
    "sns.violinplot(x = 'new_user', y = 'fare_amount', data = fil_data);"
   ]
  },
  {
   "cell_type": "code",
   "execution_count": 49,
   "metadata": {},
   "outputs": [
    {
     "name": "stdout",
     "output_type": "stream",
     "text": [
      "\n"
     ]
    },
    {
     "data": {
      "image/png": "[encoded data removed]",
      "text/plain": [
       "<Figure size 576x288 with 1 Axes>"
      ]
     },
     "metadata": {},
     "output_type": "display_data"
    }
   ],
   "source": [
    "f,ax=plt.subplots(figsize = (8,4))\n",
    "sns.boxplot(x = 'passenger_count', y = 'fare_amount', data = fil_data)\n",
    "print()"
   ]
  },
  {
   "cell_type": "code",
   "execution_count": 50,
   "metadata": {},
   "outputs": [
    {
     "data": {
      "text/plain": [
       "<seaborn.axisgrid.JointGrid at 0x1f4962c14a8>"
      ]
     },
     "execution_count": 50,
     "metadata": {},
     "output_type": "execute_result"
    },
    {
     "data": {
      "image/png": "[encoded data removed]",
      "text/plain": [
       "<Figure size 432x432 with 3 Axes>"
      ]
     },
     "metadata": {},
     "output_type": "display_data"
    }
   ],
   "source": [
    "#f,ax=plt.subplots(figsize = (8,4))\n",
    "sns.jointplot(x = fil_data['tolls_amount'], y = fil_data['fare_amount'])\n"
   ]
  },
  {
   "cell_type": "code",
   "execution_count": 51,
   "metadata": {},
   "outputs": [
    {
     "data": {
      "text/plain": [
       "dr5ru    55775\n",
       "dr5rs    16563\n",
       "dr5rv     8264\n",
       "dr5re     6394\n",
       "dr72h     5582\n",
       "dr72j     3604\n",
       "dr5rg     2619\n",
       "dr5rk      931\n",
       "dr5rz      929\n",
       "dr5ry      888\n",
       "dr5rt      831\n",
       "dr5x1      409\n",
       "dr5x0      238\n",
       "dr72m      225\n",
       "dr5rm      123\n",
       "dr5rx       45\n",
       "dr5x2       32\n",
       "dr5rh       23\n",
       "dr5rw       22\n",
       "dr5x8       16\n",
       "dr72q       13\n",
       "dr72w        9\n",
       "dr5rj        9\n",
       "dr5rq        8\n",
       "dr5r5        8\n",
       "dr5r7        7\n",
       "dr5r8        6\n",
       "dr72n        6\n",
       "dr72r        5\n",
       "dr5pr        5\n",
       "Name: pickup_geohash, dtype: int64"
      ]
     },
     "execution_count": 51,
     "metadata": {},
     "output_type": "execute_result"
    }
   ],
   "source": [
    "fil_data['pickup_geohash'].value_counts().nlargest(30)"
   ]
  },
  {
   "cell_type": "code",
   "execution_count": 52,
   "metadata": {},
   "outputs": [
    {
     "data": {
      "text/plain": [
       "<matplotlib.axes._subplots.AxesSubplot at 0x1f49771b9b0>"
      ]
     },
     "execution_count": 52,
     "metadata": {},
     "output_type": "execute_result"
    },
    {
     "data": {
      "image/png": "[encoded data removed]",
      "text/plain": [
       "<Figure size 1080x288 with 1 Axes>"
      ]
     },
     "metadata": {},
     "output_type": "display_data"
    }
   ],
   "source": [
    "f,ax=plt.subplots(figsize = (15,4))\n",
    "sns.countplot(x = fil_data['pickup_geohash'].value_counts().nlargest(50))"
   ]
  },
  {
   "cell_type": "code",
   "execution_count": 53,
   "metadata": {},
   "outputs": [
    {
     "data": {
      "text/plain": [
       "<seaborn.axisgrid.JointGrid at 0x1f4974790b8>"
      ]
     },
     "execution_count": 53,
     "metadata": {},
     "output_type": "execute_result"
    },
    {
     "data": {
      "image/png": "[encoded data removed]",
      "text/plain": [
       "<Figure size 432x432 with 3 Axes>"
      ]
     },
     "metadata": {},
     "output_type": "display_data"
    }
   ],
   "source": [
    "sns.jointplot(x = fil_data['dist_travel'], y = fil_data['fare_amount'])"
   ]
  },
  {
   "cell_type": "code",
   "execution_count": 54,
   "metadata": {},
   "outputs": [
    {
     "data": {
      "text/plain": [
       "<seaborn.axisgrid.JointGrid at 0x1f497b51c88>"
      ]
     },
     "execution_count": 54,
     "metadata": {},
     "output_type": "execute_result"
    },
    {
     "data": {
      "image/png": "[encoded data removed]",
      "text/plain": [
       "<Figure size 432x432 with 3 Axes>"
      ]
     },
     "metadata": {},
     "output_type": "display_data"
    }
   ],
   "source": [
    "sns.jointplot(x = fil_data['travel time'], y = fil_data['fare_amount'])"
   ]
  },
  {
   "cell_type": "code",
   "execution_count": 55,
   "metadata": {},
   "outputs": [
    {
     "data": {
      "text/plain": [
       "<seaborn.axisgrid.JointGrid at 0x1f497c2c198>"
      ]
     },
     "execution_count": 55,
     "metadata": {},
     "output_type": "execute_result"
    },
    {
     "data": {
      "image/png": "[encoded data removed]",
      "text/plain": [
       "<Figure size 432x432 with 3 Axes>"
      ]
     },
     "metadata": {},
     "output_type": "display_data"
    }
   ],
   "source": [
    "sns.jointplot(x = fil_data['tip_amount'], y = fil_data['fare_amount'])"
   ]
  },
  {
   "cell_type": "code",
   "execution_count": 56,
   "metadata": {},
   "outputs": [
    {
     "data": {
      "text/plain": [
       "<matplotlib.axes._subplots.AxesSubplot at 0x1f497ec8278>"
      ]
     },
     "execution_count": 56,
     "metadata": {},
     "output_type": "execute_result"
    },
    {
     "data": {
      "image/png": "[encoded data removed]",
      "text/plain": [
       "<Figure size 1080x288 with 1 Axes>"
      ]
     },
     "metadata": {},
     "output_type": "display_data"
    }
   ],
   "source": [
    "f,ax=plt.subplots(figsize = (15,4))\n",
    "sns.barplot(x = fil_data['pickup_hour'], y=fil_data['travel time'])"
   ]
  },
  {
   "cell_type": "code",
   "execution_count": 57,
   "metadata": {},
   "outputs": [
    {
     "data": {
      "text/plain": [
       "<matplotlib.axes._subplots.AxesSubplot at 0x1f49613fac8>"
      ]
     },
     "execution_count": 57,
     "metadata": {},
     "output_type": "execute_result"
    },
    {
     "data": {
      "image/png": "[encoded data removed]",
      "text/plain": [
       "<Figure size 1080x288 with 1 Axes>"
      ]
     },
     "metadata": {},
     "output_type": "display_data"
    }
   ],
   "source": [
    "f,ax=plt.subplots(figsize = (15,4))\n",
    "sns.countplot(fil_data['pickup_hour'])"
   ]
  },
  {
   "cell_type": "code",
   "execution_count": 58,
   "metadata": {},
   "outputs": [
    {
     "data": {
      "text/plain": [
       "<matplotlib.axes._subplots.AxesSubplot at 0x1f49927a5f8>"
      ]
     },
     "execution_count": 58,
     "metadata": {},
     "output_type": "execute_result"
    },
    {
     "data": {
      "image/png": "[encoded data removed]",
      "text/plain": [
       "<Figure size 576x288 with 1 Axes>"
      ]
     },
     "metadata": {},
     "output_type": "display_data"
    }
   ],
   "source": [
    "f,ax=plt.subplots(figsize = (8,4))\n",
    "sns.barplot(x = fil_data['Weekday'], y = fil_data['surcharge'])"
   ]
  },
  {
   "cell_type": "code",
   "execution_count": 59,
   "metadata": {},
   "outputs": [
    {
     "data": {
      "text/plain": [
       "<matplotlib.axes._subplots.AxesSubplot at 0x1f49916bdd8>"
      ]
     },
     "execution_count": 59,
     "metadata": {},
     "output_type": "execute_result"
    },
    {
     "data": {
      "image/png": "[encoded data removed]",
      "text/plain": [
       "<Figure size 1080x288 with 1 Axes>"
      ]
     },
     "metadata": {},
     "output_type": "display_data"
    }
   ],
   "source": [
    "f,ax=plt.subplots(figsize = (15,4))\n",
    "sns.barplot(x = fil_data['pickup_hour'], y = fil_data['surcharge'])"
   ]
  },
  {
   "cell_type": "code",
   "execution_count": 60,
   "metadata": {},
   "outputs": [
    {
     "data": {
      "text/html": [
       "<div>\n",
       "<style scoped>\n",
       "    .dataframe tbody tr th:only-of-type {\n",
       "        vertical-align: middle;\n",
       "    }\n",
       "\n",
       "    .dataframe tbody tr th {\n",
       "        vertical-align: top;\n",
       "    }\n",
       "\n",
       "    .dataframe thead th {\n",
       "        text-align: right;\n",
       "    }\n",
       "</style>\n",
       "<table border=\"1\" class=\"dataframe\">\n",
       "  <thead>\n",
       "    <tr style=\"text-align: right;\">\n",
       "      <th></th>\n",
       "      <th>new_user</th>\n",
       "      <th>passenger_count</th>\n",
       "      <th>tolls_amount</th>\n",
       "      <th>pickup_geohash</th>\n",
       "      <th>dropoff_geohash</th>\n",
       "      <th>dist_travel</th>\n",
       "      <th>travel time</th>\n",
       "      <th>pickup_hour</th>\n",
       "      <th>Weekday</th>\n",
       "      <th>rate_code</th>\n",
       "      <th>tip_amount</th>\n",
       "      <th>mta_tax</th>\n",
       "      <th>surcharge</th>\n",
       "      <th>payment_type</th>\n",
       "      <th>fare_amount</th>\n",
       "    </tr>\n",
       "  </thead>\n",
       "  <tbody>\n",
       "    <tr>\n",
       "      <th>0</th>\n",
       "      <td>NO</td>\n",
       "      <td>1</td>\n",
       "      <td>0.0</td>\n",
       "      <td>dr5re</td>\n",
       "      <td>dr5rs</td>\n",
       "      <td>1.626473</td>\n",
       "      <td>822.0</td>\n",
       "      <td>13</td>\n",
       "      <td>2</td>\n",
       "      <td>1</td>\n",
       "      <td>0.000000</td>\n",
       "      <td>0.5</td>\n",
       "      <td>0.0</td>\n",
       "      <td>CSH</td>\n",
       "      <td>10.0</td>\n",
       "    </tr>\n",
       "    <tr>\n",
       "      <th>1</th>\n",
       "      <td>NO</td>\n",
       "      <td>1</td>\n",
       "      <td>0.0</td>\n",
       "      <td>dr5ru</td>\n",
       "      <td>dr5ru</td>\n",
       "      <td>1.143018</td>\n",
       "      <td>265.0</td>\n",
       "      <td>20</td>\n",
       "      <td>5</td>\n",
       "      <td>1</td>\n",
       "      <td>0.000000</td>\n",
       "      <td>0.5</td>\n",
       "      <td>0.5</td>\n",
       "      <td>CSH</td>\n",
       "      <td>6.5</td>\n",
       "    </tr>\n",
       "    <tr>\n",
       "      <th>2</th>\n",
       "      <td>NO</td>\n",
       "      <td>1</td>\n",
       "      <td>0.0</td>\n",
       "      <td>dr72h</td>\n",
       "      <td>dr5ru</td>\n",
       "      <td>2.999890</td>\n",
       "      <td>540.0</td>\n",
       "      <td>9</td>\n",
       "      <td>1</td>\n",
       "      <td>1</td>\n",
       "      <td>1.556469</td>\n",
       "      <td>0.5</td>\n",
       "      <td>0.0</td>\n",
       "      <td>CRD</td>\n",
       "      <td>10.6</td>\n",
       "    </tr>\n",
       "    <tr>\n",
       "      <th>3</th>\n",
       "      <td>NO</td>\n",
       "      <td>1</td>\n",
       "      <td>0.0</td>\n",
       "      <td>dr5ru</td>\n",
       "      <td>dr5rs</td>\n",
       "      <td>2.754673</td>\n",
       "      <td>334.0</td>\n",
       "      <td>23</td>\n",
       "      <td>3</td>\n",
       "      <td>1</td>\n",
       "      <td>1.700000</td>\n",
       "      <td>0.5</td>\n",
       "      <td>0.5</td>\n",
       "      <td>CRD</td>\n",
       "      <td>10.2</td>\n",
       "    </tr>\n",
       "    <tr>\n",
       "      <th>4</th>\n",
       "      <td>NO</td>\n",
       "      <td>1</td>\n",
       "      <td>0.0</td>\n",
       "      <td>dr5rs</td>\n",
       "      <td>dr5rs</td>\n",
       "      <td>1.204397</td>\n",
       "      <td>329.0</td>\n",
       "      <td>1</td>\n",
       "      <td>4</td>\n",
       "      <td>1</td>\n",
       "      <td>1.000000</td>\n",
       "      <td>0.5</td>\n",
       "      <td>0.5</td>\n",
       "      <td>CRD</td>\n",
       "      <td>8.5</td>\n",
       "    </tr>\n",
       "  </tbody>\n",
       "</table>\n",
       "</div>"
      ],
      "text/plain": [
       "  new_user  passenger_count  tolls_amount pickup_geohash dropoff_geohash  \\\n",
       "0       NO                1           0.0          dr5re           dr5rs   \n",
       "1       NO                1           0.0          dr5ru           dr5ru   \n",
       "2       NO                1           0.0          dr72h           dr5ru   \n",
       "3       NO                1           0.0          dr5ru           dr5rs   \n",
       "4       NO                1           0.0          dr5rs           dr5rs   \n",
       "\n",
       "   dist_travel  travel time  pickup_hour  Weekday  rate_code  tip_amount  \\\n",
       "0     1.626473        822.0           13        2          1    0.000000   \n",
       "1     1.143018        265.0           20        5          1    0.000000   \n",
       "2     2.999890        540.0            9        1          1    1.556469   \n",
       "3     2.754673        334.0           23        3          1    1.700000   \n",
       "4     1.204397        329.0            1        4          1    1.000000   \n",
       "\n",
       "   mta_tax  surcharge payment_type  fare_amount  \n",
       "0      0.5        0.0          CSH         10.0  \n",
       "1      0.5        0.5          CSH          6.5  \n",
       "2      0.5        0.0          CRD         10.6  \n",
       "3      0.5        0.5          CRD         10.2  \n",
       "4      0.5        0.5          CRD          8.5  "
      ]
     },
     "execution_count": 60,
     "metadata": {},
     "output_type": "execute_result"
    }
   ],
   "source": [
    "fil_data.head()"
   ]
  },
  {
   "cell_type": "code",
   "execution_count": 61,
   "metadata": {},
   "outputs": [
    {
     "data": {
      "text/plain": [
       "new_user           category\n",
       "passenger_count       int64\n",
       "tolls_amount        float64\n",
       "pickup_geohash       object\n",
       "dropoff_geohash      object\n",
       "dist_travel         float64\n",
       "travel time         float64\n",
       "pickup_hour           int64\n",
       "Weekday               int64\n",
       "rate_code             int64\n",
       "tip_amount          float64\n",
       "mta_tax             float64\n",
       "surcharge           float64\n",
       "payment_type       category\n",
       "fare_amount         float64\n",
       "dtype: object"
      ]
     },
     "execution_count": 61,
     "metadata": {},
     "output_type": "execute_result"
    }
   ],
   "source": [
    "fil_data.dtypes"
   ]
  },
  {
   "cell_type": "code",
   "execution_count": 62,
   "metadata": {},
   "outputs": [
    {
     "data": {
      "text/plain": [
       "1    102915\n",
       "2       457\n",
       "5       171\n",
       "3        77\n",
       "4        16\n",
       "0         2\n",
       "6         1\n",
       "Name: rate_code, dtype: int64"
      ]
     },
     "execution_count": 62,
     "metadata": {},
     "output_type": "execute_result"
    }
   ],
   "source": [
    "fil_data['rate_code'].value_counts()"
   ]
  },
  {
   "cell_type": "markdown",
   "metadata": {},
   "source": [
    "## Dummification"
   ]
  },
  {
   "cell_type": "code",
   "execution_count": 63,
   "metadata": {},
   "outputs": [
    {
     "data": {
      "text/plain": [
       "(103639, 188)"
      ]
     },
     "execution_count": 63,
     "metadata": {},
     "output_type": "execute_result"
    }
   ],
   "source": [
    "encode_data = pd.get_dummies(data=fil_data, columns=['pickup_geohash', 'dropoff_geohash', 'payment_type'])\n",
    "encode_data.shape"
   ]
  },
  {
   "cell_type": "code",
   "execution_count": 64,
   "metadata": {},
   "outputs": [],
   "source": [
    "from sklearn import preprocessing\n",
    "le = preprocessing.LabelEncoder()"
   ]
  },
  {
   "cell_type": "code",
   "execution_count": 65,
   "metadata": {},
   "outputs": [
    {
     "name": "stdout",
     "output_type": "stream",
     "text": [
      "    new_user  passenger_count  tolls_amount  dist_travel  travel time  \\\n",
      "0          0                1           0.0     1.626473        822.0   \n",
      "1          0                1           0.0     1.143018        265.0   \n",
      "2          0                1           0.0     2.999890        540.0   \n",
      "3          0                1           0.0     2.754673        334.0   \n",
      "4          0                1           0.0     1.204397        329.0   \n",
      "5          0                1           0.0     1.853720       1167.0   \n",
      "6          0                2           0.0     0.883107        960.0   \n",
      "7          0                1           0.0     0.417207        169.0   \n",
      "9          0                1           0.0     3.485796        623.0   \n",
      "10         0                1           0.0     1.535349        396.0   \n",
      "\n",
      "    pickup_hour  Weekday  rate_code  tip_amount  mta_tax  ...  \\\n",
      "0            13        2          1    0.000000        2  ...   \n",
      "1            20        5          1    0.000000        2  ...   \n",
      "2             9        1          1    1.556469        2  ...   \n",
      "3            23        3          1    1.700000        2  ...   \n",
      "4             1        4          1    1.000000        2  ...   \n",
      "5            11        4          1    1.000000        2  ...   \n",
      "6            18        5          1    0.000000        2  ...   \n",
      "7            22        3          1    1.000000        2  ...   \n",
      "9            15        1          1    1.500000        2  ...   \n",
      "10           10        0          1    1.500000        2  ...   \n",
      "\n",
      "    dropoff_geohash_dr790  dropoff_geohash_dr7cc  dropoff_geohash_dr7eu  \\\n",
      "0                       0                      0                      0   \n",
      "1                       0                      0                      0   \n",
      "2                       0                      0                      0   \n",
      "3                       0                      0                      0   \n",
      "4                       0                      0                      0   \n",
      "5                       0                      0                      0   \n",
      "6                       0                      0                      0   \n",
      "7                       0                      0                      0   \n",
      "9                       0                      0                      0   \n",
      "10                      0                      0                      0   \n",
      "\n",
      "    dropoff_geohash_ens2c  dropoff_geohash_eyzyz  payment_type_CRD  \\\n",
      "0                       0                      0                 0   \n",
      "1                       0                      0                 0   \n",
      "2                       0                      0                 1   \n",
      "3                       0                      0                 1   \n",
      "4                       0                      0                 1   \n",
      "5                       0                      0                 1   \n",
      "6                       0                      0                 0   \n",
      "7                       0                      0                 1   \n",
      "9                       0                      0                 1   \n",
      "10                      0                      0                 1   \n",
      "\n",
      "    payment_type_CSH  payment_type_DIS  payment_type_NOC  payment_type_UNK  \n",
      "0                  1                 0                 0                 0  \n",
      "1                  1                 0                 0                 0  \n",
      "2                  0                 0                 0                 0  \n",
      "3                  0                 0                 0                 0  \n",
      "4                  0                 0                 0                 0  \n",
      "5                  0                 0                 0                 0  \n",
      "6                  1                 0                 0                 0  \n",
      "7                  0                 0                 0                 0  \n",
      "9                  0                 0                 0                 0  \n",
      "10                 0                 0                 0                 0  \n",
      "\n",
      "[10 rows x 188 columns]\n",
      "data type: \n",
      " new_user                   int32\n",
      "passenger_count            int64\n",
      "tolls_amount             float64\n",
      "dist_travel              float64\n",
      "travel time              float64\n",
      "pickup_hour                int64\n",
      "Weekday                    int64\n",
      "rate_code                  int64\n",
      "tip_amount               float64\n",
      "mta_tax                    int64\n",
      "surcharge                  int64\n",
      "fare_amount              float64\n",
      "pickup_geohash_3v9dc       uint8\n",
      "pickup_geohash_dqghw       uint8\n",
      "pickup_geohash_dr5pm       uint8\n",
      "pickup_geohash_dr5pr       uint8\n",
      "pickup_geohash_dr5px       uint8\n",
      "pickup_geohash_dr5qg       uint8\n",
      "pickup_geohash_dr5qu       uint8\n",
      "pickup_geohash_dr5r0       uint8\n",
      "pickup_geohash_dr5r3       uint8\n",
      "pickup_geohash_dr5r4       uint8\n",
      "pickup_geohash_dr5r5       uint8\n",
      "pickup_geohash_dr5r7       uint8\n",
      "pickup_geohash_dr5r8       uint8\n",
      "pickup_geohash_dr5rd       uint8\n",
      "pickup_geohash_dr5re       uint8\n",
      "pickup_geohash_dr5rf       uint8\n",
      "pickup_geohash_dr5rg       uint8\n",
      "pickup_geohash_dr5rh       uint8\n",
      "                          ...   \n",
      "dropoff_geohash_dr72r      uint8\n",
      "dropoff_geohash_dr72s      uint8\n",
      "dropoff_geohash_dr72t      uint8\n",
      "dropoff_geohash_dr72w      uint8\n",
      "dropoff_geohash_dr72x      uint8\n",
      "dropoff_geohash_dr72y      uint8\n",
      "dropoff_geohash_dr72z      uint8\n",
      "dropoff_geohash_dr73m      uint8\n",
      "dropoff_geohash_dr73n      uint8\n",
      "dropoff_geohash_dr73x      uint8\n",
      "dropoff_geohash_dr76w      uint8\n",
      "dropoff_geohash_dr780      uint8\n",
      "dropoff_geohash_dr782      uint8\n",
      "dropoff_geohash_dr784      uint8\n",
      "dropoff_geohash_dr785      uint8\n",
      "dropoff_geohash_dr788      uint8\n",
      "dropoff_geohash_dr78c      uint8\n",
      "dropoff_geohash_dr78h      uint8\n",
      "dropoff_geohash_dr78n      uint8\n",
      "dropoff_geohash_dr78p      uint8\n",
      "dropoff_geohash_dr790      uint8\n",
      "dropoff_geohash_dr7cc      uint8\n",
      "dropoff_geohash_dr7eu      uint8\n",
      "dropoff_geohash_ens2c      uint8\n",
      "dropoff_geohash_eyzyz      uint8\n",
      "payment_type_CRD           uint8\n",
      "payment_type_CSH           uint8\n",
      "payment_type_DIS           uint8\n",
      "payment_type_NOC           uint8\n",
      "payment_type_UNK           uint8\n",
      "Length: 188, dtype: object\n"
     ]
    }
   ],
   "source": [
    "label_en = ['passenger_count', 'Weekday', 'rate_code', 'surcharge', 'mta_tax', 'new_user']\n",
    "encode_data[label_en] = encode_data[label_en].apply(lambda col: le.fit_transform(col))\n",
    "print(encode_data.head(10))\n",
    "print('data type: \\n',encode_data.dtypes)"
   ]
  },
  {
   "cell_type": "markdown",
   "metadata": {},
   "source": [
    "## Train Test Split"
   ]
  },
  {
   "cell_type": "code",
   "execution_count": 66,
   "metadata": {},
   "outputs": [
    {
     "name": "stdout",
     "output_type": "stream",
     "text": [
      "X_data : \n",
      "    new_user  passenger_count  tolls_amount  dist_travel  travel time  \\\n",
      "0         0                1           0.0     1.626473        822.0   \n",
      "1         0                1           0.0     1.143018        265.0   \n",
      "2         0                1           0.0     2.999890        540.0   \n",
      "3         0                1           0.0     2.754673        334.0   \n",
      "4         0                1           0.0     1.204397        329.0   \n",
      "\n",
      "   pickup_hour  Weekday  rate_code  tip_amount  mta_tax  ...  \\\n",
      "0           13        2          1    0.000000        2  ...   \n",
      "1           20        5          1    0.000000        2  ...   \n",
      "2            9        1          1    1.556469        2  ...   \n",
      "3           23        3          1    1.700000        2  ...   \n",
      "4            1        4          1    1.000000        2  ...   \n",
      "\n",
      "   dropoff_geohash_dr790  dropoff_geohash_dr7cc  dropoff_geohash_dr7eu  \\\n",
      "0                      0                      0                      0   \n",
      "1                      0                      0                      0   \n",
      "2                      0                      0                      0   \n",
      "3                      0                      0                      0   \n",
      "4                      0                      0                      0   \n",
      "\n",
      "   dropoff_geohash_ens2c  dropoff_geohash_eyzyz  payment_type_CRD  \\\n",
      "0                      0                      0                 0   \n",
      "1                      0                      0                 0   \n",
      "2                      0                      0                 1   \n",
      "3                      0                      0                 1   \n",
      "4                      0                      0                 1   \n",
      "\n",
      "   payment_type_CSH  payment_type_DIS  payment_type_NOC  payment_type_UNK  \n",
      "0                 1                 0                 0                 0  \n",
      "1                 1                 0                 0                 0  \n",
      "2                 0                 0                 0                 0  \n",
      "3                 0                 0                 0                 0  \n",
      "4                 0                 0                 0                 0  \n",
      "\n",
      "[5 rows x 187 columns]\n",
      "\n",
      "\n",
      " Y_data : \n",
      " 0    10.0\n",
      "1     6.5\n",
      "2    10.6\n",
      "3    10.2\n",
      "4     8.5\n",
      "Name: fare_amount, dtype: float64\n"
     ]
    }
   ],
   "source": [
    "x = encode_data.drop('fare_amount', axis = 1)\n",
    "y = encode_data['fare_amount']\n",
    "print(\"X_data : \\n\", x.head())\n",
    "print(\"\\n\\n Y_data : \\n\", y.head())"
   ]
  },
  {
   "cell_type": "code",
   "execution_count": 67,
   "metadata": {},
   "outputs": [
    {
     "name": "stdout",
     "output_type": "stream",
     "text": [
      " Final Data dtypes: \n",
      "\n",
      "    new_user  passenger_count  tolls_amount  dist_travel  travel time  \\\n",
      "0         0                1           0.0     1.626473        822.0   \n",
      "1         0                1           0.0     1.143018        265.0   \n",
      "2         0                1           0.0     2.999890        540.0   \n",
      "\n",
      "   pickup_hour  Weekday  rate_code  tip_amount  mta_tax  ...  \\\n",
      "0           13        2          1    0.000000        2  ...   \n",
      "1           20        5          1    0.000000        2  ...   \n",
      "2            9        1          1    1.556469        2  ...   \n",
      "\n",
      "   dropoff_geohash_dr790  dropoff_geohash_dr7cc  dropoff_geohash_dr7eu  \\\n",
      "0                      0                      0                      0   \n",
      "1                      0                      0                      0   \n",
      "2                      0                      0                      0   \n",
      "\n",
      "   dropoff_geohash_ens2c  dropoff_geohash_eyzyz  payment_type_CRD  \\\n",
      "0                      0                      0                 0   \n",
      "1                      0                      0                 0   \n",
      "2                      0                      0                 1   \n",
      "\n",
      "   payment_type_CSH  payment_type_DIS  payment_type_NOC  payment_type_UNK  \n",
      "0                 1                 0                 0                 0  \n",
      "1                 1                 0                 0                 0  \n",
      "2                 0                 0                 0                 0  \n",
      "\n",
      "[3 rows x 188 columns]\n"
     ]
    }
   ],
   "source": [
    "print(' Final Data dtypes: \\n\\n', encode_data.head(3))"
   ]
  },
  {
   "cell_type": "code",
   "execution_count": 68,
   "metadata": {},
   "outputs": [],
   "source": [
    "encode_data.to_csv(\"taxi_fare.csv\",index=False)"
   ]
  },
  {
   "cell_type": "code",
   "execution_count": 99,
   "metadata": {},
   "outputs": [],
   "source": [
    "#Train test split\n",
    "from sklearn.model_selection import train_test_split \n"
   ]
  },
  {
   "cell_type": "code",
   "execution_count": 100,
   "metadata": {
    "scrolled": true
   },
   "outputs": [
    {
     "name": "stdout",
     "output_type": "stream",
     "text": [
      "        new_user  passenger_count  tolls_amount  dist_travel  travel time  \\\n",
      "108475         0                1           0.0     1.307086        833.0   \n",
      "75841          0                1           0.0     1.643184        744.0   \n",
      "27419          0                1           0.0     0.704861        300.0   \n",
      "84424          0                1           0.0     1.224910        455.0   \n",
      "36771          0                1           0.0     4.821325       1680.0   \n",
      "\n",
      "        pickup_hour  Weekday  rate_code  tip_amount  mta_tax  ...  \\\n",
      "108475           14        6          1         0.0        2  ...   \n",
      "75841            18        4          1         1.5        2  ...   \n",
      "27419            14        1          1         0.0        2  ...   \n",
      "84424             7        1          1         1.4        2  ...   \n",
      "36771             9        3          1         5.0        2  ...   \n",
      "\n",
      "        dropoff_geohash_dr790  dropoff_geohash_dr7cc  dropoff_geohash_dr7eu  \\\n",
      "108475                      0                      0                      0   \n",
      "75841                       0                      0                      0   \n",
      "27419                       0                      0                      0   \n",
      "84424                       0                      0                      0   \n",
      "36771                       0                      0                      0   \n",
      "\n",
      "        dropoff_geohash_ens2c  dropoff_geohash_eyzyz  payment_type_CRD  \\\n",
      "108475                      0                      0                 0   \n",
      "75841                       0                      0                 1   \n",
      "27419                       0                      0                 0   \n",
      "84424                       0                      0                 1   \n",
      "36771                       0                      0                 1   \n",
      "\n",
      "        payment_type_CSH  payment_type_DIS  payment_type_NOC  payment_type_UNK  \n",
      "108475                 1                 0                 0                 0  \n",
      "75841                  0                 0                 0                 0  \n",
      "27419                  1                 0                 0                 0  \n",
      "84424                  0                 0                 0                 0  \n",
      "36771                  0                 0                 0                 0  \n",
      "\n",
      "[5 rows x 187 columns]\n",
      "new_user                   int32\n",
      "passenger_count            int64\n",
      "tolls_amount             float64\n",
      "dist_travel              float64\n",
      "travel time              float64\n",
      "pickup_hour                int64\n",
      "Weekday                    int64\n",
      "rate_code                  int64\n",
      "tip_amount               float64\n",
      "mta_tax                    int64\n",
      "surcharge                  int64\n",
      "pickup_geohash_3v9dc       uint8\n",
      "pickup_geohash_dqghw       uint8\n",
      "pickup_geohash_dr5pm       uint8\n",
      "pickup_geohash_dr5pr       uint8\n",
      "pickup_geohash_dr5px       uint8\n",
      "pickup_geohash_dr5qg       uint8\n",
      "pickup_geohash_dr5qu       uint8\n",
      "pickup_geohash_dr5r0       uint8\n",
      "pickup_geohash_dr5r3       uint8\n",
      "pickup_geohash_dr5r4       uint8\n",
      "pickup_geohash_dr5r5       uint8\n",
      "pickup_geohash_dr5r7       uint8\n",
      "pickup_geohash_dr5r8       uint8\n",
      "pickup_geohash_dr5rd       uint8\n",
      "pickup_geohash_dr5re       uint8\n",
      "pickup_geohash_dr5rf       uint8\n",
      "pickup_geohash_dr5rg       uint8\n",
      "pickup_geohash_dr5rh       uint8\n",
      "pickup_geohash_dr5rj       uint8\n",
      "                          ...   \n",
      "dropoff_geohash_dr72r      uint8\n",
      "dropoff_geohash_dr72s      uint8\n",
      "dropoff_geohash_dr72t      uint8\n",
      "dropoff_geohash_dr72w      uint8\n",
      "dropoff_geohash_dr72x      uint8\n",
      "dropoff_geohash_dr72y      uint8\n",
      "dropoff_geohash_dr72z      uint8\n",
      "dropoff_geohash_dr73m      uint8\n",
      "dropoff_geohash_dr73n      uint8\n",
      "dropoff_geohash_dr73x      uint8\n",
      "dropoff_geohash_dr76w      uint8\n",
      "dropoff_geohash_dr780      uint8\n",
      "dropoff_geohash_dr782      uint8\n",
      "dropoff_geohash_dr784      uint8\n",
      "dropoff_geohash_dr785      uint8\n",
      "dropoff_geohash_dr788      uint8\n",
      "dropoff_geohash_dr78c      uint8\n",
      "dropoff_geohash_dr78h      uint8\n",
      "dropoff_geohash_dr78n      uint8\n",
      "dropoff_geohash_dr78p      uint8\n",
      "dropoff_geohash_dr790      uint8\n",
      "dropoff_geohash_dr7cc      uint8\n",
      "dropoff_geohash_dr7eu      uint8\n",
      "dropoff_geohash_ens2c      uint8\n",
      "dropoff_geohash_eyzyz      uint8\n",
      "payment_type_CRD           uint8\n",
      "payment_type_CSH           uint8\n",
      "payment_type_DIS           uint8\n",
      "payment_type_NOC           uint8\n",
      "payment_type_UNK           uint8\n",
      "Length: 187, dtype: object\n"
     ]
    }
   ],
   "source": [
    "x_train, x_test, y_train,y_test = train_test_split(x,y, test_size = 0.2, random_state = 26)\n",
    "print(x_train.head())\n",
    "print(x_train.dtypes)"
   ]
  },
  {
   "cell_type": "markdown",
   "metadata": {},
   "source": [
    "# Model Building\n",
    "\n"
   ]
  },
  {
   "cell_type": "markdown",
   "metadata": {},
   "source": [
    "### Linear Regression"
   ]
  },
  {
   "cell_type": "code",
   "execution_count": 101,
   "metadata": {},
   "outputs": [],
   "source": [
    "from sklearn.linear_model import LinearRegression\n",
    "from sklearn.metrics import mean_squared_error, mean_absolute_error, r2_score"
   ]
  },
  {
   "cell_type": "code",
   "execution_count": 102,
   "metadata": {},
   "outputs": [],
   "source": [
    "def root_mean_sq(y, y_pred):\n",
    "    root_mean_sq = 0.5*(mean_squared_error(y, y_pred))\n",
    "    return root_mean_sq"
   ]
  },
  {
   "cell_type": "code",
   "execution_count": 103,
   "metadata": {},
   "outputs": [
    {
     "data": {
      "text/plain": [
       "LinearRegression(copy_X=True, fit_intercept=True, n_jobs=None,\n",
       "         normalize=False)"
      ]
     },
     "execution_count": 103,
     "metadata": {},
     "output_type": "execute_result"
    }
   ],
   "source": [
    "lin_reg = LinearRegression()\n",
    "lin_reg.fit(x_train, y_train)"
   ]
  },
  {
   "cell_type": "code",
   "execution_count": 104,
   "metadata": {},
   "outputs": [],
   "source": [
    "y_lin_pred = lin_reg.predict(x_test)"
   ]
  },
  {
   "cell_type": "code",
   "execution_count": 106,
   "metadata": {},
   "outputs": [
    {
     "name": "stdout",
     "output_type": "stream",
     "text": [
      "=========================== \n",
      "\n",
      " Mean Squared Error (MSE)\n",
      "\n",
      " 5.421494168773594\n",
      "\n",
      "\n",
      "========================== \n",
      "\n",
      " Mean Absolute Error (MAE)\n",
      "\n",
      " 0.8696812258821223\n",
      "\n",
      "\n",
      "========================== \n",
      "\n",
      " R2 Score\n",
      "\n",
      " 0.9281343588754262\n",
      "\n",
      "\n",
      "========================== \n",
      "\n",
      " Root Mean Square Error (RMSE)\n",
      "\n",
      " 2.710747084386797\n"
     ]
    }
   ],
   "source": [
    "print(\"=========================== \\n\\n Mean Squared Error (MSE)\\n\\n\", mean_squared_error(y_test, y_lin_pred))\n",
    "print(\"\\n\\n========================== \\n\\n Mean Absolute Error (MAE)\\n\\n\", mean_absolute_error(y_test, y_lin_pred))\n",
    "print(\"\\n\\n========================== \\n\\n R2 Score\\n\\n\", r2_score(y_test, y_lin_pred))\n",
    "print(\"\\n\\n========================== \\n\\n Root Mean Square Error (RMSE)\\n\\n\", root_mean_sq(y_test, y_lin_pred))"
   ]
  },
  {
   "cell_type": "code",
   "execution_count": 107,
   "metadata": {},
   "outputs": [
    {
     "data": {
      "text/plain": [
       "<matplotlib.axes._subplots.AxesSubplot at 0x1f49a5c1278>"
      ]
     },
     "execution_count": 107,
     "metadata": {},
     "output_type": "execute_result"
    },
    {
     "data": {
      "image/png": "[encoded data removed]",
      "text/plain": [
       "<Figure size 720x288 with 1 Axes>"
      ]
     },
     "metadata": {},
     "output_type": "display_data"
    }
   ],
   "source": [
    "f,ax=plt.subplots(figsize = (10,4))\n",
    "sns.scatterplot(x = y_lin_pred, y = y_test)"
   ]
  },
  {
   "cell_type": "code",
   "execution_count": 108,
   "metadata": {},
   "outputs": [
    {
     "data": {
      "text/html": [
       "<div>\n",
       "<style scoped>\n",
       "    .dataframe tbody tr th:only-of-type {\n",
       "        vertical-align: middle;\n",
       "    }\n",
       "\n",
       "    .dataframe tbody tr th {\n",
       "        vertical-align: top;\n",
       "    }\n",
       "\n",
       "    .dataframe thead th {\n",
       "        text-align: right;\n",
       "    }\n",
       "</style>\n",
       "<table border=\"1\" class=\"dataframe\">\n",
       "  <thead>\n",
       "    <tr style=\"text-align: right;\">\n",
       "      <th></th>\n",
       "      <th>Coefficient</th>\n",
       "    </tr>\n",
       "  </thead>\n",
       "  <tbody>\n",
       "    <tr>\n",
       "      <th>new_user</th>\n",
       "      <td>1.071869e+01</td>\n",
       "    </tr>\n",
       "    <tr>\n",
       "      <th>passenger_count</th>\n",
       "      <td>4.475332e-03</td>\n",
       "    </tr>\n",
       "    <tr>\n",
       "      <th>tolls_amount</th>\n",
       "      <td>1.667737e+00</td>\n",
       "    </tr>\n",
       "    <tr>\n",
       "      <th>dist_travel</th>\n",
       "      <td>1.125545e+00</td>\n",
       "    </tr>\n",
       "    <tr>\n",
       "      <th>travel time</th>\n",
       "      <td>7.679886e-03</td>\n",
       "    </tr>\n",
       "    <tr>\n",
       "      <th>pickup_hour</th>\n",
       "      <td>-9.133220e-03</td>\n",
       "    </tr>\n",
       "    <tr>\n",
       "      <th>Weekday</th>\n",
       "      <td>-1.235122e-02</td>\n",
       "    </tr>\n",
       "    <tr>\n",
       "      <th>rate_code</th>\n",
       "      <td>1.168660e+01</td>\n",
       "    </tr>\n",
       "    <tr>\n",
       "      <th>tip_amount</th>\n",
       "      <td>1.122943e+00</td>\n",
       "    </tr>\n",
       "    <tr>\n",
       "      <th>mta_tax</th>\n",
       "      <td>8.432321e+00</td>\n",
       "    </tr>\n",
       "    <tr>\n",
       "      <th>surcharge</th>\n",
       "      <td>3.098467e-01</td>\n",
       "    </tr>\n",
       "    <tr>\n",
       "      <th>pickup_geohash_3v9dc</th>\n",
       "      <td>-3.968436e+00</td>\n",
       "    </tr>\n",
       "    <tr>\n",
       "      <th>pickup_geohash_dqghw</th>\n",
       "      <td>-4.071302e+00</td>\n",
       "    </tr>\n",
       "    <tr>\n",
       "      <th>pickup_geohash_dr5pm</th>\n",
       "      <td>2.042870e+01</td>\n",
       "    </tr>\n",
       "    <tr>\n",
       "      <th>pickup_geohash_dr5pr</th>\n",
       "      <td>1.115695e+01</td>\n",
       "    </tr>\n",
       "    <tr>\n",
       "      <th>pickup_geohash_dr5px</th>\n",
       "      <td>-5.770462e-11</td>\n",
       "    </tr>\n",
       "    <tr>\n",
       "      <th>pickup_geohash_dr5qg</th>\n",
       "      <td>-3.165189e+00</td>\n",
       "    </tr>\n",
       "    <tr>\n",
       "      <th>pickup_geohash_dr5qu</th>\n",
       "      <td>-1.533039e+01</td>\n",
       "    </tr>\n",
       "    <tr>\n",
       "      <th>pickup_geohash_dr5r0</th>\n",
       "      <td>-5.002039e+00</td>\n",
       "    </tr>\n",
       "    <tr>\n",
       "      <th>pickup_geohash_dr5r3</th>\n",
       "      <td>-1.020927e+00</td>\n",
       "    </tr>\n",
       "    <tr>\n",
       "      <th>pickup_geohash_dr5r4</th>\n",
       "      <td>-1.817869e+01</td>\n",
       "    </tr>\n",
       "    <tr>\n",
       "      <th>pickup_geohash_dr5r5</th>\n",
       "      <td>-1.160165e+01</td>\n",
       "    </tr>\n",
       "    <tr>\n",
       "      <th>pickup_geohash_dr5r7</th>\n",
       "      <td>-1.068498e+01</td>\n",
       "    </tr>\n",
       "    <tr>\n",
       "      <th>pickup_geohash_dr5r8</th>\n",
       "      <td>7.508038e+00</td>\n",
       "    </tr>\n",
       "    <tr>\n",
       "      <th>pickup_geohash_dr5rd</th>\n",
       "      <td>-1.983480e-11</td>\n",
       "    </tr>\n",
       "    <tr>\n",
       "      <th>pickup_geohash_dr5re</th>\n",
       "      <td>-9.194714e+00</td>\n",
       "    </tr>\n",
       "    <tr>\n",
       "      <th>pickup_geohash_dr5rf</th>\n",
       "      <td>1.065861e+01</td>\n",
       "    </tr>\n",
       "    <tr>\n",
       "      <th>pickup_geohash_dr5rg</th>\n",
       "      <td>-9.554042e+00</td>\n",
       "    </tr>\n",
       "    <tr>\n",
       "      <th>pickup_geohash_dr5rh</th>\n",
       "      <td>-9.479675e+00</td>\n",
       "    </tr>\n",
       "    <tr>\n",
       "      <th>pickup_geohash_dr5rj</th>\n",
       "      <td>-1.067207e+01</td>\n",
       "    </tr>\n",
       "    <tr>\n",
       "      <th>...</th>\n",
       "      <td>...</td>\n",
       "    </tr>\n",
       "    <tr>\n",
       "      <th>dropoff_geohash_dr72r</th>\n",
       "      <td>4.308296e+00</td>\n",
       "    </tr>\n",
       "    <tr>\n",
       "      <th>dropoff_geohash_dr72s</th>\n",
       "      <td>2.230036e+01</td>\n",
       "    </tr>\n",
       "    <tr>\n",
       "      <th>dropoff_geohash_dr72t</th>\n",
       "      <td>6.638429e-01</td>\n",
       "    </tr>\n",
       "    <tr>\n",
       "      <th>dropoff_geohash_dr72w</th>\n",
       "      <td>1.737362e+00</td>\n",
       "    </tr>\n",
       "    <tr>\n",
       "      <th>dropoff_geohash_dr72x</th>\n",
       "      <td>4.386281e+00</td>\n",
       "    </tr>\n",
       "    <tr>\n",
       "      <th>dropoff_geohash_dr72y</th>\n",
       "      <td>-6.501065e-01</td>\n",
       "    </tr>\n",
       "    <tr>\n",
       "      <th>dropoff_geohash_dr72z</th>\n",
       "      <td>-9.445107e+00</td>\n",
       "    </tr>\n",
       "    <tr>\n",
       "      <th>dropoff_geohash_dr73m</th>\n",
       "      <td>0.000000e+00</td>\n",
       "    </tr>\n",
       "    <tr>\n",
       "      <th>dropoff_geohash_dr73n</th>\n",
       "      <td>-2.702462e+01</td>\n",
       "    </tr>\n",
       "    <tr>\n",
       "      <th>dropoff_geohash_dr73x</th>\n",
       "      <td>3.802144e+01</td>\n",
       "    </tr>\n",
       "    <tr>\n",
       "      <th>dropoff_geohash_dr76w</th>\n",
       "      <td>0.000000e+00</td>\n",
       "    </tr>\n",
       "    <tr>\n",
       "      <th>dropoff_geohash_dr780</th>\n",
       "      <td>5.691444e+00</td>\n",
       "    </tr>\n",
       "    <tr>\n",
       "      <th>dropoff_geohash_dr782</th>\n",
       "      <td>3.271449e+00</td>\n",
       "    </tr>\n",
       "    <tr>\n",
       "      <th>dropoff_geohash_dr784</th>\n",
       "      <td>3.908587e-01</td>\n",
       "    </tr>\n",
       "    <tr>\n",
       "      <th>dropoff_geohash_dr785</th>\n",
       "      <td>-4.251890e+00</td>\n",
       "    </tr>\n",
       "    <tr>\n",
       "      <th>dropoff_geohash_dr788</th>\n",
       "      <td>7.946934e+00</td>\n",
       "    </tr>\n",
       "    <tr>\n",
       "      <th>dropoff_geohash_dr78c</th>\n",
       "      <td>3.313520e+01</td>\n",
       "    </tr>\n",
       "    <tr>\n",
       "      <th>dropoff_geohash_dr78h</th>\n",
       "      <td>5.400024e+00</td>\n",
       "    </tr>\n",
       "    <tr>\n",
       "      <th>dropoff_geohash_dr78n</th>\n",
       "      <td>0.000000e+00</td>\n",
       "    </tr>\n",
       "    <tr>\n",
       "      <th>dropoff_geohash_dr78p</th>\n",
       "      <td>5.442263e+00</td>\n",
       "    </tr>\n",
       "    <tr>\n",
       "      <th>dropoff_geohash_dr790</th>\n",
       "      <td>-4.749440e+01</td>\n",
       "    </tr>\n",
       "    <tr>\n",
       "      <th>dropoff_geohash_dr7cc</th>\n",
       "      <td>-4.434283e+00</td>\n",
       "    </tr>\n",
       "    <tr>\n",
       "      <th>dropoff_geohash_dr7eu</th>\n",
       "      <td>-3.713070e+00</td>\n",
       "    </tr>\n",
       "    <tr>\n",
       "      <th>dropoff_geohash_ens2c</th>\n",
       "      <td>0.000000e+00</td>\n",
       "    </tr>\n",
       "    <tr>\n",
       "      <th>dropoff_geohash_eyzyz</th>\n",
       "      <td>-1.444058e+00</td>\n",
       "    </tr>\n",
       "    <tr>\n",
       "      <th>payment_type_CRD</th>\n",
       "      <td>-2.941588e-01</td>\n",
       "    </tr>\n",
       "    <tr>\n",
       "      <th>payment_type_CSH</th>\n",
       "      <td>-3.485796e-01</td>\n",
       "    </tr>\n",
       "    <tr>\n",
       "      <th>payment_type_DIS</th>\n",
       "      <td>4.819756e-01</td>\n",
       "    </tr>\n",
       "    <tr>\n",
       "      <th>payment_type_NOC</th>\n",
       "      <td>5.893950e-01</td>\n",
       "    </tr>\n",
       "    <tr>\n",
       "      <th>payment_type_UNK</th>\n",
       "      <td>-4.286323e-01</td>\n",
       "    </tr>\n",
       "  </tbody>\n",
       "</table>\n",
       "<p>187 rows × 1 columns</p>\n",
       "</div>"
      ],
      "text/plain": [
       "                        Coefficient\n",
       "new_user               1.071869e+01\n",
       "passenger_count        4.475332e-03\n",
       "tolls_amount           1.667737e+00\n",
       "dist_travel            1.125545e+00\n",
       "travel time            7.679886e-03\n",
       "pickup_hour           -9.133220e-03\n",
       "Weekday               -1.235122e-02\n",
       "rate_code              1.168660e+01\n",
       "tip_amount             1.122943e+00\n",
       "mta_tax                8.432321e+00\n",
       "surcharge              3.098467e-01\n",
       "pickup_geohash_3v9dc  -3.968436e+00\n",
       "pickup_geohash_dqghw  -4.071302e+00\n",
       "pickup_geohash_dr5pm   2.042870e+01\n",
       "pickup_geohash_dr5pr   1.115695e+01\n",
       "pickup_geohash_dr5px  -5.770462e-11\n",
       "pickup_geohash_dr5qg  -3.165189e+00\n",
       "pickup_geohash_dr5qu  -1.533039e+01\n",
       "pickup_geohash_dr5r0  -5.002039e+00\n",
       "pickup_geohash_dr5r3  -1.020927e+00\n",
       "pickup_geohash_dr5r4  -1.817869e+01\n",
       "pickup_geohash_dr5r5  -1.160165e+01\n",
       "pickup_geohash_dr5r7  -1.068498e+01\n",
       "pickup_geohash_dr5r8   7.508038e+00\n",
       "pickup_geohash_dr5rd  -1.983480e-11\n",
       "pickup_geohash_dr5re  -9.194714e+00\n",
       "pickup_geohash_dr5rf   1.065861e+01\n",
       "pickup_geohash_dr5rg  -9.554042e+00\n",
       "pickup_geohash_dr5rh  -9.479675e+00\n",
       "pickup_geohash_dr5rj  -1.067207e+01\n",
       "...                             ...\n",
       "dropoff_geohash_dr72r  4.308296e+00\n",
       "dropoff_geohash_dr72s  2.230036e+01\n",
       "dropoff_geohash_dr72t  6.638429e-01\n",
       "dropoff_geohash_dr72w  1.737362e+00\n",
       "dropoff_geohash_dr72x  4.386281e+00\n",
       "dropoff_geohash_dr72y -6.501065e-01\n",
       "dropoff_geohash_dr72z -9.445107e+00\n",
       "dropoff_geohash_dr73m  0.000000e+00\n",
       "dropoff_geohash_dr73n -2.702462e+01\n",
       "dropoff_geohash_dr73x  3.802144e+01\n",
       "dropoff_geohash_dr76w  0.000000e+00\n",
       "dropoff_geohash_dr780  5.691444e+00\n",
       "dropoff_geohash_dr782  3.271449e+00\n",
       "dropoff_geohash_dr784  3.908587e-01\n",
       "dropoff_geohash_dr785 -4.251890e+00\n",
       "dropoff_geohash_dr788  7.946934e+00\n",
       "dropoff_geohash_dr78c  3.313520e+01\n",
       "dropoff_geohash_dr78h  5.400024e+00\n",
       "dropoff_geohash_dr78n  0.000000e+00\n",
       "dropoff_geohash_dr78p  5.442263e+00\n",
       "dropoff_geohash_dr790 -4.749440e+01\n",
       "dropoff_geohash_dr7cc -4.434283e+00\n",
       "dropoff_geohash_dr7eu -3.713070e+00\n",
       "dropoff_geohash_ens2c  0.000000e+00\n",
       "dropoff_geohash_eyzyz -1.444058e+00\n",
       "payment_type_CRD      -2.941588e-01\n",
       "payment_type_CSH      -3.485796e-01\n",
       "payment_type_DIS       4.819756e-01\n",
       "payment_type_NOC       5.893950e-01\n",
       "payment_type_UNK      -4.286323e-01\n",
       "\n",
       "[187 rows x 1 columns]"
      ]
     },
     "execution_count": 108,
     "metadata": {},
     "output_type": "execute_result"
    }
   ],
   "source": [
    "coeff_df = pd.DataFrame(lin_reg.coef_, x.columns, columns=['Coefficient'])  \n",
    "coeff_df"
   ]
  },
  {
   "cell_type": "code",
   "execution_count": 109,
   "metadata": {},
   "outputs": [
    {
     "data": {
      "text/plain": [
       "<matplotlib.axes._subplots.AxesSubplot at 0x1f4a4a655c0>"
      ]
     },
     "execution_count": 109,
     "metadata": {},
     "output_type": "execute_result"
    },
    {
     "data": {
      "image/png": "[encoded data removed]",
      "text/plain": [
       "<Figure size 720x288 with 1 Axes>"
      ]
     },
     "metadata": {},
     "output_type": "display_data"
    }
   ],
   "source": [
    "f,ax=plt.subplots(figsize = (10,4))\n",
    "sns.residplot(x = y_test, y = y_lin_pred)"
   ]
  },
  {
   "cell_type": "markdown",
   "metadata": {},
   "source": [
    "### Lasso Regression"
   ]
  },
  {
   "cell_type": "code",
   "execution_count": 110,
   "metadata": {},
   "outputs": [],
   "source": [
    "from sklearn.linear_model import Lasso\n",
    "from sklearn.model_selection import GridSearchCV\n",
    "lasso_reg = Lasso(alpha=0.1)"
   ]
  },
  {
   "cell_type": "code",
   "execution_count": 111,
   "metadata": {},
   "outputs": [],
   "source": [
    "param_grid = {'alpha': [1, 0.1, 0.01, 0.001,0.0001]}\n",
    "gridsearch_cv = GridSearchCV(estimator=lasso_reg, param_grid=param_grid, cv = 5)"
   ]
  },
  {
   "cell_type": "code",
   "execution_count": 112,
   "metadata": {},
   "outputs": [
    {
     "name": "stderr",
     "output_type": "stream",
     "text": [
      "C:\\Users\\UrMili\\Anaconda3\\lib\\site-packages\\sklearn\\linear_model\\coordinate_descent.py:492: ConvergenceWarning: Objective did not converge. You might want to increase the number of iterations. Fitting data with very small alpha may cause precision problems.\n",
      "  ConvergenceWarning)\n",
      "C:\\Users\\UrMili\\Anaconda3\\lib\\site-packages\\sklearn\\linear_model\\coordinate_descent.py:492: ConvergenceWarning: Objective did not converge. You might want to increase the number of iterations. Fitting data with very small alpha may cause precision problems.\n",
      "  ConvergenceWarning)\n",
      "C:\\Users\\UrMili\\Anaconda3\\lib\\site-packages\\sklearn\\linear_model\\coordinate_descent.py:492: ConvergenceWarning: Objective did not converge. You might want to increase the number of iterations. Fitting data with very small alpha may cause precision problems.\n",
      "  ConvergenceWarning)\n"
     ]
    },
    {
     "data": {
      "text/plain": [
       "GridSearchCV(cv=5, error_score='raise-deprecating',\n",
       "       estimator=Lasso(alpha=0.1, copy_X=True, fit_intercept=True, max_iter=1000,\n",
       "   normalize=False, positive=False, precompute=False, random_state=None,\n",
       "   selection='cyclic', tol=0.0001, warm_start=False),\n",
       "       fit_params=None, iid='warn', n_jobs=None,\n",
       "       param_grid={'alpha': [1, 0.1, 0.01, 0.001, 0.0001]},\n",
       "       pre_dispatch='2*n_jobs', refit=True, return_train_score='warn',\n",
       "       scoring=None, verbose=0)"
      ]
     },
     "execution_count": 112,
     "metadata": {},
     "output_type": "execute_result"
    }
   ],
   "source": [
    "gridsearch_cv.fit(x_train, y_train)"
   ]
  },
  {
   "cell_type": "code",
   "execution_count": 113,
   "metadata": {},
   "outputs": [
    {
     "data": {
      "text/plain": [
       "0.001"
      ]
     },
     "execution_count": 113,
     "metadata": {},
     "output_type": "execute_result"
    }
   ],
   "source": [
    "gridsearch_cv.best_params_['alpha']"
   ]
  },
  {
   "cell_type": "code",
   "execution_count": 114,
   "metadata": {},
   "outputs": [],
   "source": [
    "lasso_reg = Lasso(alpha=0.001)"
   ]
  },
  {
   "cell_type": "code",
   "execution_count": 115,
   "metadata": {},
   "outputs": [
    {
     "data": {
      "text/plain": [
       "Lasso(alpha=0.001, copy_X=True, fit_intercept=True, max_iter=1000,\n",
       "   normalize=False, positive=False, precompute=False, random_state=None,\n",
       "   selection='cyclic', tol=0.0001, warm_start=False)"
      ]
     },
     "execution_count": 115,
     "metadata": {},
     "output_type": "execute_result"
    }
   ],
   "source": [
    "lasso_reg.fit(x_train, y_train)"
   ]
  },
  {
   "cell_type": "code",
   "execution_count": 116,
   "metadata": {},
   "outputs": [],
   "source": [
    "y_lasso_pred = lasso_reg.predict(x_test)"
   ]
  },
  {
   "cell_type": "code",
   "execution_count": 117,
   "metadata": {},
   "outputs": [
    {
     "name": "stdout",
     "output_type": "stream",
     "text": [
      "=========================== \n",
      "\n",
      " Mean Squared Error (MSE)\n",
      "\n",
      " 5.282471063850616\n",
      "\n",
      "\n",
      "========================== \n",
      "\n",
      " Mean Absolute Error (MAE)\n",
      "\n",
      " 0.8692386584428534\n",
      "\n",
      "\n",
      "========================== \n",
      "\n",
      " R2 Score\n",
      "\n",
      " 0.9299772059311261\n",
      "\n",
      "\n",
      "========================== \n",
      "\n",
      " Root Mean Square Error (RMSE)\n",
      "\n",
      " 2.641235531925308\n"
     ]
    }
   ],
   "source": [
    "print(\"=========================== \\n\\n Mean Squared Error (MSE)\\n\\n\", mean_squared_error(y_test, y_lasso_pred))\n",
    "print(\"\\n\\n========================== \\n\\n Mean Absolute Error (MAE)\\n\\n\", mean_absolute_error(y_test, y_lasso_pred))\n",
    "print(\"\\n\\n========================== \\n\\n R2 Score\\n\\n\", r2_score(y_test, y_lasso_pred))\n",
    "print(\"\\n\\n========================== \\n\\n Root Mean Square Error (RMSE)\\n\\n\", root_mean_sq(y_test, y_lasso_pred))"
   ]
  },
  {
   "cell_type": "code",
   "execution_count": 87,
   "metadata": {},
   "outputs": [
    {
     "data": {
      "text/plain": [
       "<matplotlib.axes._subplots.AxesSubplot at 0x1f4a6d9ff28>"
      ]
     },
     "execution_count": 87,
     "metadata": {},
     "output_type": "execute_result"
    },
    {
     "data": {
      "image/png": "[encoded data removed]",
      "text/plain": [
       "<Figure size 720x288 with 1 Axes>"
      ]
     },
     "metadata": {},
     "output_type": "display_data"
    }
   ],
   "source": [
    "f,ax=plt.subplots(figsize = (10,4))\n",
    "sns.scatterplot(x = y_lasso_pred, y = y_test)"
   ]
  },
  {
   "cell_type": "markdown",
   "metadata": {},
   "source": [
    "### Decision Tree Regression"
   ]
  },
  {
   "cell_type": "code",
   "execution_count": 88,
   "metadata": {},
   "outputs": [],
   "source": [
    "from sklearn.tree import DecisionTreeRegressor"
   ]
  },
  {
   "cell_type": "code",
   "execution_count": 89,
   "metadata": {},
   "outputs": [],
   "source": [
    "dtr = DecisionTreeRegressor(random_state=26)"
   ]
  },
  {
   "cell_type": "code",
   "execution_count": 90,
   "metadata": {},
   "outputs": [
    {
     "data": {
      "text/plain": [
       "DecisionTreeRegressor(criterion='mse', max_depth=None, max_features=None,\n",
       "           max_leaf_nodes=None, min_impurity_decrease=0.0,\n",
       "           min_impurity_split=None, min_samples_leaf=1,\n",
       "           min_samples_split=2, min_weight_fraction_leaf=0.0,\n",
       "           presort=False, random_state=26, splitter='best')"
      ]
     },
     "execution_count": 90,
     "metadata": {},
     "output_type": "execute_result"
    }
   ],
   "source": [
    "dtr.fit(x_train, y_train)"
   ]
  },
  {
   "cell_type": "code",
   "execution_count": 118,
   "metadata": {},
   "outputs": [],
   "source": [
    "y_dtr_pred = dtr.predict(x_test)"
   ]
  },
  {
   "cell_type": "code",
   "execution_count": 119,
   "metadata": {},
   "outputs": [
    {
     "name": "stdout",
     "output_type": "stream",
     "text": [
      "=========================== \n",
      "\n",
      " Mean Squared Error (MSE)\n",
      "\n",
      " 6.876717290621381\n",
      "\n",
      "\n",
      "========================== \n",
      "\n",
      " Mean Absolute Error (MAE)\n",
      "\n",
      " 0.8691277499035125\n",
      "\n",
      "\n",
      "========================== \n",
      "\n",
      " R2 Score\n",
      "\n",
      " 0.9088443736102474\n",
      "\n",
      "\n",
      "========================== \n",
      "\n",
      " Root Mean Square Error (RMSE)\n",
      "\n",
      " 3.4383586453106907\n"
     ]
    }
   ],
   "source": [
    "print(\"=========================== \\n\\n Mean Squared Error (MSE)\\n\\n\", mean_squared_error(y_test, y_dtr_pred))\n",
    "print(\"\\n\\n========================== \\n\\n Mean Absolute Error (MAE)\\n\\n\", mean_absolute_error(y_test, y_dtr_pred))\n",
    "print(\"\\n\\n========================== \\n\\n R2 Score\\n\\n\", r2_score(y_test, y_dtr_pred))\n",
    "print(\"\\n\\n========================== \\n\\n Root Mean Square Error (RMSE)\\n\\n\", root_mean_sq(y_test, y_dtr_pred))"
   ]
  },
  {
   "cell_type": "code",
   "execution_count": 93,
   "metadata": {},
   "outputs": [
    {
     "data": {
      "text/plain": [
       "<matplotlib.axes._subplots.AxesSubplot at 0x1f49ec65eb8>"
      ]
     },
     "execution_count": 93,
     "metadata": {},
     "output_type": "execute_result"
    },
    {
     "data": {
      "image/png": "[encoded data removed]",
      "text/plain": [
       "<Figure size 720x288 with 1 Axes>"
      ]
     },
     "metadata": {},
     "output_type": "display_data"
    }
   ],
   "source": [
    "f,ax=plt.subplots(figsize = (10,4))\n",
    "sns.scatterplot(x = y_dtr_pred, y = y_test)"
   ]
  },
  {
   "cell_type": "markdown",
   "metadata": {},
   "source": [
    "### Random Forest Regression"
   ]
  },
  {
   "cell_type": "code",
   "execution_count": 94,
   "metadata": {},
   "outputs": [],
   "source": [
    "from sklearn.ensemble import RandomForestRegressor\n",
    "from sklearn.model_selection import RandomizedSearchCV"
   ]
  },
  {
   "cell_type": "code",
   "execution_count": 95,
   "metadata": {},
   "outputs": [],
   "source": [
    "rfr = RandomForestRegressor()"
   ]
  },
  {
   "cell_type": "code",
   "execution_count": 96,
   "metadata": {},
   "outputs": [],
   "source": [
    "param_grid = {'n_estimators' : [5,7,9,11,13,15,17,19],\n",
    "             'max_depth' : [2,3,4,5,6,7,8,9,10,11,12],\n",
    "              \"min_samples_leaf\" : [5, 10, 15, 20]}"
   ]
  },
  {
   "cell_type": "code",
   "execution_count": 97,
   "metadata": {},
   "outputs": [],
   "source": [
    "random_cv = RandomizedSearchCV(estimator=rfr, param_distributions=param_grid, n_iter= 10, cv = 5)"
   ]
  },
  {
   "cell_type": "code",
   "execution_count": 121,
   "metadata": {},
   "outputs": [
    {
     "data": {
      "text/plain": [
       "RandomizedSearchCV(cv=5, error_score='raise-deprecating',\n",
       "          estimator=RandomForestRegressor(bootstrap=True, criterion='mse', max_depth=None,\n",
       "           max_features='auto', max_leaf_nodes=None,\n",
       "           min_impurity_decrease=0.0, min_impurity_split=None,\n",
       "           min_samples_leaf=1, min_samples_split=2,\n",
       "           min_weight_fraction_leaf=0.0, n_estimators='warn', n_jobs=None,\n",
       "           oob_score=False, random_state=None, verbose=0, warm_start=False),\n",
       "          fit_params=None, iid='warn', n_iter=10, n_jobs=None,\n",
       "          param_distributions={'n_estimators': [5, 7, 9, 11, 13, 15, 17, 19], 'max_depth': [2, 3, 4, 5, 6, 7, 8, 9, 10, 11, 12], 'min_samples_leaf': [5, 10, 15, 20]},\n",
       "          pre_dispatch='2*n_jobs', random_state=None, refit=True,\n",
       "          return_train_score='warn', scoring=None, verbose=0)"
      ]
     },
     "execution_count": 121,
     "metadata": {},
     "output_type": "execute_result"
    }
   ],
   "source": [
    "random_cv.fit(x_train, y_train)"
   ]
  },
  {
   "cell_type": "code",
   "execution_count": 122,
   "metadata": {},
   "outputs": [
    {
     "data": {
      "text/plain": [
       "{'n_estimators': 19, 'min_samples_leaf': 10, 'max_depth': 12}"
      ]
     },
     "execution_count": 122,
     "metadata": {},
     "output_type": "execute_result"
    }
   ],
   "source": [
    "random_cv.best_params_"
   ]
  },
  {
   "cell_type": "code",
   "execution_count": 123,
   "metadata": {},
   "outputs": [],
   "source": [
    "rfr = RandomForestRegressor(n_estimators=17, min_samples_leaf=5, max_depth=9)"
   ]
  },
  {
   "cell_type": "code",
   "execution_count": 124,
   "metadata": {},
   "outputs": [
    {
     "data": {
      "text/plain": [
       "RandomForestRegressor(bootstrap=True, criterion='mse', max_depth=9,\n",
       "           max_features='auto', max_leaf_nodes=None,\n",
       "           min_impurity_decrease=0.0, min_impurity_split=None,\n",
       "           min_samples_leaf=5, min_samples_split=2,\n",
       "           min_weight_fraction_leaf=0.0, n_estimators=17, n_jobs=None,\n",
       "           oob_score=False, random_state=None, verbose=0, warm_start=False)"
      ]
     },
     "execution_count": 124,
     "metadata": {},
     "output_type": "execute_result"
    }
   ],
   "source": [
    "rfr.fit(x_train, y_train)"
   ]
  },
  {
   "cell_type": "code",
   "execution_count": 125,
   "metadata": {},
   "outputs": [],
   "source": [
    "y_rfr_pred = rfr.predict(x_test)"
   ]
  },
  {
   "cell_type": "code",
   "execution_count": 126,
   "metadata": {},
   "outputs": [
    {
     "name": "stdout",
     "output_type": "stream",
     "text": [
      "=========================== \n",
      "\n",
      " Mean Squared Error (MSE)\n",
      "\n",
      " 4.720120349047699\n",
      "\n",
      "\n",
      "========================== \n",
      "\n",
      " Mean Absolute Error (MAE)\n",
      "\n",
      " 0.8598259153124779\n",
      "\n",
      "\n",
      "========================== \n",
      "\n",
      " R2 Score\n",
      "\n",
      " 0.9374315521681739\n",
      "\n",
      "\n",
      "========================== \n",
      "\n",
      " Root Mean Square Error (RMSE)\n",
      "\n",
      " 2.3600601745238494\n"
     ]
    }
   ],
   "source": [
    "print(\"=========================== \\n\\n Mean Squared Error (MSE)\\n\\n\", mean_squared_error(y_test, y_rfr_pred))\n",
    "print(\"\\n\\n========================== \\n\\n Mean Absolute Error (MAE)\\n\\n\", mean_absolute_error(y_test, y_rfr_pred))\n",
    "print(\"\\n\\n========================== \\n\\n R2 Score\\n\\n\", r2_score(y_test, y_rfr_pred))\n",
    "print(\"\\n\\n========================== \\n\\n Root Mean Square Error (RMSE)\\n\\n\", root_mean_sq(y_test, y_rfr_pred))"
   ]
  },
  {
   "cell_type": "markdown",
   "metadata": {},
   "source": [
    "### Support Vector Regressor"
   ]
  },
  {
   "cell_type": "markdown",
   "metadata": {},
   "source": [
    "takes too much time"
   ]
  },
  {
   "cell_type": "code",
   "execution_count": 127,
   "metadata": {},
   "outputs": [],
   "source": [
    "#from sklearn.svm import SVR"
   ]
  },
  {
   "cell_type": "code",
   "execution_count": 128,
   "metadata": {},
   "outputs": [],
   "source": [
    "#svr_reg = SVR(gamma='scale', C=1.0, epsilon=0.2)"
   ]
  },
  {
   "cell_type": "code",
   "execution_count": 129,
   "metadata": {},
   "outputs": [],
   "source": [
    "#param_grid = {'kernel' : ['rbf', 'linear', 'poly'], 'C' : [1,0.1,0.01,0.001,0.0001]}"
   ]
  },
  {
   "cell_type": "code",
   "execution_count": 130,
   "metadata": {},
   "outputs": [],
   "source": [
    "#random_svr = RandomizedSearchCV(estimator=svr_reg, param_distributions=param_grid,n_iter=10)"
   ]
  },
  {
   "cell_type": "markdown",
   "metadata": {},
   "source": [
    "### XGBoost"
   ]
  },
  {
   "cell_type": "code",
   "execution_count": 131,
   "metadata": {},
   "outputs": [
    {
     "name": "stdout",
     "output_type": "stream",
     "text": [
      "Requirement already satisfied: xgboost in c:\\users\\urmili\\anaconda3\\lib\\site-packages (0.90)\n",
      "Requirement already satisfied: numpy in c:\\users\\urmili\\anaconda3\\lib\\site-packages (from xgboost) (1.16.2)\n",
      "Requirement already satisfied: scipy in c:\\users\\urmili\\anaconda3\\lib\\site-packages (from xgboost) (1.2.1)\n"
     ]
    }
   ],
   "source": [
    "!pip install xgboost\n",
    "import xgboost as xgb"
   ]
  },
  {
   "cell_type": "code",
   "execution_count": 132,
   "metadata": {},
   "outputs": [],
   "source": [
    "xg_reg = xgb.XGBRegressor(objective ='reg:linear', colsample_bytree = 0.3, learning_rate = 0.1,\n",
    "                max_depth = 5, alpha = 10, n_estimators = 10)"
   ]
  },
  {
   "cell_type": "code",
   "execution_count": 133,
   "metadata": {},
   "outputs": [],
   "source": [
    "#parameters = {'learning_rate': [0.07, 0.1, 0.3], 'max_depth': [3, 5, 7], 'n_estimators': [200, 400, 500]}\n",
    "\n",
    "#random_xgb = RandomizedSearchCV(estimator=XGB_regressor, param_grid=parameters, n_jobs=-1, cv=5)"
   ]
  },
  {
   "cell_type": "code",
   "execution_count": 134,
   "metadata": {},
   "outputs": [
    {
     "name": "stderr",
     "output_type": "stream",
     "text": [
      "C:\\Users\\UrMili\\Anaconda3\\lib\\site-packages\\xgboost\\core.py:587: FutureWarning: Series.base is deprecated and will be removed in a future version\n",
      "  if getattr(data, 'base', None) is not None and \\\n"
     ]
    },
    {
     "name": "stdout",
     "output_type": "stream",
     "text": [
      "[22:03:43] WARNING: C:/Jenkins/workspace/xgboost-win64_release_0.90/src/objective/regression_obj.cu:152: reg:linear is now deprecated in favor of reg:squarederror.\n"
     ]
    },
    {
     "data": {
      "text/plain": [
       "XGBRegressor(alpha=10, base_score=0.5, booster='gbtree', colsample_bylevel=1,\n",
       "       colsample_bynode=1, colsample_bytree=0.3, gamma=0,\n",
       "       importance_type='gain', learning_rate=0.1, max_delta_step=0,\n",
       "       max_depth=5, min_child_weight=1, missing=None, n_estimators=10,\n",
       "       n_jobs=1, nthread=None, objective='reg:linear', random_state=0,\n",
       "       reg_alpha=0, reg_lambda=1, scale_pos_weight=1, seed=None,\n",
       "       silent=None, subsample=1, verbosity=1)"
      ]
     },
     "execution_count": 134,
     "metadata": {},
     "output_type": "execute_result"
    }
   ],
   "source": [
    "xg_reg.fit(x_train, y_train)"
   ]
  },
  {
   "cell_type": "code",
   "execution_count": 135,
   "metadata": {},
   "outputs": [],
   "source": [
    "y_xgb_pred = xg_reg.predict(x_test)"
   ]
  },
  {
   "cell_type": "code",
   "execution_count": 136,
   "metadata": {},
   "outputs": [
    {
     "name": "stdout",
     "output_type": "stream",
     "text": [
      "=========================== \n",
      "\n",
      " Mean Squared Error (MSE)\n",
      "\n",
      " 41.4648822068976\n",
      "\n",
      "\n",
      "========================== \n",
      "\n",
      " Mean Absolute Error (MAE)\n",
      "\n",
      " 4.505558831543133\n",
      "\n",
      "\n",
      "========================== \n",
      "\n",
      " R2 Score\n",
      "\n",
      " 0.45035441315844515\n",
      "\n",
      "\n",
      "========================== \n",
      "\n",
      " Root Mean Square Error (RMSE)\n",
      "\n",
      " 20.7324411034488\n"
     ]
    }
   ],
   "source": [
    "print(\"=========================== \\n\\n Mean Squared Error (MSE)\\n\\n\", mean_squared_error(y_test, y_xgb_pred))\n",
    "print(\"\\n\\n========================== \\n\\n Mean Absolute Error (MAE)\\n\\n\", mean_absolute_error(y_test, y_xgb_pred))\n",
    "print(\"\\n\\n========================== \\n\\n R2 Score\\n\\n\", r2_score(y_test, y_xgb_pred))\n",
    "print(\"\\n\\n========================== \\n\\n Root Mean Square Error (RMSE)\\n\\n\", root_mean_sq(y_test, y_xgb_pred))"
   ]
  },
  {
   "cell_type": "code",
   "execution_count": 137,
   "metadata": {},
   "outputs": [
    {
     "data": {
      "text/plain": [
       "<matplotlib.axes._subplots.AxesSubplot at 0x1f49ee44ac8>"
      ]
     },
     "execution_count": 137,
     "metadata": {},
     "output_type": "execute_result"
    },
    {
     "data": {
      "image/png": "[encoded data removed]",
      "text/plain": [
       "<Figure size 720x288 with 1 Axes>"
      ]
     },
     "metadata": {},
     "output_type": "display_data"
    }
   ],
   "source": [
    "f,ax=plt.subplots(figsize = (10,4))\n",
    "sns.scatterplot(x= y_xgb_pred, y = y_test)"
   ]
  },
  {
   "cell_type": "markdown",
   "metadata": {},
   "source": [
    "### Light Gradient Boosting Method"
   ]
  },
  {
   "cell_type": "markdown",
   "metadata": {},
   "source": [
    "takes a lot of time"
   ]
  },
  {
   "cell_type": "markdown",
   "metadata": {},
   "source": [
    "### Ridge Regression"
   ]
  },
  {
   "cell_type": "code",
   "execution_count": 138,
   "metadata": {},
   "outputs": [],
   "source": [
    "from sklearn.linear_model import Ridge"
   ]
  },
  {
   "cell_type": "code",
   "execution_count": 139,
   "metadata": {},
   "outputs": [],
   "source": [
    "ridge_reg = Ridge()"
   ]
  },
  {
   "cell_type": "code",
   "execution_count": 140,
   "metadata": {},
   "outputs": [
    {
     "data": {
      "text/plain": [
       "Ridge(alpha=1.0, copy_X=True, fit_intercept=True, max_iter=None,\n",
       "   normalize=False, random_state=None, solver='auto', tol=0.001)"
      ]
     },
     "execution_count": 140,
     "metadata": {},
     "output_type": "execute_result"
    }
   ],
   "source": [
    "ridge_reg.fit(x_train, y_train)"
   ]
  },
  {
   "cell_type": "code",
   "execution_count": 141,
   "metadata": {},
   "outputs": [],
   "source": [
    "param_grid = {'alpha': [1,0.1,0.01,0.001,0.0001]}"
   ]
  },
  {
   "cell_type": "code",
   "execution_count": 142,
   "metadata": {},
   "outputs": [],
   "source": [
    "random_cv = RandomizedSearchCV(estimator=ridge_reg, param_distributions=param_grid, n_iter=10)"
   ]
  },
  {
   "cell_type": "code",
   "execution_count": 143,
   "metadata": {},
   "outputs": [
    {
     "name": "stderr",
     "output_type": "stream",
     "text": [
      "C:\\Users\\UrMili\\Anaconda3\\lib\\site-packages\\sklearn\\model_selection\\_split.py:2053: FutureWarning: You should specify a value for 'cv' instead of relying on the default value. The default value will change from 3 to 5 in version 0.22.\n",
      "  warnings.warn(CV_WARNING, FutureWarning)\n",
      "C:\\Users\\UrMili\\Anaconda3\\lib\\site-packages\\sklearn\\model_selection\\_search.py:271: UserWarning: The total space of parameters 5 is smaller than n_iter=10. Running 5 iterations. For exhaustive searches, use GridSearchCV.\n",
      "  % (grid_size, self.n_iter, grid_size), UserWarning)\n"
     ]
    },
    {
     "data": {
      "text/plain": [
       "RandomizedSearchCV(cv='warn', error_score='raise-deprecating',\n",
       "          estimator=Ridge(alpha=1.0, copy_X=True, fit_intercept=True, max_iter=None,\n",
       "   normalize=False, random_state=None, solver='auto', tol=0.001),\n",
       "          fit_params=None, iid='warn', n_iter=10, n_jobs=None,\n",
       "          param_distributions={'alpha': [1, 0.1, 0.01, 0.001, 0.0001]},\n",
       "          pre_dispatch='2*n_jobs', random_state=None, refit=True,\n",
       "          return_train_score='warn', scoring=None, verbose=0)"
      ]
     },
     "execution_count": 143,
     "metadata": {},
     "output_type": "execute_result"
    }
   ],
   "source": [
    "random_cv.fit(x_train, y_train)"
   ]
  },
  {
   "cell_type": "code",
   "execution_count": 144,
   "metadata": {},
   "outputs": [
    {
     "data": {
      "text/plain": [
       "{'alpha': 1}"
      ]
     },
     "execution_count": 144,
     "metadata": {},
     "output_type": "execute_result"
    }
   ],
   "source": [
    "random_cv.best_params_"
   ]
  },
  {
   "cell_type": "code",
   "execution_count": 145,
   "metadata": {},
   "outputs": [],
   "source": [
    "ridge_reg = Ridge(alpha=1)"
   ]
  },
  {
   "cell_type": "code",
   "execution_count": 146,
   "metadata": {},
   "outputs": [
    {
     "data": {
      "text/plain": [
       "Ridge(alpha=1, copy_X=True, fit_intercept=True, max_iter=None,\n",
       "   normalize=False, random_state=None, solver='auto', tol=0.001)"
      ]
     },
     "execution_count": 146,
     "metadata": {},
     "output_type": "execute_result"
    }
   ],
   "source": [
    "ridge_reg.fit(x_train, y_train)"
   ]
  },
  {
   "cell_type": "code",
   "execution_count": 147,
   "metadata": {},
   "outputs": [],
   "source": [
    "y_ridge_pred = ridge_reg.predict(x_test)"
   ]
  },
  {
   "cell_type": "code",
   "execution_count": 148,
   "metadata": {},
   "outputs": [
    {
     "name": "stdout",
     "output_type": "stream",
     "text": [
      "=========================== \n",
      "\n",
      " Mean Squared Error (MSE)\n",
      "\n",
      " 5.3636229371406\n",
      "\n",
      "\n",
      "========================== \n",
      "\n",
      " Mean Absolute Error (MAE)\n",
      "\n",
      " 0.8688460944322532\n",
      "\n",
      "\n",
      "========================== \n",
      "\n",
      " R2 Score\n",
      "\n",
      " 0.9289014819294227\n",
      "\n",
      "\n",
      "========================== \n",
      "\n",
      " Root Mean Square Error (RMSE)\n",
      "\n",
      " 2.6818114685703\n"
     ]
    }
   ],
   "source": [
    "print(\"=========================== \\n\\n Mean Squared Error (MSE)\\n\\n\", mean_squared_error(y_test, y_ridge_pred))\n",
    "print(\"\\n\\n========================== \\n\\n Mean Absolute Error (MAE)\\n\\n\", mean_absolute_error(y_test, y_ridge_pred))\n",
    "print(\"\\n\\n========================== \\n\\n R2 Score\\n\\n\", r2_score(y_test, y_ridge_pred))\n",
    "print(\"\\n\\n========================== \\n\\n Root Mean Square Error (RMSE)\\n\\n\", root_mean_sq(y_test, y_ridge_pred))"
   ]
  },
  {
   "cell_type": "markdown",
   "metadata": {},
   "source": [
    "### Stacking"
   ]
  },
  {
   "cell_type": "code",
   "execution_count": 149,
   "metadata": {},
   "outputs": [
    {
     "name": "stdout",
     "output_type": "stream",
     "text": [
      "Requirement already satisfied: mlxtend in c:\\users\\urmili\\anaconda3\\lib\\site-packages (0.17.0)\n",
      "Requirement already satisfied: scipy>=1.2.1 in c:\\users\\urmili\\anaconda3\\lib\\site-packages (from mlxtend) (1.2.1)\n",
      "Requirement already satisfied: setuptools in c:\\users\\urmili\\anaconda3\\lib\\site-packages (from mlxtend) (40.8.0)\n",
      "Requirement already satisfied: pandas>=0.24.2 in c:\\users\\urmili\\anaconda3\\lib\\site-packages (from mlxtend) (0.24.2)\n",
      "Requirement already satisfied: scikit-learn>=0.20.3 in c:\\users\\urmili\\anaconda3\\lib\\site-packages (from mlxtend) (0.20.3)\n",
      "Requirement already satisfied: matplotlib>=3.0.0 in c:\\users\\urmili\\anaconda3\\lib\\site-packages (from mlxtend) (3.0.3)\n",
      "Requirement already satisfied: joblib>=0.13.2 in c:\\users\\urmili\\anaconda3\\lib\\site-packages (from mlxtend) (0.13.2)\n",
      "Requirement already satisfied: numpy>=1.16.2 in c:\\users\\urmili\\anaconda3\\lib\\site-packages (from mlxtend) (1.16.2)\n",
      "Requirement already satisfied: python-dateutil>=2.5.0 in c:\\users\\urmili\\anaconda3\\lib\\site-packages (from pandas>=0.24.2->mlxtend) (2.8.0)\n",
      "Requirement already satisfied: pytz>=2011k in c:\\users\\urmili\\anaconda3\\lib\\site-packages (from pandas>=0.24.2->mlxtend) (2018.9)\n",
      "Requirement already satisfied: cycler>=0.10 in c:\\users\\urmili\\anaconda3\\lib\\site-packages (from matplotlib>=3.0.0->mlxtend) (0.10.0)\n",
      "Requirement already satisfied: kiwisolver>=1.0.1 in c:\\users\\urmili\\anaconda3\\lib\\site-packages (from matplotlib>=3.0.0->mlxtend) (1.0.1)\n",
      "Requirement already satisfied: pyparsing!=2.0.4,!=2.1.2,!=2.1.6,>=2.0.1 in c:\\users\\urmili\\anaconda3\\lib\\site-packages (from matplotlib>=3.0.0->mlxtend) (2.3.1)\n",
      "Requirement already satisfied: six>=1.5 in c:\\users\\urmili\\anaconda3\\lib\\site-packages (from python-dateutil>=2.5.0->pandas>=0.24.2->mlxtend) (1.12.0)\n"
     ]
    }
   ],
   "source": [
    "!pip install mlxtend\n",
    "from mlxtend.regressor import StackingRegressor"
   ]
  },
  {
   "cell_type": "code",
   "execution_count": 150,
   "metadata": {},
   "outputs": [],
   "source": [
    "lr = LinearRegression()\n",
    "ridge = Ridge(random_state=1, alpha=1)\n",
    "lasso = Lasso(random_state=2, alpha = 0.001)\n",
    "random_forest = RandomForestRegressor(random_state=2)\n",
    "\n",
    "stregr = StackingRegressor(regressors=[lasso, lr, ridge, random_forest], \n",
    "                           meta_regressor= random_forest)\n"
   ]
  },
  {
   "cell_type": "code",
   "execution_count": 151,
   "metadata": {},
   "outputs": [
    {
     "name": "stderr",
     "output_type": "stream",
     "text": [
      "C:\\Users\\UrMili\\Anaconda3\\lib\\site-packages\\sklearn\\ensemble\\forest.py:246: FutureWarning: The default value of n_estimators will change from 10 in version 0.20 to 100 in 0.22.\n",
      "  \"10 in version 0.20 to 100 in 0.22.\", FutureWarning)\n",
      "C:\\Users\\UrMili\\Anaconda3\\lib\\site-packages\\sklearn\\ensemble\\forest.py:246: FutureWarning: The default value of n_estimators will change from 10 in version 0.20 to 100 in 0.22.\n",
      "  \"10 in version 0.20 to 100 in 0.22.\", FutureWarning)\n"
     ]
    },
    {
     "data": {
      "text/plain": [
       "StackingRegressor(meta_regressor=RandomForestRegressor(bootstrap=True, criterion='mse', max_depth=None,\n",
       "           max_features='auto', max_leaf_nodes=None,\n",
       "           min_impurity_decrease=0.0, min_impurity_split=None,\n",
       "           min_samples_leaf=1, min_samples_split=2,\n",
       "           min_weight_fraction_leaf=0.0, n_estimators='warn', n_jobs=None,\n",
       "           oob_score=False, random_state=2, verbose=0, warm_start=False),\n",
       "         refit=True,\n",
       "         regressors=[Lasso(alpha=0.001, copy_X=True, fit_intercept=True, max_iter=1000,\n",
       "   normalize=False, positive=False, precompute=False, random_state=2,\n",
       "   selection='cyclic', tol=0.0001, warm_start=False), LinearRegression(copy_X=True, fit_intercept=True, n_jobs=None,\n",
       "         normalize=False), Ridge(a...ators='warn', n_jobs=None,\n",
       "           oob_score=False, random_state=2, verbose=0, warm_start=False)],\n",
       "         store_train_meta_features=False, use_features_in_secondary=False,\n",
       "         verbose=0)"
      ]
     },
     "execution_count": 151,
     "metadata": {},
     "output_type": "execute_result"
    }
   ],
   "source": [
    "stregr.fit(x_train, y_train)"
   ]
  },
  {
   "cell_type": "code",
   "execution_count": 152,
   "metadata": {},
   "outputs": [],
   "source": [
    "y_stack_pred= stregr.predict(x_test)"
   ]
  },
  {
   "cell_type": "code",
   "execution_count": 153,
   "metadata": {},
   "outputs": [
    {
     "name": "stdout",
     "output_type": "stream",
     "text": [
      "=========================== \n",
      "\n",
      " Mean Squared Error (MSE)\n",
      "\n",
      " 3.790321862842532\n",
      "\n",
      "\n",
      "========================== \n",
      "\n",
      " Mean Absolute Error (MAE)\n",
      "\n",
      " 0.7094803647240447\n",
      "\n",
      "\n",
      "========================== \n",
      "\n",
      " R2 Score\n",
      "\n",
      " 0.9497566718211031\n",
      "\n",
      "\n",
      "========================== \n",
      "\n",
      " Root Mean Square Error (RMSE)\n",
      "\n",
      " 1.895160931421266\n"
     ]
    }
   ],
   "source": [
    "print(\"=========================== \\n\\n Mean Squared Error (MSE)\\n\\n\", mean_squared_error(y_test, y_stack_pred))\n",
    "print(\"\\n\\n========================== \\n\\n Mean Absolute Error (MAE)\\n\\n\", mean_absolute_error(y_test, y_stack_pred))\n",
    "print(\"\\n\\n========================== \\n\\n R2 Score\\n\\n\", r2_score(y_test, y_stack_pred))\n",
    "print(\"\\n\\n========================== \\n\\n Root Mean Square Error (RMSE)\\n\\n\", root_mean_sq(y_test, y_stack_pred))"
   ]
  },
  {
   "cell_type": "markdown",
   "metadata": {},
   "source": [
    "# Conclusion"
   ]
  },
  {
   "cell_type": "code",
   "execution_count": 154,
   "metadata": {},
   "outputs": [],
   "source": [
    "final_metrics = {'LinearRegression': root_mean_sq(y_test, y_lin_pred), 'LassoRegression': root_mean_sq(y_test, y_lasso_pred), 'DecisionTree' : root_mean_sq(y_test, y_dtr_pred), 'RandomForest':root_mean_sq(y_test, y_rfr_pred), 'XGBoost': root_mean_sq(y_test, y_xgb_pred), 'RidgeRegression': root_mean_sq(y_test,y_ridge_pred), 'Stacking': root_mean_sq(y_test, y_stack_pred)}"
   ]
  },
  {
   "cell_type": "code",
   "execution_count": 155,
   "metadata": {},
   "outputs": [
    {
     "data": {
      "text/plain": [
       "{'LinearRegression': 2.710747084386797,\n",
       " 'LassoRegression': 2.641235531925308,\n",
       " 'DecisionTree': 3.4383586453106907,\n",
       " 'RandomForest': 2.3600601745238494,\n",
       " 'XGBoost': 20.7324411034488,\n",
       " 'RidgeRegression': 2.6818114685703,\n",
       " 'Stacking': 1.895160931421266}"
      ]
     },
     "execution_count": 155,
     "metadata": {},
     "output_type": "execute_result"
    }
   ],
   "source": [
    "final_metrics"
   ]
  },
  {
   "cell_type": "code",
   "execution_count": 156,
   "metadata": {},
   "outputs": [
    {
     "name": "stdout",
     "output_type": "stream",
     "text": [
      "**RMSE values of different algorithms**: \n",
      "\n"
     ]
    },
    {
     "data": {
      "text/html": [
       "<div>\n",
       "<style scoped>\n",
       "    .dataframe tbody tr th:only-of-type {\n",
       "        vertical-align: middle;\n",
       "    }\n",
       "\n",
       "    .dataframe tbody tr th {\n",
       "        vertical-align: top;\n",
       "    }\n",
       "\n",
       "    .dataframe thead th {\n",
       "        text-align: right;\n",
       "    }\n",
       "</style>\n",
       "<table border=\"1\" class=\"dataframe\">\n",
       "  <thead>\n",
       "    <tr style=\"text-align: right;\">\n",
       "      <th></th>\n",
       "      <th>LinearRegression</th>\n",
       "      <th>LassoRegression</th>\n",
       "      <th>DecisionTree</th>\n",
       "      <th>RandomForest</th>\n",
       "      <th>XGBoost</th>\n",
       "      <th>RidgeRegression</th>\n",
       "      <th>Stacking</th>\n",
       "    </tr>\n",
       "  </thead>\n",
       "  <tbody>\n",
       "    <tr>\n",
       "      <th>0</th>\n",
       "      <td>2.710747</td>\n",
       "      <td>2.641236</td>\n",
       "      <td>3.438359</td>\n",
       "      <td>2.36006</td>\n",
       "      <td>20.732441</td>\n",
       "      <td>2.681811</td>\n",
       "      <td>1.895161</td>\n",
       "    </tr>\n",
       "  </tbody>\n",
       "</table>\n",
       "</div>"
      ],
      "text/plain": [
       "   LinearRegression  LassoRegression  DecisionTree  RandomForest    XGBoost  \\\n",
       "0          2.710747         2.641236      3.438359       2.36006  20.732441   \n",
       "\n",
       "   RidgeRegression  Stacking  \n",
       "0         2.681811  1.895161  "
      ]
     },
     "execution_count": 156,
     "metadata": {},
     "output_type": "execute_result"
    }
   ],
   "source": [
    "print('**RMSE values of different algorithms**: \\n')\n",
    "metrics_df = pd.DataFrame(final_metrics, index = [0])\n",
    "metrics_df"
   ]
  },
  {
   "cell_type": "markdown",
   "metadata": {},
   "source": [
    "As we can see, Stacking gives us the least RMSE of 1.896 and R-squared of 94.9%."
   ]
  }
 ],
 "metadata": {
  "kernelspec": {
   "display_name": "Python 3",
   "language": "python",
   "name": "python3"
  },
  "language_info": {
   "codemirror_mode": {
    "name": "ipython",
    "version": 3
   },
   "file_extension": ".py",
   "mimetype": "text/x-python",
   "name": "python",
   "nbconvert_exporter": "python",
   "pygments_lexer": "ipython3",
   "version": "3.6.8"
  },
  "toc": {
   "base_numbering": 1,
   "nav_menu": {},
   "number_sections": true,
   "sideBar": true,
   "skip_h1_title": false,
   "title_cell": "Table of Contents",
   "title_sidebar": "Contents",
   "toc_cell": false,
   "toc_position": {},
   "toc_section_display": true,
   "toc_window_display": true
  },
  "varInspector": {
   "cols": {
    "lenName": 16,
    "lenType": 16,
    "lenVar": 40
   },
   "kernels_config": {
    "python": {
     "delete_cmd_postfix": "",
     "delete_cmd_prefix": "del ",
     "library": "var_list.py",
     "varRefreshCmd": "print(var_dic_list())"
    },
    "r": {
     "delete_cmd_postfix": ") ",
     "delete_cmd_prefix": "rm(",
     "library": "var_list.r",
     "varRefreshCmd": "cat(var_dic_list()) "
    }
   },
   "types_to_exclude": [
    "module",
    "function",
    "builtin_function_or_method",
    "instance",
    "_Feature"
   ],
   "window_display": false
  }
 },
 "nbformat": 4,
 "nbformat_minor": 2
}
